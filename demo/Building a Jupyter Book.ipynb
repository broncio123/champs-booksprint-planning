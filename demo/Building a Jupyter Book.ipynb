{
 "cells": [
  {
   "cell_type": "markdown",
   "metadata": {},
   "source": [
    "# PROCEDURE"
   ]
  },
  {
   "cell_type": "markdown",
   "metadata": {},
   "source": [
    "## Set up environment "
   ]
  },
  {
   "cell_type": "markdown",
   "metadata": {},
   "source": [
    "Install `jupyter-book`, do: \n",
    "\n",
    "``` bash\n",
    "pip install jupyter-book\n",
    "```"
   ]
  },
  {
   "cell_type": "markdown",
   "metadata": {},
   "source": [
    "## Create JupyterBook template"
   ]
  },
  {
   "cell_type": "markdown",
   "metadata": {},
   "source": [
    "!jupyter-book create champsbook --demo"
   ]
  },
  {
   "cell_type": "markdown",
   "metadata": {},
   "source": [
    "## Get files from Cloud  (`rclone`)"
   ]
  },
  {
   "cell_type": "markdown",
   "metadata": {},
   "source": [
    "Install `rclone` before hand."
   ]
  },
  {
   "cell_type": "markdown",
   "metadata": {},
   "source": [
    "<b>STEP 1</b> Configure `rclone` to access remote.\n",
    "\n",
    "Thorough instructions can be found [here](https://rclone.org/onedrive/). During this process you will set up a name for your remote folder. \n",
    "\n",
    "Here, we have named our remote folder as `booksprint`. This corresponds though to my whole OneDrive folder when using it."
   ]
  },
  {
   "cell_type": "markdown",
   "metadata": {},
   "source": [
    "<b>STEP 2</b> Check content in remote source. \n",
    "\n",
    "This will require contributors to upload their material to the remote folder beforehand."
   ]
  },
  {
   "cell_type": "code",
   "execution_count": 99,
   "metadata": {
    "ExecuteTime": {
     "end_time": "2019-12-09T09:45:44.151225Z",
     "start_time": "2019-12-09T09:45:44.146290Z"
    }
   },
   "outputs": [],
   "source": [
    "remote_name = 'booksprint'\n",
    "remote_source_dir = 'BookSprint-Demo'"
   ]
  },
  {
   "cell_type": "markdown",
   "metadata": {},
   "source": [
    "Check total folder size"
   ]
  },
  {
   "cell_type": "code",
   "execution_count": 100,
   "metadata": {
    "ExecuteTime": {
     "end_time": "2019-12-09T09:47:23.639149Z",
     "start_time": "2019-12-09T09:45:45.111324Z"
    }
   },
   "outputs": [
    {
     "name": "stdout",
     "output_type": "stream",
     "text": [
      "Total objects: 1166\r\n",
      "Total size: 294.103 MBytes (308388864 Bytes)\r\n"
     ]
    }
   ],
   "source": [
    "!rclone size $remote_name:$remote_source_dir"
   ]
  },
  {
   "cell_type": "markdown",
   "metadata": {},
   "source": [
    "Check _rough size_ of repository"
   ]
  },
  {
   "cell_type": "code",
   "execution_count": 20,
   "metadata": {
    "ExecuteTime": {
     "end_time": "2019-12-06T11:39:45.925599Z",
     "start_time": "2019-12-06T11:39:32.458520Z"
    }
   },
   "outputs": [
    {
     "name": "stdout",
     "output_type": "stream",
     "text": [
      "count: 3833\r\n",
      "size: 294.55 MiB\r\n",
      "in-pack: 298\r\n",
      "packs: 10\r\n",
      "size-pack: 19.43 MiB\r\n",
      "prune-packable: 268\r\n",
      "garbage: 0\r\n",
      "size-garbage: 0 bytes\r\n"
     ]
    }
   ],
   "source": [
    "!git count-objects -vH"
   ]
  },
  {
   "cell_type": "markdown",
   "metadata": {},
   "source": [
    "<span style='color:red'><b>NOTE</b></span> Checking the total folder size is important as GitHub has a **hard disk limit** of  **100GB** for every repo; repos are recommended to be kept under 1GB. See the documentation, [here](https://help.github.com/en/github/managing-large-files/what-is-my-disk-quota).\n",
    "\n",
    "So, if you perform version control of the files taken from the remote in a repo, be cautios of this limit!"
   ]
  },
  {
   "cell_type": "markdown",
   "metadata": {},
   "source": [
    "Check remote folder content"
   ]
  },
  {
   "cell_type": "code",
   "execution_count": 60,
   "metadata": {
    "ExecuteTime": {
     "end_time": "2019-12-08T12:30:29.933747Z",
     "start_time": "2019-12-08T12:30:23.435206Z"
    }
   },
   "outputs": [
    {
     "name": "stdout",
     "output_type": "stream",
     "text": [
      "2019/12/08 12:30:24 ERROR : Using --filter is recommended instead of both --include and --exclude as the order they are parsed in is indeterminate\n",
      "    27441 RGM/Main.md\n",
      "     4100 RGM/TST.md\n",
      "     1995 RGM/untitled.md\n",
      "    18151 MK/caldera-1.ipynb\n",
      "    53803 F/prueba.ipynb\n",
      "    20624 fundamental_models/fundamental_models.ipynb\n",
      "    38503 SN/finding_nhim_2and3dof_nonlinear/finding_nhim_2and3dof_nonlinear.md\n",
      "    86792 SN/finding_nhim_quad_normal_form/finding_nhim_quad_normal_form.md\n",
      "     5815 prologe/Prologue.ipynb\n",
      "     4527 prologe/TST.ipynb\n",
      "     3835 prologe/TST.md\n",
      "    23813 SN/system_bath/deleon_berne.md\n",
      "    53171 SN/system_bath/system_bath.md\n",
      "     9327 SN/workflow-demo/paper.md\n",
      "     5100 SW/1 DoF saddle/1_DOF_saddle.ipynb\n",
      "     6711 SW/2 DoF index 1 saddle/2_dof_index_1_saddle.ipynb\n",
      "     4330 MK/.ipynb_checkpoints/booksprinttest_makrina(1)-checkpoint.ipynb\n",
      "     3333 MK/.ipynb_checkpoints/caldera-1-checkpoint.ipynb\n",
      "     2521 MK/.ipynb_checkpoints/caldera-checkpoint.ipynb\n",
      "   105457 VK/1 - Roaming/roam.md\n",
      "     5898 SW/2 DoF index 2 saddle/index_2_saddle.ipynb\n",
      "    14492 act3/barbanis_3dof/barbanis_3dof.md\n",
      "     6789 act1/Hamiltonian bifurcation/ham_bif.ipynb\n",
      "     6235 SW/3 DoF index 1 saddle/3_dof_index_1_saddle.ipynb\n",
      "    81744 act2/1-Ches/roam.md\n",
      "    79249 VK/2 - Roammass/roamm.md\n",
      "    35994 VK/3 - Roamiso/roamiso.md\n",
      "    16850 act3/system_bath1/main.md\n",
      "    38503 SN/finding_nhim_2and3dof_nonlinear/.ipynb_checkpoints/finding_nhim_2and3dof_nonlinear-checkpoint.md\n",
      "     5815 prologe/.ipynb_checkpoints/Prologue-checkpoint.ipynb\n",
      "    29438 act1/Morse/Morse.ipynb\n",
      "    57538 act2/2-Ches/roam_mass_energy_var.md\n",
      "    37036 VK/4 - LD manif/roamld.md\n",
      "     8108 SW/Definition of the index of a saddle/saddle_index_definition.ipynb\n",
      "    32817 act3/system_bath2/system_bath.md\n",
      "     6290 SW/Hamiltonian bifurcation/ham_bif.ipynb\n",
      "    40027 MA/booksprinttest_makrina.ipynb\n",
      "    49613 act2/3-Ches/roamiso.md\n",
      "      555 act3/barbanis_3dof/.ipynb_checkpoints/Untitled-checkpoint.ipynb\n",
      "    14492 act3/barbanis_3dof/.ipynb_checkpoints/barbanis_3dof-checkpoint.md\n",
      "     8108 prologe/Definition of the index of a saddle/saddle_index_definition.ipynb\n",
      "    28073 VK/md equivalent of SW Morse/Morse.ipynb\n",
      "    17228 VK/md equivalent of SW Morse/Morse.md\n",
      "   105478 act2/1-Ches/.ipynb_checkpoints/roam-checkpoint.md\n",
      "        0 act1/Hamiltonian bifurcation/.ipynb_checkpoints/ham_bif-checkpoint.ipynb\n",
      "    22513 act2/barbanis2D/barbanis2d.md\n",
      "     8774 SW/Intro material/booksprint_intro.ipynb\n",
      "    16850 act3/system_bath1/.ipynb_checkpoints/main-checkpoint.md\n",
      "     4094 prologe/LDs/.ipynb\n",
      "    45421 prologe/LDs/LDs_victor.ipynb\n",
      "     6507 VK/test/test.ipynb\n",
      "     4094 prologe/.ipynb_checkpoints/LDs/.ipynb\n",
      "    45421 prologe/.ipynb_checkpoints/LDs/LDs_victor.ipynb\n",
      "    29438 act1/Morse/.ipynb_checkpoints/Morse-checkpoint.ipynb\n",
      "    29708 SW/Morse/Morse.ipynb\n",
      "    63871 VGG/HamSN/HSN_victor.ipynb\n",
      "    16611 act2/caldera/caldera-1.ipynb\n",
      "    79276 act2/2-Ches/.ipynb_checkpoints/roamm-checkpoint.md\n",
      "       72 act3/system_bath2/.ipynb_checkpoints/Untitled-checkpoint.ipynb\n",
      "    46432 act3/system_bath2/.ipynb_checkpoints/system_bath-checkpoint.md\n",
      "     4094 VGG/LDs/.ipynb\n",
      "    45421 VGG/LDs/LDs_victor.ipynb\n",
      "    35153 act2/deLeon_Berne/deleon_berne.md\n",
      "    28073 VK/md equivalent of SW Morse/.ipynb_checkpoints/Morse-checkpoint.ipynb\n",
      "    36029 act2/3-Ches/.ipynb_checkpoints/roamiso-checkpoint.md\n",
      "    22513 act2/barbanis2D/.ipynb_checkpoints/barbanis2d-checkpoint.md\n",
      "    45421 prologe/LDs/.ipynb_checkpoints/LDs_victor-checkpoint.ipynb\n",
      "    52210 act2/double_morse/prueba.ipynb\n",
      "    45421 prologe/.ipynb_checkpoints/LDs/.ipynb_checkpoints/LDs_victor-checkpoint.ipynb\n",
      "    16611 act2/caldera/.ipynb_checkpoints/caldera-1-checkpoint.ipynb\n",
      "    63871 VGG/HamSN/.ipynb_checkpoints/HSN_victor-checkpoint.ipynb\n",
      "    41910 act2/four_well_morse/booksprinttest_makrina.ipynb\n",
      "    45421 VGG/LDs/.ipynb_checkpoints/LDs_victor-checkpoint.ipynb\n",
      "    51833 act2/hamiltonian_sn/HSN_victor.ipynb\n",
      "    13769 act2/system_bath1/system_bath1.md\n",
      "    52210 act2/double_morse/.ipynb_checkpoints/prueba-checkpoint.ipynb\n",
      "    41910 act2/four_well_morse/.ipynb_checkpoints/booksprinttest_makrina-checkpoint.ipynb\n",
      "    51833 act2/hamiltonian_sn/.ipynb_checkpoints/HSN_victor-checkpoint.ipynb\n",
      "    27215 act2/system_bath1/.ipynb_checkpoints/Main-checkpoint.md\n"
     ]
    }
   ],
   "source": [
    "!rclone ls --include \\*.ipynb --include \\*.md --exclude='*checkpoint.ipynb' $remote_name:$remote_source_dir"
   ]
  },
  {
   "cell_type": "markdown",
   "metadata": {},
   "source": [
    "<b>STEP 3</b> Sync remote with local folder.\n",
    "\n",
    "This local folder is an intermmediate folder and **must be** separate from the `_content` (part of the GiHub repo) folder were files are kept after scripted editing and revision to build the book. "
   ]
  },
  {
   "cell_type": "markdown",
   "metadata": {},
   "source": [
    "<span style='color:red'><b>NOTE</b></span> What actually `rclone sync` does.\n",
    "\n",
    "`rclone sync` Sync the source to the destination, changing the destination only. Doesn’t transfer unchanged files, testing by size and modification time or MD5SUM. Destination is updated to match source, including deleting files if necessary.\n",
    "\n",
    "[SOURCE](https://rclone.org/commands/rclone_sync/)"
   ]
  },
  {
   "cell_type": "markdown",
   "metadata": {},
   "source": [
    "OPTIONAL: Enable the flag `--progress` or `-P` "
   ]
  },
  {
   "cell_type": "code",
   "execution_count": 104,
   "metadata": {
    "ExecuteTime": {
     "end_time": "2019-12-09T09:49:50.977476Z",
     "start_time": "2019-12-09T09:49:50.972022Z"
    }
   },
   "outputs": [],
   "source": [
    "remote_name = 'booksprint'\n",
    "remote_source_dir = 'BookSprint-Demo'"
   ]
  },
  {
   "cell_type": "code",
   "execution_count": 105,
   "metadata": {
    "ExecuteTime": {
     "end_time": "2019-12-09T09:49:51.409788Z",
     "start_time": "2019-12-09T09:49:51.405223Z"
    }
   },
   "outputs": [],
   "source": [
    "local_source_dir = 'BookSprint-Demo'"
   ]
  },
  {
   "cell_type": "code",
   "execution_count": 115,
   "metadata": {
    "ExecuteTime": {
     "end_time": "2019-12-09T11:04:03.248670Z",
     "start_time": "2019-12-09T11:03:44.800579Z"
    },
    "scrolled": true
   },
   "outputs": [
    {
     "name": "stdout",
     "output_type": "stream",
     "text": [
      "\u001b[2K\u001b[0GTransferred:   \t         0 / 0 Bytes, -, 0 Bytes/s, ETA -\n",
      "Errors:                 0\n",
      "Checks:                 0 / 0, -\n",
      "Transferred:            0 / 0, -\n",
      "Elapsed time:        1.9s\u001b[2K\u001b[A\u001b[2K\u001b[A\u001b[2K\u001b[A\u001b[2K\u001b[A\u001b[2K\u001b[0GTransferred:   \t         0 / 0 Bytes, -, 0 Bytes/s, ETA -\n",
      "Errors:                 0\n",
      "Checks:                 2 / 2, 100%\n",
      "Transferred:            0 / 0, -\n",
      "Elapsed time:        2.4s\u001b[2K\u001b[A\u001b[2K\u001b[A\u001b[2K\u001b[A\u001b[2K\u001b[A\u001b[2K\u001b[0GTransferred:   \t         0 / 0 Bytes, -, 0 Bytes/s, ETA -\n",
      "Errors:                 0\n",
      "Checks:                12 / 12, 100%\n",
      "Transferred:            0 / 2, 0%\n",
      "Elapsed time:        2.9s\n",
      "Transferring:\n",
      " *                        prologe/prologue.ipynb: transferring\n",
      " *   fundamental_models/fundamental_models.ipynb: transferring\u001b[2K\u001b[A\u001b[2K\u001b[A\u001b[2K\u001b[A\u001b[2K\u001b[A\u001b[2K\u001b[A\u001b[2K\u001b[A\u001b[2K\u001b[A\u001b[2K\u001b[0GTransferred:   \t   38.852k / 38.852 kBytes, 100%, 11.258 kBytes/s, ETA 0s\n",
      "Errors:                 0\n",
      "Checks:                23 / 23, 100%\n",
      "Transferred:            1 / 3, 33%\n",
      "Elapsed time:        3.4s\n",
      "Transferring:\n",
      " *                        prologe/prologue.ipynb: transferring\n",
      " *                  prologe/LDs/LDs_victor.ipynb: transferring\u001b[2K\u001b[A\u001b[2K\u001b[A\u001b[2K\u001b[A\u001b[2K\u001b[A\u001b[2K\u001b[A\u001b[2K\u001b[A\u001b[2K\u001b[A\u001b[2K\u001b[0GTransferred:   \t  100.272k / 100.272 kBytes, 100%, 25.402 kBytes/s, ETA 0s\n",
      "Errors:                 0\n",
      "Checks:                45 / 45, 100%\n",
      "Transferred:            3 / 5, 60%\n",
      "Elapsed time:        3.9s\n",
      "Transferring:\n",
      " *                        act2/3-Ches/roamiso.md: transferring\n",
      " *           act2/2-Ches/roam_mass_energy_var.md: transferring\u001b[2K\u001b[A\u001b[2K\u001b[A\u001b[2K\u001b[A\u001b[2K\u001b[A\u001b[2K\u001b[A\u001b[2K\u001b[A\u001b[2K\u001b[A\u001b[2K\u001b[0GTransferred:   \t  205.046k / 205.046 kBytes, 100%, 46.121 kBytes/s, ETA 0s\n",
      "Errors:                 0\n",
      "Checks:                58 / 58, 100%\n",
      "Transferred:            5 / 5, 100%\n",
      "Elapsed time:        4.4s\u001b[2K\u001b[A\u001b[2K\u001b[A\u001b[2K\u001b[A\u001b[2K\u001b[A\u001b[2K\u001b[0GTransferred:   \t  205.046k / 205.046 kBytes, 100%, 41.438 kBytes/s, ETA 0s\n",
      "Errors:                 0\n",
      "Checks:               186 / 186, 100%\n",
      "Transferred:            5 / 5, 100%\n",
      "Elapsed time:        4.9s\u001b[2K\u001b[A\u001b[2K\u001b[A\u001b[2K\u001b[A\u001b[2K\u001b[A\u001b[2K\u001b[0GTransferred:   \t  205.046k / 205.046 kBytes, 100%, 37.645 kBytes/s, ETA 0s\n",
      "Errors:                 0\n",
      "Checks:               224 / 224, 100%\n",
      "Transferred:            5 / 5, 100%\n",
      "Elapsed time:        5.4s\u001b[2K\u001b[A\u001b[2K\u001b[A\u001b[2K\u001b[A\u001b[2K\u001b[A\u001b[2K\u001b[0GTransferred:   \t  205.046k / 205.046 kBytes, 100%, 34.482 kBytes/s, ETA 0s\n",
      "Errors:                 0\n",
      "Checks:               226 / 226, 100%\n",
      "Transferred:            5 / 5, 100%\n",
      "Elapsed time:        5.9s\u001b[2K\u001b[A\u001b[2K\u001b[A\u001b[2K\u001b[A\u001b[2K\u001b[A\u001b[2K\u001b[0GTransferred:   \t  205.046k / 205.046 kBytes, 100%, 31.809 kBytes/s, ETA 0s\n",
      "Errors:                 0\n",
      "Checks:               291 / 291, 100%\n",
      "Transferred:            5 / 5, 100%\n",
      "Elapsed time:        6.4s\u001b[2K\u001b[A\u001b[2K\u001b[A\u001b[2K\u001b[A\u001b[2K\u001b[A\u001b[2K\u001b[0GTransferred:   \t  205.046k / 205.046 kBytes, 100%, 29.520 kBytes/s, ETA 0s\n",
      "Errors:                 0\n",
      "Checks:               309 / 309, 100%\n",
      "Transferred:            5 / 5, 100%\n",
      "Elapsed time:        6.9s\u001b[2K\u001b[A\u001b[2K\u001b[A\u001b[2K\u001b[A\u001b[2K\u001b[A\u001b[2K\u001b[0GTransferred:   \t  205.046k / 205.046 kBytes, 100%, 27.534 kBytes/s, ETA 0s\n",
      "Errors:                 0\n",
      "Checks:               356 / 356, 100%\n",
      "Transferred:            5 / 5, 100%\n",
      "Elapsed time:        7.4s\u001b[2K\u001b[A\u001b[2K\u001b[A\u001b[2K\u001b[A\u001b[2K\u001b[A\u001b[2K\u001b[0GTransferred:   \t  205.046k / 205.046 kBytes, 100%, 25.805 kBytes/s, ETA 0s\n",
      "Errors:                 0\n",
      "Checks:               384 / 384, 100%\n",
      "Transferred:            5 / 5, 100%\n",
      "Elapsed time:        7.9s\u001b[2K\u001b[A\u001b[2K\u001b[A\u001b[2K\u001b[A\u001b[2K\u001b[A\u001b[2K\u001b[0GTransferred:   \t  205.046k / 205.046 kBytes, 100%, 24.276 kBytes/s, ETA 0s\n",
      "Errors:                 0\n",
      "Checks:               386 / 386, 100%\n",
      "Transferred:            5 / 5, 100%\n",
      "Elapsed time:        8.4s\u001b[2K\u001b[A\u001b[2K\u001b[A\u001b[2K\u001b[A\u001b[2K\u001b[A\u001b[2K\u001b[0GTransferred:   \t  205.046k / 205.046 kBytes, 100%, 22.909 kBytes/s, ETA 0s\n",
      "Errors:                 0\n",
      "Checks:               390 / 390, 100%\n",
      "Transferred:            5 / 5, 100%\n",
      "Elapsed time:        8.9s\u001b[2K\u001b[A\u001b[2K\u001b[A\u001b[2K\u001b[A\u001b[2K\u001b[A\u001b[2K\u001b[0GTransferred:   \t  205.046k / 205.046 kBytes, 100%, 21.706 kBytes/s, ETA 0s\n",
      "Errors:                 0\n",
      "Checks:               417 / 417, 100%\n",
      "Transferred:            5 / 5, 100%\n",
      "Elapsed time:        9.4s\u001b[2K\u001b[A\u001b[2K\u001b[A\u001b[2K\u001b[A\u001b[2K\u001b[A\u001b[2K\u001b[0GTransferred:   \t  205.046k / 205.046 kBytes, 100%, 20.611 kBytes/s, ETA 0s\n",
      "Errors:                 0\n",
      "Checks:               433 / 433, 100%\n",
      "Transferred:            5 / 5, 100%\n",
      "Elapsed time:        9.9s\u001b[2K\u001b[A\u001b[2K\u001b[A\u001b[2K\u001b[A\u001b[2K\u001b[A\u001b[2K\u001b[0GTransferred:   \t  205.046k / 205.046 kBytes, 100%, 19.628 kBytes/s, ETA 0s\n",
      "Errors:                 0\n",
      "Checks:               482 / 482, 100%\n",
      "Transferred:            5 / 5, 100%\n",
      "Elapsed time:       10.4s\u001b[2K\u001b[A\u001b[2K\u001b[A\u001b[2K\u001b[A\u001b[2K\u001b[A\u001b[2K\u001b[0GTransferred:   \t  205.046k / 205.046 kBytes, 100%, 18.731 kBytes/s, ETA 0s\n",
      "Errors:                 0\n",
      "Checks:               571 / 571, 100%\n",
      "Transferred:            5 / 5, 100%\n",
      "Elapsed time:       10.9s\u001b[2K\u001b[A\u001b[2K\u001b[A\u001b[2K\u001b[A\u001b[2K\u001b[A\u001b[2K\u001b[0GTransferred:   \t  205.046k / 205.046 kBytes, 100%, 17.902 kBytes/s, ETA 0s\n",
      "Errors:                 0\n",
      "Checks:               653 / 653, 100%\n",
      "Transferred:            5 / 5, 100%\n",
      "Elapsed time:       11.4s\u001b[2K\u001b[A\u001b[2K\u001b[A\u001b[2K\u001b[A\u001b[2K\u001b[A\u001b[2K\u001b[0GTransferred:   \t  205.046k / 205.046 kBytes, 100%, 17.160 kBytes/s, ETA 0s\n",
      "Errors:                 0\n",
      "Checks:               759 / 759, 100%\n",
      "Transferred:            5 / 5, 100%\n",
      "Elapsed time:       11.9s\u001b[2K\u001b[A\u001b[2K\u001b[A\u001b[2K\u001b[A\u001b[2K\u001b[A\u001b[2K\u001b[0GTransferred:   \t  205.046k / 205.046 kBytes, 100%, 16.472 kBytes/s, ETA 0s\n",
      "Errors:                 0\n",
      "Checks:               865 / 865, 100%\n",
      "Transferred:            5 / 5, 100%\n",
      "Elapsed time:       12.4s\u001b[2K\u001b[A\u001b[2K\u001b[A\u001b[2K\u001b[A\u001b[2K\u001b[A\u001b[2K\u001b[0GTransferred:   \t  205.046k / 205.046 kBytes, 100%, 15.834 kBytes/s, ETA 0s\n",
      "Errors:                 0\n",
      "Checks:               911 / 911, 100%\n",
      "Transferred:            5 / 5, 100%\n",
      "Elapsed time:       12.9s\u001b[2K\u001b[A\u001b[2K\u001b[A\u001b[2K\u001b[A\u001b[2K\u001b[A\u001b[2K\u001b[0GTransferred:   \t  205.046k / 205.046 kBytes, 100%, 15.245 kBytes/s, ETA 0s\n",
      "Errors:                 0\n",
      "Checks:               976 / 976, 100%\n",
      "Transferred:            5 / 5, 100%\n",
      "Elapsed time:       13.4s\u001b[2K\u001b[A\u001b[2K\u001b[A\u001b[2K\u001b[A\u001b[2K\u001b[A\u001b[2K\u001b[0GTransferred:   \t  205.046k / 205.046 kBytes, 100%, 14.697 kBytes/s, ETA 0s\n",
      "Errors:                 0\n",
      "Checks:              1042 / 1042, 100%\n",
      "Transferred:            5 / 5, 100%\n",
      "Elapsed time:       13.9s\u001b[2K\u001b[A\u001b[2K\u001b[A\u001b[2K\u001b[A\u001b[2K\u001b[A\u001b[2K\u001b[0GTransferred:   \t  205.046k / 205.046 kBytes, 100%, 14.192 kBytes/s, ETA 0s\n",
      "Errors:                 0\n",
      "Checks:              1112 / 1112, 100%\n",
      "Transferred:            5 / 5, 100%\n",
      "Elapsed time:       14.4s\u001b[2K\u001b[A\u001b[2K\u001b[A\u001b[2K\u001b[A\u001b[2K\u001b[A\u001b[2K\u001b[0GTransferred:   \t  205.046k / 205.046 kBytes, 100%, 13.718 kBytes/s, ETA 0s\n",
      "Errors:                 0\n",
      "Checks:              1127 / 1127, 100%\n",
      "Transferred:            5 / 5, 100%\n",
      "Elapsed time:       14.9s\u001b[2K\u001b[A\u001b[2K\u001b[A\u001b[2K\u001b[A\u001b[2K\u001b[A\u001b[2K\u001b[0GTransferred:   \t  205.046k / 205.046 kBytes, 100%, 13.274 kBytes/s, ETA 0s\n",
      "Errors:                 0\n",
      "Checks:              1133 / 1133, 100%\n",
      "Transferred:            5 / 5, 100%\n",
      "Elapsed time:       15.4s\u001b[2K\u001b[A\u001b[2K\u001b[A\u001b[2K\u001b[A\u001b[2K\u001b[A\u001b[2K\u001b[0GTransferred:   \t  205.046k / 205.046 kBytes, 100%, 12.857 kBytes/s, ETA 0s\n",
      "Errors:                 0\n",
      "Checks:              1133 / 1133, 100%\n",
      "Transferred:            5 / 5, 100%\n",
      "Elapsed time:       15.9s\u001b[2K\u001b[A\u001b[2K\u001b[A\u001b[2K\u001b[A\u001b[2K\u001b[A\u001b[2K\u001b[0GTransferred:   \t  205.046k / 205.046 kBytes, 100%, 12.464 kBytes/s, ETA 0s\n",
      "Errors:                 0\n",
      "Checks:              1133 / 1133, 100%\n",
      "Transferred:            5 / 5, 100%\n",
      "Elapsed time:       16.4s\u001b[2K\u001b[A\u001b[2K\u001b[A\u001b[2K\u001b[A\u001b[2K\u001b[A\u001b[2K\u001b[0GTransferred:   \t  205.046k / 205.046 kBytes, 100%, 12.098 kBytes/s, ETA 0s\n",
      "Errors:                 0\n",
      "Checks:              1133 / 1133, 100%\n",
      "Transferred:            5 / 5, 100%\n",
      "Elapsed time:       16.9s\u001b[2K\u001b[A\u001b[2K\u001b[A\u001b[2K\u001b[A\u001b[2K\u001b[A\u001b[2K\u001b[0GTransferred:   \t  205.046k / 205.046 kBytes, 100%, 11.751 kBytes/s, ETA 0s\n",
      "Errors:                 0\n",
      "Checks:              1133 / 1133, 100%\n",
      "Transferred:            5 / 5, 100%\n",
      "Elapsed time:       17.4s\u001b[2K\u001b[A\u001b[2K\u001b[A\u001b[2K\u001b[A\u001b[2K\u001b[A\u001b[2K\u001b[0GTransferred:   \t  205.046k / 205.046 kBytes, 100%, 11.502 kBytes/s, ETA 0s\n",
      "Errors:                 0\n",
      "Checks:              1150 / 1150, 100%\n",
      "Transferred:            5 / 5, 100%\n",
      "Elapsed time:       17.8s\n"
     ]
    }
   ],
   "source": [
    "!rclone sync -P --exclude='*checkpoint.ipynb' $remote_name:$remote_source_dir $local_source_dir"
   ]
  },
  {
   "cell_type": "markdown",
   "metadata": {},
   "source": [
    "<span style='color:red'><b>NOTE</b></span> Daily limits or quotas on file transfer.\n",
    "\n"
   ]
  },
  {
   "cell_type": "markdown",
   "metadata": {},
   "source": [
    "Check [this](https://help.github.com/en/github/managing-large-files/what-is-my-disk-quota)"
   ]
  },
  {
   "cell_type": "markdown",
   "metadata": {},
   "source": [
    "## Relocate and Edit Files for Book Build"
   ]
  },
  {
   "cell_type": "markdown",
   "metadata": {},
   "source": [
    "### Get folders"
   ]
  },
  {
   "cell_type": "markdown",
   "metadata": {},
   "source": [
    "<b>STEP 1</b> Copy _whole folder structure_ of `local_source_dir` into `content` folder for building the jupter-book `champsbook`.\n",
    "\n",
    "In this way the original copy of the folders directly taken from the remote source are preserved separately.\n",
    "And in the book folder, files can be edited for the book build without affecting the files in `local_source_dir`."
   ]
  },
  {
   "cell_type": "code",
   "execution_count": 137,
   "metadata": {
    "ExecuteTime": {
     "end_time": "2019-12-07T14:38:20.992044Z",
     "start_time": "2019-12-07T14:38:20.983150Z"
    }
   },
   "outputs": [],
   "source": [
    "import os\n",
    "import shutil\n",
    "\n",
    "def copytree(src, dst, symlinks=False, ignore=None):\n",
    "    for item in os.listdir(src):\n",
    "        s = os.path.join(src, item)\n",
    "        d = os.path.join(dst, item)\n",
    "        if os.path.isdir(s):\n",
    "            shutil.copytree(s, d, symlinks, ignore)\n",
    "        else:\n",
    "            shutil.copy2(s, d)"
   ]
  },
  {
   "cell_type": "code",
   "execution_count": 126,
   "metadata": {
    "ExecuteTime": {
     "end_time": "2019-12-09T11:45:20.914350Z",
     "start_time": "2019-12-09T11:45:20.908795Z"
    }
   },
   "outputs": [],
   "source": [
    "source_dir = 'BookSprint-Demo'\n",
    "target_dir = os.path.join('champsbook', \"content\")"
   ]
  },
  {
   "cell_type": "raw",
   "metadata": {
    "ExecuteTime": {
     "end_time": "2019-12-07T14:44:56.860168Z",
     "start_time": "2019-12-07T14:43:49.264671Z"
    }
   },
   "source": [
    "!cp -r $source_dir/* $target_dir/"
   ]
  },
  {
   "cell_type": "markdown",
   "metadata": {},
   "source": [
    "**Copy Act 1**"
   ]
  },
  {
   "cell_type": "code",
   "execution_count": 125,
   "metadata": {
    "ExecuteTime": {
     "end_time": "2019-12-09T11:45:18.524234Z",
     "start_time": "2019-12-09T11:45:18.519630Z"
    }
   },
   "outputs": [],
   "source": [
    "source_dir = 'BookSprint-Demo/act1'\n",
    "target_dir = os.path.join('champsbook', \"content\")"
   ]
  },
  {
   "cell_type": "code",
   "execution_count": 49,
   "metadata": {
    "ExecuteTime": {
     "end_time": "2019-12-08T11:59:29.137576Z",
     "start_time": "2019-12-08T11:59:28.943868Z"
    }
   },
   "outputs": [],
   "source": [
    "!cp -r $source_dir $target_dir/"
   ]
  },
  {
   "cell_type": "markdown",
   "metadata": {},
   "source": [
    "**Copy Act 2**"
   ]
  },
  {
   "cell_type": "code",
   "execution_count": 63,
   "metadata": {
    "ExecuteTime": {
     "end_time": "2019-12-08T12:36:22.092620Z",
     "start_time": "2019-12-08T12:36:22.087566Z"
    }
   },
   "outputs": [],
   "source": [
    "source_dir = 'BookSprint-Demo/act2'\n",
    "target_dir = os.path.join('champsbook', \"content\")"
   ]
  },
  {
   "cell_type": "code",
   "execution_count": 65,
   "metadata": {
    "ExecuteTime": {
     "end_time": "2019-12-08T12:36:31.901807Z",
     "start_time": "2019-12-08T12:36:30.550442Z"
    }
   },
   "outputs": [],
   "source": [
    "!cp -r $source_dir $target_dir/"
   ]
  },
  {
   "cell_type": "markdown",
   "metadata": {},
   "source": [
    "**Copy Act 3**"
   ]
  },
  {
   "cell_type": "code",
   "execution_count": 107,
   "metadata": {
    "ExecuteTime": {
     "end_time": "2019-12-09T09:53:55.206138Z",
     "start_time": "2019-12-09T09:53:55.197477Z"
    }
   },
   "outputs": [],
   "source": [
    "source_dir = 'BookSprint-Demo/act3'\n",
    "target_dir = os.path.join('champsbook', \"content\")"
   ]
  },
  {
   "cell_type": "code",
   "execution_count": 108,
   "metadata": {
    "ExecuteTime": {
     "end_time": "2019-12-09T09:54:01.729957Z",
     "start_time": "2019-12-09T09:53:57.212190Z"
    }
   },
   "outputs": [],
   "source": [
    "!cp -r $source_dir $target_dir/"
   ]
  },
  {
   "cell_type": "markdown",
   "metadata": {},
   "source": [
    "### Get bibliography files"
   ]
  },
  {
   "cell_type": "markdown",
   "metadata": {},
   "source": [
    "<b>STEP 2</b> Find all bibliography files"
   ]
  },
  {
   "cell_type": "code",
   "execution_count": 127,
   "metadata": {
    "ExecuteTime": {
     "end_time": "2019-12-09T11:45:28.861622Z",
     "start_time": "2019-12-09T11:45:28.837816Z"
    }
   },
   "outputs": [],
   "source": [
    "import os\n",
    "\n",
    "source_dir = 'BookSprint-Demo'\n",
    "\n",
    "FILE_EXTENSIONS = ['.bib']\n",
    "\n",
    "input_files = []\n",
    "for x in list(os.walk(source_dir)):\n",
    "    subdir = x[0]\n",
    "    for f in x[-1]:\n",
    "        filename, file_extension = os.path.splitext(f)\n",
    "        if file_extension in FILE_EXTENSIONS:\n",
    "            input_files.append(os.path.join(subdir, f))"
   ]
  },
  {
   "cell_type": "code",
   "execution_count": 128,
   "metadata": {
    "ExecuteTime": {
     "end_time": "2019-12-09T11:45:29.580722Z",
     "start_time": "2019-12-09T11:45:29.572766Z"
    }
   },
   "outputs": [
    {
     "data": {
      "text/plain": [
       "['BookSprint-Demo/fundamental_models/reaction_dynamics.bib',\n",
       " 'BookSprint-Demo/fundamental_models/rrkm_1.bib',\n",
       " 'BookSprint-Demo/fundamental_models/roaming_v8.bib',\n",
       " 'BookSprint-Demo/fundamental_models/vri_1.bib',\n",
       " 'BookSprint-Demo/act1/Morse/action_angle.bib',\n",
       " 'BookSprint-Demo/prologe/book_sprint_bib1.bib',\n",
       " 'BookSprint-Demo/prologe/myBib.bib',\n",
       " 'BookSprint-Demo/prologe/LDs/LDs.bib',\n",
       " 'BookSprint-Demo/prologe/.ipynb_checkpoints/myBib-checkpoint.bib',\n",
       " 'BookSprint-Demo/prologe/.ipynb_checkpoints/LDs/LDs.bib',\n",
       " 'BookSprint-Demo/MOTHER FILES/SW/Intro material/book_sprint_bib1.bib',\n",
       " 'BookSprint-Demo/MOTHER FILES/SW/Morse/action_angle.bib',\n",
       " 'BookSprint-Demo/MOTHER FILES/SW/2 DoF index 2 saddle/reaction_dynamics.bib',\n",
       " 'BookSprint-Demo/MOTHER FILES/SW/2 DoF index 2 saddle/rrkm_1.bib',\n",
       " 'BookSprint-Demo/MOTHER FILES/SW/2 DoF index 2 saddle/roaming_v8.bib',\n",
       " 'BookSprint-Demo/MOTHER FILES/SW/2 DoF index 2 saddle/vri_1.bib',\n",
       " 'BookSprint-Demo/MOTHER FILES/SW/2 DoF index 2 saddle/Ham_dyn.bib',\n",
       " 'BookSprint-Demo/MOTHER FILES/MA/SNreac.bib',\n",
       " 'BookSprint-Demo/MOTHER FILES/RGM/myBib.bib',\n",
       " 'BookSprint-Demo/MOTHER FILES/F/article.bib',\n",
       " 'BookSprint-Demo/MOTHER FILES/VK/1 - Roaming/refs.bib',\n",
       " 'BookSprint-Demo/MOTHER FILES/VK/3 - Roamiso/allrefs.bib',\n",
       " 'BookSprint-Demo/MOTHER FILES/VK/4 - LD manif/allrefs.bib',\n",
       " 'BookSprint-Demo/MOTHER FILES/VK/test/allrefs.bib',\n",
       " 'BookSprint-Demo/MOTHER FILES/VK/2 - Roammass/roamm.bib',\n",
       " 'BookSprint-Demo/MOTHER FILES/VK/md equivalent of SW Morse/Morse.bib',\n",
       " 'BookSprint-Demo/MOTHER FILES/SN/system_bath/system_bath_ld_reactdyn.bib',\n",
       " 'BookSprint-Demo/MOTHER FILES/SN/workflow-demo/paper.bib',\n",
       " 'BookSprint-Demo/MOTHER FILES/SN/finding_nhim_quad_normal_form/Ham_LD_reaction.bib',\n",
       " 'BookSprint-Demo/MOTHER FILES/SN/finding_nhim_2and3dof_nonlinear/finding_nhim_2and3dof_nonlinear.bib',\n",
       " 'BookSprint-Demo/MOTHER FILES/MK/caldera2c.bib',\n",
       " 'BookSprint-Demo/MOTHER FILES/VGG/HamSN/HamSN.bib',\n",
       " 'BookSprint-Demo/MOTHER FILES/VGG/LDs/LDs.bib',\n",
       " 'BookSprint-Demo/act3/system_bath2/system_bath_ld_reactdyn.bib',\n",
       " 'BookSprint-Demo/act3/system_bath1/myBib.bib',\n",
       " 'BookSprint-Demo/act3/barbanis_3dof/barbanis_3dof.bib',\n",
       " 'BookSprint-Demo/act2/double_morse/article.bib',\n",
       " 'BookSprint-Demo/act2/four_well_morse/figures/SNreac.bib',\n",
       " 'BookSprint-Demo/act2/2-Ches/roam_mass_energy_var.bib',\n",
       " 'BookSprint-Demo/act2/caldera/caldera2c.bib',\n",
       " 'BookSprint-Demo/act2/3-Ches/allrefs.bib',\n",
       " 'BookSprint-Demo/act2/deLeon_Berne/system_bath_ld_reactdyn.bib',\n",
       " 'BookSprint-Demo/act2/1-Ches/refs.bib',\n",
       " 'BookSprint-Demo/act2/system_bath1/myBib.bib',\n",
       " 'BookSprint-Demo/act2/hamiltonian_sn/HamSN.bib',\n",
       " 'BookSprint-Demo/act2/hamiltonian_sn/.ipynb_checkpoints/HamSN-checkpoint.bib',\n",
       " 'BookSprint-Demo/act2/barbanis2D/finding_nhim_2and3dof_nonlinear.bib']"
      ]
     },
     "execution_count": 128,
     "metadata": {},
     "output_type": "execute_result"
    }
   ],
   "source": [
    "input_files"
   ]
  },
  {
   "cell_type": "markdown",
   "metadata": {},
   "source": [
    "And copy `.bib` files to common `_bibliography` folder for the book build."
   ]
  },
  {
   "cell_type": "code",
   "execution_count": 129,
   "metadata": {
    "ExecuteTime": {
     "end_time": "2019-12-09T11:45:36.383017Z",
     "start_time": "2019-12-09T11:45:36.377844Z"
    }
   },
   "outputs": [],
   "source": [
    "target_dir = os.path.join('champsbook', \"_bibliography\")"
   ]
  },
  {
   "cell_type": "code",
   "execution_count": 130,
   "metadata": {
    "ExecuteTime": {
     "end_time": "2019-12-09T11:45:38.328521Z",
     "start_time": "2019-12-09T11:45:37.559896Z"
    }
   },
   "outputs": [],
   "source": [
    "from shutil import copyfile\n",
    "\n",
    "for f in input_files:\n",
    "    source = f\n",
    "    target = os.path.join(target_dir, os.path.basename(f))\n",
    "    copyfile(source, target)"
   ]
  },
  {
   "cell_type": "markdown",
   "metadata": {},
   "source": [
    "### Edit Syntax in Jupyter/Markdown files"
   ]
  },
  {
   "cell_type": "markdown",
   "metadata": {},
   "source": [
    "<a id='edit_phase'></a>\n",
    "<b>STEP 3</b> Edit all Notebooks and Markdown files for book compilation."
   ]
  },
  {
   "cell_type": "markdown",
   "metadata": {},
   "source": [
    "<span style=\"color:blue\">Main tasks</span>\n",
    "\n",
    "For figures, tables, sections and subsections.\n",
    "\n",
    "* Swap Markdown/LaTeX Citation syntax in `.md`/`.ipynb` files with `jekyll-scholar` syntax,\n",
    "* Swap Markdown/LaTeX Label/Reference syntax in `.md`/`.ipynb` files with `Markdown` syntax,\n",
    "* Swap Markdown/LaTeX Caption syntax in `.md`/`.ipynb` files with `HTML` syntax to allow centered captions with italic formatting, \n",
    "* Add numbered cross references and labels in captions"
   ]
  },
  {
   "cell_type": "markdown",
   "metadata": {},
   "source": [
    "TEST"
   ]
  },
  {
   "cell_type": "code",
   "execution_count": 147,
   "metadata": {
    "ExecuteTime": {
     "end_time": "2019-12-07T14:48:02.154474Z",
     "start_time": "2019-12-07T14:48:02.106414Z"
    }
   },
   "outputs": [
    {
     "name": "stdout",
     "output_type": "stream",
     "text": [
      "New Notebook successfully generated\n"
     ]
    }
   ],
   "source": [
    "nb_infile = 'champsbook/content/MK/caldera-1.ipynb'\n",
    "nb_outfile = 'champsbook/content/MK/caldera-1_new.ipynb'\n",
    "bib_filename = 'caldera2c'\n",
    "\n",
    "%run scripts/jupyter_latex2html.py $nb_infile $nb_outfile $bib_filename"
   ]
  },
  {
   "cell_type": "code",
   "execution_count": 193,
   "metadata": {
    "ExecuteTime": {
     "end_time": "2019-12-07T16:03:11.886071Z",
     "start_time": "2019-12-07T16:03:11.372841Z"
    }
   },
   "outputs": [
    {
     "name": "stdout",
     "output_type": "stream",
     "text": [
      "1_DOF_saddle.aux        1_DOF_saddle.pdf        fig_1_dof_saddle.png\r\n",
      "1_DOF_saddle.ipynb      1_DOF_saddle.synctex.gz\r\n",
      "1_DOF_saddle.log        1_DOF_saddle.tex\r\n"
     ]
    }
   ],
   "source": [
    "d = \"champsbook/content/fundamental_models/1\\ DoF\\ saddle/\"\n",
    "!ls $d"
   ]
  },
  {
   "cell_type": "markdown",
   "metadata": {},
   "source": [
    "<span style='color:red'><b>ISSUES</b></span>\n",
    "* For `fundamental_models.ipynb` citations come from different `.bib` files"
   ]
  },
  {
   "cell_type": "code",
   "execution_count": 80,
   "metadata": {
    "ExecuteTime": {
     "end_time": "2019-12-08T15:20:52.838201Z",
     "start_time": "2019-12-08T15:20:52.820391Z"
    }
   },
   "outputs": [],
   "source": [
    "BOOK_CONTENT = [\n",
    "    {\n",
    "        'file': 'champsbook/content/prologe/Prologue.ipynb',\n",
    "        'bib': 'book_sprint_bib1'\n",
    "    },\n",
    "    {\n",
    "        'file': 'champsbook/content/prologe/LDs/LDs_victor.ipynb',\n",
    "        'bib': 'LDs'\n",
    "    },\n",
    "    {\n",
    "        'file': 'champsbook/content/prologe/Definition_of_the_index_of_a_saddle/saddle_index_definition.ipynb',\n",
    "        'bib': 'Ham_LD_reaction'\n",
    "    },\n",
    "    {\n",
    "        'file': 'champsbook/content/prologe/TST.md', \n",
    "        'bib': 'myBib'\n",
    "    },\n",
    "    {\n",
    "        'file': 'champsbook/content/fundamental_models/fundamental_models.ipynb',\n",
    "        'bib': 'reaction_dynamics.bib'\n",
    "    },\n",
    "        {\n",
    "        'file': 'champsbook/content/fundamental_models/1_DoF_saddle/1_DOF_saddle.ipynb',\n",
    "        'bib': 'reaction_dynamics.bib'\n",
    "    },\n",
    "            {\n",
    "        'file': 'champsbook/content/fundamental_models/2_DoF_index_1_saddle/2_dof_index_1_saddle.ipynb',\n",
    "        'bib': 'reaction_dynamics.bib'\n",
    "    },\n",
    "            {\n",
    "        'file': 'champsbook/content/fundamental_models/2_DoF_index_2_saddle/index_2_saddle.ipynb',\n",
    "        'bib': 'reaction_dynamics.bib'\n",
    "    },\n",
    "            {\n",
    "        'file': 'champsbook/content/fundamental_models/3_DoF_index_1_saddle/3_dof_index_1_saddle.ipynb',\n",
    "        'bib': 'reaction_dynamics.bib'\n",
    "    },\n",
    "    {\n",
    "        'file': 'champsbook/content/act1/Morse/Morse.ipynb',\n",
    "        'bib': 'action_angle.bib'\n",
    "    },\n",
    "    {\n",
    "        'file': 'champsbook/content/act1/Hamiltonian_bifurcation/ham_bif.ipynb',\n",
    "        'bib': 'action_angle.bib'\n",
    "    },\n",
    "    {\n",
    "        'file': 'champsbook/content/act2/hamiltonian_sn/HSN_victor.ipynb',\n",
    "        'bib': 'HamSN.bib'\n",
    "    },\n",
    "    {\n",
    "        'file': 'champsbook/content/act2/barbanis2D/barbanis2d.md',\n",
    "        'bib': 'finding_nhim_2-3dof_nonlinear.bib'\n",
    "    },\n",
    "    {\n",
    "        'file': 'champsbook/content/act2/caldera/caldera-1.ipynb',\n",
    "        'bib': 'caldera2c.bib'\n",
    "    },\n",
    "    {\n",
    "        'file': 'champsbook/content/act2/deLeon_Berne/deleon_berne.md',\n",
    "        'bib': 'system_bath_ld_reactdyn.bib'\n",
    "    },\n",
    "    {\n",
    "        'file': 'champsbook/content/act2/system_bath1/system_bath1.md',\n",
    "        'bib': 'myBib.bib'\n",
    "    },\n",
    "    {\n",
    "        'file': 'champsbook/content/act2/four_well_morse/booksprinttest_makrina.ipynb',\n",
    "        'bib': 'SNreac'\n",
    "    },\n",
    "    {\n",
    "        'file': 'champsbook/content/act2/double_morse/prueba.ipynb',\n",
    "        'bib': 'article.bib'\n",
    "    },\n",
    "    {\n",
    "        'file': 'champsbook/content/act2/1-Ches/roam.md',\n",
    "        'bib': 'refs.bib'\n",
    "    },\n",
    "    {\n",
    "        \n",
    "    }\n",
    "]"
   ]
  },
  {
   "cell_type": "code",
   "execution_count": 84,
   "metadata": {
    "ExecuteTime": {
     "end_time": "2019-12-08T16:21:24.032950Z",
     "start_time": "2019-12-08T16:21:22.161656Z"
    }
   },
   "outputs": [
    {
     "name": "stdout",
     "output_type": "stream",
     "text": [
      "champsbook/content/prologe/Prologue.ipynb\n",
      "New Notebook successfully generated\n",
      "champsbook/content/prologe/LDs/LDs_victor.ipynb\n",
      "New Notebook successfully generated\n",
      "champsbook/content/prologe/Definition_of_the_index_of_a_saddle/saddle_index_definition.ipynb\n",
      "New Notebook successfully generated\n",
      "champsbook/content/fundamental_models/fundamental_models.ipynb\n",
      "New Notebook successfully generated\n",
      "champsbook/content/fundamental_models/1_DoF_saddle/1_DOF_saddle.ipynb\n",
      "New Notebook successfully generated\n",
      "champsbook/content/fundamental_models/2_DoF_index_1_saddle/2_dof_index_1_saddle.ipynb\n",
      "New Notebook successfully generated\n",
      "champsbook/content/fundamental_models/2_DoF_index_2_saddle/index_2_saddle.ipynb\n",
      "New Notebook successfully generated\n",
      "champsbook/content/fundamental_models/3_DoF_index_1_saddle/3_dof_index_1_saddle.ipynb\n",
      "New Notebook successfully generated\n",
      "champsbook/content/act1/Morse/Morse.ipynb\n",
      "New Notebook successfully generated\n",
      "champsbook/content/act1/Hamiltonian_bifurcation/ham_bif.ipynb\n",
      "New Notebook successfully generated\n",
      "champsbook/content/act2/hamiltonian_sn/HSN_victor.ipynb\n",
      "Couldn't find Jupyter Notebook. Check your input path\n",
      "champsbook/content/act2/caldera/caldera-1.ipynb\n",
      "New Notebook successfully generated\n",
      "champsbook/content/act2/four_well_morse/booksprinttest_makrina.ipynb\n",
      "New Notebook successfully generated\n",
      "champsbook/content/act2/double_morse/prueba.ipynb\n",
      "Couldn't find Jupyter Notebook. Check your input path\n"
     ]
    }
   ],
   "source": [
    "import os\n",
    "\n",
    "suffix = '_new'\n",
    "\n",
    "for items in BOOK_CONTENT:\n",
    "    infile = items['file']\n",
    "    bib_filename = items['bib']\n",
    "    if os.path.isfile(infile):\n",
    "        basename, extension = os.path.splitext(infile)\n",
    "        outfile = basename+suffix+extension\n",
    "        if extension == '.ipynb':\n",
    "            print(infile)\n",
    "            %run scripts/jupyter_latex2html.py $infile $outfile $bib_filename\n",
    "        elif extension == '.md':\n",
    "            pass\n",
    "#             %run scripts/bib_md2jekyll.py $infile $outfile $bib_filename\n",
    "    else:\n",
    "        print('ouch', infile)"
   ]
  },
  {
   "cell_type": "code",
   "execution_count": 75,
   "metadata": {
    "ExecuteTime": {
     "end_time": "2019-12-08T14:35:37.931924Z",
     "start_time": "2019-12-08T14:35:37.066403Z"
    }
   },
   "outputs": [
    {
     "name": "stdout",
     "output_type": "stream",
     "text": [
      "champsbook/content/act2/double_morse/prueba.ipynb\r\n"
     ]
    }
   ],
   "source": [
    "!ls champsbook/content/act2/double_morse/prueba.ipynb"
   ]
  },
  {
   "cell_type": "markdown",
   "metadata": {},
   "source": [
    "<span style='color:red'><b>NOTE</b></span> For further details regarding the syntax and the tasks performed alongside with their scripts look [this](#syntax_matching) Section. "
   ]
  },
  {
   "cell_type": "markdown",
   "metadata": {},
   "source": [
    "<b>STEP 4</b> Convert all `.pdf` images to `.png`, if present. Then relocate all image files for compilation.\n",
    "\n",
    "By default, HTML doesn't allow embedding of `.pdf` image files. Neither does Jupyter.\n",
    "Here, we use automate the conversion of image files using ... <span style='color:red'>write me</span>"
   ]
  },
  {
   "cell_type": "markdown",
   "metadata": {},
   "source": [
    "<img width=\"200\" height=\"200\" src=\"https://images2.minutemediacdn.com/image/upload/c_fill,g_auto,h_1248,w_2220/f_auto,q_auto,w_1100/v1555383806/shape/mentalfloss/construction-banner.png\">"
   ]
  },
  {
   "cell_type": "markdown",
   "metadata": {},
   "source": [
    "<span style='color:red'><b>NOTE</b></span> If you convert `.pdf` images to a new format, you will have to change the path name to the figure with the new format in your Markdown file or Jupyter notebook. Also, avoid adding other `pdf` files that are not images, otherwise, this will be converted too and will generate unecsessary files. "
   ]
  },
  {
   "cell_type": "markdown",
   "metadata": {},
   "source": [
    "## Edit Table of Contents"
   ]
  },
  {
   "cell_type": "markdown",
   "metadata": {},
   "source": [
    "Edit  `_data/toc.yml` specifying the relative paths in for files (`.ipynb`,`.md`) to appear as (sub)sections in book. \n",
    "\n",
    "See below."
   ]
  },
  {
   "cell_type": "code",
   "execution_count": 247,
   "metadata": {
    "ExecuteTime": {
     "end_time": "2019-12-07T17:35:03.225621Z",
     "start_time": "2019-12-07T17:35:03.208361Z"
    }
   },
   "outputs": [
    {
     "name": "stdout",
     "output_type": "stream",
     "text": [
      "Overwriting champsbook/_data/toc.yml\n"
     ]
    }
   ],
   "source": [
    "%%writefile champsbook/_data/toc.yml\n",
    "# This file contains the order and numbering for all sections in the book.\n",
    "#\n",
    "# Each entry has the following schema:\n",
    "#\n",
    "# - title: mytitle   # Title of chapter or section\n",
    "#   url: /myurl  # URL of section relative to the /content/ folder.\n",
    "#   sections:  # Contains a list of more entries that make up the chapter's sections\n",
    "#   not_numbered: true  # if the section shouldn't have a number in the sidebar\n",
    "#     (e.g. Introduction or appendices)\n",
    "#   expand_sections: true  # if you'd like the sections of this chapter to always\n",
    "#     be expanded in the sidebar.\n",
    "#   external: true  # Whether the URL is an external link or points to content in the book\n",
    "#\n",
    "# Below are some special values that trigger specific behavior:\n",
    "# - search: true  # Will provide a link to a search page\n",
    "# - divider: true  # Will insert a divider in the sidebar\n",
    "# - header: My Header  # Will insert a header with no link in the sidebar\n",
    "\n",
    "\n",
    "- url: /prologe/Prologue_new\n",
    "  title: Prologue\n",
    "  author: Stephen Wiggins  \n",
    "    \n",
    "- url: /prologe/LDs/LDs_victor_new\n",
    "  title: Lagrangian Descriptors (LDs)\n",
    "  author: Victor\n",
    "\n",
    "- url: https://github.com/broncio123/champs-booksprint-planning\n",
    "  title: GitHub repository\n",
    "  external: true\n",
    "  not_numbered: true"
   ]
  },
  {
   "cell_type": "raw",
   "metadata": {
    "ExecuteTime": {
     "end_time": "2019-12-06T11:24:12.587333Z",
     "start_time": "2019-12-06T11:24:12.546750Z"
    }
   },
   "source": [
    "%%writefile champsbook/_data/toc.yml\n",
    "# This file contains the order and numbering for all sections in the book.\n",
    "#\n",
    "# Each entry has the following schema:\n",
    "#\n",
    "# - title: mytitle   # Title of chapter or section\n",
    "#   url: /myurl  # URL of section relative to the /content/ folder.\n",
    "#   sections:  # Contains a list of more entries that make up the chapter's sections\n",
    "#   not_numbered: true  # if the section shouldn't have a number in the sidebar\n",
    "#     (e.g. Introduction or appendices)\n",
    "#   expand_sections: true  # if you'd like the sections of this chapter to always\n",
    "#     be expanded in the sidebar.\n",
    "#   external: true  # Whether the URL is an external link or points to content in the book\n",
    "#\n",
    "# Below are some special values that trigger specific behavior:\n",
    "# - search: true  # Will provide a link to a search page\n",
    "# - divider: true  # Will insert a divider in the sidebar\n",
    "# - header: My Header  # Will insert a header with no link in the sidebar\n",
    "\n",
    "\n",
    "- url: /01/ham_bif_html-captions\n",
    "  title: Dynamical Systems Concepts\n",
    "  author: Stephen Wiggins  \n",
    "    \n",
    "- url: /02/booksprinttest_makrina_new3\n",
    "  title: Exploring Isomerization Dynamics on a four well Potential\n",
    "  author: Makrina Agaoglou\n",
    "    \n",
    "- url: /03/Draft_new3\n",
    "  title: Rafa chapter\n",
    "  author: Rafael Garcia-Meseguer\n",
    "\n",
    "- url: /04/test\n",
    "  title: Vladi chapter\n",
    "  author: Vladimir Krajnak\n",
    "\n",
    "- url: /05/quad-normal-form/quad-normal-form_new3\n",
    "  title: Finding NHIM using LD N DoF quadratic normal form Hamiltonian\n",
    "  author: S. Naik \n",
    "\n",
    "- url: /06/caldera-1_new\n",
    "  title: Dynamical Matching in a Caldera Potential energy surface\n",
    "  author: Matthaios Katsanikas\n",
    "\n",
    "- url: /test_page\n",
    "  title: Writing LaTeX-like in Jupyter\n",
    "  author: Broncio Aguilar-Sanjuan\n",
    "        \n",
    "- url: /contributing\n",
    "  not_numbered: true\n",
    "    \n",
    "- url: https://github.com/broncio123/champs-booksprint-planning\n",
    "  title: GitHub repository\n",
    "  external: true\n",
    "  not_numbered: true"
   ]
  },
  {
   "cell_type": "markdown",
   "metadata": {},
   "source": [
    "### TEST"
   ]
  },
  {
   "cell_type": "markdown",
   "metadata": {},
   "source": [
    "Create Table of Contents in a scriptable way, given a list of inpit files.\n",
    "See script [here](#toc_script)."
   ]
  },
  {
   "cell_type": "code",
   "execution_count": 179,
   "metadata": {
    "ExecuteTime": {
     "end_time": "2019-12-09T12:35:37.652757Z",
     "start_time": "2019-12-09T12:35:37.644000Z"
    }
   },
   "outputs": [
    {
     "name": "stdout",
     "output_type": "stream",
     "text": [
      "Overwriting champsbook/_data/toc.yml\n"
     ]
    }
   ],
   "source": [
    "%%writefile champsbook/_data/toc.yml\n",
    "# This file contains the order and numbering for all sections in the book.\n",
    "#\n",
    "# Each entry has the following schema:\n",
    "#\n",
    "# - title: mytitle   # Title of chapter or section\n",
    "#   url: /myurl  # URL of section relative to the /content/ folder.\n",
    "#   sections:  # Contains a list of more entries that make up the chapter's sections\n",
    "#   not_numbered: true  # if the section shouldn't have a number in the sidebar\n",
    "#     (e.g. Introduction or appendices)\n",
    "#   expand_sections: true  # if you'd like the sections of this chapter to always\n",
    "#     be expanded in the sidebar.\n",
    "#   external: true  # Whether the URL is an external link or points to content in the book\n",
    "#\n",
    "# Below are some special values that trigger specific behavior:\n",
    "# - search: true  # Will provide a link to a search page\n",
    "# - divider: true  # Will insert a divider in the sidebar\n",
    "# - header: My Header  # Will insert a header with no link in the sidebar\n",
    "\n",
    "\n",
    "- url: /prologe/Prologue_new\n",
    "  title: Introduction and Background\n",
    "  expand_sections: true\n",
    "  sections:\n",
    "    - url: /prologe/LDs/LDs_victor_new\n",
    "      title: Lagrangian Descriptors (LDs)\n",
    "      not_numbered: true\n",
    "    - url: /prologe/Definition_of_the_index_of_a_saddle/saddle_index_definition_new\n",
    "      title: Definition of Index of a Saddle\n",
    "      not_numbered: true\n",
    "    - url: /prologe/TST\n",
    "      title: Transition State Theory\n",
    "      not_numbered: true\n",
    "\n",
    "- url: /fundamental_models/fundamental_models\n",
    "  title: Fundamental Models\n",
    "  expand_sections: true\n",
    "  sections:\n",
    "    - url: /fundamental_models/1_DoF_saddle/1_DOF_saddle_new\n",
    "      title: One DoF Quadratic Normal Form\n",
    "      not_numbered: true\n",
    "    - url: /fundamental_models/2_DoF_index_1_saddle/2_dof_index_1_saddle_new\n",
    "      title: Two DoF Quadratic Normal Form\n",
    "      not_numbered: true\n",
    "    - url: /fundamental_models/2_DoF_index_2_saddle/index_2_saddle_new\n",
    "      title: Three DoF Index 2\n",
    "      not_numbered: true\n",
    "    - url: /fundamental_models/3_DoF_index_1_saddle/3_dof_index_1_saddle_new\n",
    "      title: Three DoF Index 1 Quadratic Normal Form\n",
    "      not_numbered: true\n",
    "\n",
    "- url: /act1/intro_act1\n",
    "  title: Act1 Title\n",
    "  expand_sections: true\n",
    "  sections:\n",
    "    - url: /act1/Morse/Morse_new\n",
    "      title: Morse Oscillator\n",
    "    - url: /act1/Hamiltonian_bifurcation/ham_bif_new\n",
    "      title: Hamiltonian Bifurcations\n",
    "\n",
    "- url: /act2/intro_act2\n",
    "  title: Act2 Title\n",
    "  expand_sections: true\n",
    "  sections:\n",
    "    - url: /act2/hamiltonian_sn/HSN_victor_new3\n",
    "      title: Saddle-Node Hamiltonian\n",
    "    - url: /act2/barbanis2D/barbanis2d\n",
    "      title: Barbanis model\n",
    "    - url: /act2/caldera/caldera-1_new\n",
    "      title: Caldera model\n",
    "    - url: /act2/deLeon_Berne/deleon_berne\n",
    "      title: De Leon model\n",
    "    - url: /act2/system_bath1/system_bath1\n",
    "      title: System Bath 1\n",
    "    - url: /act2/four_well_morse/booksprinttest_makrina_new\n",
    "      title: Four-well potential\n",
    "    - url: /act2/double_morse/prueba\n",
    "      title: Double-Morse oscillator\n",
    "    - url: /act2/1-Ches/roam\n",
    "      title: Chesnavich Model Part 1\n",
    "    - url: /act2/2-Ches/roam_mass_energy_var_new3\n",
    "      title: Chesnavich Model Part 2\n",
    "    - url: /act2/3-Ches/roamiso\n",
    "      title: Chesnavich Model Part 3\n",
    "\n",
    "- url: /act3/intro_act3\n",
    "  title: Act 3 Title\n",
    "  expand_sections: true\n",
    "  sections:\n",
    "    - url: /act3/barbanis_3dof/barbanis_3dof\n",
    "      title: Three degree-of-freedom Barbanis system\n",
    "    - url: /act3/system_bath2/system_bath\n",
    "      title: N-Degree-of-Freedom System-Bath Model 1\n",
    "    - url: /act3/system_bath1/main\n",
    "      title: N-Degree-of-Freedom System-Bath Model 2\n",
    "\n",
    "- url: https://github.com/broncio123/champs-booksprint-planning\n",
    "  title: GitHub repository\n",
    "  external: true\n",
    "  not_numbered: true"
   ]
  },
  {
   "cell_type": "code",
   "execution_count": 83,
   "metadata": {
    "ExecuteTime": {
     "end_time": "2019-12-08T16:20:58.862571Z",
     "start_time": "2019-12-08T16:20:58.838915Z"
    }
   },
   "outputs": [
    {
     "data": {
      "text/plain": [
       "[{'file': 'champsbook/content/prologe/Prologue.ipynb',\n",
       "  'bib': 'book_sprint_bib1'},\n",
       " {'file': 'champsbook/content/prologe/LDs/LDs_victor.ipynb', 'bib': 'LDs'},\n",
       " {'file': 'champsbook/content/prologe/Definition_of_the_index_of_a_saddle/saddle_index_definition.ipynb',\n",
       "  'bib': 'Ham_LD_reaction'},\n",
       " {'file': 'champsbook/content/prologe/TST.md', 'bib': 'myBib'},\n",
       " {'file': 'champsbook/content/fundamental_models/fundamental_models.ipynb',\n",
       "  'bib': 'reaction_dynamics.bib'},\n",
       " {'file': 'champsbook/content/fundamental_models/1_DoF_saddle/1_DOF_saddle.ipynb',\n",
       "  'bib': 'reaction_dynamics.bib'},\n",
       " {'file': 'champsbook/content/fundamental_models/2_DoF_index_1_saddle/2_dof_index_1_saddle.ipynb',\n",
       "  'bib': 'reaction_dynamics.bib'},\n",
       " {'file': 'champsbook/content/fundamental_models/2_DoF_index_2_saddle/index_2_saddle.ipynb',\n",
       "  'bib': 'reaction_dynamics.bib'},\n",
       " {'file': 'champsbook/content/fundamental_models/3_DoF_index_1_saddle/3_dof_index_1_saddle.ipynb',\n",
       "  'bib': 'reaction_dynamics.bib'},\n",
       " {'file': 'champsbook/content/act1/Morse/Morse.ipynb',\n",
       "  'bib': 'action_angle.bib'},\n",
       " {'file': 'champsbook/content/act1/Hamiltonian_bifurcation/ham_bif.ipynb',\n",
       "  'bib': 'action_angle.bib'},\n",
       " {'file': 'champsbook/content/act2/hamiltonian_sn/HSN_victor.ipynb',\n",
       "  'bib': 'HamSN.bib'},\n",
       " {'file': 'champsbook/content/act2/barbanis2D/barbanis2d.md',\n",
       "  'bib': 'finding_nhim_2-3dof_nonlinear.bib'},\n",
       " {'file': 'champsbook/content/act2/caldera/caldera-1.ipynb',\n",
       "  'bib': 'caldera2c.bib'},\n",
       " {'file': 'champsbook/content/act2/deLeon_Berne/deleon_berne.md',\n",
       "  'bib': 'system_bath_ld_reactdyn.bib'},\n",
       " {'file': 'champsbook/content/act2/system_bath1/system_bath1.md',\n",
       "  'bib': 'myBib.bib'},\n",
       " {'file': 'champsbook/content/act2/four_well_morse/booksprinttest_makrina.ipynb',\n",
       "  'bib': 'SNreac'},\n",
       " {'file': 'champsbook/content/act2/double_morse/prueba.ipynb',\n",
       "  'bib': 'article.bib'},\n",
       " {'file': 'champsbook/content/act2/1-Ches/roam.md', 'bib': 'refs.bib'}]"
      ]
     },
     "execution_count": 83,
     "metadata": {},
     "output_type": "execute_result"
    }
   ],
   "source": [
    "BOOK_CONTENT"
   ]
  },
  {
   "cell_type": "markdown",
   "metadata": {},
   "source": [
    "<a id='config'></a>\n",
    "## Edit Configuration "
   ]
  },
  {
   "cell_type": "markdown",
   "metadata": {},
   "source": [
    "* Turned on equation numbering. See under `#Maths settings`"
   ]
  },
  {
   "cell_type": "code",
   "execution_count": 39,
   "metadata": {},
   "outputs": [
    {
     "name": "stdout",
     "output_type": "stream",
     "text": [
      "Overwriting champsbook/_config.yml\n"
     ]
    }
   ],
   "source": [
    "%%writefile $target_dir0/_config.yml\n",
    "# Welcome to Jekyll!\n",
    "#\n",
    "# This config file is meant for settings that affect your whole blog, values\n",
    "# which you are expected to set up once and rarely edit after that. If you find\n",
    "# yourself editing this file very often, consider using Jekyll's data files\n",
    "# feature for the data you need to update frequently.\n",
    "#\n",
    "# For technical reasons, this file is *NOT* reloaded automatically when you use\n",
    "# 'bundle exec jekyll serve'. If you change this file, please restart the server process.\n",
    "\n",
    "# Site settings\n",
    "# These are used to personalize your new site. If you look in the HTML files,\n",
    "# you will see them accessed via {{ site.title }}, {{ site.email }}, and so on.\n",
    "# You can create any custom variable you would like, and they will be accessible\n",
    "# in the templates via {{ site.myvariable }}.\n",
    "\n",
    "#######################################################################################\n",
    "# Jekyll site settings\n",
    "title: CHAMPS Dynamical Systems Book\n",
    "author: The CHAMPS group\n",
    "email: s.wiggins@bristol.ac.uk\n",
    "description: >- # this means to ignore newlines until \"baseurl:\"\n",
    "  This book was built with Jupyter Books.\n",
    "\n",
    "baseurl: \"\" # the subpath of your site, e.g. /blog. If there is no subpath for your site, use an empty string \"\"\n",
    "url: \"https://jupyterbook.org\" # the base hostname & protocol for your site, e.g. http://example.com\n",
    "\n",
    "\n",
    "#######################################################################################\n",
    "# Jupyter Book settings\n",
    "\n",
    "# Main page settings\n",
    "footer_text               : This page was created by <a href=\"https://github.com/jupyter/jupyter-book/graphs/contributors\">The Jupyter Book Community</a>\n",
    "\n",
    "# Sidebar settings\n",
    "show_sidebar              : true  # Show the sidebar. Only set to false if your only wish to host a single page.\n",
    "collapse_inactive_chapters: true  # Whether to collapse the inactive chapters in the sidebar\n",
    "collapse_inactive_sections: true  # Whether to collapse the sub-sections within a non-active section in the sidebar\n",
    "textbook_logo             : images/logo/champs_logo.jpg  # A logo to be displayed at the top of your textbook sidebar. Should be square\n",
    "textbook_logo_link        : https://champsproject.com  # A link for the logo.\n",
    "sidebar_footer_text       : 'Powered by <a href=\"https://jupyterbook.org\">Jupyter Book</a>'\n",
    "number_toc_chapters       : true  # Whether to add numbers to chapterse in your Table of Contents. If true, you can control this at the Chapter level in _data/toc.yml\n",
    "\n",
    "# Search settings\n",
    "search_max_words_in_content : 100  # In the search function, use at most this many words (too many words will make search slow)\n",
    "\n",
    "# Controlling page information\n",
    "page_titles                    : infer  # Either `None`, `infer`, or `toc`\n",
    "page_authors                   : None  # Either `None` or `infer`\n",
    "filename_title_split_character : '_'  # If inferring titles based on filename, splt on this character.\n",
    "\n",
    "# Math settings\n",
    "number_equations               : true  # Whether to automatically number all block equations with MathJax\n",
    "\n",
    "#######################################################################################\n",
    "# Interact link settings\n",
    "\n",
    "# General interact settings\n",
    "use_jupyterlab                   : false  # If 'true', interact links will use JupyterLab as the interface\n",
    "\n",
    "# Jupyterhub link settings\n",
    "use_jupyterhub_button            : false  # If 'true', display a button that will direct users to a JupyterHub (that you provide)\n",
    "jupyterhub_url                   : \"\"  # The URL for your JupyterHub. If no URL, use \"\"\n",
    "jupyterhub_interact_text         : \"Interact\"  # The text that interact buttons will contain.\n",
    "\n",
    "# Binder link settings\n",
    "use_binder_button                : true  # If 'true', add a binder button for interactive links\n",
    "binderhub_url                    : \"https://mybinder.org\"  # The URL for your BinderHub. If no URL, use \"\"\n",
    "binder_repo_base                 : \"https://github.com/\"  # The site on which the textbook repository is hosted\n",
    "binder_repo_org                  : \"jupyter\"  # The username or organization that owns this repository\n",
    "binder_repo_name                 : \"jupyter-book\"  # The name of the repository on the web\n",
    "binder_repo_branch               : \"gh-pages\"  # The branch on which your textbook is hosted.\n",
    "binderhub_interact_text          : \"Interact\"  # The text that interact buttons will contain.\n",
    "\n",
    "# Thebelab settings\n",
    "use_thebelab_button              : true  # If 'true', display a button to allow in-page running code cells with Thebelab\n",
    "thebelab_button_text             : \"Thebelab\"  # The text to display inside the Thebelab initialization button\n",
    "codemirror_theme                 : \"abcdef\"  # Theme for codemirror cells, for options see https://codemirror.net/doc/manual.html#config\n",
    "\n",
    "# nbinteract settings\n",
    "use_show_widgets_button              : true  # If 'true', display a button to allow in-page running code cells with nbinteract\n",
    "\n",
    "# Download settings\n",
    "use_download_button              : true  # If 'true', display a button to download a zip file for the notebook\n",
    "download_button_text             : \"Download\" # The text that download buttons will contain\n",
    "download_page_header             : \"Made with Jupyter Book\" # A header that will be displayed at the top of and PDF-printed page\n",
    "\n",
    "#######################################################################################\n",
    "# Jupyter book extensions and additional features\n",
    "\n",
    "# Bibliography and citation settings. See https://github.com/inukshuk/jekyll-scholar#configuration for options\n",
    "scholar:\n",
    "  style: apa\n",
    "\n",
    "#######################################################################################\n",
    "# Option to add a Goggle analytics tracking code\n",
    "\n",
    "# Navigate to https://analytics.google.com, add a new property for your jupyter book and copy the tracking id here.\n",
    "google_analytics:\n",
    "  mytrackingcode: UA-52617120-7\n",
    "\n",
    "#######################################################################################\n",
    "# Jupyter book settings you probably don't need to change\n",
    "\n",
    "content_folder_name       : \"content\"  # The folder where your raw content (notebooks/markdown files) are located\n",
    "images_url                : \"/assets/images\" # Path to static image files\n",
    "css_url                   : \"/assets/css\" # Path to static CSS files\n",
    "js_url                    : \"/assets/js\" # Path to JS files\n",
    "custom_static_url         : \"/assets/custom\" # Path to user's custom CSS/JS files\n",
    "\n",
    "\n",
    "#######################################################################################\n",
    "# Jekyll build settings (only modify if you know what you're doing)\n",
    "\n",
    "# Site settings\n",
    "defaults:\n",
    "  - scope:\n",
    "      path: \"\"\n",
    "    values:\n",
    "      layout: \"default\"\n",
    "      toc: true\n",
    "      toc_label: \"  On this page\"\n",
    "      toc_icon: \"list-ul\"\n",
    "      excerpt: ''\n",
    "\n",
    "favicon_path: \"images/logo/favicon.ico\"\n",
    "\n",
    "# Markdown Processing\n",
    "markdown: kramdown\n",
    "kramdown:\n",
    "  input: GFM\n",
    "  syntax_highlighter: rouge\n",
    "\n",
    "sass:\n",
    "  style: compressed\n",
    "\n",
    "collections:\n",
    "  build:\n",
    "    output: true\n",
    "    permalink: /:path.html\n",
    "\n",
    "# Exclude from processing.\n",
    "# The following items will not be processed, by default. Create a custom list\n",
    "# to override the default setting.\n",
    "exclude:\n",
    "  - scripts/\n",
    "  - Gemfile\n",
    "  - Gemfile.lock\n",
    "  - node_modules\n",
    "  - vendor/bundle/\n",
    "  - vendor/cache/\n",
    "  - vendor/gems/\n",
    "  - vendor/ruby/\n",
    "\n",
    "plugins:\n",
    "  - jekyll-redirect-from\n",
    "  - jekyll-scholar\n",
    "\n",
    "# NOTE: Line below not native to Jupyter-book demo files\n",
    "# The line below controls the style of the citation printer inline\n",
    "# This will enable numbers in square brackets to be printed\n",
    "scholar:\n",
    "  source: ./_bibliography\n",
    "  style: _styles/modified-ieee.csl\n",
    "  order: ascending\n",
    "\n",
    "# Jupyter Book version - DO NOT CHANGE THIS. It is generated when a new book is created\n",
    "jupyter_book_version: \"0.6.4dev0\""
   ]
  },
  {
   "cell_type": "markdown",
   "metadata": {},
   "source": [
    "## Build the site"
   ]
  },
  {
   "cell_type": "markdown",
   "metadata": {},
   "source": [
    "Then, build book `jupyter-book build champsbook`"
   ]
  },
  {
   "cell_type": "markdown",
   "metadata": {},
   "source": [
    "<span style=\"color:red\">**TO-DO's**</span>\n",
    "* add material/links for preparation\n",
    "* stuff for revision\n"
   ]
  },
  {
   "cell_type": "markdown",
   "metadata": {},
   "source": [
    "After building the site ..."
   ]
  },
  {
   "cell_type": "markdown",
   "metadata": {},
   "source": [
    "```bash\n",
    "bundle exec jekyll serve --watch --port 4444\n",
    "```"
   ]
  },
  {
   "cell_type": "markdown",
   "metadata": {},
   "source": [
    "## Publish the site"
   ]
  },
  {
   "cell_type": "markdown",
   "metadata": {},
   "source": [
    "### GitHub pages"
   ]
  },
  {
   "cell_type": "markdown",
   "metadata": {},
   "source": [
    "GitHub Pages static site hosting service that takes files to build a webpage directly from a repository on GitHub."
   ]
  },
  {
   "cell_type": "markdown",
   "metadata": {},
   "source": [
    "https://www.youtube.com/watch?v=nN6QuNqmAwk&list=PLqR1Mci_1R_eeoYDZt6mp-3hNUEbnRwSp&index=13&t=485s"
   ]
  },
  {
   "cell_type": "markdown",
   "metadata": {},
   "source": [
    "Cannot use `jekyll-scholar` plugins to include citations.\n",
    "\n",
    "It comes with its own `jekyll` build."
   ]
  },
  {
   "cell_type": "markdown",
   "metadata": {},
   "source": [
    "[SOURCE](https://help.github.com/en/github/working-with-github-pages/about-github-pages)"
   ]
  },
  {
   "cell_type": "markdown",
   "metadata": {},
   "source": [
    "### <span style='color:red'>Netlify</span>"
   ]
  },
  {
   "cell_type": "markdown",
   "metadata": {},
   "source": [
    "<img width=\"200\" height=\"200\" src=\"https://images2.minutemediacdn.com/image/upload/c_fill,g_auto,h_1248,w_2220/f_auto,q_auto,w_1100/v1555383806/shape/mentalfloss/construction-banner.png\">"
   ]
  },
  {
   "cell_type": "code",
   "execution_count": null,
   "metadata": {},
   "outputs": [],
   "source": []
  },
  {
   "cell_type": "markdown",
   "metadata": {},
   "source": [
    "https://jupyterbook.org/guide/publish/netlify.html"
   ]
  },
  {
   "cell_type": "markdown",
   "metadata": {},
   "source": [
    "# Publishing a site with `jekyll`"
   ]
  },
  {
   "cell_type": "markdown",
   "metadata": {},
   "source": [
    "`GitHub Pages` only allows you to show static websites. Moreover, the custom appearance is pretty basic. We could do some `CSS` or `javascript` to edit our site look pretty and able to do something more than just showing pictures and text.\n",
    "\n",
    "`jekyll` allows us to build dynamic websites.\n",
    "Can run Ruby or Python code on the website."
   ]
  },
  {
   "cell_type": "markdown",
   "metadata": {},
   "source": [
    "## Installing `jekyll`"
   ]
  },
  {
   "cell_type": "markdown",
   "metadata": {},
   "source": [
    "This is needed to publish HTML files via GitHub pages"
   ]
  },
  {
   "cell_type": "markdown",
   "metadata": {},
   "source": [
    "Install `jekyll` accrding to specific instructions for your OS and Version\n",
    "\n",
    "For **macOs**, Mojave (10.14) \n",
    "\n",
    "1. Install `brew` (macOS software installer)\n",
    "\n",
    "2. install `ruby`\n",
    "> `brew install ruby`\n",
    "\n",
    "3. Add the brew ruby path to your shell configuration, i.e, Copy the lines below and paste them at the end of your `~./bash_profile` (macOS). \n",
    ">`export PATH=/usr/local/opt/ruby/bin:$PATH`\n",
    "\n",
    "4. Then, relaunch the terminal or do `source ~./bash_profile`\n",
    "\n",
    "5. Check the version or `ruby` installed and whether satisfies `jekyll` installation requirements. Read note below.\n",
    "> `which ruby`\n",
    "\n",
    "**NOTE** `jekyll` requires a `ruby` version `>= 2.4.0` according to the output of Step X\n",
    "\n",
    "6. If your need to change your `ruby` version, install `rbenv`\n",
    ">`brew install rbenv`\n",
    "\n",
    "7. And do\n",
    ">```bash\n",
    "rbenv install 2.6.3\n",
    "rbenv global 2.6.3\n",
    "ruby -v\n",
    "```\n",
    "\n",
    "8. Install `bundler` via `gem` (The Ruby package manager)\n",
    "```bash\n",
    "sudo gem install bundler\n",
    "```\n",
    "\n",
    "9. Finally install `jekyll`\n",
    ">```bash\n",
    "sudo gem install -n /usr/local/bin/ jekyll\n",
    "```\n",
    "\n",
    "**NOTE** In the official documentation it is strongly advised not to do a global installation of ruby in your system https://jekyllrb.com/docs/installation/macos/ Although, in the homepage, there is no information whatsoever about this warning https://jekyllrb.com/\n",
    "\n",
    "For macOS Versions earlier than Mojave (`< 10.14`), do only this instead\n",
    "\n",
    ">```bash\n",
    "sudo gem install bundler jekyll\n",
    "```\n",
    "\n",
    "10. And, check that is thas been correctly installed\n",
    "\n",
    ">`jekyll -v`"
   ]
  },
  {
   "cell_type": "markdown",
   "metadata": {},
   "source": [
    "## Creating a site with `jekyll`"
   ]
  },
  {
   "cell_type": "markdown",
   "metadata": {},
   "source": [
    "Once `jekyll` is installed, just do\n",
    "\n",
    ">```bash\n",
    "jekyll new my-awesome-site\n",
    "cd my-awesome-site\n",
    "bundle exec jekyll serve\n",
    "```"
   ]
  },
  {
   "cell_type": "markdown",
   "metadata": {},
   "source": [
    "<span style=\"color:blue\"><b>NOTE</b></span>\n",
    "\n",
    "If there is any special Ruby library dependecies (i.e., RubyGems or gems)\n",
    "\n",
    "```bash\n",
    "bundle install\n",
    "```\n",
    "\n",
    "will automatically install these as long as they are declared in `Gemfile`, fetching these from the [Ruby server](https://rubygems.org)\n",
    "\n",
    "After installing any needed gems, bundler writes a record file (`Gemfile.lock`) of all installed gems and their versions"
   ]
  },
  {
   "cell_type": "markdown",
   "metadata": {},
   "source": [
    "Then, just browse to [http://localhost:4000](http://localhost:4000/)"
   ]
  },
  {
   "cell_type": "markdown",
   "metadata": {},
   "source": [
    "<span style=\"color:blue\"><b>BREAKDOWN</b></span>"
   ]
  },
  {
   "cell_type": "markdown",
   "metadata": {},
   "source": [
    "1. The first line will create the folder `my-awesome-site` with the following content\n",
    "```bash\n",
    "404.html        Gemfile.lock    _posts/         index.markdown\n",
    "Gemfile         _config.yml     about.markdown\n",
    "```\n",
    "\n",
    "\n",
    "* `Gemfile` is a file were the Ruby dependencies of your application are declared.\n",
    "\n",
    "* `Gemfile.lock` is record of the specific (sub)dependecies installed. This _extremely useful_ to share your environment with people.\n",
    "\n",
    "* `jekyll` command is an executable that you can run in terminal for the `jekyll` RubyGem. Here's a cheatsheet [here](https://jekyllrb.com/docs/usage/) for how to use it."
   ]
  },
  {
   "cell_type": "markdown",
   "metadata": {},
   "source": [
    "2. After moving to the new folder, the last line will (__A__) create the folder `_site`, with the following content\n",
    "\n",
    "```bash\n",
    "404.html    about/      assets/     feed.xml    index.html  jekyll/\n",
    "```\n",
    "where\n",
    "\n",
    "* `jekyll serve` is a command to build our website with a fancy theme\n",
    "* `bundle exec` pipes the list of Ruby library (gems) requirements in `Gemfile` for execution of `jekyll serve`"
   ]
  },
  {
   "cell_type": "markdown",
   "metadata": {},
   "source": [
    "and (__B__) will produce the following output after execution\n",
    "\n",
    "```bash\n",
    "####################################################\n",
    "Configuration file: /Users/bas/research/book_sprint/my-awesome-site/_config.yml\n",
    "            Source: /Users/bas/research/book_sprint/my-awesome-site\n",
    "       Destination: /Users/bas/research/book_sprint/my-awesome-site/_site\n",
    " Incremental build: disabled. Enable with --incremental\n",
    "      Generating... \n",
    "       Jekyll Feed: Generating feed for posts\n",
    "                    done in 1.369 seconds.\n",
    " Auto-regeneration: enabled for '/Users/bas/research/book_sprint/my-awesome-site'\n",
    "    Server address: http://127.0.0.1:4000/\n",
    "  Server running... press ctrl-c to stop.\n",
    "####################################################\n",
    "```\n",
    "\n",
    "After what you can open a browser tab and use the URL `http://127.0.0.1:4000/` or `http://localhost:4000` to see the rendered HTML page with `jekyll`."
   ]
  },
  {
   "cell_type": "markdown",
   "metadata": {},
   "source": [
    "<span style=\"color:blue\"><b>SOURCES</b></span>\n",
    "\n",
    "* What's the difference between `Gemfile` and `Gemfile.lock`?\n",
    "\n",
    "https://medium.com/@davalpargal/gemfile-and-gemfile-lock-in-ruby-65adc918b856\n",
    "\n",
    "https://stackoverflow.com/questions/6927442/what-is-the-difference-between-gemfile-and-gemfile-lock-in-ruby-on-rails\n",
    "\n",
    "* What's Bundler?\n",
    "\n",
    "https://bundler.io/v1.12/rationale.html\n",
    "\n",
    "* Basics of Ruby\n",
    " * `gem` Ruby package (RubyGems) manager\n",
    " * `irb` Interactive Ruby prompt and basic commands\n",
    "\n",
    "https://guides.rubygems.org/rubygems-basics/\n",
    "\n",
    "https://www.digitalocean.com/community/tutorials/how-to-use-irb-to-explore-ruby"
   ]
  },
  {
   "cell_type": "markdown",
   "metadata": {},
   "source": [
    "```\n",
    "FIRST build\n",
    "jupyter-book build champsbook\n",
    "\n",
    "SECOND serve with jekyll\n",
    "\n",
    "bundle exec jekyll serve --watch --port 4444\n",
    "```"
   ]
  },
  {
   "cell_type": "markdown",
   "metadata": {},
   "source": [
    "# Appendices"
   ]
  },
  {
   "cell_type": "markdown",
   "metadata": {},
   "source": [
    "## Configuring the bibliography"
   ]
  },
  {
   "cell_type": "markdown",
   "metadata": {},
   "source": [
    "By defult, `jupyter-book` will consider by default the file `_bibliography/references.bib` to construct the bibliography.\n",
    "\n",
    "However, the directory and the default bibliography file can be changes in [`config.yml`](#config) by adding the following commands within `scholar`, the section that controls the functions of `jekyll-scholar`\n",
    "\n",
    "```yml\n",
    "scholar:\n",
    "  source: ./_bibliography\n",
    "  bibliography: my_references.bib\n",
    "```\n",
    "\n",
    "\n"
   ]
  },
  {
   "cell_type": "markdown",
   "metadata": {},
   "source": [
    "In this example, we change the default bibliography to `my_references.bib`. \n",
    "\n",
    "Note that bibliographies in `.bibtex` format (an unpgraded version of conventional `.bib` files. Read [this](https://tex.stackexchange.com/questions/25701/bibtex-vs-biber-and-biblatex-vs-natbib)) are also in principle accepted. "
   ]
  },
  {
   "cell_type": "markdown",
   "metadata": {},
   "source": [
    "<span style=\"color:red\"><b>NOTE</b></span> Although the `jekyll-scholar` documentation states that the `bibliography` option can point out to multiple files using regular expressions \n",
    "\n",
    "```yml\n",
    "bibliography: **/*.bib{,tex}\n",
    "```\n",
    "\n",
    "this doesn't seem to work when doing `jupyter-book build`, either when trying other variants: `**/*.bib`, `*.bib`, `\"*.bib\"`, etc. All of these variants lead to error."
   ]
  },
  {
   "cell_type": "markdown",
   "metadata": {},
   "source": [
    "See next wection for a provisional solution."
   ]
  },
  {
   "cell_type": "markdown",
   "metadata": {},
   "source": [
    "## Citation style"
   ]
  },
  {
   "cell_type": "markdown",
   "metadata": {},
   "source": [
    "This controls how the citation is printen in the rendered HTML, either using the first author's surename (e.g., `R. Jimenez et al.`) or simply by adding numbers in square brackets (e.g., `[1]`), as done below.\n",
    "\n",
    "For this you need a style file `.csl`. You can download one from [here](https://github.com/krafczyk/citetest-page)\n",
    "\n",
    "Once downloaded, add this to a new folder called `_styles`. Then, just enable the `style` option of `jekyll-scholar`, as below"
   ]
  },
  {
   "cell_type": "markdown",
   "metadata": {},
   "source": [
    "```yml\n",
    "scholar:\n",
    "  style: _styles/modified-ieee.csl\n",
    "  \n",
    "```"
   ]
  },
  {
   "cell_type": "markdown",
   "metadata": {},
   "source": [
    "## Citation odering"
   ]
  },
  {
   "cell_type": "markdown",
   "metadata": {},
   "source": [
    "This controls the order of the printed numbers for added citations."
   ]
  },
  {
   "cell_type": "markdown",
   "metadata": {},
   "source": [
    "```yml\n",
    "scholar:\n",
    "  order: ascending\n",
    "```"
   ]
  },
  {
   "cell_type": "markdown",
   "metadata": {},
   "source": [
    "## Managing multiple bibliographies"
   ]
  },
  {
   "cell_type": "markdown",
   "metadata": {},
   "source": [
    "In this section we continue the study of {% cite pechukas1981 naik2019b --file snreac %} {% cite DeLeon_Marston_1989 --file paper %} by considering the phase space structures that govern different reaction pathways and we  then consider the influence of symmetry breaking, bifurcation, and energy on these phase space reaction pathways.\n",
    "\n",
    "Another citation `{% raw %}{% cite suits14 --file roaming_v8 %}{% endraw %}`"
   ]
  },
  {
   "cell_type": "markdown",
   "metadata": {},
   "source": [
    "`{% raw %}{% bibliography --file snreac --file roaming_v8 --cited %}{% endraw %}`"
   ]
  },
  {
   "cell_type": "markdown",
   "metadata": {},
   "source": [
    "NOTe: Remains open issue"
   ]
  },
  {
   "cell_type": "markdown",
   "metadata": {},
   "source": [
    "<span style=\"color:red\"><b>NOTE</b></span> Bibliographies must be saved with string unicode (UTF8)"
   ]
  },
  {
   "cell_type": "markdown",
   "metadata": {},
   "source": [
    "Problem with `allrefs.bib`"
   ]
  },
  {
   "cell_type": "markdown",
   "metadata": {},
   "source": [
    "## Solution bib file merging"
   ]
  },
  {
   "cell_type": "markdown",
   "metadata": {},
   "source": [
    "Merging `.bib` files seems an easy way to to avoid using the chunky `jekyll-scholar` syntax to add citations when manually editing a Jupyter Notebook (`.ipynb`) or Markdown file.\n",
    "\n",
    "Thus, instead of doing \n",
    "\n",
    "```\n",
    "{% cite bib_tag11 bib_tag12 --file1 %} {% cite bib_tag21 bib_tag22 --file2 %}\n",
    "``` \n",
    "\n",
    "we could just do \n",
    "\n",
    "```\n",
    "{% cite bib_tag11 bib_tag12 bib_tag21 bib_tag22 %}\n",
    "```\n",
    "\n",
    "were the merged file will be the default file `_bibliography/references.bib`"
   ]
  },
  {
   "cell_type": "markdown",
   "metadata": {},
   "source": [
    "However, this comes with a few caveats. Below, we summaries the pros and cons of this approach.\n",
    "\n",
    "\n",
    "|Pros|Cons|\n",
    "---- |----|\n",
    "| - | - |"
   ]
  },
  {
   "cell_type": "markdown",
   "metadata": {},
   "source": [
    "<a id='syntax_matching'></a>\n",
    "## Syntax Matching"
   ]
  },
  {
   "cell_type": "markdown",
   "metadata": {},
   "source": [
    "As introduced [previously](#edit_phase) section, here we deal with the details of syntax matching for the book compilation."
   ]
  },
  {
   "cell_type": "markdown",
   "metadata": {},
   "source": [
    "<span style=\"color:blue\">Main tasks</span>\n",
    "\n",
    "For figures, tables, sections and subsections.\n",
    "\n",
    "* Swap Markdown/LaTeX Citation syntax in `.md`/`.ipynb` files with `jekyll-scholar` syntax,\n",
    "* Swap Markdown/LaTeX Label/Reference syntax in `.md`/`.ipynb` files with `Markdown` syntax,\n",
    "* Swap Markdown/LaTeX Caption syntax in `.md`/`.ipynb` files with `HTML` syntax to allow centered captions with italic formatting, \n",
    "* Add numbered cross references and labels in captions"
   ]
  },
  {
   "cell_type": "markdown",
   "metadata": {},
   "source": [
    "This a different for Markdown files and Jupyter notebooks. \n",
    "\n",
    "In the following subsections we introduce the details of these tasks."
   ]
  },
  {
   "cell_type": "markdown",
   "metadata": {},
   "source": [
    "### Markdown files"
   ]
  },
  {
   "cell_type": "markdown",
   "metadata": {},
   "source": [
    "#### Overview"
   ]
  },
  {
   "cell_type": "markdown",
   "metadata": {},
   "source": [
    "<span style='color:blue'><b>TASKS</b></span>"
   ]
  },
  {
   "cell_type": "markdown",
   "metadata": {},
   "source": [
    "1. <b>Markdown citations</b>\n",
    "\n",
    "Replace `Markdown` syntax in `.md` files\n",
    ">```\n",
    "[@bit_tag1; @bib_tag2]  # Inline citations\n",
    "```\n",
    "\n",
    "with `jekyll-scholar` syntax\n",
    "\n",
    ">```jekyll\n",
    "{% cite bib_tag1 bib_tag2 --file bib_filename %}  # Inline citations\n",
    ".\n",
    ".\n",
    ".\n",
    "{% bibliography --file bib_filename --cited %} # Generate refence list\n",
    "```"
   ]
  },
  {
   "cell_type": "markdown",
   "metadata": {},
   "source": [
    "2. <b>Markdown labels/references</b>\n",
    "\n",
    "Replace `Markdown` syntax in `.md` files\n",
    ">```\n",
    "@fig:my_label  # Inline citations\n",
    "```\n",
    "\n",
    "with `jekyll` syntax\n",
    "\n",
    ">```markdown\n",
    "![Some caption goes here.](my_figure_path){#fig:my_label some more stuff here}\n",
    "```\n"
   ]
  },
  {
   "cell_type": "markdown",
   "metadata": {},
   "source": [
    "3. <b>Markdown captions</b>\n",
    "\n",
    "Replace `Markdown` syntax in `.md` files\n",
    ">```\n",
    "![This is a caption](mypic.png)\n",
    "```\n",
    "\n",
    "with styled HTML syntax \n",
    "\n",
    "```html\n",
    "<figcaption style=\"text-align:center;font-size:14px\"><b>fig:1 </b><em> This is a caption</em></figcaption>\n",
    "```"
   ]
  },
  {
   "cell_type": "markdown",
   "metadata": {},
   "source": [
    "4. <b>Numbering of Captions and Hyperlink names</b>\n",
    "\n",
    "Plain caption with label\n",
    "\n",
    "```html\n",
    "<figcaption style=\"text-align:center;font-size:14px\"><b>marker:mylabel </b><em>This is a caption</em></figcaption>\n",
    "```\n",
    "\n",
    "Numebered\n",
    "\n",
    "```html\n",
    "<figcaption style=\"text-align:center;font-size:14px\"><b>marker:N </b><em>This is a caption</em></figcaption>\n",
    "```\n",
    "\n",
    "<hr>\n",
    "\n",
    "Plain inline reference with label. \n",
    "\n",
    ">```markdown\n",
    "... some text [mylabel](marker:mylabel) ...more text \n",
    "```\n",
    ">The hyperlink will appear as [mylabel](#), pointing to the object with the label `marker:mylabel`\n",
    "\n",
    "Numbered. \n",
    "\n",
    ">```markdown\n",
    "... some text [marker:N](marker:mylabel) ...more text \n",
    "```\n",
    ">The hyperlink will appear as [marker:N](#), pointing to the object with the same label"
   ]
  },
  {
   "cell_type": "markdown",
   "metadata": {},
   "source": [
    "<span style='color:red'>FIX THIS LAST PART</span>\n",
    "\n",
    "<img width=\"200\" height=\"200\" src=\"https://images2.minutemediacdn.com/image/upload/c_fill,g_auto,h_1248,w_2220/f_auto,q_auto,w_1100/v1555383806/shape/mentalfloss/construction-banner.png\">"
   ]
  },
  {
   "cell_type": "markdown",
   "metadata": {},
   "source": [
    "<span style='color:blue'>**TASK**</span>\n",
    "\n",
    "Replace `Markdown` syntax in `.md` files\n",
    ">```\n",
    "![This is a caption](mypic.png)\n",
    "```\n",
    "\n",
    "with styled HTML syntax \n",
    "\n",
    "```html\n",
    "<figcaption style=\"text-align:center;font-size:14px\"><b>fig:1 </b><em> This is a caption</em></figcaption>\n",
    "```"
   ]
  },
  {
   "cell_type": "markdown",
   "metadata": {},
   "source": [
    "#### IMPLEMENTATION"
   ]
  },
  {
   "cell_type": "markdown",
   "metadata": {},
   "source": [
    "Fix citations"
   ]
  },
  {
   "cell_type": "code",
   "execution_count": 54,
   "metadata": {},
   "outputs": [],
   "source": [
    "md_infile = 'champsbook/content/03/Draft.md'\n",
    "md_outfile = 'champsbook/content/03/Draft_new.md'\n",
    "bib_filename = 'myBib'\n",
    "\n",
    "%run scripts/bib_md2jekyll.py $md_infile $md_outfile $bib_filename"
   ]
  },
  {
   "cell_type": "markdown",
   "metadata": {},
   "source": [
    "Fix Labels and References"
   ]
  },
  {
   "cell_type": "code",
   "execution_count": 55,
   "metadata": {},
   "outputs": [
    {
     "name": "stdout",
     "output_type": "stream",
     "text": [
      "Good! There aren't repeated labels in your file\n",
      "New Markdown file successfully generated!\n"
     ]
    }
   ],
   "source": [
    "md_infile = 'champsbook/content/03/Draft_new.md'\n",
    "md_outfile = 'champsbook/content/03/Draft_new2.md'\n",
    "\n",
    "%run scripts/labels_refs_md2jekyll.py $md_infile $md_outfile"
   ]
  },
  {
   "cell_type": "markdown",
   "metadata": {},
   "source": [
    "Add simple captions"
   ]
  },
  {
   "cell_type": "code",
   "execution_count": 56,
   "metadata": {},
   "outputs": [
    {
     "name": "stdout",
     "output_type": "stream",
     "text": [
      "New Markdown file successfully generated!\n"
     ]
    }
   ],
   "source": [
    "md_infile = 'champsbook/content/03/Draft_new2.md'\n",
    "md_outfile = 'champsbook/content/03/Draft_new3.md'\n",
    "\n",
    "%run scripts/captions-simple_md2html.py $md_infile $md_outfile"
   ]
  },
  {
   "cell_type": "markdown",
   "metadata": {},
   "source": [
    "Add labelled captions with numbered figures"
   ]
  },
  {
   "cell_type": "markdown",
   "metadata": {},
   "source": [
    "<img width=\"200\" height=\"200\" src=\"https://images2.minutemediacdn.com/image/upload/c_fill,g_auto,h_1248,w_2220/f_auto,q_auto,w_1100/v1555383806/shape/mentalfloss/construction-banner.png\">"
   ]
  },
  {
   "cell_type": "markdown",
   "metadata": {},
   "source": [
    "Fix other labels/refences and captions elements: tables(`tab`) and sections(`sec`)"
   ]
  },
  {
   "cell_type": "markdown",
   "metadata": {},
   "source": [
    "<img width=\"200\" height=\"200\" src=\"https://images2.minutemediacdn.com/image/upload/c_fill,g_auto,h_1248,w_2220/f_auto,q_auto,w_1100/v1555383806/shape/mentalfloss/construction-banner.png\">"
   ]
  },
  {
   "cell_type": "markdown",
   "metadata": {},
   "source": [
    "TEST"
   ]
  },
  {
   "cell_type": "code",
   "execution_count": 174,
   "metadata": {
    "ExecuteTime": {
     "end_time": "2019-12-09T12:34:10.397340Z",
     "start_time": "2019-12-09T12:34:10.380636Z"
    }
   },
   "outputs": [],
   "source": [
    "md_infile = 'champsbook/content/act2/2-Ches/roam_mass_energy_var.md'"
   ]
  },
  {
   "cell_type": "code",
   "execution_count": 175,
   "metadata": {
    "ExecuteTime": {
     "end_time": "2019-12-09T12:34:10.862175Z",
     "start_time": "2019-12-09T12:34:10.857835Z"
    }
   },
   "outputs": [],
   "source": [
    "basename, extension = os.path.splitext(md_infile)"
   ]
  },
  {
   "cell_type": "code",
   "execution_count": 176,
   "metadata": {
    "ExecuteTime": {
     "end_time": "2019-12-09T12:34:11.382703Z",
     "start_time": "2019-12-09T12:34:11.364375Z"
    }
   },
   "outputs": [],
   "source": [
    "suffix1 = '' \n",
    "suffix2 = '_new' \n",
    "md_outfile = basename+suffix2+extension\n",
    "bib_filename = 'roammassenergyvar'\n",
    "\n",
    "%run scripts/bib_md2jekyll.py $md_infile $md_outfile $bib_filename"
   ]
  },
  {
   "cell_type": "code",
   "execution_count": 177,
   "metadata": {
    "ExecuteTime": {
     "end_time": "2019-12-09T12:34:15.894331Z",
     "start_time": "2019-12-09T12:34:15.843083Z"
    }
   },
   "outputs": [
    {
     "name": "stdout",
     "output_type": "stream",
     "text": [
      "Good! There aren't repeated labels in your file\n",
      "New Markdown file successfully generated!\n"
     ]
    }
   ],
   "source": [
    "suffix1 = '_new' \n",
    "suffix2 = '_new2'\n",
    "md_infile = basename+suffix1+extension\n",
    "md_outfile = basename+suffix2+extension\n",
    "\n",
    "%run scripts/labels_refs_md2jekyll.py $md_infile $md_outfile"
   ]
  },
  {
   "cell_type": "code",
   "execution_count": 178,
   "metadata": {
    "ExecuteTime": {
     "end_time": "2019-12-09T12:34:33.203450Z",
     "start_time": "2019-12-09T12:34:33.153065Z"
    }
   },
   "outputs": [
    {
     "name": "stdout",
     "output_type": "stream",
     "text": [
      "New Markdown file successfully generated!\n"
     ]
    }
   ],
   "source": [
    "suffix1 = '_new2'\n",
    "suffix2 = '_new3'\n",
    "md_infile = basename+suffix1+extension\n",
    "md_outfile = basename+suffix2+extension\n",
    "\n",
    "%run scripts/captions-simple_md2html.py $md_infile $md_outfile"
   ]
  },
  {
   "cell_type": "markdown",
   "metadata": {},
   "source": [
    "#### SCRIPT: Citations"
   ]
  },
  {
   "cell_type": "code",
   "execution_count": 78,
   "metadata": {},
   "outputs": [
    {
     "name": "stdout",
     "output_type": "stream",
     "text": [
      "Overwriting scripts/bib_md2jekyll.py\n"
     ]
    }
   ],
   "source": [
    "%%writefile scripts/bib_md2jekyll.py\n",
    "\n",
    "def markdown_to_jekyll_bib(md_infile, md_outfile, bib_filename):\n",
    "    #############################################\n",
    "    # Extract all lines from input MD file\n",
    "    #############################################\n",
    "    try:\n",
    "        doc_infile = open(md_infile, 'r')\n",
    "        doc_lines = doc_infile.readlines()\n",
    "\n",
    "        with open(md_outfile, 'w') as doc_outfile:\n",
    "            for line in doc_lines:\n",
    "                #############################################\n",
    "                # Filter all lines containing bibliography syntax\n",
    "                #############################################\n",
    "                line_matched = re.search(r'\\[@(.+?)\\]',line)\n",
    "                if line_matched:\n",
    "                    #############################################\n",
    "                    # Extract Bib tags from substrings in filtered lines\n",
    "                    #############################################\n",
    "                    chunk_matched = line_matched.group(1)\n",
    "                    bib_tags_raw = re.split(\";|,\", chunk_matched)\n",
    "                    bib_tags_clean = [x.replace(\"@\",'').strip() for x in bib_tags_raw]\n",
    "                    #############################################\n",
    "                    # Replace Markdown syntax with jekyll's in filtered lines\n",
    "                    #############################################\n",
    "                    jekyll_syntax_items = [\"{% cite\"]+bib_tags_clean+['--file '+bib_filename]+[\"%}\"]\n",
    "                    separator = ' '\n",
    "                    chunk_new = separator.join(jekyll_syntax_items)\n",
    "                    chunk_original = '[@'+chunk_matched+']'\n",
    "                    line_modified = line.replace(chunk_original, chunk_new)\n",
    "                    #############################################\n",
    "                    # Write syntax modified line in output file\n",
    "                    #############################################\n",
    "                    doc_outfile.write(line_modified)\n",
    "                else:\n",
    "                    doc_outfile.write(line)\n",
    "                    \n",
    "            #############################################\n",
    "            # Add jekyll line to generate list of references at document end\n",
    "            #############################################        \n",
    "            bib_endline = \"\\n{% bibliography --file \"+bib_filename+\" --cited %}\"\n",
    "            doc_outfile.write(bib_endline)\n",
    "            # Close all files\n",
    "            doc_infile.close()\n",
    "            doc_outfile.close()\n",
    "    except:\n",
    "        print(\"Couldn't find Markdown file. Check your input path\")\n",
    "\n",
    "\n",
    "if __name__ == \"__main__\":\n",
    "    import sys\n",
    "    import re\n",
    "    #############################################\n",
    "    # Script input arguments (self-explanatory)\n",
    "    #############################################\n",
    "    md_infile = sys.argv[1]\n",
    "    md_outfile = sys.argv[2]\n",
    "    bib_filename = sys.argv[3]\n",
    "    #############################################\n",
    "    # Turn MD file into jekyll-syntax modified file\n",
    "    #############################################\n",
    "    markdown_to_jekyll_bib(md_infile, md_outfile, bib_filename)"
   ]
  },
  {
   "cell_type": "markdown",
   "metadata": {},
   "source": [
    "#### SCRIPT: Labels and References"
   ]
  },
  {
   "cell_type": "code",
   "execution_count": 60,
   "metadata": {},
   "outputs": [
    {
     "name": "stdout",
     "output_type": "stream",
     "text": [
      "Overwriting scripts/labels_refs_md2jekyll.py\n"
     ]
    }
   ],
   "source": [
    "%%writefile scripts/labels_refs_md2jekyll.py\n",
    "\n",
    "def minimal_ordered_set(seq):\n",
    "    seen = set()\n",
    "    seen_add = seen.add\n",
    "    return [x for x in seq if not (x in seen or seen_add(x))]\n",
    "\n",
    "def get_labels_tags_dic(labels_pattern, doc_lines):\n",
    "    COUNTER = 0\n",
    "    labels_tags_all = []\n",
    "\n",
    "    for line in doc_lines:\n",
    "        labels_matched_raw = re.findall(labels_pattern, line)\n",
    "        if labels_matched_raw:\n",
    "            COUNTER +=1\n",
    "            labels_tags = [s.translate({ord(i): None for i in strings_for_removal}) for s in labels_matched_raw]\n",
    "            labels_tags = list(minimal_ordered_set(labels_tags))\n",
    "            labels_tags_all += labels_tags\n",
    "\n",
    "    #############################################\n",
    "    # Test for non-repeated labels\n",
    "    #############################################\n",
    "    if COUNTER == len(labels_tags_all):\n",
    "        print(\"Good! There aren't repeated labels in your file\")\n",
    "        labels_tags_dic = {labels_tags_all[n]:str(n+1) for n in range(COUNTER)}\n",
    "        return labels_tags_dic\n",
    "    else:\n",
    "        print(\"There are repeated labels in your file. This will lead to errors\")\n",
    "\n",
    "def replace_ref_syntax(refs_matched_raw, line):\n",
    "    refs_tags = [s.translate({ord(i): None for i in strings_for_removal}) for s in refs_matched_raw]\n",
    "    refs_tags = list(set(refs_tags))\n",
    "    #############################################\n",
    "    # Replace Markdown reference syntax\n",
    "    #############################################\n",
    "    line_modified = line\n",
    "    for x in refs_tags:\n",
    "        chunk_original = '@'+marker+':'+x\n",
    "        x_number = labels_tags_dic[x]\n",
    "        chunk_new = '['+marker+':'+x_number+'](#'+x+')'\n",
    "        line_modified = line_modified.replace(chunk_original, chunk_new)\n",
    "    \n",
    "    return line_modified\n",
    "    \n",
    "def replace_label_syntax(labels_matched_raw, line):\n",
    "    labels_tags = [s.translate({ord(i): None for i in strings_for_removal}) for s in labels_matched_raw]\n",
    "    labels_tags = list(set(labels_tags))\n",
    "    #############################################\n",
    "    # Replace Markdown reference syntax\n",
    "    #############################################    \n",
    "    for x in labels_tags:\n",
    "        chunk_original = '{#'+marker+':'+x+'}'\n",
    "        chunk_new = '\\n<a id=\"'+x+'\"></a>'\n",
    "        line_modified = re.sub(r'\\{#'+marker+':'+x+'(.+?)\\}', chunk_new, line)\n",
    "    \n",
    "    return line_modified\n",
    "\n",
    "def markdown_to_jekyll_labels_refs_V1(doc_lines, md_outfile):\n",
    "    with open(md_outfile,'w') as doc_outfile:\n",
    "        for line in doc_lines:\n",
    "            refs_matched_raw = re.findall(refs_pattern,line)\n",
    "            labels_matched_raw = re.findall(labels_pattern, line)\n",
    "\n",
    "            if refs_matched_raw and not labels_matched_raw:\n",
    "                line_modified = replace_ref_syntax(refs_matched_raw, line)\n",
    "                doc_outfile.write(line_modified)\n",
    "\n",
    "            elif labels_matched_raw and not refs_matched_raw:\n",
    "                line_modified = replace_label_syntax(labels_matched_raw, line)\n",
    "                doc_outfile.write(line_modified)\n",
    "\n",
    "            elif labels_matched_raw and refs_matched_raw:\n",
    "                line_modified = replace_label_syntax(labels_matched_raw, line)\n",
    "                line_modified = replace_ref_syntax(refs_matched_raw, line_modified)\n",
    "                doc_outfile.write(line_modified)\n",
    "\n",
    "            else:\n",
    "                line_modified = line\n",
    "                doc_outfile.write(line_modified)\n",
    "        \n",
    "    doc_outfile.close()\n",
    "    print(\"New Markdown file successfully generated!\")\n",
    "        \n",
    "        \n",
    "if __name__ == \"__main__\":\n",
    "    import re\n",
    "    import sys\n",
    "    #############################################\n",
    "    # Settings\n",
    "    #############################################\n",
    "    marker = 'fig'\n",
    "    strings_for_removal = ').,;:'\n",
    "\n",
    "    labels_pattern = re.compile('#'+marker+'(.+?)\\s')\n",
    "    refs_pattern = re.compile('@'+marker+'(.+?)\\s')\n",
    "    #############################################\n",
    "    # Script input arguments (self-explanatory)\n",
    "    #############################################\n",
    "    md_infile = sys.argv[1]\n",
    "    md_outfile = sys.argv[2]\n",
    "    #############################################\n",
    "    # Extract all lines from input MD file\n",
    "    #############################################\n",
    "    try:\n",
    "        doc_infile = open(md_infile, 'r')\n",
    "        doc_lines = doc_infile.readlines()\n",
    "        doc_infile.close()\n",
    "        #############################################\n",
    "        # Turn MD file into jekyll-syntax modified file\n",
    "        #############################################\n",
    "        labels_tags_dic = get_labels_tags_dic(labels_pattern, doc_lines)\n",
    "        markdown_to_jekyll_labels_refs_V1(doc_lines, md_outfile)\n",
    "    except:\n",
    "        print(\"Couldn't find Markdown file. Check your input path\")\n"
   ]
  },
  {
   "cell_type": "markdown",
   "metadata": {},
   "source": [
    "#### SCRIPT:  Simple Captions"
   ]
  },
  {
   "cell_type": "code",
   "execution_count": 137,
   "metadata": {},
   "outputs": [
    {
     "name": "stdout",
     "output_type": "stream",
     "text": [
      "Overwriting scripts/captions-simple_md2html.py\n"
     ]
    }
   ],
   "source": [
    "%%writefile scripts/captions-simple_md2html.py\n",
    "def replace_caption_syntax(captions_matched_raw, line):\n",
    "    caption = captions_matched_raw[0]\n",
    "    html_syntax_items = (\n",
    "        '<figcaption style=\"text-align:center;font-size:14px\">',\n",
    "        '<em>',\n",
    "        caption,\n",
    "        '</em>',\n",
    "        '</figcaption>'\n",
    "    )\n",
    "    chunk_new = ''.join(html_syntax_items)\n",
    "    return line+chunk_new\n",
    "\n",
    "def markdown_to_html_captions(doc_lines, md_outfile):\n",
    "    with open(md_outfile,'w') as doc_outfile:\n",
    "        for line in doc_lines:\n",
    "            captions_matched_raw = re.findall(captions_pattern,line)\n",
    "            labels_matched_raw = re.findall(captions_pattern,line)\n",
    "            if captions_matched_raw:\n",
    "                line_modified = replace_caption_syntax(captions_matched_raw, line)\n",
    "                doc_outfile.write(line_modified)\n",
    "            else:\n",
    "                line_modified = line\n",
    "                doc_outfile.write(line_modified)\n",
    "        doc_outfile.close()\n",
    "        print(\"New Markdown file successfully generated!\")\n",
    "    \n",
    "if __name__ == \"__main__\":\n",
    "    import re\n",
    "    import sys\n",
    "    #############################################\n",
    "    # Settings\n",
    "    #############################################\n",
    "    marker = 'fig'\n",
    "    strings_for_removal = ').,;:'\n",
    "    \n",
    "    captions_pattern = re.compile(r'!\\[(.+?)\\]')\n",
    "    labels_pattern = re.compile('#'+marker+'(.+?)\\s')\n",
    "    #############################################\n",
    "    # Script input arguments (self-explanatory)\n",
    "    #############################################\n",
    "    md_infile = sys.argv[1]\n",
    "    md_outfile = sys.argv[2]\n",
    "    #############################################\n",
    "    # Extract all lines from input MD file\n",
    "    #############################################\n",
    "    try:\n",
    "        doc_infile = open(md_infile, 'r')\n",
    "        doc_lines = doc_infile.readlines()\n",
    "        doc_infile.close()\n",
    "        #############################################\n",
    "        # Turn MD file into jekyll-syntax modified file\n",
    "        #############################################\n",
    "        markdown_to_html_captions(doc_lines, md_outfile)\n",
    "    except:\n",
    "        print(\"Couldn't find Markdown file. Check your input path\")"
   ]
  },
  {
   "cell_type": "markdown",
   "metadata": {},
   "source": [
    "### Jupyter Notebooks"
   ]
  },
  {
   "cell_type": "markdown",
   "metadata": {},
   "source": [
    "#### Overview"
   ]
  },
  {
   "cell_type": "markdown",
   "metadata": {},
   "source": [
    "Jupyter Notebooks are simply big `JSON` files econding Python dictionaries. Thus, editing notebooks programmatically becomes an easy task. "
   ]
  },
  {
   "cell_type": "markdown",
   "metadata": {},
   "source": [
    "<span style='color:blue'><b>TASKS</b></span>"
   ]
  },
  {
   "cell_type": "markdown",
   "metadata": {},
   "source": [
    "Typical $\\LaTeX$ Markers:\n",
    "\n",
    "* `fig`\n",
    "* `tab`\n",
    "* `ch`\n",
    "* `sec`\n",
    "* `subsec`"
   ]
  },
  {
   "cell_type": "markdown",
   "metadata": {},
   "source": [
    "Jump to scripts here."
   ]
  },
  {
   "cell_type": "markdown",
   "metadata": {},
   "source": [
    "1. <b>LaTeX citations</b>\n",
    "\n",
    "Replace $\\LaTeX$ syntax in Jupyter Notebook (or even Markdown file)\n",
    ">```latex\n",
    "\\cite{bib_tag1, bib_tag2}  # Inline citations\n",
    ".\n",
    ".\n",
    ".\n",
    "\\bibliography{bib_filename} # Generate refence list\n",
    "```\n",
    "\n",
    "with `jekyll` syntax\n",
    "\n",
    ">```jekyll\n",
    "{% cite bib_tag1 bib_tag2 --file bib_filename %}  # Inline citations\n",
    ".\n",
    ".\n",
    ".\n",
    "{% bibliography --file bib_filename --cited %} # Generate refence list\n",
    "```\n"
   ]
  },
  {
   "cell_type": "markdown",
   "metadata": {},
   "source": [
    "2. <b>LaTeX labels/references</b>\n",
    "\n",
    "\n",
    "\n",
    "Replace `LaTeX` syntax in Jupyter Notebooks (`ipynb`)\n",
    "\n",
    "```latex\n",
    "# In some cell: inline reference\n",
    "Some text ... \\ref{maker:mylabel} ... and more text ...\n",
    ".\n",
    ".\n",
    ".\n",
    "# In another cell: a figure/table/section/subsection  with a label\n",
    "\\label{marker:mylabel}\n",
    "```\n",
    "\n",
    "with `Markdown` syntax\n",
    "\n",
    "```html\n",
    "# In some cell: inline reference\n",
    "Some text ... [maker:mylabel](#maker:mylabel) ... and more text ...\n",
    ".\n",
    ".\n",
    ".\n",
    "# In another cell: a figure/table/section/subsection  with a label\n",
    "<a id=\"maker:mylabel\"></a>\n",
    "```\n"
   ]
  },
  {
   "cell_type": "markdown",
   "metadata": {},
   "source": [
    "3. <b> LaTeX captions </b> \n",
    "\n",
    "Replace $\\LaTeX$ syntax in Jupyter Notebook (or even Markdown file)\n",
    ">```latex\n",
    "\\# Some figure/table with a label \n",
    "\\caption{This is a caption}\n",
    "```\n",
    "\n",
    "with styled HTML syntax\n",
    "\n",
    "```html\n",
    "<figcaption style=\"text-align:center;font-size:14px\"><b>marker:mylabel </b><em>This is a caption</em></figcaption>\n",
    "```\n",
    "\n",
    "<hr>\n",
    "\n",
    "Also, if more than one figure is added in a cell, add subcaptions automatically\n",
    "\n",
    "```html\n",
    "<img src='myimage1.png'>\n",
    "<figcaption style=\"text-align:center;font-size:14px\">(a)</figcaption>\n",
    "<img src='myimage2.png'>\n",
    "<figcaption style=\"text-align:center;font-size:14px\">(b)</figcaption>\n",
    "<img src='myimage3.png'>\n",
    "<figcaption style=\"text-align:center;font-size:14px\">(c)</figcaption>\n",
    "\n",
    "<figcaption style=\"text-align:center;font-size:14px\"><b>marker:mylabel </b><em>This is a caption for the whole set of figures</em></figcaption>\n",
    "```"
   ]
  },
  {
   "cell_type": "markdown",
   "metadata": {},
   "source": [
    "4. <b>Numbering of Captions and Hyperlink names</b>\n",
    "\n",
    "Plain caption with label\n",
    "\n",
    "```html\n",
    "<figcaption style=\"text-align:center;font-size:14px\"><b>marker:mylabel </b><em>This is a caption</em></figcaption>\n",
    "```\n",
    "\n",
    "Numebered\n",
    "\n",
    "```html\n",
    "<figcaption style=\"text-align:center;font-size:14px\"><b>marker:N </b><em>This is a caption</em></figcaption>\n",
    "```\n",
    "\n",
    "<hr>\n",
    "\n",
    "Plain inline reference with label. \n",
    "\n",
    ">```markdown\n",
    "... some text [mylabel](marker:mylabel) ...more text \n",
    "```\n",
    ">The hyperlink will appear as [mylabel](#), pointing to the object with the label `marker:mylabel`\n",
    "\n",
    "Numbered. \n",
    "\n",
    ">```markdown\n",
    "... some text [marker:N](marker:mylabel) ...more text \n",
    "```\n",
    ">The hyperlink will appear as [marker:N](#), pointing to the object with the same label"
   ]
  },
  {
   "cell_type": "markdown",
   "metadata": {},
   "source": [
    "#### IMPLEMENTATION\n",
    "\n",
    "_EXAMPLE_"
   ]
  },
  {
   "cell_type": "markdown",
   "metadata": {},
   "source": [
    "Fix citations"
   ]
  },
  {
   "cell_type": "code",
   "execution_count": 25,
   "metadata": {
    "ExecuteTime": {
     "end_time": "2019-12-04T19:45:02.886868Z",
     "start_time": "2019-12-04T19:45:02.806950Z"
    }
   },
   "outputs": [
    {
     "name": "stdout",
     "output_type": "stream",
     "text": [
      "New Notebook successfully generated\n"
     ]
    }
   ],
   "source": [
    "nb_infile = 'champsbook/content/06/caldera-1.ipynb'\n",
    "nb_outfile = 'champsbook/content/06/caldera-1_new.ipynb'\n",
    "bib_filename = 'caldera2c'\n",
    "\n",
    "%run scripts/bib_latex2jekyll.py $nb_infile $nb_outfile $bib_filename"
   ]
  },
  {
   "cell_type": "code",
   "execution_count": 94,
   "metadata": {
    "ExecuteTime": {
     "end_time": "2019-12-08T17:09:45.422791Z",
     "start_time": "2019-12-08T17:09:45.387176Z"
    }
   },
   "outputs": [
    {
     "name": "stdout",
     "output_type": "stream",
     "text": [
      "New Notebook successfully generated\n"
     ]
    }
   ],
   "source": [
    "nb_infile = 'champsbook/content/act2/hamiltonian_sn/HSN_victor.ipynb'\n",
    "nb_outfile = 'champsbook/content/act2/hamiltonian_sn/HSN_victor_new.ipynb'\n",
    "bib_filename = 'HamSN.bib'\n",
    "\n",
    "%run scripts/bib_latex2jekyll.py $nb_infile $nb_outfile $bib_filename"
   ]
  },
  {
   "cell_type": "code",
   "execution_count": 94,
   "metadata": {
    "ExecuteTime": {
     "end_time": "2019-12-08T17:09:45.422791Z",
     "start_time": "2019-12-08T17:09:45.387176Z"
    }
   },
   "outputs": [
    {
     "name": "stdout",
     "output_type": "stream",
     "text": [
      "New Notebook successfully generated\n"
     ]
    }
   ],
   "source": [
    "nb_infile = 'champsbook/content/act2/double_morse/prueba.ipynb'\n",
    "nb_outfile = 'champsbook/content/act2/double_morse/prueba_new.ipynb'\n",
    "bib_filename = 'HamSN.bib'\n",
    "\n",
    "%run scripts/bib_latex2jekyll.py $nb_infile $nb_outfile $bib_filename"
   ]
  },
  {
   "cell_type": "markdown",
   "metadata": {},
   "source": [
    "Fix Labels and References"
   ]
  },
  {
   "cell_type": "code",
   "execution_count": 15,
   "metadata": {},
   "outputs": [
    {
     "name": "stdout",
     "output_type": "stream",
     "text": [
      "Good! There aren't repeated labels in your file\n",
      "New Notebook successfully generated\n"
     ]
    }
   ],
   "source": [
    "nb_infile = 'champsbook/content/06/caldera-1_new.ipynb'\n",
    "nb_outfile = 'champsbook/content/06/caldera-1_new2.ipynb'\n",
    "\n",
    "%run scripts/labels_refs_latex2jekyll.py $nb_infile $nb_outfile"
   ]
  },
  {
   "cell_type": "code",
   "execution_count": 95,
   "metadata": {
    "ExecuteTime": {
     "end_time": "2019-12-08T17:09:47.848129Z",
     "start_time": "2019-12-08T17:09:47.763749Z"
    }
   },
   "outputs": [
    {
     "name": "stdout",
     "output_type": "stream",
     "text": [
      "Good! There aren't repeated labels in your file\n",
      "New Notebook successfully generated\n"
     ]
    }
   ],
   "source": [
    "nb_infile = 'champsbook/content/act2/hamiltonian_sn/HSN_victor_new.ipynb'\n",
    "nb_outfile = 'champsbook/content/act2/hamiltonian_sn/HSN_victor_new2.ipynb'\n",
    "\n",
    "%run scripts/labels_refs_latex2jekyll.py $nb_infile $nb_outfile"
   ]
  },
  {
   "cell_type": "markdown",
   "metadata": {},
   "source": [
    "Add simple captions"
   ]
  },
  {
   "cell_type": "code",
   "execution_count": 16,
   "metadata": {},
   "outputs": [
    {
     "name": "stdout",
     "output_type": "stream",
     "text": [
      "New Notebook successfully generated\n"
     ]
    }
   ],
   "source": [
    "nb_infile = 'champsbook/content/06/caldera-1_new2.ipynb'\n",
    "nb_outfile = 'champsbook/content/06/caldera-1_new3.ipynb'\n",
    "\n",
    "%run scripts/captions-simple_latex2html.py $nb_infile $nb_outfile"
   ]
  },
  {
   "cell_type": "markdown",
   "metadata": {},
   "source": [
    "Add labelled captions with numbered figures"
   ]
  },
  {
   "cell_type": "code",
   "execution_count": 17,
   "metadata": {},
   "outputs": [
    {
     "name": "stdout",
     "output_type": "stream",
     "text": [
      "Good! There aren't repeated labels in your file\n",
      "Good! There aren't repeated labels in your file\n",
      "New Notebook successfully generated\n"
     ]
    }
   ],
   "source": [
    "nb_infile = 'champsbook/content/06/caldera-1_new2.ipynb'\n",
    "nb_outfile = 'champsbook/content/06/caldera-1_new3.ipynb'\n",
    "\n",
    "%run scripts/captions-labelled_latex2html.py $nb_infile $nb_outfile"
   ]
  },
  {
   "cell_type": "code",
   "execution_count": 96,
   "metadata": {
    "ExecuteTime": {
     "end_time": "2019-12-08T17:09:53.085361Z",
     "start_time": "2019-12-08T17:09:52.997046Z"
    }
   },
   "outputs": [
    {
     "name": "stdout",
     "output_type": "stream",
     "text": [
      "Good! There aren't repeated labels in your file\n",
      "Good! There aren't repeated labels in your file\n",
      "Good! There aren't repeated labels in your file\n",
      "Good! There aren't repeated labels in your file\n",
      "Good! There aren't repeated labels in your file\n",
      "Good! There aren't repeated labels in your file\n",
      "Good! There aren't repeated labels in your file\n",
      "Good! There aren't repeated labels in your file\n",
      "Good! There aren't repeated labels in your file\n",
      "New Notebook successfully generated\n"
     ]
    }
   ],
   "source": [
    "nb_infile = 'champsbook/content/act2/hamiltonian_sn/HSN_victor_new2.ipynb'\n",
    "nb_outfile = 'champsbook/content/act2/hamiltonian_sn/HSN_victor_new3.ipynb'\n",
    "\n",
    "%run scripts/captions-labelled_latex2html.py $nb_infile $nb_outfile"
   ]
  },
  {
   "cell_type": "markdown",
   "metadata": {},
   "source": [
    "**OVERALL IMPLEMENTATION**"
   ]
  },
  {
   "cell_type": "markdown",
   "metadata": {},
   "source": [
    "This fixes all the above elements dealt with by previous scripts.\n",
    "We use [Version 2](#script_fix_all) of the script `jupyter_latex2html.py`"
   ]
  },
  {
   "cell_type": "code",
   "execution_count": 2,
   "metadata": {
    "ExecuteTime": {
     "end_time": "2019-12-06T19:23:24.507451Z",
     "start_time": "2019-12-06T19:23:24.484414Z"
    }
   },
   "outputs": [
    {
     "name": "stdout",
     "output_type": "stream",
     "text": [
      "New Notebook successfully generated\n"
     ]
    }
   ],
   "source": [
    "nb_infile = 'champsbook/content/06/caldera-1.ipynb'\n",
    "nb_outfile = 'champsbook/content/06/caldera-1_new.ipynb'\n",
    "bib_filename = 'caldera2c'\n",
    "\n",
    "%run scripts/jupyter_latex2html.py $nb_infile $nb_outfile $bib_filename"
   ]
  },
  {
   "cell_type": "markdown",
   "metadata": {},
   "source": [
    "#### SCRIPT: Citations"
   ]
  },
  {
   "cell_type": "code",
   "execution_count": 33,
   "metadata": {
    "ExecuteTime": {
     "end_time": "2019-12-04T19:58:11.446056Z",
     "start_time": "2019-12-04T19:58:11.436352Z"
    }
   },
   "outputs": [
    {
     "name": "stdout",
     "output_type": "stream",
     "text": [
      "Overwriting scripts/bib_latex2jekyll.py\n"
     ]
    }
   ],
   "source": [
    "%%writefile scripts/bib_latex2jekyll.py\n",
    "\n",
    "def replace_citation_syntax(citations_matched_raw, item):\n",
    "    item_modified = item\n",
    "    for match in citations_matched_raw:\n",
    "        bib_tags_raw = re.split(\",\", match)\n",
    "        bib_tags_clean = [x.strip() for x in bib_tags_raw]\n",
    "        #############################################\n",
    "        # Replace LaTeX syntax with jekyll's in cell items\n",
    "        #############################################\n",
    "        jekyll_syntax_items = [\"{% cite\"]+bib_tags_clean+['--file '+bib_filename]+[\"%}\"]\n",
    "        separator = ' '\n",
    "        chunk_new = separator.join(jekyll_syntax_items)\n",
    "        chunk_original = '\\cite{'+match+'}'\n",
    "        item_modified = item_modified.replace(chunk_original, chunk_new)\n",
    "    return item_modified\n",
    "\n",
    "def replace_bibliography_syntax(bibliography_matched_raw, item):\n",
    "    # Only one single bibliography line exists\n",
    "    bib_tags_raw = re.split(\",\", bibliography_matched_raw[0])\n",
    "    bib_tags_clean = [x.strip() for x in bib_tags_raw]\n",
    "    separator = ' '\n",
    "    jekyll_syntax_items = [\"{% bibliography\"]+[separator.join(['--file', x]) for x in bib_tags_clean]+[\"--cited %}\"]\n",
    "    chunk_new = separator.join(jekyll_syntax_items)\n",
    "    chunk_original = r'\\bibliography{'+bibliography_matched_raw[0]+'}'\n",
    "    item_modified = item.replace(chunk_original, chunk_new)\n",
    "    return item_modified\n",
    "\n",
    "def latex_to_jekyll_bib(nb):\n",
    "    for i in range(len(nb['cells'])):\n",
    "        cell = nb['cells'][i]\n",
    "        for j in range(len(cell['source'])):\n",
    "            item = cell['source'][j]\n",
    "\n",
    "            citations_matched_raw = re.findall(citations_pattern,item)\n",
    "            bibliography_matched_raw = re.findall(bibliography_pattern,item)\n",
    "\n",
    "            if citations_matched_raw:\n",
    "                item_modified = replace_citation_syntax(citations_matched_raw, item)\n",
    "                nb['cells'][i]['source'][j] = item_modified\n",
    "\n",
    "            elif bibliography_matched_raw:\n",
    "                item_modified = replace_bibliography_syntax(bibliography_matched_raw, item)\n",
    "                nb['cells'][i]['source'][j] = item_modified\n",
    "                \n",
    "            else:\n",
    "                pass\n",
    "    #############################################\n",
    "    # Modify cell content with new syntax accordingly\n",
    "    #############################################\n",
    "    return nb\n",
    "    \n",
    "\n",
    "if __name__ == \"__main__\":\n",
    "    import re\n",
    "    import sys\n",
    "    import json\n",
    "    #############################################\n",
    "    # Settings\n",
    "    #############################################\n",
    "    citations_pattern = re.compile(r'\\\\cite\\{(.+?)\\}')\n",
    "    bibliography_pattern = re.compile(r'\\\\bibliography\\{(.+?)\\}')\n",
    "    #############################################\n",
    "    # Script input arguments (self-explanatory)\n",
    "    #############################################\n",
    "    nb_infile = sys.argv[1] \n",
    "    nb_outfile = sys.argv[2]\n",
    "    bib_filename = sys.argv[3]\n",
    "    #############################################\n",
    "    # Load Jupyter Notebook as Dictionary\n",
    "    #############################################\n",
    "    try:\n",
    "        with open(nb_infile,'r') as fp:\n",
    "            nb = json.load(fp)\n",
    "        fp.close()\n",
    "        #############################################\n",
    "        # Turn LaTeX label/ref syntax in Jupyter Noteboks into MD syntax\n",
    "        #############################################\n",
    "        nb_modified = latex_to_jekyll_bib(nb)\n",
    "        \n",
    "        with open(nb_outfile,'w') as fp:\n",
    "            json.dump(nb_modified, fp)\n",
    "            fp.close()\n",
    "            print(\"New Notebook successfully generated\")\n",
    "    except:\n",
    "        print(\"Couldn't find Jupyter Notebook. Check your input path\")"
   ]
  },
  {
   "cell_type": "markdown",
   "metadata": {},
   "source": [
    "#### SCRIPT: Labels and References"
   ]
  },
  {
   "cell_type": "code",
   "execution_count": 144,
   "metadata": {
    "ExecuteTime": {
     "end_time": "2019-12-06T17:19:04.043537Z",
     "start_time": "2019-12-06T17:19:04.035518Z"
    }
   },
   "outputs": [
    {
     "name": "stdout",
     "output_type": "stream",
     "text": [
      "Overwriting scripts/labels_refs_latex2jekyll.py\n"
     ]
    }
   ],
   "source": [
    "%%writefile scripts/labels_refs_latex2jekyll.py\n",
    "\n",
    "def minimal_ordered_set(seq):\n",
    "    seen = set()\n",
    "    seen_add = seen.add\n",
    "    return [x for x in seq if not (x in seen or seen_add(x))]\n",
    "\n",
    "def get_labels_tags_dic(labels_pattern, nb):\n",
    "    COUNTER = 0\n",
    "    labels_tags_all = []\n",
    "    \n",
    "    for i in range(len(nb['cells'])):\n",
    "        cell = nb['cells'][i]\n",
    "        for j in range(len(cell['source'])):\n",
    "            item = cell['source'][j]\n",
    "            labels_matched_raw = re.findall(labels_pattern, item)\n",
    "\n",
    "            if labels_matched_raw:\n",
    "                COUNTER +=1\n",
    "                labels_tags = [s.translate({ord(i): None for i in strings_for_removal}) for s in labels_matched_raw]\n",
    "                labels_tags = list(set(labels_tags))\n",
    "                labels_tags_all += labels_tags\n",
    "    #############################################\n",
    "    # Test for non-repeated labels\n",
    "    #############################################\n",
    "    if COUNTER == len(labels_tags_all):\n",
    "        print(\"Good! There aren't repeated labels in your file\")\n",
    "        labels_tags_dic = {labels_tags_all[n]:str(n+1) for n in range(COUNTER)}\n",
    "        return labels_tags_dic\n",
    "    else:\n",
    "        print(\"There are repeated labels in your file. This will lead to errors\")\n",
    "\n",
    "def replace_ref_syntax(refs_matched_raw, item):\n",
    "    refs_tags = [s.translate({ord(i): None for i in strings_for_removal}) for s in refs_matched_raw]\n",
    "    refs_tags = list(set(refs_tags))\n",
    "    #############################################\n",
    "    # Replace Markdown reference syntax\n",
    "    #############################################\n",
    "    x = refs_tags[0]\n",
    "    chunk_original = r'\\ref{'+marker+':'+x+'}'\n",
    "    x_number = labels_tags_dic[x]\n",
    "    chunk_new = '['+marker+':'+x_number+'](#'+x+')'\n",
    "    item_modified = item.replace(chunk_original, chunk_new)\n",
    "    return item_modified\n",
    "    \n",
    "def replace_label_syntax(labels_matched_raw, item):\n",
    "    labels_tags = [s.translate({ord(i): None for i in strings_for_removal}) for s in labels_matched_raw]\n",
    "    labels_tags = list(set(labels_tags))\n",
    "    #############################################\n",
    "    # Replace Markdown reference syntax\n",
    "    #############################################\n",
    "    x = labels_tags[0]\n",
    "    chunk_original = r'\\label{'+marker+':'+x+'}'\n",
    "    chunk_new = '\\n<a id=\"'+x+'\"></a>'\n",
    "    item_modified = item.replace(chunk_original, chunk_new)\n",
    "    return item_modified\n",
    "\n",
    "def latex_to_jekyll_labels_refs(nb):\n",
    "    #############################################\n",
    "    # Search for LaTeX label/ref commands within cells' content (source)\n",
    "    #############################################\n",
    "    for i in range(len(nb['cells'])):\n",
    "        cell = nb['cells'][i]\n",
    "        for j in range(len(cell['source'])):\n",
    "            item = cell['source'][j]\n",
    "            refs_matched_raw = re.findall(refs_pattern,item)\n",
    "            labels_matched_raw = re.findall(labels_pattern, item)\n",
    "            #############################################\n",
    "            # Modify cell content with new syntax accordingly\n",
    "            #############################################\n",
    "            if refs_matched_raw and not labels_matched_raw:\n",
    "                item_modified = replace_ref_syntax(refs_matched_raw, item)\n",
    "                nb['cells'][i]['source'][j] = item_modified\n",
    "\n",
    "            elif labels_matched_raw and not refs_matched_raw:\n",
    "                item_modified = replace_label_syntax(labels_matched_raw, item)\n",
    "                nb['cells'][i]['source'][j] = item_modified\n",
    "\n",
    "            else:\n",
    "                pass\n",
    "    #############################################\n",
    "    # Modify cell content with new syntax accordingly\n",
    "    #############################################\n",
    "    return nb \n",
    "\n",
    "if __name__ == \"__main__\":\n",
    "    import re\n",
    "    import sys\n",
    "    import json\n",
    "    #############################################\n",
    "    # Settings\n",
    "    #############################################\n",
    "    marker = 'fig'\n",
    "    strings_for_removal = ').,;:'\n",
    "\n",
    "    labels_pattern = re.compile(r'\\\\label\\{'+marker+'(.+?)\\}')\n",
    "    refs_pattern = re.compile(r'\\\\ref\\{'+marker+'(.+?)\\}')\n",
    "    #############################################\n",
    "    # Script input arguments \n",
    "    #############################################\n",
    "    nb_infile = sys.argv[1] \n",
    "    nb_outfile = sys.argv[2]\n",
    "    #############################################\n",
    "    # Load Jupyter Notebook as Dictionary\n",
    "    #############################################\n",
    "    try:\n",
    "        with open(nb_infile,'r') as fp:\n",
    "            nb = json.load(fp)\n",
    "        fp.close()\n",
    "        #############################################\n",
    "        # Turn LaTeX label/ref syntax in Jupyter Noteboks into MD syntax\n",
    "        #############################################\n",
    "        labels_tags_dic = get_labels_tags_dic(labels_pattern, nb)\n",
    "        nb_modified = latex_to_jekyll_labels_refs(nb)\n",
    "        \n",
    "        with open(nb_outfile,'w') as fp:\n",
    "            json.dump(nb_modified, fp)\n",
    "        fp.close()\n",
    "        print(\"New Notebook successfully generated\")\n",
    "    except:\n",
    "        print(\"Couldn't find Jupyter Notebook. Check your input path\")"
   ]
  },
  {
   "cell_type": "markdown",
   "metadata": {},
   "source": [
    "#### SCRIPT: Simple Captions "
   ]
  },
  {
   "cell_type": "code",
   "execution_count": 31,
   "metadata": {
    "ExecuteTime": {
     "end_time": "2019-12-04T19:57:55.742823Z",
     "start_time": "2019-12-04T19:57:55.733296Z"
    }
   },
   "outputs": [
    {
     "name": "stdout",
     "output_type": "stream",
     "text": [
      "Overwriting scripts/captions-simple_latex2html.py\n"
     ]
    }
   ],
   "source": [
    "%%writefile scripts/captions-simple_latex2html.py\n",
    "\n",
    "def replace_caption_syntax(captions_matched_raw, item):\n",
    "    caption = captions_matched_raw[0]\n",
    "    html_syntax_items = (\n",
    "        '<figcaption style=\"text-align:center;font-size:14px\">',\n",
    "        '<em>',\n",
    "        caption,\n",
    "        '</em>',\n",
    "        '</figcaption>'\n",
    "    )\n",
    "    chunk_new = ''.join(html_syntax_items)\n",
    "    chunk_original = r'\\caption{'+caption+'}'\n",
    "    item_modified = item.replace(chunk_original, chunk_new)\n",
    "    return item_modified\n",
    "\n",
    "def latex_to_html_captions(nb):\n",
    "    for i in range(len(nb['cells'])):\n",
    "        cell = nb['cells'][i]\n",
    "        for j in range(len(cell['source'])):\n",
    "            item = cell['source'][j]\n",
    "\n",
    "            captions_matched_raw = re.findall(captions_pattern,item)\n",
    "            if captions_matched_raw:\n",
    "                item_modified = replace_caption_syntax(captions_matched_raw, item)\n",
    "                nb['cells'][i]['source'][j] = item_modified\n",
    "\n",
    "    #############################################\n",
    "    # Modify cell content with new syntax accordingly\n",
    "    #############################################\n",
    "    return nb\n",
    "    \n",
    "\n",
    "if __name__ == \"__main__\":\n",
    "    import re\n",
    "    import sys\n",
    "    import json\n",
    "    #############################################\n",
    "    # Settings\n",
    "    #############################################\n",
    "    captions_pattern = re.compile(r'\\\\caption\\{(.+?)\\}$')\n",
    "    #############################################\n",
    "    # Script input arguments (self-explanatory)\n",
    "    #############################################\n",
    "    nb_infile = sys.argv[1]\n",
    "    nb_outfile = sys.argv[2]\n",
    "    #############################################\n",
    "    # Load Jupyter Notebook as Dictionary\n",
    "    #############################################\n",
    "    try:\n",
    "        with open(nb_infile,'r') as fp:\n",
    "            nb = json.load(fp)\n",
    "        fp.close()\n",
    "        #############################################\n",
    "        # Turn LaTeX label/ref syntax in Jupyter Noteboks into MD syntax\n",
    "        #############################################\n",
    "        nb_modified = latex_to_html_captions(nb)\n",
    "        \n",
    "        with open(nb_outfile,'w') as fp:\n",
    "            json.dump(nb_modified, fp)\n",
    "        fp.close()\n",
    "        print(\"New Notebook successfully generated\")\n",
    "    except:\n",
    "        print(\"Couldn't find Jupyter Notebook. Check your input path\")"
   ]
  },
  {
   "cell_type": "markdown",
   "metadata": {},
   "source": [
    "#### SCRIPT: Numebered Captions"
   ]
  },
  {
   "cell_type": "code",
   "execution_count": 92,
   "metadata": {
    "ExecuteTime": {
     "end_time": "2019-12-08T16:55:50.187249Z",
     "start_time": "2019-12-08T16:55:50.078082Z"
    }
   },
   "outputs": [
    {
     "name": "stdout",
     "output_type": "stream",
     "text": [
      "Overwriting scripts/captions-labelled_latex2html.py\n"
     ]
    }
   ],
   "source": [
    "%%writefile scripts/captions-labelled_latex2html.py\n",
    "def minimal_ordered_set(seq):\n",
    "    seen = set()\n",
    "    seen_add = seen.add\n",
    "    return [x for x in seq if not (x in seen or seen_add(x))]\n",
    "\n",
    "def get_labels_tags_dic(labels_pattern, nb):\n",
    "    COUNTER = 0\n",
    "    labels_tags_all = []\n",
    "    \n",
    "    for i in range(len(nb['cells'])):\n",
    "        cell = nb['cells'][i]\n",
    "        for j in range(len(cell['source'])):\n",
    "            item = cell['source'][j]\n",
    "            labels_matched_raw = re.findall(labels_pattern, item)\n",
    "\n",
    "            if labels_matched_raw:\n",
    "                COUNTER +=1\n",
    "                labels_tags = [s.translate({ord(i): None for i in strings_for_removal}) for s in labels_matched_raw]\n",
    "                labels_tags = list(set(labels_tags))\n",
    "                labels_tags_all += labels_tags\n",
    "    #############################################\n",
    "    # Test for non-repeated labels\n",
    "    #############################################\n",
    "    if COUNTER == len(labels_tags_all):\n",
    "        print(\"Good! There aren't repeated labels in your file\")\n",
    "        labels_tags_dic = {labels_tags_all[n]:str(n+1) for n in range(COUNTER)}\n",
    "        return labels_tags_dic\n",
    "    else:\n",
    "        print(\"There are repeated labels in your file. This will lead to errors\")\n",
    "\n",
    "def replace_caption_syntax(captions_matched_raw, cell_number, item):\n",
    "    caption = captions_matched_raw[0]\n",
    "    cell_content = nb['cells'][cell_number]['source']\n",
    "    labels_matched_raw = [x for x in cell_content if re.search(labels_pattern_html, x)]\n",
    "    #############################################\n",
    "    # Here the label pattern can be modified either as LaTeX or HTML\n",
    "    #############################################\n",
    "    labels_tags_dic = get_labels_tags_dic(labels_pattern_html, nb)\n",
    "    label = re.findall(labels_pattern_html, labels_matched_raw[0])\n",
    "    #############################################\n",
    "    html_syntax_items = (\n",
    "        '<figcaption style=\"text-align:center;font-size:14px\">',\n",
    "        '<b>',\n",
    "        marker+':'+labels_tags_dic[label[0]]+' ',\n",
    "        '</b>',\n",
    "        '<em>'+' ',\n",
    "        caption,\n",
    "        '</em>',\n",
    "        '</figcaption>',\n",
    "        '<hr>'\n",
    "    )\n",
    "    chunk_new = ''.join(html_syntax_items)\n",
    "    chunk_original = r'\\caption{'+caption+'}'\n",
    "    item_modified = item.replace(chunk_original, chunk_new)\n",
    "    return item_modified\n",
    "\n",
    "def latex_to_html_captions(nb):\n",
    "    for i in range(len(nb['cells'])):\n",
    "        cell = nb['cells'][i]\n",
    "        for j in range(len(cell['source'])):\n",
    "            item = cell['source'][j]\n",
    "\n",
    "            captions_matched_raw = re.findall(captions_pattern,item)\n",
    "            if captions_matched_raw:\n",
    "                cell_number = i\n",
    "                item_modified = replace_caption_syntax(captions_matched_raw, cell_number, item)\n",
    "                nb['cells'][i]['source'][j] = item_modified\n",
    "\n",
    "    #############################################\n",
    "    # Modify cell content with new syntax accordingly\n",
    "    #############################################\n",
    "    return nb\n",
    "\n",
    "if __name__ == \"__main__\":\n",
    "    import re\n",
    "    import sys\n",
    "    import json\n",
    "    #############################################\n",
    "    # Settings\n",
    "    #############################################\n",
    "    marker = 'fig'\n",
    "    strings_for_removal = ').,;:'\n",
    "#     labels_pattern_latex = re.compile(r'\\\\label\\{'+marker+'(.+?)\\}')\n",
    "    labels_pattern_html = re.compile(r'<a id=(.+?)></a>')\n",
    "    captions_pattern = re.compile(r'\\\\caption\\{(.+?)\\}$')\n",
    "    #############################################\n",
    "    # Script input arguments (self-explanatory)\n",
    "    #############################################\n",
    "    nb_infile = sys.argv[1]\n",
    "    nb_outfile = sys.argv[2]\n",
    "    #############################################\n",
    "    # Load Jupyter Notebook as Dictionary\n",
    "    #############################################\n",
    "    try:\n",
    "        with open(nb_infile,'r') as fp:\n",
    "            nb = json.load(fp)\n",
    "        fp.close()\n",
    "        #############################################\n",
    "        # Turn LaTeX label/ref syntax in Jupyter Noteboks into MD syntax\n",
    "        #############################################\n",
    "        nb_modified = latex_to_html_captions(nb)\n",
    "        \n",
    "        with open(nb_outfile,'w') as fp:\n",
    "            json.dump(nb_modified, fp)\n",
    "        fp.close()\n",
    "        print(\"New Notebook successfully generated\")\n",
    "    except:\n",
    "        print(\"Couldn't find Jupyter Notebook. Check your input path\")"
   ]
  },
  {
   "cell_type": "markdown",
   "metadata": {},
   "source": [
    "#### SCRIPT: All fixes (Version 1)"
   ]
  },
  {
   "cell_type": "markdown",
   "metadata": {},
   "source": [
    "<b>VERSION 1</b>"
   ]
  },
  {
   "cell_type": "markdown",
   "metadata": {},
   "source": [
    "Limitations:\n",
    "\n",
    "Cannot handle labels for other elements than figures"
   ]
  },
  {
   "cell_type": "code",
   "execution_count": 104,
   "metadata": {
    "ExecuteTime": {
     "end_time": "2019-12-07T12:46:07.762092Z",
     "start_time": "2019-12-07T12:46:07.747792Z"
    }
   },
   "outputs": [
    {
     "name": "stdout",
     "output_type": "stream",
     "text": [
      "Overwriting scripts/jupyter_latex2html.py\n"
     ]
    }
   ],
   "source": [
    "%%writefile scripts/jupyter_latex2html.py\n",
    "MARKERS_latex = ['ch','sec','subsec','fig','tab']\n",
    "out = []\n",
    "\n",
    "def get_label_elements(label):\n",
    "    try:\n",
    "        marker, label_name = [x.strip() for x in label.split(':')]\n",
    "        return marker, label_name\n",
    "    except:\n",
    "        return 'None'\n",
    "\n",
    "def get_labels_tags_dic(nb, labels_pattern_latex, MARKERS_latex = MARKERS_latex):\n",
    "    \"\"\"Generate a dictionary of all LaTeX defined labels in Jupyter Notebook\"\"\"\n",
    "    dic = {}\n",
    "    for marker in MARKERS_latex:\n",
    "        dic[marker] = {}\n",
    "        COUNTER = 0\n",
    "        #############################################\n",
    "        # Search for LaTeX label/captions/reference commands within cells' content (source)\n",
    "        #############################################\n",
    "        for i in range(len(nb['cells'])):\n",
    "            cell = nb['cells'][i]\n",
    "            for j in range(len(cell['source'])):\n",
    "                item = cell['source'][j]\n",
    "                #############################################\n",
    "                # Look for defined label in cell content\n",
    "                #############################################\n",
    "                labels_matched_raw = re.findall(labels_pattern_latex, item)\n",
    "                if labels_matched_raw:\n",
    "                    #############################################\n",
    "                    # Add label names/numbers to dictionary according to marker\n",
    "                    #############################################\n",
    "                    label = labels_matched_raw[0]\n",
    "                    if get_label_elements(label) != 'None':\n",
    "                        if  get_label_elements(label)[0] == marker:\n",
    "                            COUNTER += 1\n",
    "                            label_name = get_label_elements(label)[1]\n",
    "                            dic[marker][label_name] = str(COUNTER)\n",
    "    return dic\n",
    "\n",
    "##########################################################################################\n",
    "def find_replace_citations_in_cell(cell, citations_pattern_latex):\n",
    "    for j in range(len(cell['source'])):\n",
    "        item = cell['source'][j]\n",
    "        citations_matched_raw = re.findall(citations_pattern_latex, item)\n",
    "        bibliography_matched_raw = re.findall(bibliography_pattern_latex,item)\n",
    "        \n",
    "        if citations_matched_raw:\n",
    "            item_modified = replace_citation_syntax(citations_matched_raw, item)\n",
    "            cell['source'][j] = item_modified\n",
    "            \n",
    "        elif bibliography_matched_raw:\n",
    "            item_modified = replace_bibliography_syntax(bibliography_matched_raw, item)\n",
    "            cell['source'][j] = item_modified\n",
    "    return cell\n",
    "\n",
    "def replace_citation_syntax(citations_matched_raw, item):\n",
    "    item_modified = item\n",
    "    for match in citations_matched_raw:\n",
    "        bib_tags_raw = re.split(\",\", match)\n",
    "        bib_tags_clean = [x.strip() for x in bib_tags_raw]\n",
    "        #############################################\n",
    "        # Replace LaTeX syntax with jekyll's in cell items\n",
    "        #############################################\n",
    "        jekyll_syntax_items = [\"{% cite\"]+bib_tags_clean+['--file '+bib_filename]+[\"%}\"]\n",
    "        separator = ' '\n",
    "        chunk_new = separator.join(jekyll_syntax_items)\n",
    "        chunk_original = '\\cite{'+match+'}'\n",
    "        item_modified = item_modified.replace(chunk_original, chunk_new)\n",
    "    return item_modified\n",
    "\n",
    "def replace_bibliography_syntax(bibliography_matched_raw, item):\n",
    "    # Only one single bibliography line exists\n",
    "    bib_tags_raw = re.split(\",\", bibliography_matched_raw[0])\n",
    "    bib_tags_clean = [x.strip() for x in bib_tags_raw]\n",
    "    separator = ' '\n",
    "    jekyll_syntax_items = [\"{% bibliography\"]+[separator.join(['--file', x]) for x in bib_tags_clean]+[\"--cited %}\"]\n",
    "    chunk_new = separator.join(jekyll_syntax_items)\n",
    "    chunk_original = r'\\bibliography{'+bibliography_matched_raw[0]+'}'\n",
    "    item_modified = item.replace(chunk_original, chunk_new)\n",
    "    return item_modified\n",
    "\n",
    "##########################################################################################\n",
    "def find_replace_refs_in_cell(cell, refs_pattern_latex):\n",
    "    for j in range(len(cell['source'])):\n",
    "        item = cell['source'][j]\n",
    "        refs_matched_raw = re.findall(refs_pattern_latex, item)\n",
    "        if refs_matched_raw:\n",
    "            item_modified = replace_ref_syntax(refs_matched_raw, item)\n",
    "            cell['source'][j]  = item_modified\n",
    "    return cell\n",
    "\n",
    "def replace_ref_syntax(refs_matched_raw, item):\n",
    "    item_modified = item\n",
    "    for label in refs_matched_raw:\n",
    "        if get_label_elements(label) != 'None':\n",
    "            chunk_original = r'\\ref{'+label+'}'\n",
    "            marker, label_name = get_label_elements(label)\n",
    "            label_number = labels_tags_dic[marker][label_name]\n",
    "            chunk_new = '['+marker+':'+label_number+'](#'+label+')'\n",
    "            item_modified = item.replace(chunk_original, chunk_new)\n",
    "            item = item_modified\n",
    "        else:\n",
    "            pass\n",
    "    return item\n",
    "\n",
    "##########################################################################################\n",
    "\n",
    "def find_labels_captions_in_cell(cell, labels_pattern_latex, captions_pattern_latex):\n",
    "    \"\"\"Find raw LaTeX labels/captions defined in cell. This assumes a single pair is only present.\"\"\"\n",
    "    dic = {}\n",
    "    for j in range(len(cell['source'])):\n",
    "        item = cell['source'][j]\n",
    "        labels_matched_raw = re.findall(labels_pattern_latex, item)\n",
    "        captions_matched_raw = re.findall(captions_pattern_latex, item)\n",
    "        if labels_matched_raw:\n",
    "            dic['label'] = labels_matched_raw[0]\n",
    "        elif captions_matched_raw:\n",
    "            dic['caption'] = captions_matched_raw[0]\n",
    "    return dic\n",
    " \n",
    "##########################################################################################   \n",
    "    \n",
    "def replace_labels_captions_in_cell(cell, labels_pattern_latex, captions_pattern_latex):\n",
    "    dic = find_labels_captions_in_cell(cell, labels_pattern_latex, captions_pattern_latex)\n",
    "    for j in range(len(cell['source'])):\n",
    "        item = cell['source'][j]\n",
    "        labels_matched_raw = re.findall(labels_pattern_latex, item)\n",
    "        captions_matched_raw = re.findall(captions_pattern_latex, item)\n",
    "        \n",
    "        if labels_matched_raw:\n",
    "            item_modified = replace_label_syntax(item, dic)\n",
    "            cell['source'][j] = item_modified\n",
    "            \n",
    "        elif captions_matched_raw:\n",
    "            item_modified = replace_caption_syntax(item, dic)\n",
    "            cell['source'][j] = item_modified\n",
    "        else:\n",
    "            item_modified = item\n",
    "    return cell\n",
    "\n",
    "def replace_label_syntax(item, dic):\n",
    "    label_original = dic['label']\n",
    "    try: \n",
    "        marker, label_name = get_label_elements(label_original)\n",
    "        chunk_new = '\\n<a id=\"'+label_original+'\"></a>'\n",
    "        item_modified = re.sub(labels_pattern_latex, chunk_new, item)\n",
    "        return item_modified\n",
    "    except:\n",
    "        return item\n",
    "\n",
    "def replace_caption_syntax(item, dic):\n",
    "    caption = dic['caption']\n",
    "    label_original = dic['label']\n",
    "    marker, label_name = get_label_elements(label_original)\n",
    "    label_number = labels_tags_dic[marker][label_name]\n",
    "    #############################################\n",
    "    html_syntax_items = (\n",
    "        '<figcaption style=\"text-align:center;font-size:14px\">',\n",
    "        '<b>',\n",
    "        marker+':'+label_number+' ',\n",
    "        '</b>',\n",
    "        '<em>'+' ',\n",
    "        caption,\n",
    "        '</em>',\n",
    "        '</figcaption>'\n",
    "    )\n",
    "    chunk_new = ''.join(html_syntax_items)\n",
    "    chunk_original = r'\\caption{'+caption+'}'\n",
    "    item_modified = item.replace(chunk_original, chunk_new)\n",
    "    return item_modified\n",
    "##########################################################################################\n",
    "\n",
    "def latex_to_html_in_jupyter(nb):\n",
    "    for i in range(len(nb['cells'])):\n",
    "        cell = nb['cells'][i]\n",
    "        cell_modified = find_replace_citations_in_cell(cell, citations_pattern_latex)\n",
    "        cell_modified = find_replace_refs_in_cell(cell_modified, refs_pattern_latex)\n",
    "        cell_modified = replace_labels_captions_in_cell(cell, labels_pattern_latex, captions_pattern_latex)\n",
    "        nb['cells'][i] = cell_modified\n",
    "    return nb\n",
    "\n",
    "##########################################################################################\n",
    "if __name__ == \"__main__\":\n",
    "    import re\n",
    "    import sys\n",
    "    import json\n",
    "    #############################################\n",
    "    # Settings\n",
    "    #############################################\n",
    "    citations_pattern_latex = re.compile(r'\\\\cite\\{(.+?)\\}')\n",
    "    bibliography_pattern_latex = re.compile(r'\\\\bibliography\\{(.+?)\\}')\n",
    "    refs_pattern_latex = re.compile(r'\\\\ref\\{(.+?)\\}')\n",
    "    labels_pattern_latex = re.compile(r'\\\\label\\{(.+?)\\}$')\n",
    "    captions_pattern_latex = re.compile(r'\\\\caption\\{(.+?)\\}$')\n",
    "    #############################################\n",
    "    # Script input arguments (self-explanatory)\n",
    "    #############################################\n",
    "    nb_infile = sys.argv[1]\n",
    "    nb_outfile = sys.argv[2]\n",
    "    bib_filename = sys.argv[3]\n",
    "    #############################################\n",
    "    # Load Jupyter Notebook as Dictionary\n",
    "    #############################################\n",
    "    try:\n",
    "        with open(nb_infile,'r') as fp:\n",
    "            nb = json.load(fp)\n",
    "        fp.close()\n",
    "        #############################################\n",
    "        # Turn LaTeX label/ref syntax in Jupyter Noteboks into MD syntax\n",
    "        #############################################\n",
    "        labels_tags_dic = get_labels_tags_dic(nb, labels_pattern_latex)\n",
    "        nb_modified =  latex_to_html_in_jupyter(nb)\n",
    "        \n",
    "        with open(nb_outfile,'w') as fp:\n",
    "            json.dump(nb_modified, fp)\n",
    "        fp.close()\n",
    "        print(\"New Notebook successfully generated\")\n",
    "    except:\n",
    "        print(\"Couldn't find Jupyter Notebook. Check your input path\")"
   ]
  },
  {
   "cell_type": "markdown",
   "metadata": {},
   "source": [
    "<a id=\"script_fix_all\"></a>\n",
    "#### SCRIPT: All fixed (Version 2)"
   ]
  },
  {
   "cell_type": "code",
   "execution_count": 22,
   "metadata": {
    "ExecuteTime": {
     "end_time": "2019-12-08T10:08:21.437356Z",
     "start_time": "2019-12-08T10:08:21.408519Z"
    }
   },
   "outputs": [
    {
     "name": "stdout",
     "output_type": "stream",
     "text": [
      "Overwriting scripts/jupyter_latex2html.py\n"
     ]
    }
   ],
   "source": [
    "%%writefile scripts/jupyter_latex2html.py\n",
    "#!/usr/bin/env python\n",
    "\n",
    "#############################################\n",
    "# List of valid label markers for HTML syntax conversion\n",
    "#############################################\n",
    "MARKERS_latex = ['ch','sec','subsec','fig','tab']\n",
    "out = []\n",
    "\n",
    "def get_label_elements(label):\n",
    "    try:\n",
    "        marker, label_name = [x.strip() for x in label.split(':')]\n",
    "        return marker, label_name\n",
    "    except:\n",
    "        return 'None'\n",
    "\n",
    "def get_labels_tags_dic(nb, labels_pattern_latex, MARKERS_latex = MARKERS_latex):\n",
    "    \"\"\"Generate a dictionary of all LaTeX defined labels in Jupyter Notebook\"\"\"\n",
    "    dic = {}\n",
    "    for marker in MARKERS_latex:\n",
    "        dic[marker] = {}\n",
    "        COUNTER = 0\n",
    "        #############################################\n",
    "        # Search for LaTeX label/captions/reference commands within cells' content (source)\n",
    "        #############################################\n",
    "        for i in range(len(nb['cells'])):\n",
    "            cell = nb['cells'][i]\n",
    "            for j in range(len(cell['source'])):\n",
    "                item = cell['source'][j]\n",
    "                #############################################\n",
    "                # Look for defined label in cell content\n",
    "                #############################################\n",
    "                labels_matched_raw = re.findall(labels_pattern_latex, item)\n",
    "                if labels_matched_raw:\n",
    "                    #############################################\n",
    "                    # Add label names/numbers to dictionary according to marker\n",
    "                    #############################################\n",
    "                    label = labels_matched_raw[0]\n",
    "                    if get_label_elements(label) != 'None':\n",
    "                        if  get_label_elements(label)[0] == marker:\n",
    "                            COUNTER += 1\n",
    "                            label_name = get_label_elements(label)[1]\n",
    "                            dic[marker][label_name] = str(COUNTER)\n",
    "    return dic\n",
    "\n",
    "##########################################################################################\n",
    "def find_replace_citations_in_cell(cell, citations_pattern_latex):\n",
    "    for j in range(len(cell['source'])):\n",
    "        item = cell['source'][j]\n",
    "        citations_matched_raw = re.findall(citations_pattern_latex, item)\n",
    "        bibliography_matched_raw = re.findall(bibliography_pattern_latex,item)\n",
    "        \n",
    "        if citations_matched_raw:\n",
    "            item_modified = replace_citation_syntax(citations_matched_raw, item)\n",
    "            cell['source'][j] = item_modified\n",
    "            \n",
    "        elif bibliography_matched_raw:\n",
    "            item_modified = replace_bibliography_syntax(bibliography_matched_raw, item)\n",
    "            cell['source'][j] = item_modified\n",
    "    return cell\n",
    "\n",
    "def replace_citation_syntax(citations_matched_raw, item):\n",
    "    item_modified = item\n",
    "    for match in citations_matched_raw:\n",
    "        bib_tags_raw = re.split(\",\", match)\n",
    "        bib_tags_clean = [x.strip() for x in bib_tags_raw]\n",
    "        #############################################\n",
    "        # Replace LaTeX syntax with jekyll's in cell items\n",
    "        #############################################\n",
    "        jekyll_syntax_items = [\"{% cite\"]+bib_tags_clean+['--file '+bib_filename]+[\"%}\"]\n",
    "        separator = ' '\n",
    "        chunk_new = separator.join(jekyll_syntax_items)\n",
    "        chunk_original = '\\cite{'+match+'}'\n",
    "        item_modified = item_modified.replace(chunk_original, chunk_new)\n",
    "    return item_modified\n",
    "\n",
    "def replace_bibliography_syntax(bibliography_matched_raw, item):\n",
    "    # Only one single bibliography line exists\n",
    "    bib_tags_raw = re.split(\",\", bibliography_matched_raw[0])\n",
    "    bib_tags_clean = [x.strip() for x in bib_tags_raw]\n",
    "    separator = ' '\n",
    "    jekyll_syntax_items = [\"{% bibliography\"]+[separator.join(['--file', x]) for x in bib_tags_clean]+[\"--cited %}\"]\n",
    "    chunk_new = separator.join(jekyll_syntax_items)\n",
    "    chunk_original = r'\\bibliography{'+bibliography_matched_raw[0]+'}'\n",
    "    item_modified = item.replace(chunk_original, chunk_new)\n",
    "    return item_modified\n",
    "\n",
    "##########################################################################################\n",
    "def find_replace_refs_in_cell(cell, refs_pattern_latex):\n",
    "    for j in range(len(cell['source'])):\n",
    "        item = cell['source'][j]\n",
    "        refs_matched_raw = re.findall(refs_pattern_latex, item)\n",
    "        if refs_matched_raw:\n",
    "            item_modified = replace_ref_syntax(refs_matched_raw, item)\n",
    "            cell['source'][j]  = item_modified\n",
    "    return cell\n",
    "\n",
    "def replace_ref_syntax(refs_matched_raw, item):\n",
    "    item_modified = item\n",
    "    for label in refs_matched_raw:\n",
    "        if get_label_elements(label) != 'None':\n",
    "            chunk_original = r'\\ref{'+label+'}'\n",
    "            marker, label_name = get_label_elements(label)\n",
    "            label_number = labels_tags_dic[marker][label_name]\n",
    "            chunk_new = '['+marker+':'+label_number+'](#'+label+')'\n",
    "            item_modified = item.replace(chunk_original, chunk_new)\n",
    "            item = item_modified\n",
    "        else:\n",
    "            pass\n",
    "    return item\n",
    "\n",
    "##########################################################################################\n",
    "# VERSION 2\n",
    "def find_labels_captions_in_cell(cell, labels_pattern_latex, captions_pattern_latex):\n",
    "    \"\"\"Find raw LaTeX labels/captions defined in cell. This assumes a single pair is only present.\"\"\"\n",
    "    dic = {}\n",
    "    dic['label'] = []\n",
    "    dic['caption'] = []\n",
    "    for j in range(len(cell['source'])):\n",
    "        item = cell['source'][j]\n",
    "        labels_matched_raw = re.findall(labels_pattern_latex, item)\n",
    "        captions_matched_raw = re.findall(captions_pattern_latex, item)\n",
    "        if labels_matched_raw:\n",
    "            dic['label'].append(labels_matched_raw[0])\n",
    "        elif captions_matched_raw:\n",
    "            dic['caption'].append(captions_matched_raw[0])\n",
    "    return dic\n",
    "\n",
    "##########################################################################################   \n",
    "\n",
    "def replace_labels_captions_in_cell(cell, labels_pattern_latex, captions_pattern_latex):\n",
    "    dic = find_labels_captions_in_cell(cell, labels_pattern_latex, captions_pattern_latex)\n",
    "    n_labels = len(dic['label']); n_captions = len(dic['caption'])\n",
    "    \n",
    "    if n_captions == 0:\n",
    "        for j in range(len(cell['source'])):\n",
    "            item = cell['source'][j]\n",
    "            labels_matched_raw = re.findall(labels_pattern_latex, item)\n",
    "            if labels_matched_raw:\n",
    "                item_modified = replace_label_syntax(labels_matched_raw, item)\n",
    "                cell['source'][j] = item_modified\n",
    "            else:\n",
    "                item_modified = item\n",
    "                cell['source'][j] = item_modified\n",
    "        return cell\n",
    "    \n",
    "    elif n_captions > 0:\n",
    "        for j in range(len(cell['source'])):\n",
    "            item = cell['source'][j]\n",
    "            labels_matched_raw = re.findall(labels_pattern_latex, item)\n",
    "            captions_matched_raw = re.findall(captions_pattern_latex, item)\n",
    "\n",
    "            if labels_matched_raw:\n",
    "                item_modified = replace_label_syntax(labels_matched_raw, item)\n",
    "                cell['source'][j] = item_modified\n",
    "\n",
    "            elif captions_matched_raw:\n",
    "                item_modified = replace_caption_syntax(item, dic)\n",
    "                cell['source'][j] = item_modified\n",
    "            else:\n",
    "                item_modified = item\n",
    "        return cell\n",
    "\n",
    "def replace_label_syntax(labels_matched_raw, item):\n",
    "    label_original = labels_matched_raw[0]\n",
    "    try:\n",
    "        marker, label_name = get_label_elements(label_original)\n",
    "        #############################################\n",
    "        # Replace syntax only for labels with specific markers\n",
    "        #\n",
    "        # This will skip any label without a marker\n",
    "        # And those not defined in the list MARKERS_latex (e.g., eq)\n",
    "        #############################################\n",
    "        if marker in MARKERS_latex:\n",
    "            chunk_new = '\\n<a id=\"'+label_original+'\"></a>'\n",
    "            item_modified = re.sub(labels_pattern_latex, chunk_new, item)\n",
    "            return item_modified\n",
    "        else:\n",
    "            return item\n",
    "    except:\n",
    "        return item\n",
    "    \n",
    "def replace_caption_syntax(item, dic):\n",
    "    if len(dic['caption']) == 1:\n",
    "        caption = dic['caption'][0]\n",
    "        label_original = dic['label'][0]\n",
    "        marker, label_name = get_label_elements(label_original)\n",
    "        label_number = labels_tags_dic[marker][label_name]\n",
    "        #############################################\n",
    "        html_syntax_items = (\n",
    "            '<figcaption style=\"text-align:center;font-size:14px\">',\n",
    "            '<b>',\n",
    "            marker+':'+label_number+' ',\n",
    "            '</b>',\n",
    "            '<em>'+' ',\n",
    "            caption,\n",
    "            '</em>',\n",
    "            '</figcaption>',\n",
    "            '<hr>'\n",
    "        )\n",
    "        chunk_new = ''.join(html_syntax_items)\n",
    "        chunk_original = r'\\caption{'+caption+'}'\n",
    "        item_modified = item.replace(chunk_original, chunk_new)\n",
    "        return item_modified\n",
    "    else:\n",
    "        print(\"More than one caption was found. Keep a single label/caption pair per cell.\")\n",
    "\n",
    "##########################################################################################\n",
    "\n",
    "def latex_to_html_in_jupyter(nb):\n",
    "    for i in range(len(nb['cells'])):\n",
    "        cell = nb['cells'][i]\n",
    "        cell_modified = find_replace_citations_in_cell(cell, citations_pattern_latex)\n",
    "        cell_modified = find_replace_refs_in_cell(cell_modified, refs_pattern_latex)\n",
    "        cell_modified = replace_labels_captions_in_cell(cell, labels_pattern_latex, captions_pattern_latex)\n",
    "        nb['cells'][i] = cell_modified\n",
    "    return nb\n",
    "\n",
    "##########################################################################################\n",
    "if __name__ == \"__main__\":\n",
    "    import re\n",
    "    import sys\n",
    "    import json\n",
    "    #############################################\n",
    "    # Settings\n",
    "    #############################################\n",
    "    citations_pattern_latex = re.compile(r'\\\\cite\\{(.+?)\\}')\n",
    "    bibliography_pattern_latex = re.compile(r'\\\\bibliography\\{(.+?)\\}')\n",
    "    refs_pattern_latex = re.compile(r'\\\\ref\\{(.+?)\\}')\n",
    "    labels_pattern_latex = re.compile(r'\\\\label\\{(.+?)\\}$')\n",
    "    captions_pattern_latex = re.compile(r'\\\\caption\\{(.+?)\\}$')\n",
    "    #############################################\n",
    "    # Script input arguments (self-explanatory)\n",
    "    #############################################\n",
    "    nb_infile = sys.argv[1]\n",
    "    nb_outfile = sys.argv[2]\n",
    "    bib_filename = sys.argv[3]\n",
    "    #############################################\n",
    "    # Load Jupyter Notebook as Dictionary\n",
    "    #############################################\n",
    "    try:\n",
    "        with open(nb_infile,'r') as fp:\n",
    "            nb = json.load(fp)\n",
    "        fp.close()\n",
    "        \n",
    "        #############################################\n",
    "        # Turn LaTeX label/ref syntax in Jupyter Noteboks into MD syntax\n",
    "        #############################################\n",
    "        labels_tags_dic = get_labels_tags_dic(nb, labels_pattern_latex)\n",
    "        nb_modified =  latex_to_html_in_jupyter(nb)\n",
    "        \n",
    "        with open(nb_outfile,'w') as fp:\n",
    "            json.dump(nb_modified, fp)\n",
    "        fp.close()\n",
    "        \n",
    "        print(\"New Notebook successfully generated\")\n",
    "    except:\n",
    "        print(\"Couldn't find Jupyter Notebook. Check your input path\")"
   ]
  },
  {
   "cell_type": "markdown",
   "metadata": {},
   "source": [
    "_POTENTIAL IMPROVEMENTS_\n",
    "\n",
    "* Convert \\section and \\subsection LaTeX elements into Markdown automatically\n",
    "* One label and caption per cell, alongisde the object to reference (for tables and figure)\n",
    "* Find a way to split content into individual cells so that unique identification of label/caption pairs in cells can be done\n",
    "* __Modify code to accept special characters in Latex__ "
   ]
  },
  {
   "cell_type": "markdown",
   "metadata": {},
   "source": [
    "## <span style='color:red'>Converting Image Formats</span> "
   ]
  },
  {
   "cell_type": "markdown",
   "metadata": {},
   "source": [
    "Embedding of PDF images in Jupyter and HTML is not supported.\n",
    "\n",
    "So, this require either to convert the image to a differnt format (`jpg`, `.png`) or to encode the PDF image as an econded string chain (`Base64`)"
   ]
  },
  {
   "cell_type": "markdown",
   "metadata": {},
   "source": [
    "There are multiple options available to acchieve the first this task. While for the other, "
   ]
  },
  {
   "cell_type": "markdown",
   "metadata": {},
   "source": [
    "<span style='color:red'><b>TO-DO</b></span>\n"
   ]
  },
  {
   "cell_type": "code",
   "execution_count": 25,
   "metadata": {},
   "outputs": [
    {
     "name": "stdout",
     "output_type": "stream",
     "text": [
      "Draft.md                Draft_new2.md           SB_model.png\r\n",
      "Draft.pdf               LDT1m1_R1P1.png         TransitT.png\r\n",
      "Draft_captions-html.md  PES.png                 \u001b[1m\u001b[34mimages\u001b[m\u001b[m/\r\n",
      "Draft_new.md            PODS_DSshape.png        untitled.md\r\n"
     ]
    }
   ],
   "source": [
    "ls champsbook/content/03/"
   ]
  },
  {
   "cell_type": "code",
   "execution_count": 16,
   "metadata": {},
   "outputs": [
    {
     "name": "stderr",
     "output_type": "stream",
     "text": [
      "convert: unable to open image 'champsbook/content/01/2': No such file or directory @ error/blob.c/OpenBlob/3485.\n",
      "convert: no decode delegate for this image format `' @ error/constitute.c/ReadImage/556.\n",
      "convert: no images defined `champsbook/content/01/2jpg' @ error/convert.c/ConvertImageCommand/3300.\n",
      "convert: unable to open image 'DoF': No such file or directory @ error/blob.c/OpenBlob/3485.\n",
      "convert: no decode delegate for this image format `' @ error/constitute.c/ReadImage/556.\n",
      "convert: no images defined `DoFjpg' @ error/convert.c/ConvertImageCommand/3300.\n",
      "convert: unable to open image 'index': No such file or directory @ error/blob.c/OpenBlob/3485.\n",
      "convert: no decode delegate for this image format `' @ error/constitute.c/ReadImage/556.\n",
      "convert: no images defined `indexjpg' @ error/convert.c/ConvertImageCommand/3300.\n",
      "convert: unable to open image '1': No such file or directory @ error/blob.c/OpenBlob/3485.\n",
      "convert: no decode delegate for this image format `' @ error/constitute.c/ReadImage/556.\n",
      "convert: no images defined `1jpg' @ error/convert.c/ConvertImageCommand/3300.\n",
      "convert: unable to open image 'saddle.pdf': No such file or directory @ error/blob.c/OpenBlob/3485.\n",
      "convert: no images defined `saddle.jpg' @ error/convert.c/ConvertImageCommand/3300.\n",
      "convert: unable to open image 'champsbook/content/01/3': No such file or directory @ error/blob.c/OpenBlob/3485.\n",
      "convert: no decode delegate for this image format `' @ error/constitute.c/ReadImage/556.\n",
      "convert: no images defined `champsbook/content/01/3jpg' @ error/convert.c/ConvertImageCommand/3300.\n",
      "convert: unable to open image 'DoF': No such file or directory @ error/blob.c/OpenBlob/3485.\n",
      "convert: no decode delegate for this image format `' @ error/constitute.c/ReadImage/556.\n",
      "convert: no images defined `DoFjpg' @ error/convert.c/ConvertImageCommand/3300.\n",
      "convert: unable to open image 'index': No such file or directory @ error/blob.c/OpenBlob/3485.\n",
      "convert: no decode delegate for this image format `' @ error/constitute.c/ReadImage/556.\n",
      "convert: no images defined `indexjpg' @ error/convert.c/ConvertImageCommand/3300.\n",
      "convert: unable to open image '1': No such file or directory @ error/blob.c/OpenBlob/3485.\n",
      "convert: no decode delegate for this image format `' @ error/constitute.c/ReadImage/556.\n",
      "convert: no images defined `1jpg' @ error/convert.c/ConvertImageCommand/3300.\n",
      "convert: unable to open image 'saddle.pdf': No such file or directory @ error/blob.c/OpenBlob/3485.\n",
      "convert: no images defined `saddle.jpg' @ error/convert.c/ConvertImageCommand/3300.\n",
      "convert: unable to open image 'champsbook/content/01/book': No such file or directory @ error/blob.c/OpenBlob/3485.\n",
      "convert: no decode delegate for this image format `' @ error/constitute.c/ReadImage/556.\n",
      "convert: no images defined `champsbook/content/01/bookjpg' @ error/convert.c/ConvertImageCommand/3300.\n",
      "convert: unable to open image 'sprint': No such file or directory @ error/blob.c/OpenBlob/3485.\n",
      "convert: no decode delegate for this image format `' @ error/constitute.c/ReadImage/556.\n",
      "convert: no images defined `sprintjpg' @ error/convert.c/ConvertImageCommand/3300.\n",
      "convert: unable to open image 'intro.pdf': No such file or directory @ error/blob.c/OpenBlob/3485.\n",
      "convert: no images defined `intro.jpg' @ error/convert.c/ConvertImageCommand/3300.\n",
      "convert: unable to open image 'champsbook/content/01/index': No such file or directory @ error/blob.c/OpenBlob/3485.\n",
      "convert: no decode delegate for this image format `' @ error/constitute.c/ReadImage/556.\n",
      "convert: no images defined `champsbook/content/01/indexjpg' @ error/convert.c/ConvertImageCommand/3300.\n",
      "convert: unable to open image '2': No such file or directory @ error/blob.c/OpenBlob/3485.\n",
      "convert: no decode delegate for this image format `' @ error/constitute.c/ReadImage/556.\n",
      "convert: no images defined `2jpg' @ error/convert.c/ConvertImageCommand/3300.\n",
      "convert: unable to open image 'saddle.pdf': No such file or directory @ error/blob.c/OpenBlob/3485.\n",
      "convert: no images defined `saddle.jpg' @ error/convert.c/ConvertImageCommand/3300.\n",
      "convert: unable to open image 'champsbook/content/01/saddle': No such file or directory @ error/blob.c/OpenBlob/3485.\n",
      "convert: no decode delegate for this image format `' @ error/constitute.c/ReadImage/556.\n",
      "convert: no images defined `champsbook/content/01/saddlejpg' @ error/convert.c/ConvertImageCommand/3300.\n",
      "convert: unable to open image 'index': No such file or directory @ error/blob.c/OpenBlob/3485.\n",
      "convert: no decode delegate for this image format `' @ error/constitute.c/ReadImage/556.\n",
      "convert: no images defined `indexjpg' @ error/convert.c/ConvertImageCommand/3300.\n",
      "convert: unable to open image 'definition.pdf': No such file or directory @ error/blob.c/OpenBlob/3485.\n",
      "convert: no images defined `definition.jpg' @ error/convert.c/ConvertImageCommand/3300.\n"
     ]
    }
   ],
   "source": [
    "%%bash\n",
    "for f in `ls champsbook/content/*/*.pdf`; do convert -density 144 \"$f\" \"${f%pdf}png\"; done"
   ]
  },
  {
   "cell_type": "code",
   "execution_count": 19,
   "metadata": {},
   "outputs": [
    {
     "name": "stdout",
     "output_type": "stream",
     "text": [
      "champsbook/content/01/1_DOF_saddle.pdf\r\n",
      "champsbook/content/01/2 DoF index 1 saddle.pdf\r\n",
      "champsbook/content/01/3 DoF index 1 saddle.pdf\r\n",
      "champsbook/content/01/book sprint intro.pdf\r\n",
      "champsbook/content/01/ham_bif.pdf\r\n",
      "champsbook/content/01/ham_pitch.pdf\r\n",
      "champsbook/content/01/index 2 saddle.pdf\r\n",
      "champsbook/content/01/saddle index definition.pdf\r\n",
      "champsbook/content/02/phasePort_symm_1D_xDoF.pdf\r\n",
      "champsbook/content/03/Draft.pdf\r\n",
      "champsbook/content/04/booksprint_test.pdf\r\n",
      "champsbook/content/05/allinone_coupled.pdf\r\n",
      "champsbook/content/05/allinone_tpcd.pdf\r\n",
      "champsbook/content/05/paper.pdf\r\n",
      "champsbook/content/05/quad-normal-form.pdf\r\n",
      "champsbook/content/06/caldera.pdf\r\n",
      "champsbook/content/07/LagDesc.pdf\r\n"
     ]
    }
   ],
   "source": [
    "ls champsbook/content/*/*.pdf"
   ]
  },
  {
   "cell_type": "markdown",
   "metadata": {},
   "source": [
    "## Customising the appearance"
   ]
  },
  {
   "cell_type": "markdown",
   "metadata": {},
   "source": [
    "Most of the changes to the apperance of the output `jekyll` pages should be dones through the file\n",
    "\n",
    "`_sass/page/components/_components.page.scss`\n"
   ]
  },
  {
   "cell_type": "markdown",
   "metadata": {},
   "source": [
    "Check this file\n",
    "\n",
    "http://localhost:8888/edit/champs-booksprint-planning/demo/champsbook/_sass/page/settings/settings.global.scss"
   ]
  },
  {
   "cell_type": "markdown",
   "metadata": {},
   "source": [
    "### Modify alignment of main text"
   ]
  },
  {
   "cell_type": "markdown",
   "metadata": {},
   "source": [
    "To modify the text-alignment do this under the CSS class `jb_cell`, as below\n",
    "\n",
    "```css\n",
    "div.jb_cell {\n",
    "  width: 100%;\n",
    "  position: relative;\n",
    "  text-align: justify; /* Add this line to justify text */\n",
    "  .\n",
    "  .\n",
    "  .\n",
    "}\n",
    "```"
   ]
  },
  {
   "cell_type": "markdown",
   "metadata": {},
   "source": [
    "### Modification of image elements"
   ]
  },
  {
   "cell_type": "markdown",
   "metadata": {},
   "source": [
    "As above, to modify image features just modify the attributes of `img { ... }` as below"
   ]
  },
  {
   "cell_type": "markdown",
   "metadata": {},
   "source": [
    "```css\n",
    ".output_png img,\n",
    "div.text_cell_render > p > img,\n",
    "div.text_cell_render > p > a > img {\n",
    "  max-width: 500px; /* Given by default. Important to keep image within textwidth */\n",
    "  width: auto; /* Adjuts all image widths to maximum */\n",
    "  height: auto; /* Adjusts height automatically to preserve aspect ratio */\n",
    "  display: block;\n",
    "  margin-left: auto;\n",
    "  margin-right: auto;\n",
    "}\n",
    "```"
   ]
  },
  {
   "cell_type": "markdown",
   "metadata": {},
   "source": [
    "## Things to avoid during editing"
   ]
  },
  {
   "cell_type": "markdown",
   "metadata": {},
   "source": [
    "### SUGGESSTIONS"
   ]
  },
  {
   "cell_type": "markdown",
   "metadata": {},
   "source": [
    "* Avoid using `\\today` in Markdown files.\n",
    "* Add common `media` folder to their working directory for ease\n",
    "* Turn `.pdf` images to `.png`\n",
    "* For unumbered equations, avoid using `\\[ ... \\]` syntax. This doesn't get renderred in site.\n",
    "* Logo must be square\n",
    "* It accepts `*` notation to disable numbered equations, that is\n",
    ">```\n",
    "\\begin{equation*}\n",
    ".\n",
    ".\n",
    ".\n",
    "\\end{equation*}\n",
    "```\n",
    "* Avoid identical labels for different equations\n",
    "* `title`s in Markdown `.md` files will be chosen over titles defined in the configuration (`config.yml`) file"
   ]
  },
  {
   "cell_type": "markdown",
   "metadata": {},
   "source": [
    "**R Markdown stuff to avoid**"
   ]
  },
  {
   "cell_type": "markdown",
   "metadata": {},
   "source": [
    "Original "
   ]
  },
  {
   "cell_type": "raw",
   "metadata": {},
   "source": [
    "$$ \\frac{p_x^2}{2\\mu_x}+\\frac{p_y^2}{2\\mu_y}=E-V(x_i,y_i) $${#eq:DSGeomEq}"
   ]
  },
  {
   "cell_type": "markdown",
   "metadata": {},
   "source": [
    "Do instead"
   ]
  },
  {
   "cell_type": "raw",
   "metadata": {},
   "source": [
    "$$ \\frac{p_x^2}{2\\mu_x}+\\frac{p_y^2}{2\\mu_y}=E-V(x_i,y_i) \\label{DSGeomEq}$$"
   ]
  },
  {
   "cell_type": "markdown",
   "metadata": {},
   "source": [
    "### Unicode symbols"
   ]
  },
  {
   "cell_type": "markdown",
   "metadata": {},
   "source": [
    "https://www.w3schools.com/charsets/ref_utf_letterlike.asp"
   ]
  },
  {
   "cell_type": "markdown",
   "metadata": {},
   "source": [
    "`$\\unicode{x212B}$` renders as $\\unicode{x212B}$"
   ]
  },
  {
   "cell_type": "markdown",
   "metadata": {},
   "source": [
    "### Errors in bibliography files"
   ]
  },
  {
   "cell_type": "markdown",
   "metadata": {},
   "source": [
    "```bibtex\n",
    "@Article{Ezra2019,\n",
    "  AUTHOR= { Ezra, G. S. and Wiggins, S. },\n",
    "  TITLE\t\t= {The Chesnavich Model for Ion-Molecule Reactions: A Rigid Body Coupled to a Particle },\n",
    "  JOURNAL\t= {Int. J. Bifurcation Chaos},\n",
    "  VOLUME\t= {29},\n",
    "  YEAR\t\t=  {2019},\n",
    "  NUMBER\t= {2},\n",
    "  PAGES\t\t= {1950025},\n",
    "  DOI\t\t= {10.1142/S0218127419500251}\n",
    "}\n",
    "```"
   ]
  },
  {
   "cell_type": "markdown",
   "metadata": {},
   "source": [
    "All tags should be in bib file, if there is one missing, this will lead to error"
   ]
  },
  {
   "cell_type": "markdown",
   "metadata": {},
   "source": [
    "Latex Syntax fails\n"
   ]
  },
  {
   "cell_type": "code",
   "execution_count": null,
   "metadata": {},
   "outputs": [],
   "source": []
  },
  {
   "cell_type": "markdown",
   "metadata": {},
   "source": [
    "# TEST (Prologue)"
   ]
  },
  {
   "cell_type": "code",
   "execution_count": 5,
   "metadata": {
    "ExecuteTime": {
     "end_time": "2019-12-07T09:37:27.248433Z",
     "start_time": "2019-12-07T09:37:27.210500Z"
    }
   },
   "outputs": [],
   "source": [
    "import json\n",
    "nb_infile = 'champsbook/content/06/caldera-1.ipynb'\n",
    "\n",
    "with open(nb_infile,'r') as fp:\n",
    "    nb = json.load(fp)\n",
    "fp.close()"
   ]
  },
  {
   "cell_type": "code",
   "execution_count": 7,
   "metadata": {
    "ExecuteTime": {
     "end_time": "2019-12-07T09:37:41.866344Z",
     "start_time": "2019-12-07T09:37:41.859717Z"
    }
   },
   "outputs": [
    {
     "data": {
      "text/plain": [
       "dict_keys(['cells', 'metadata', 'nbformat', 'nbformat_minor'])"
      ]
     },
     "execution_count": 7,
     "metadata": {},
     "output_type": "execute_result"
    }
   ],
   "source": [
    "nb.keys()"
   ]
  },
  {
   "cell_type": "code",
   "execution_count": 9,
   "metadata": {
    "ExecuteTime": {
     "end_time": "2019-12-07T09:38:14.961653Z",
     "start_time": "2019-12-07T09:38:14.607534Z"
    }
   },
   "outputs": [
    {
     "name": "stdout",
     "output_type": "stream",
     "text": [
      "\u001b[1m\u001b[34mBookSprint-Demo\u001b[m\u001b[m/               \u001b[1m\u001b[34mscripts\u001b[m\u001b[m/\r\n",
      "Building a Jupyter Book.ipynb  \u001b[1m\u001b[34mtestbook\u001b[m\u001b[m/\r\n",
      "\u001b[1m\u001b[34mchampsbook\u001b[m\u001b[m/\r\n"
     ]
    }
   ],
   "source": [
    "ls"
   ]
  },
  {
   "cell_type": "code",
   "execution_count": null,
   "metadata": {},
   "outputs": [],
   "source": [
    "import json\n",
    "nb_infile = 'BookSprint-Demo/'\n",
    "\n",
    "with open(nb_infile,'r') as fp:\n",
    "    nb = json.load(fp)\n",
    "fp.close()"
   ]
  }
 ],
 "metadata": {
  "kernelspec": {
   "display_name": "Python 3",
   "language": "python",
   "name": "python3"
  },
  "language_info": {
   "codemirror_mode": {
    "name": "ipython",
    "version": 3
   },
   "file_extension": ".py",
   "mimetype": "text/x-python",
   "name": "python",
   "nbconvert_exporter": "python",
   "pygments_lexer": "ipython3",
   "version": "3.7.1"
  },
  "latex_envs": {
   "LaTeX_envs_menu_present": true,
   "autoclose": false,
   "autocomplete": true,
   "bibliofile": "/Users/bas/research/book_sprint/champs-booksprint-planning/convert_tex2html/article_test/sample.bib",
   "cite_by": "apalike",
   "current_citInitial": 1,
   "eqLabelWithNumbers": true,
   "eqNumInitial": 1,
   "hotkeys": {
    "equation": "Ctrl-E",
    "itemize": "Ctrl-I"
   },
   "labels_anchors": false,
   "latex_user_defs": false,
   "report_style_numbering": false,
   "user_envs_cfg": false
  },
  "toc": {
   "base_numbering": 1,
   "nav_menu": {},
   "number_sections": false,
   "sideBar": true,
   "skip_h1_title": false,
   "title_cell": "Table of Contents",
   "title_sidebar": "Contents",
   "toc_cell": false,
   "toc_position": {
    "height": "calc(100% - 180px)",
    "left": "10px",
    "top": "150px",
    "width": "384px"
   },
   "toc_section_display": true,
   "toc_window_display": true
  }
 },
 "nbformat": 4,
 "nbformat_minor": 2
}
