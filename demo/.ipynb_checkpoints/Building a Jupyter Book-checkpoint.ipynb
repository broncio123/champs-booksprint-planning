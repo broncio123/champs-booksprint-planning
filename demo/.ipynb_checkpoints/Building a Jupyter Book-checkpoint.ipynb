{
 "cells": [
  {
   "cell_type": "markdown",
   "metadata": {},
   "source": [
    "# PROCEDURE"
   ]
  },
  {
   "cell_type": "markdown",
   "metadata": {},
   "source": [
    "## Set up environment "
   ]
  },
  {
   "cell_type": "markdown",
   "metadata": {},
   "source": [
    "Install `jupyter-book`, do: \n",
    "\n",
    "``` bash\n",
    "pip install jupyter-book\n",
    "```"
   ]
  },
  {
   "cell_type": "markdown",
   "metadata": {},
   "source": [
    "## Create JupyterBook template"
   ]
  },
  {
   "cell_type": "markdown",
   "metadata": {},
   "source": [
    "!jupyter-book create champsbook --demo"
   ]
  },
  {
   "cell_type": "markdown",
   "metadata": {},
   "source": [
    "## Get files from Cloud  (`rclone`)"
   ]
  },
  {
   "cell_type": "markdown",
   "metadata": {},
   "source": [
    "Install `rclone` before hand."
   ]
  },
  {
   "cell_type": "markdown",
   "metadata": {},
   "source": [
    "<b>STEP 1</b> Configure `rclone` to access remote.\n",
    "\n",
    "Thorough instructions can be found [here](https://rclone.org/onedrive/). During this process you will set up a name for your remote folder. \n",
    "\n",
    "Here, we have named our remote folder as `booksprint`. This corresponds though to my whole OneDrive folder when using it."
   ]
  },
  {
   "cell_type": "markdown",
   "metadata": {},
   "source": [
    "<b>STEP 2</b> Check content in remote source. \n",
    "\n",
    "This will require contributors to upload their material to the remote folder beforehand."
   ]
  },
  {
   "cell_type": "code",
   "execution_count": 148,
   "metadata": {
    "ExecuteTime": {
     "end_time": "2019-12-06T18:56:24.247889Z",
     "start_time": "2019-12-06T18:56:24.236216Z"
    }
   },
   "outputs": [],
   "source": [
    "remote_name = 'booksprint'\n",
    "remote_source_dir = 'BookSprint-Demo'"
   ]
  },
  {
   "cell_type": "markdown",
   "metadata": {},
   "source": [
    "Check total folder size"
   ]
  },
  {
   "cell_type": "code",
   "execution_count": 149,
   "metadata": {
    "ExecuteTime": {
     "end_time": "2019-12-06T18:56:45.263437Z",
     "start_time": "2019-12-06T18:56:24.251958Z"
    }
   },
   "outputs": [
    {
     "name": "stdout",
     "output_type": "stream",
     "text": [
      "Total objects: 568\r\n",
      "Total size: 129.909 MBytes (136219728 Bytes)\r\n"
     ]
    }
   ],
   "source": [
    "!rclone size $remote_name:$remote_source_dir"
   ]
  },
  {
   "cell_type": "markdown",
   "metadata": {},
   "source": [
    "Check _rough size_ of repository"
   ]
  },
  {
   "cell_type": "code",
   "execution_count": 20,
   "metadata": {
    "ExecuteTime": {
     "end_time": "2019-12-06T11:39:45.925599Z",
     "start_time": "2019-12-06T11:39:32.458520Z"
    }
   },
   "outputs": [
    {
     "name": "stdout",
     "output_type": "stream",
     "text": [
      "count: 3833\r\n",
      "size: 294.55 MiB\r\n",
      "in-pack: 298\r\n",
      "packs: 10\r\n",
      "size-pack: 19.43 MiB\r\n",
      "prune-packable: 268\r\n",
      "garbage: 0\r\n",
      "size-garbage: 0 bytes\r\n"
     ]
    }
   ],
   "source": [
    "!git count-objects -vH"
   ]
  },
  {
   "cell_type": "markdown",
   "metadata": {},
   "source": [
    "<span style='color:red'><b>NOTE</b></span> Checking the total folder size is important as GitHub has a **hard disk limit** of  **100GB** for every repo; repos are recommended to be kept under 1GB. See the documentation, [here](https://help.github.com/en/github/managing-large-files/what-is-my-disk-quota).\n",
    "\n",
    "So, if you perform version control of the files taken from the remote in a repo, be cautios of this limit!"
   ]
  },
  {
   "cell_type": "markdown",
   "metadata": {},
   "source": [
    "Check remote folder content"
   ]
  },
  {
   "cell_type": "code",
   "execution_count": 60,
   "metadata": {
    "ExecuteTime": {
     "end_time": "2019-12-08T12:30:29.933747Z",
     "start_time": "2019-12-08T12:30:23.435206Z"
    }
   },
   "outputs": [
    {
     "name": "stdout",
     "output_type": "stream",
     "text": [
      "2019/12/08 12:30:24 ERROR : Using --filter is recommended instead of both --include and --exclude as the order they are parsed in is indeterminate\n",
      "    27441 RGM/Main.md\n",
      "     4100 RGM/TST.md\n",
      "     1995 RGM/untitled.md\n",
      "    18151 MK/caldera-1.ipynb\n",
      "    53803 F/prueba.ipynb\n",
      "    20624 fundamental_models/fundamental_models.ipynb\n",
      "    38503 SN/finding_nhim_2and3dof_nonlinear/finding_nhim_2and3dof_nonlinear.md\n",
      "    86792 SN/finding_nhim_quad_normal_form/finding_nhim_quad_normal_form.md\n",
      "     5815 prologe/Prologue.ipynb\n",
      "     4527 prologe/TST.ipynb\n",
      "     3835 prologe/TST.md\n",
      "    23813 SN/system_bath/deleon_berne.md\n",
      "    53171 SN/system_bath/system_bath.md\n",
      "     9327 SN/workflow-demo/paper.md\n",
      "     5100 SW/1 DoF saddle/1_DOF_saddle.ipynb\n",
      "     6711 SW/2 DoF index 1 saddle/2_dof_index_1_saddle.ipynb\n",
      "     4330 MK/.ipynb_checkpoints/booksprinttest_makrina(1)-checkpoint.ipynb\n",
      "     3333 MK/.ipynb_checkpoints/caldera-1-checkpoint.ipynb\n",
      "     2521 MK/.ipynb_checkpoints/caldera-checkpoint.ipynb\n",
      "   105457 VK/1 - Roaming/roam.md\n",
      "     5898 SW/2 DoF index 2 saddle/index_2_saddle.ipynb\n",
      "    14492 act3/barbanis_3dof/barbanis_3dof.md\n",
      "     6789 act1/Hamiltonian bifurcation/ham_bif.ipynb\n",
      "     6235 SW/3 DoF index 1 saddle/3_dof_index_1_saddle.ipynb\n",
      "    81744 act2/1-Ches/roam.md\n",
      "    79249 VK/2 - Roammass/roamm.md\n",
      "    35994 VK/3 - Roamiso/roamiso.md\n",
      "    16850 act3/system_bath1/main.md\n",
      "    38503 SN/finding_nhim_2and3dof_nonlinear/.ipynb_checkpoints/finding_nhim_2and3dof_nonlinear-checkpoint.md\n",
      "     5815 prologe/.ipynb_checkpoints/Prologue-checkpoint.ipynb\n",
      "    29438 act1/Morse/Morse.ipynb\n",
      "    57538 act2/2-Ches/roam_mass_energy_var.md\n",
      "    37036 VK/4 - LD manif/roamld.md\n",
      "     8108 SW/Definition of the index of a saddle/saddle_index_definition.ipynb\n",
      "    32817 act3/system_bath2/system_bath.md\n",
      "     6290 SW/Hamiltonian bifurcation/ham_bif.ipynb\n",
      "    40027 MA/booksprinttest_makrina.ipynb\n",
      "    49613 act2/3-Ches/roamiso.md\n",
      "      555 act3/barbanis_3dof/.ipynb_checkpoints/Untitled-checkpoint.ipynb\n",
      "    14492 act3/barbanis_3dof/.ipynb_checkpoints/barbanis_3dof-checkpoint.md\n",
      "     8108 prologe/Definition of the index of a saddle/saddle_index_definition.ipynb\n",
      "    28073 VK/md equivalent of SW Morse/Morse.ipynb\n",
      "    17228 VK/md equivalent of SW Morse/Morse.md\n",
      "   105478 act2/1-Ches/.ipynb_checkpoints/roam-checkpoint.md\n",
      "        0 act1/Hamiltonian bifurcation/.ipynb_checkpoints/ham_bif-checkpoint.ipynb\n",
      "    22513 act2/barbanis2D/barbanis2d.md\n",
      "     8774 SW/Intro material/booksprint_intro.ipynb\n",
      "    16850 act3/system_bath1/.ipynb_checkpoints/main-checkpoint.md\n",
      "     4094 prologe/LDs/.ipynb\n",
      "    45421 prologe/LDs/LDs_victor.ipynb\n",
      "     6507 VK/test/test.ipynb\n",
      "     4094 prologe/.ipynb_checkpoints/LDs/.ipynb\n",
      "    45421 prologe/.ipynb_checkpoints/LDs/LDs_victor.ipynb\n",
      "    29438 act1/Morse/.ipynb_checkpoints/Morse-checkpoint.ipynb\n",
      "    29708 SW/Morse/Morse.ipynb\n",
      "    63871 VGG/HamSN/HSN_victor.ipynb\n",
      "    16611 act2/caldera/caldera-1.ipynb\n",
      "    79276 act2/2-Ches/.ipynb_checkpoints/roamm-checkpoint.md\n",
      "       72 act3/system_bath2/.ipynb_checkpoints/Untitled-checkpoint.ipynb\n",
      "    46432 act3/system_bath2/.ipynb_checkpoints/system_bath-checkpoint.md\n",
      "     4094 VGG/LDs/.ipynb\n",
      "    45421 VGG/LDs/LDs_victor.ipynb\n",
      "    35153 act2/deLeon_Berne/deleon_berne.md\n",
      "    28073 VK/md equivalent of SW Morse/.ipynb_checkpoints/Morse-checkpoint.ipynb\n",
      "    36029 act2/3-Ches/.ipynb_checkpoints/roamiso-checkpoint.md\n",
      "    22513 act2/barbanis2D/.ipynb_checkpoints/barbanis2d-checkpoint.md\n",
      "    45421 prologe/LDs/.ipynb_checkpoints/LDs_victor-checkpoint.ipynb\n",
      "    52210 act2/double_morse/prueba.ipynb\n",
      "    45421 prologe/.ipynb_checkpoints/LDs/.ipynb_checkpoints/LDs_victor-checkpoint.ipynb\n",
      "    16611 act2/caldera/.ipynb_checkpoints/caldera-1-checkpoint.ipynb\n",
      "    63871 VGG/HamSN/.ipynb_checkpoints/HSN_victor-checkpoint.ipynb\n",
      "    41910 act2/four_well_morse/booksprinttest_makrina.ipynb\n",
      "    45421 VGG/LDs/.ipynb_checkpoints/LDs_victor-checkpoint.ipynb\n",
      "    51833 act2/hamiltonian_sn/HSN_victor.ipynb\n",
      "    13769 act2/system_bath1/system_bath1.md\n",
      "    52210 act2/double_morse/.ipynb_checkpoints/prueba-checkpoint.ipynb\n",
      "    41910 act2/four_well_morse/.ipynb_checkpoints/booksprinttest_makrina-checkpoint.ipynb\n",
      "    51833 act2/hamiltonian_sn/.ipynb_checkpoints/HSN_victor-checkpoint.ipynb\n",
      "    27215 act2/system_bath1/.ipynb_checkpoints/Main-checkpoint.md\n"
     ]
    }
   ],
   "source": [
    "!rclone ls --include \\*.ipynb --include \\*.md --exclude='*checkpoint.ipynb' $remote_name:$remote_source_dir"
   ]
  },
  {
   "cell_type": "markdown",
   "metadata": {},
   "source": [
    "<b>STEP 3</b> Sync remote with local folder.\n",
    "\n",
    "This local folder is an intermmediate folder and **must be** separate from the `_content` (part of the GiHub repo) folder were files are kept after scripted editing and revision to build the book. "
   ]
  },
  {
   "cell_type": "markdown",
   "metadata": {},
   "source": [
    "<span style='color:red'><b>NOTE</b></span> What actually `rclone sync` does.\n",
    "\n",
    "`rclone sync` Sync the source to the destination, changing the destination only. Doesn’t transfer unchanged files, testing by size and modification time or MD5SUM. Destination is updated to match source, including deleting files if necessary.\n",
    "\n",
    "[SOURCE](https://rclone.org/commands/rclone_sync/)"
   ]
  },
  {
   "cell_type": "markdown",
   "metadata": {},
   "source": [
    "OPTIONAL: Enable the flag `--progress` or `-P` "
   ]
  },
  {
   "cell_type": "code",
   "execution_count": 28,
   "metadata": {
    "ExecuteTime": {
     "end_time": "2019-12-08T11:22:58.861558Z",
     "start_time": "2019-12-08T11:22:58.850069Z"
    }
   },
   "outputs": [],
   "source": [
    "remote_name = 'booksprint'\n",
    "remote_source_dir = 'BookSprint-Demo'"
   ]
  },
  {
   "cell_type": "code",
   "execution_count": 29,
   "metadata": {
    "ExecuteTime": {
     "end_time": "2019-12-08T11:23:00.231810Z",
     "start_time": "2019-12-08T11:23:00.218161Z"
    }
   },
   "outputs": [],
   "source": [
    "local_source_dir = 'BookSprint-Demo'"
   ]
  },
  {
   "cell_type": "code",
   "execution_count": 66,
   "metadata": {
    "ExecuteTime": {
     "end_time": "2019-12-08T14:14:26.417319Z",
     "start_time": "2019-12-08T14:12:38.546285Z"
    },
    "scrolled": true
   },
   "outputs": [
    {
     "name": "stdout",
     "output_type": "stream",
     "text": [
      "\u001b[2K\u001b[0GTransferred:   \t         0 / 0 Bytes, -, 0 Bytes/s, ETA -\n",
      "Errors:                 0\n",
      "Checks:                 0 / 0, -\n",
      "Transferred:            0 / 0, -\n",
      "Elapsed time:        2.6s\u001b[2K\u001b[A\u001b[2K\u001b[A\u001b[2K\u001b[A\u001b[2K\u001b[A\u001b[2K\u001b[0GTransferred:   \t         0 / 14.027 MBytes, 0%, 0 Bytes/s, ETA -\n",
      "Errors:                 0\n",
      "Checks:                12 / 12, 100%\n",
      "Transferred:            0 / 52, 0%\n",
      "Elapsed time:        3.1s\n",
      "Transferring:\n",
      " *                     MOTHER FILES/MK/.DS_Store: transferring\n",
      " *                   MOTHER FILES/MK/caldera.aux: transferring\n",
      " *                MOTHER FILES/MK/caldera-1.html: transferring\n",
      " *               MOTHER FILES/MK/caldera-1.ipynb: transferring\u001b[2K\u001b[A\u001b[2K\u001b[A\u001b[2K\u001b[A\u001b[2K\u001b[A\u001b[2K\u001b[A\u001b[2K\u001b[A\u001b[2K\u001b[A\u001b[2K\u001b[A\u001b[2K\u001b[A\u001b[2K\u001b[0GTransferred:   \t   40.604k / 36.752 MBytes, 0%, 11.110 kBytes/s, ETA 56m23s\n",
      "Errors:                 0\n",
      "Checks:                46 / 46, 100%\n",
      "Transferred:            3 / 166, 2%\n",
      "Elapsed time:        3.6s\n",
      "Transferring:\n",
      " *                   MOTHER FILES/MK/caldera.bbl: transferring\n",
      " *                   MOTHER FILES/MK/caldera.blg: transferring\n",
      " *                   MOTHER FILES/MK/caldera.log: transferring\n",
      " *               MOTHER FILES/MK/caldera-1.ipynb: 21% /17.726k, 0/s, -\u001b[2K\u001b[A\u001b[2K\u001b[A\u001b[2K\u001b[A\u001b[2K\u001b[A\u001b[2K\u001b[A\u001b[2K\u001b[A\u001b[2K\u001b[A\u001b[2K\u001b[A\u001b[2K\u001b[A\u001b[2K\u001b[0GTransferred:   \t  351.733k / 49.934 MBytes, 1%, 84.674 kBytes/s, ETA 9m59s\n",
      "Errors:                 0\n",
      "Checks:                70 / 70, 100%\n",
      "Transferred:            7 / 229, 3%\n",
      "Elapsed time:        4.1s\n",
      "Transferring:\n",
      " *                   MOTHER FILES/MK/caldera.log: transferring\n",
      " *                   MOTHER FILES/MK/caldera.tex: transferring\n",
      " *                 MOTHER FILES/MK/caldera2c.bib: transferring\n",
      " *            MOTHER FILES/MK/caldera.synctex.gz: transferring\u001b[2K\u001b[A\u001b[2K\u001b[A\u001b[2K\u001b[A\u001b[2K\u001b[A\u001b[2K\u001b[A\u001b[2K\u001b[A\u001b[2K\u001b[A\u001b[2K\u001b[A\u001b[2K\u001b[A\u001b[2K\u001b[0GTransferred:   \t  562.276k / 66.808 MBytes, 1%, 120.762 kBytes/s, ETA 9m21s\n",
      "Errors:                 0\n",
      "Checks:               168 / 168, 100%\n",
      "Transferred:           11 / 344, 3%\n",
      "Elapsed time:        4.6s\n",
      "Transferring:\n",
      " *                    MOTHER FILES/F/article.bib: transferring\n",
      " *                   MOTHER FILES/MK/caldera.log: transferring\n",
      " *               MOTHER FILES/F/FM_DS_Gamma1.jpg: transferring\n",
      " *               MOTHER FILES/MK/posld-combo.png: transferring\u001b[2K\u001b[A\u001b[2K\u001b[A\u001b[2K\u001b[A\u001b[2K\u001b[A\u001b[2K\u001b[A\u001b[2K\u001b[A\u001b[2K\u001b[A\u001b[2K\u001b[A\u001b[2K\u001b[A\u001b[2K\u001b[0GTransferred:   \t  882.352k / 84.984 MBytes, 1%, 171.175 kBytes/s, ETA 8m23s\n",
      "Errors:                 0\n",
      "Checks:               291 / 291, 100%\n",
      "Transferred:           14 / 430, 3%\n",
      "Elapsed time:        5.1s\n",
      "Transferring:\n",
      " *                   MOTHER FILES/MK/caldera.log: transferring\n",
      " *               MOTHER FILES/F/FM_DS_Gamma2.jpg: transferring\n",
      " *               MOTHER FILES/F/FM_DS_Gamma3.jpg: transferring\n",
      " *          MOTHER FILES/F/FM_DS_Gamma2_zoom.jpg: transferring\u001b[2K\u001b[A\u001b[2K\u001b[A\u001b[2K\u001b[A\u001b[2K\u001b[A\u001b[2K\u001b[A\u001b[2K\u001b[A\u001b[2K\u001b[A\u001b[2K\u001b[A\u001b[2K\u001b[A\u001b[2K\u001b[0GTransferred:   \t    1.378M / 92.980 MBytes, 1%, 249.518 kBytes/s, ETA 6m15s\n",
      "Errors:                 0\n",
      "Checks:               398 / 398, 100%\n",
      "Transferred:           17 / 516, 3%\n",
      "Elapsed time:        5.6s\n",
      "Transferring:\n",
      " *                   MOTHER FILES/MK/caldera.log: transferring\n",
      " *               MOTHER FILES/F/LD_DS_Gamma1.jpg: transferring\n",
      " *               MOTHER FILES/F/LD_DS_Gamma2.jpg: transferring\n",
      " *          MOTHER FILES/F/LD_DS_Gamma2_line.jpg: transferring\u001b[2K\u001b[A\u001b[2K\u001b[A\u001b[2K\u001b[A\u001b[2K\u001b[A\u001b[2K\u001b[A\u001b[2K\u001b[A\u001b[2K\u001b[A\u001b[2K\u001b[A\u001b[2K\u001b[A\u001b[2K\u001b[0GTransferred:   \t    2.103M / 103.390 MBytes, 2%, 349.634 kBytes/s, ETA 4m56s\n",
      "Errors:                 0\n",
      "Checks:               478 / 478, 100%\n",
      "Transferred:           20 / 556, 4%\n",
      "Elapsed time:        6.1s\n",
      "Transferring:\n",
      " *                   MOTHER FILES/MK/caldera.log: transferring\n",
      " *               MOTHER FILES/F/LD_DS_Gamma3.jpg: transferring\n",
      " *           MOTHER FILES/F/LD_DS_Gamma_zoom.jpg: transferring\n",
      " *     MOTHER FILES/F/LD_DS_Gamma2_line_zoom.jpg: 53% /136.114k, 0/s, -\u001b[2K\u001b[A\u001b[2K\u001b[A\u001b[2K\u001b[A\u001b[2K\u001b[A\u001b[2K\u001b[A\u001b[2K\u001b[A\u001b[2K\u001b[A\u001b[2K\u001b[A\u001b[2K\u001b[A\u001b[2K\u001b[0GTransferred:   \t    2.796M / 141.253 MBytes, 2%, 430.211 kBytes/s, ETA 5m29s\n",
      "Errors:                 0\n",
      "Checks:               515 / 515, 100%\n",
      "Transferred:           23 / 626, 4%\n",
      "Elapsed time:        6.6s\n",
      "Transferring:\n",
      " *                   MOTHER FILES/MK/caldera.log: transferring\n",
      " *          MOTHER FILES/F/ld_linea_medium_c.jpg: transferring\n",
      " *        MOTHER FILES/F/ld_linea_external_c.jpg: 87% /212.790k, 0/s, -\n",
      " *        MOTHER FILES/F/ld_linea_internal_c.jpg: transferring\u001b[2K\u001b[A\u001b[2K\u001b[A\u001b[2K\u001b[A\u001b[2K\u001b[A\u001b[2K\u001b[A\u001b[2K\u001b[A\u001b[2K\u001b[A\u001b[2K\u001b[A\u001b[2K\u001b[A\u001b[2K\u001b[0GTransferred:   \t    3.427M / 139.065 MBytes, 2%, 490.225 kBytes/s, ETA 4m43s\n",
      "Errors:                 0\n",
      "Checks:               515 / 515, 100%\n",
      "Transferred:           27 / 626, 4%\n",
      "Elapsed time:        7.1s\n",
      "Transferring:\n",
      " *                    MOTHER FILES/F/LD_time.jpg: transferring\n",
      " *                   MOTHER FILES/MK/caldera.log: transferring\n",
      " *                  MOTHER FILES/F/orbits_2D.jpg: transferring\n",
      " *               MOTHER FILES/F/LD_plane_y=0.jpg: transferring\u001b[2K\u001b[A\u001b[2K\u001b[A\u001b[2K\u001b[A\u001b[2K\u001b[A\u001b[2K\u001b[A\u001b[2K\u001b[A\u001b[2K\u001b[A\u001b[2K\u001b[A\u001b[2K\u001b[A\u001b[2K\u001b[0GTransferred:   \t    4.026M / 141.589 MBytes, 3%, 538.531 kBytes/s, ETA 4m21s\n",
      "Errors:                 0\n",
      "Checks:               515 / 515, 100%\n",
      "Transferred:           28 / 626, 4%\n",
      "Elapsed time:        7.6s\n",
      "Transferring:\n",
      " *                    MOTHER FILES/F/LD_time.jpg:  7% /2.067M, 0/s, -\n",
      " *                   MOTHER FILES/MK/caldera.log: transferring\n",
      " *                  MOTHER FILES/F/orbits_2D.jpg: 62% /144.612k, 0/s, -\n",
      " *                  MOTHER FILES/F/orbits_3D.jpg: 31% /135.506k, 0/s, -\u001b[2K\u001b[A\u001b[2K\u001b[A\u001b[2K\u001b[A\u001b[2K\u001b[A\u001b[2K\u001b[A\u001b[2K\u001b[A\u001b[2K\u001b[A\u001b[2K\u001b[A\u001b[2K\u001b[A\u001b[2K\u001b[0GTransferred:   \t    5.013M / 141.033 MBytes, 4%, 629.302 kBytes/s, ETA 3m41s\n",
      "Errors:                 0\n",
      "Checks:               515 / 515, 100%\n",
      "Transferred:           30 / 626, 5%\n",
      "Elapsed time:        8.1s\n",
      "Transferring:\n",
      " *                    MOTHER FILES/F/LD_time.jpg: 48% /2.067M, 0/s, -\n",
      " *                   MOTHER FILES/MK/caldera.log: transferring\n",
      " *               MOTHER FILES/F/orbits_AB_AC.jpg: transferring\n",
      " *               MOTHER FILES/F/orbits_AC_BC.jpg: transferring\u001b[2K\u001b[A\u001b[2K\u001b[A\u001b[2K\u001b[A\u001b[2K\u001b[A\u001b[2K\u001b[A\u001b[2K\u001b[A\u001b[2K\u001b[A\u001b[2K\u001b[A\u001b[2K\u001b[A\u001b[2K\u001b[0GTransferred:   \t    6.639M / 140.927 MBytes, 5%, 785.165 kBytes/s, ETA 2m55s\n",
      "Errors:                 0\n",
      "Checks:               515 / 515, 100%\n",
      "Transferred:           33 / 626, 5%\n",
      "Elapsed time:        8.6s\n",
      "Transferring:\n",
      " *                   MOTHER FILES/F/prueba.ipynb: transferring\n",
      " *                   MOTHER FILES/MK/caldera.log: transferring\n",
      " *               MOTHER FILES/F/orbits_BC_CC.jpg: transferring\n",
      " *               MOTHER FILES/F/orbits_CC_CA.jpg: transferring\u001b[2K\u001b[A\u001b[2K\u001b[A\u001b[2K\u001b[A\u001b[2K\u001b[A\u001b[2K\u001b[A\u001b[2K\u001b[A\u001b[2K\u001b[A\u001b[2K\u001b[A\u001b[2K\u001b[A\u001b[2K\u001b[0GTransferred:   \t    7.210M / 141.218 MBytes, 5%, 806.511 kBytes/s, ETA 2m50s\n",
      "Errors:                 0\n",
      "Checks:               515 / 515, 100%\n",
      "Transferred:           35 / 626, 6%\n",
      "Elapsed time:        9.1s\n",
      "Transferring:\n",
      " *                          MOTHER FILES/F/V.jpg: transferring\n",
      " *                   MOTHER FILES/MK/caldera.log: transferring\n",
      " *               MOTHER FILES/F/orbits_CC_CA.jpg: 70% /311.706k, 0/s, -\n",
      " * MOTHER FILES/F/traject…oaming_disociation.jpg: transferring\u001b[2K\u001b[A\u001b[2K\u001b[A\u001b[2K\u001b[A\u001b[2K\u001b[A\u001b[2K\u001b[A\u001b[2K\u001b[A\u001b[2K\u001b[A\u001b[2K\u001b[A\u001b[2K\u001b[A\u001b[2K\u001b[0GTransferred:   \t    7.807M / 135.636 MBytes, 6%, 828.062 kBytes/s, ETA 2m38s\n",
      "Errors:                 0\n",
      "Checks:               515 / 515, 100%\n",
      "Transferred:           39 / 626, 6%\n",
      "Elapsed time:        9.6s\n",
      "Transferring:\n",
      " *                      MOTHER FILES/F/V_x_0.jpg: transferring\n",
      " *                    MOTHER FILES/RGM/Draft.pdf: transferring\n",
      " *                   MOTHER FILES/MK/caldera.log: transferring\n",
      " *                   MOTHER FILES/RGM/Draft.html: transferring\u001b[2K\u001b[A\u001b[2K\u001b[A\u001b[2K\u001b[A\u001b[2K\u001b[A\u001b[2K\u001b[A\u001b[2K\u001b[A\u001b[2K\u001b[A\u001b[2K\u001b[A\u001b[2K\u001b[A\u001b[2K\u001b[0GTransferred:   \t    8.189M / 141.373 MBytes, 6%, 825.590 kBytes/s, ETA 2m45s\n",
      "Errors:                 0\n",
      "Checks:               515 / 515, 100%\n",
      "Transferred:           42 / 626, 7%\n",
      "Elapsed time:       10.1s\n",
      "Transferring:\n",
      " *                    MOTHER FILES/RGM/Draft.pdf:  4% /5.822M, 0/s, -\n",
      " *                    MOTHER FILES/RGM/Main.html: transferring\n",
      " *                   MOTHER FILES/MK/caldera.log: transferring\n"
     ]
    },
    {
     "name": "stdout",
     "output_type": "stream",
     "text": [
      " *              MOTHER FILES/RGM/LDT1m1_R1P1.png: transferring\u001b[2K\u001b[A\u001b[2K\u001b[A\u001b[2K\u001b[A\u001b[2K\u001b[A\u001b[2K\u001b[A\u001b[2K\u001b[A\u001b[2K\u001b[A\u001b[2K\u001b[A\u001b[2K\u001b[A\u001b[2K\u001b[0GTransferred:   \t    9.004M / 141.389 MBytes, 6%, 865.362 kBytes/s, ETA 2m36s\n",
      "Errors:                 0\n",
      "Checks:               515 / 515, 100%\n",
      "Transferred:           44 / 626, 7%\n",
      "Elapsed time:       10.6s\n",
      "Transferring:\n",
      " *                    MOTHER FILES/RGM/Draft.pdf: 17% /5.822M, 0/s, -\n",
      " *                    MOTHER FILES/RGM/myBib.bib: transferring\n",
      " *                   MOTHER FILES/MK/caldera.log: transferring\n",
      " *              MOTHER FILES/RGM/LDT1m1_R1P1.png: transferring\u001b[2K\u001b[A\u001b[2K\u001b[A\u001b[2K\u001b[A\u001b[2K\u001b[A\u001b[2K\u001b[A\u001b[2K\u001b[A\u001b[2K\u001b[A\u001b[2K\u001b[A\u001b[2K\u001b[A\u001b[2K\u001b[0GTransferred:   \t   11.027M / 141.390 MBytes, 8%, 1012.301 kBytes/s, ETA 2m11s\n",
      "Errors:                 0\n",
      "Checks:               515 / 515, 100%\n",
      "Transferred:           45 / 626, 7%\n",
      "Elapsed time:       11.1s\n",
      "Transferring:\n",
      " *                    MOTHER FILES/RGM/Draft.pdf: 51% /5.822M, 1.994M/s, 1s\n",
      " *                   MOTHER FILES/MK/caldera.log: transferring\n",
      " *                   MOTHER FILES/RGM/myBib.html: transferring\n",
      " *              MOTHER FILES/RGM/LDT1m1_R1P1.png: transferring\u001b[2K\u001b[A\u001b[2K\u001b[A\u001b[2K\u001b[A\u001b[2K\u001b[A\u001b[2K\u001b[A\u001b[2K\u001b[A\u001b[2K\u001b[A\u001b[2K\u001b[A\u001b[2K\u001b[A\u001b[2K\u001b[0GTransferred:   \t   12.027M / 141.412 MBytes, 9%, 1.032 MBytes/s, ETA 2m5s\n",
      "Errors:                 0\n",
      "Checks:               515 / 515, 100%\n",
      "Transferred:           45 / 626, 7%\n",
      "Elapsed time:       11.6s\n",
      "Transferring:\n",
      " *                    MOTHER FILES/RGM/Draft.pdf: 68% /5.822M, 1.994M/s, 0s\n",
      " *                   MOTHER FILES/MK/caldera.log: transferring\n",
      " *                   MOTHER FILES/RGM/myBib.html:  0% /22.782k, 0/s, -\n",
      " *              MOTHER FILES/RGM/LDT1m1_R1P1.png: transferring\u001b[2K\u001b[A\u001b[2K\u001b[A\u001b[2K\u001b[A\u001b[2K\u001b[A\u001b[2K\u001b[A\u001b[2K\u001b[A\u001b[2K\u001b[A\u001b[2K\u001b[A\u001b[2K\u001b[A\u001b[2K\u001b[0GTransferred:   \t   13.875M / 141.397 MBytes, 10%, 1.141 MBytes/s, ETA 1m51s\n",
      "Errors:                 0\n",
      "Checks:               515 / 515, 100%\n",
      "Transferred:           47 / 626, 8%\n",
      "Elapsed time:       12.1s\n",
      "Transferring:\n",
      " *                       MOTHER FILES/RGM/TST.md: transferring\n",
      " *                   MOTHER FILES/MK/caldera.log: transferring\n",
      " *               MOTHER FILES/RGM/myTemplate.tex: transferring\n",
      " *              MOTHER FILES/RGM/LDT1m1_R1P1.png: transferring\u001b[2K\u001b[A\u001b[2K\u001b[A\u001b[2K\u001b[A\u001b[2K\u001b[A\u001b[2K\u001b[A\u001b[2K\u001b[A\u001b[2K\u001b[A\u001b[2K\u001b[A\u001b[2K\u001b[A\u001b[2K\u001b[0GTransferred:   \t   13.892M / 141.301 MBytes, 10%, 1.098 MBytes/s, ETA 1m56s\n",
      "Errors:                 0\n",
      "Checks:               515 / 515, 100%\n",
      "Transferred:           51 / 626, 8%\n",
      "Elapsed time:       12.6s\n",
      "Transferring:\n",
      " *                   MOTHER FILES/MA/ds_symm.jpg: transferring\n",
      " *                   MOTHER FILES/MK/caldera.log: transferring\n",
      " *              MOTHER FILES/RGM/LDT1m1_R1P1.png: transferring\n",
      " *  MOTHER FILES/MA/booksprinttest_makrina.ipynb: transferring\u001b[2K\u001b[A\u001b[2K\u001b[A\u001b[2K\u001b[A\u001b[2K\u001b[A\u001b[2K\u001b[A\u001b[2K\u001b[A\u001b[2K\u001b[A\u001b[2K\u001b[A\u001b[2K\u001b[A\u001b[2K\u001b[0GTransferred:   \t   14.100M / 141.138 MBytes, 10%, 1.072 MBytes/s, ETA 1m58s\n",
      "Errors:                 0\n",
      "Checks:               515 / 515, 100%\n",
      "Transferred:           54 / 626, 9%\n",
      "Elapsed time:       13.1s\n",
      "Transferring:\n",
      " *                   MOTHER FILES/MK/caldera.log: transferring\n",
      " *              MOTHER FILES/RGM/LDT1m1_R1P1.png: transferring\n",
      " *           MOTHER FILES/MA/enSurf_LDs_symm.jpg: transferring\n",
      " *           MOTHER FILES/MA/enSurf_LDs_symm.pdf: transferring\u001b[2K\u001b[A\u001b[2K\u001b[A\u001b[2K\u001b[A\u001b[2K\u001b[A\u001b[2K\u001b[A\u001b[2K\u001b[A\u001b[2K\u001b[A\u001b[2K\u001b[A\u001b[2K\u001b[A\u001b[2K\u001b[0GTransferred:   \t   14.374M / 141.279 MBytes, 10%, 1.053 MBytes/s, ETA 2m0s\n",
      "Errors:                 0\n",
      "Checks:               515 / 515, 100%\n",
      "Transferred:           56 / 626, 9%\n",
      "Elapsed time:       13.6s\n",
      "Transferring:\n",
      " *                   MOTHER FILES/MK/caldera.log: transferring\n",
      " *              MOTHER FILES/RGM/LDT1m1_R1P1.png: transferring\n",
      " * MOTHER FILES/MA/LD_H_-…_12_y_-1_div_sqrt2.pdf: transferring\n",
      " * MOTHER FILES/MA/LD_H_0…_12_y_-1_div_sqrt2.pdf: transferring\u001b[2K\u001b[A\u001b[2K\u001b[A\u001b[2K\u001b[A\u001b[2K\u001b[A\u001b[2K\u001b[A\u001b[2K\u001b[A\u001b[2K\u001b[A\u001b[2K\u001b[A\u001b[2K\u001b[A\u001b[2K\u001b[0GTransferred:   \t   14.561M / 141.311 MBytes, 10%, 1.029 MBytes/s, ETA 2m3s\n",
      "Errors:                 0\n",
      "Checks:               515 / 515, 100%\n",
      "Transferred:           59 / 626, 9%\n",
      "Elapsed time:       14.1s\n",
      "Transferring:\n",
      " *                   MOTHER FILES/MK/caldera.log: transferring\n",
      " *              MOTHER FILES/RGM/LDT1m1_R1P1.png: transferring\n",
      " * MOTHER FILES/MA/LD_man…a_1_delta_0_beta_0.pdf:  7% /36.915k, 0/s, -\n",
      " * MOTHER FILES/MA/LD_p_0…_-1sqrt2_H_02_cfSp.pdf: transferring\u001b[2K\u001b[A\u001b[2K\u001b[A\u001b[2K\u001b[A\u001b[2K\u001b[A\u001b[2K\u001b[A\u001b[2K\u001b[A\u001b[2K\u001b[A\u001b[2K\u001b[A\u001b[2K\u001b[A\u001b[2K\u001b[0GTransferred:   \t   14.658M / 141.238 MBytes, 10%, 1.000 MBytes/s, ETA 2m6s\n",
      "Errors:                 0\n",
      "Checks:               515 / 515, 100%\n",
      "Transferred:           61 / 626, 10%\n",
      "Elapsed time:       14.6s\n",
      "Transferring:\n",
      " *                   MOTHER FILES/MK/caldera.log: transferring\n",
      " *              MOTHER FILES/RGM/LDT1m1_R1P1.png: transferring\n",
      " * MOTHER FILES/MA/LD_p_0…_-1sqrt2_H_02_cfSp.pdf: transferring\n",
      " * MOTHER FILES/MA/LD_tau…x_0_delta_bif_H_02.pdf: transferring\u001b[2K\u001b[A\u001b[2K\u001b[A\u001b[2K\u001b[A\u001b[2K\u001b[A\u001b[2K\u001b[A\u001b[2K\u001b[A\u001b[2K\u001b[A\u001b[2K\u001b[A\u001b[2K\u001b[A\u001b[2K\u001b[0GTransferred:   \t   14.973M / 141.351 MBytes, 11%, 1011.688 kBytes/s, ETA 2m7s\n",
      "Errors:                 0\n",
      "Checks:               515 / 515, 100%\n",
      "Transferred:           64 / 626, 10%\n",
      "Elapsed time:       15.1s\n",
      "Transferring:\n",
      " *                   MOTHER FILES/MK/caldera.log: transferring\n",
      " *              MOTHER FILES/RGM/LDT1m1_R1P1.png: transferring\n",
      " * MOTHER FILES/MA/LD_tau…elta_bif_H_-1div12.jpg: 61% /134.592k, 0/s, -\n",
      " * MOTHER FILES/MA/LD_tau…elta_bif_H_-1div12.pdf: transferring\u001b[2K\u001b[A\u001b[2K\u001b[A\u001b[2K\u001b[A\u001b[2K\u001b[A\u001b[2K\u001b[A\u001b[2K\u001b[A\u001b[2K\u001b[A\u001b[2K\u001b[A\u001b[2K\u001b[A\u001b[2K\u001b[0GTransferred:   \t   15.169M / 141.300 MBytes, 11%, 992.117 kBytes/s, ETA 2m10s\n",
      "Errors:                 0\n",
      "Checks:               515 / 515, 100%\n",
      "Transferred:           68 / 626, 11%\n",
      "Elapsed time:       15.6s\n",
      "Transferring:\n",
      " *                   MOTHER FILES/MK/caldera.log: transferring\n",
      " *              MOTHER FILES/RGM/LDT1m1_R1P1.png: transferring\n",
      " * MOTHER FILES/MA/LD_tau…_py_0_delta_08_H_1.pdf: transferring\n",
      " * MOTHER FILES/MA/LD_tau…delta_bif_H_1div12.pdf: transferring\u001b[2K\u001b[A\u001b[2K\u001b[A\u001b[2K\u001b[A\u001b[2K\u001b[A\u001b[2K\u001b[A\u001b[2K\u001b[A\u001b[2K\u001b[A\u001b[2K\u001b[A\u001b[2K\u001b[A\u001b[2K\u001b[0GTransferred:   \t   15.330M / 141.239 MBytes, 11%, 971.728 kBytes/s, ETA 2m12s\n",
      "Errors:                 0\n",
      "Checks:               515 / 515, 100%\n",
      "Transferred:           71 / 626, 11%\n",
      "Elapsed time:       16.1s\n",
      "Transferring:\n",
      " *                   MOTHER FILES/MK/caldera.log: transferring\n",
      " *              MOTHER FILES/RGM/LDT1m1_R1P1.png: transferring\n",
      " * MOTHER FILES/MA/LD_tau…_ConfigSp_symmCase.jpg: transferring\n",
      " * MOTHER FILES/MA/LD_tau…sqrt2_delta_08_H_1.pdf: transferring\u001b[2K\u001b[A\u001b[2K\u001b[A\u001b[2K\u001b[A\u001b[2K\u001b[A\u001b[2K\u001b[A\u001b[2K\u001b[A\u001b[2K\u001b[A\u001b[2K\u001b[A\u001b[2K\u001b[A\u001b[2K\u001b[0GTransferred:   \t   15.574M / 141.179 MBytes, 11%, 957.460 kBytes/s, ETA 2m14s\n",
      "Errors:                 0\n",
      "Checks:               515 / 515, 100%\n",
      "Transferred:           75 / 626, 12%\n",
      "Elapsed time:       16.6s\n",
      "Transferring:\n",
      " *              MOTHER FILES/RGM/LDT1m1_R1P1.png: transferring\n",
      " * MOTHER FILES/MA/LD_tau…_px_0_delta_0_H_02.pdf: transferring\n",
      " * MOTHER FILES/MA/LD_tau…a_1_delta_0_beta_0.pdf: transferring\n",
      " * MOTHER FILES/MA/LD_tau…delta_bif_H_-1div6.jpg: transferring\u001b[2K\u001b[A\u001b[2K\u001b[A\u001b[2K\u001b[A\u001b[2K\u001b[A\u001b[2K\u001b[A\u001b[2K\u001b[A\u001b[2K\u001b[A\u001b[2K\u001b[A\u001b[2K\u001b[A\u001b[2K\u001b[0GTransferred:   \t   15.819M / 141.205 MBytes, 11%, 944.073 kBytes/s, ETA 2m16s\n",
      "Errors:                 0\n",
      "Checks:               515 / 515, 100%\n",
      "Transferred:           78 / 626, 12%\n",
      "Elapsed time:       17.1s\n",
      "Transferring:\n",
      " *              MOTHER FILES/RGM/LDT1m1_R1P1.png: transferring\n",
      " * MOTHER FILES/MA/LD_tau…delta_bif_H_-1div6.pdf: transferring\n",
      " * MOTHER FILES/MA/LD_tau…rt2_delta_02_H_-01.jpg: transferring\n",
      " * MOTHER FILES/MA/LD_tau…rt2_delta_02_H_-01.pdf: transferring\u001b[2K\u001b[A\u001b[2K\u001b[A\u001b[2K\u001b[A\u001b[2K\u001b[A\u001b[2K\u001b[A\u001b[2K\u001b[A\u001b[2K\u001b[A\u001b[2K\u001b[A\u001b[2K\u001b[A\u001b[2K\u001b[0GTransferred:   \t   16.137M / 141.273 MBytes, 11%, 935.925 kBytes/s, ETA 2m16s\n",
      "Errors:                 0\n",
      "Checks:               515 / 515, 100%\n",
      "Transferred:           82 / 626, 13%\n",
      "Elapsed time:       17.6s\n",
      "Transferring:\n",
      " *              MOTHER FILES/RGM/LDT1m1_R1P1.png: transferring\n",
      " * MOTHER FILES/MA/LD_tau…qrt2_delta_02_H_02.pdf: transferring\n",
      " * MOTHER FILES/MA/LD_tau…rt2_delta_02_H_-02.pdf: transferring\n"
     ]
    },
    {
     "name": "stdout",
     "output_type": "stream",
     "text": [
      " * MOTHER FILES/MA/LD_tau…sqrt2_delta_0_H_02.pdf: transferring\u001b[2K\u001b[A\u001b[2K\u001b[A\u001b[2K\u001b[A\u001b[2K\u001b[A\u001b[2K\u001b[A\u001b[2K\u001b[A\u001b[2K\u001b[A\u001b[2K\u001b[A\u001b[2K\u001b[A\u001b[2K\u001b[0GTransferred:   \t   16.346M / 141.258 MBytes, 12%, 921.807 kBytes/s, ETA 2m18s\n",
      "Errors:                 0\n",
      "Checks:               515 / 515, 100%\n",
      "Transferred:           85 / 626, 14%\n",
      "Elapsed time:       18.1s\n",
      "Transferring:\n",
      " *              MOTHER FILES/RGM/LDT1m1_R1P1.png: transferring\n",
      " * MOTHER FILES/MA/LD_tau…delta_bif_H_-1div6.jpg: transferring\n",
      " * MOTHER FILES/MA/LD_tau…elta_bif_H_-1div12.pdf: transferring\n",
      " * MOTHER FILES/MA/LD_tau…sqrt2_delta_0_H_02.pdf: transferring\u001b[2K\u001b[A\u001b[2K\u001b[A\u001b[2K\u001b[A\u001b[2K\u001b[A\u001b[2K\u001b[A\u001b[2K\u001b[A\u001b[2K\u001b[A\u001b[2K\u001b[A\u001b[2K\u001b[A\u001b[2K\u001b[0GTransferred:   \t   16.500M / 141.173 MBytes, 12%, 905.622 kBytes/s, ETA 2m20s\n",
      "Errors:                 0\n",
      "Checks:               515 / 515, 100%\n",
      "Transferred:           88 / 626, 14%\n",
      "Elapsed time:       18.6s\n",
      "Transferring:\n",
      " *              MOTHER FILES/RGM/LDT1m1_R1P1.png: transferring\n",
      " * MOTHER FILES/MA/LD_tau…elta_bif_H_-1div12.pdf: transferring\n",
      " * MOTHER FILES/MA/LD_tau…ottSaddle_symmCase.jpg: transferring\n",
      " * MOTHER FILES/MA/LD_tau…ottSaddle_symmCase.pdf: transferring\u001b[2K\u001b[A\u001b[2K\u001b[A\u001b[2K\u001b[A\u001b[2K\u001b[A\u001b[2K\u001b[A\u001b[2K\u001b[A\u001b[2K\u001b[A\u001b[2K\u001b[A\u001b[2K\u001b[A\u001b[2K\u001b[0GTransferred:   \t   16.752M / 141.304 MBytes, 12%, 895.479 kBytes/s, ETA 2m22s\n",
      "Errors:                 0\n",
      "Checks:               515 / 515, 100%\n",
      "Transferred:           91 / 626, 15%\n",
      "Elapsed time:       19.1s\n",
      "Transferring:\n",
      " *              MOTHER FILES/RGM/LDT1m1_R1P1.png: transferring\n",
      " * MOTHER FILES/MA/LD_tau…_1_delta_0_beta_03.pdf: transferring\n",
      " * MOTHER FILES/MA/LD_tau…_1_delta_0_beta_03.pdf: transferring\n",
      " * MOTHER FILES/MA/LDbw_t…a_1_delta_0_beta_0.pdf: transferring\u001b[2K\u001b[A\u001b[2K\u001b[A\u001b[2K\u001b[A\u001b[2K\u001b[A\u001b[2K\u001b[A\u001b[2K\u001b[A\u001b[2K\u001b[A\u001b[2K\u001b[A\u001b[2K\u001b[A\u001b[2K\u001b[0GTransferred:   \t   17.053M / 141.318 MBytes, 12%, 888.479 kBytes/s, ETA 2m23s\n",
      "Errors:                 0\n",
      "Checks:               515 / 515, 100%\n",
      "Transferred:           95 / 626, 15%\n",
      "Elapsed time:       19.6s\n",
      "Transferring:\n",
      " *                      MOTHER FILES/MA/main.tex: transferring\n",
      " *      MOTHER FILES/MA/pes_asymm_bif_nocoup.jpg: transferring\n",
      " * MOTHER FILES/MA/LD_tau…_1_delta_0_beta_03.pdf: transferring\n",
      " * MOTHER FILES/MA/LDfw_t…a_1_delta_0_beta_0.pdf: transferring\u001b[2K\u001b[A\u001b[2K\u001b[A\u001b[2K\u001b[A\u001b[2K\u001b[A\u001b[2K\u001b[A\u001b[2K\u001b[A\u001b[2K\u001b[A\u001b[2K\u001b[A\u001b[2K\u001b[A\u001b[2K\u001b[0GTransferred:   \t   17.638M / 141.065 MBytes, 13%, 896.064 kBytes/s, ETA 2m21s\n",
      "Errors:                 0\n",
      "Checks:               515 / 515, 100%\n",
      "Transferred:          101 / 626, 16%\n",
      "Elapsed time:       20.1s\n",
      "Transferring:\n",
      " * MOTHER FILES/MA/pes_as…m_del_08_nocoup_v2.jpg: 71% /160.145k, 0/s, -\n",
      " * MOTHER FILES/MA/pes_as…m_del_08_nocoup_v2.pdf: transferring\n",
      " * MOTHER FILES/MA/pes_as…m_del_08_nocoup_v3.pdf: transferring\n",
      " * MOTHER FILES/MA/pes_co…s_asymm_bif_nocoup.jpg: transferring\u001b[2K\u001b[A\u001b[2K\u001b[A\u001b[2K\u001b[A\u001b[2K\u001b[A\u001b[2K\u001b[A\u001b[2K\u001b[A\u001b[2K\u001b[A\u001b[2K\u001b[A\u001b[2K\u001b[A\u001b[2K\u001b[0GTransferred:   \t   18.317M / 141.172 MBytes, 13%, 907.978 kBytes/s, ETA 2m18s\n",
      "Errors:                 0\n",
      "Checks:               515 / 515, 100%\n",
      "Transferred:          106 / 626, 17%\n",
      "Elapsed time:       20.6s\n",
      "Transferring:\n",
      " *                  MOTHER FILES/MA/pes_symm.pdf: transferring\n",
      " *            MOTHER FILES/MA/pes_symm_conts.jpg: transferring\n",
      " * MOTHER FILES/MA/pes_co…m_del_08_nocoup_v2.pdf: transferring\n",
      " * MOTHER FILES/MA/pes_co…symm_del_08_nocoup.pdf: transferring\u001b[2K\u001b[A\u001b[2K\u001b[A\u001b[2K\u001b[A\u001b[2K\u001b[A\u001b[2K\u001b[A\u001b[2K\u001b[A\u001b[2K\u001b[A\u001b[2K\u001b[A\u001b[2K\u001b[A\u001b[2K\u001b[0GTransferred:   \t   18.732M / 140.587 MBytes, 13%, 906.569 kBytes/s, ETA 2m17s\n",
      "Errors:                 0\n",
      "Checks:               515 / 515, 100%\n",
      "Transferred:          109 / 626, 17%\n",
      "Elapsed time:       21.1s\n",
      "Transferring:\n",
      " *             MOTHER FILES/MA/pes_symm_p001.png: transferring\n",
      " *            MOTHER FILES/MA/pes_symm_conts.pdf: transferring\n",
      " * MOTHER FILES/MA/pes_co…m_del_08_nocoup_v2.pdf: 88% /120.835k, 0/s, -\n",
      " * MOTHER FILES/MA/phaseP…m_1D_xDoF_delta_02.pdf: transferring\u001b[2K\u001b[A\u001b[2K\u001b[A\u001b[2K\u001b[A\u001b[2K\u001b[A\u001b[2K\u001b[A\u001b[2K\u001b[A\u001b[2K\u001b[A\u001b[2K\u001b[A\u001b[2K\u001b[A\u001b[2K\u001b[0GTransferred:   \t   19.584M / 141.383 MBytes, 14%, 926.126 kBytes/s, ETA 2m14s\n",
      "Errors:                 0\n",
      "Checks:               515 / 515, 100%\n",
      "Transferred:          113 / 626, 18%\n",
      "Elapsed time:       21.6s\n",
      "Transferring:\n",
      " *             MOTHER FILES/MA/pes_symm_p001.png: 70% /809.249k, 0/s, -\n",
      " * MOTHER FILES/MA/phaseP…D_xDoF_delta_08_v2.pdf: transferring\n",
      " * MOTHER FILES/MA/phaseP…_1D_xDoF_delta_bif.pdf: transferring\n",
      " * MOTHER FILES/MA/phaseP…_xDoF_delta_bif_v2.pdf: transferring\u001b[2K\u001b[A\u001b[2K\u001b[A\u001b[2K\u001b[A\u001b[2K\u001b[A\u001b[2K\u001b[A\u001b[2K\u001b[A\u001b[2K\u001b[A\u001b[2K\u001b[A\u001b[2K\u001b[A\u001b[2K\u001b[0GTransferred:   \t   20.264M / 141.296 MBytes, 14%, 936.597 kBytes/s, ETA 2m12s\n",
      "Errors:                 0\n",
      "Checks:               515 / 515, 100%\n",
      "Transferred:          119 / 626, 19%\n",
      "Elapsed time:       22.1s\n",
      "Transferring:\n",
      " *    MOTHER FILES/MA/phasePort_symm_1D_yDoF.jpg: transferring\n",
      " *    MOTHER FILES/MA/phasePort_symm_1D_yDoF.pdf: transferring\n",
      " * MOTHER FILES/MA/plot_s…_b_0_g_0_d_02_H_05.png: transferring\n",
      " * MOTHER FILES/MA/pot_as…m_1D_xDoF_delta_02.pdf: transferring\u001b[2K\u001b[A\u001b[2K\u001b[A\u001b[2K\u001b[A\u001b[2K\u001b[A\u001b[2K\u001b[A\u001b[2K\u001b[A\u001b[2K\u001b[A\u001b[2K\u001b[A\u001b[2K\u001b[A\u001b[2K\u001b[0GTransferred:   \t   20.595M / 141.461 MBytes, 15%, 930.903 kBytes/s, ETA 2m12s\n",
      "Errors:                 0\n",
      "Checks:               515 / 515, 100%\n",
      "Transferred:          124 / 626, 20%\n",
      "Elapsed time:       22.6s\n",
      "Transferring:\n",
      " *               MOTHER FILES/MA/pot_symm_1D.jpg: transferring\n",
      " *               MOTHER FILES/MA/pot_symm_1D.pdf: transferring\n",
      " *          MOTHER FILES/MA/pot_symm_1D_xDoF.pdf: transferring\n",
      " * MOTHER FILES/MA/pot_as…_1D_xDoF_delta_bif.pdf: transferring\u001b[2K\u001b[A\u001b[2K\u001b[A\u001b[2K\u001b[A\u001b[2K\u001b[A\u001b[2K\u001b[A\u001b[2K\u001b[A\u001b[2K\u001b[A\u001b[2K\u001b[A\u001b[2K\u001b[A\u001b[2K\u001b[0GTransferred:   \t   20.705M / 141.447 MBytes, 15%, 915.635 kBytes/s, ETA 2m15s\n",
      "Errors:                 0\n",
      "Checks:               515 / 515, 100%\n",
      "Transferred:          127 / 626, 20%\n",
      "Elapsed time:       23.1s\n",
      "Transferring:\n",
      " *                    MOTHER FILES/MA/SNreac.bib: transferring\n",
      " *               MOTHER FILES/MA/pot_symm_1D.pdf: transferring\n",
      " *          MOTHER FILES/MA/pot_symm_1D_yDoF.pdf: transferring\n",
      " *          MOTHER FILES/MA/saddle_phaseport.pdf: transferring\u001b[2K\u001b[A\u001b[2K\u001b[A\u001b[2K\u001b[A\u001b[2K\u001b[A\u001b[2K\u001b[A\u001b[2K\u001b[A\u001b[2K\u001b[A\u001b[2K\u001b[A\u001b[2K\u001b[A\u001b[2K\u001b[0GTransferred:   \t   21.072M / 141.116 MBytes, 15%, 912.227 kBytes/s, ETA 2m14s\n",
      "Errors:                 0\n",
      "Checks:               515 / 515, 100%\n",
      "Transferred:          131 / 626, 21%\n",
      "Elapsed time:       23.6s\n",
      "Transferring:\n",
      " * MOTHER FILES/MA/surfac…1_b_0_g_0_d_02_big.png: 80% /270.716k, 0/s, -\n",
      " * MOTHER FILES/MA/surfac…b_0_g_0_d_02_curve.png: transferring\n",
      " * MOTHER FILES/MA/surfac…b_0_g_0_d_02_plane.png: transferring\n",
      " * MOTHER FILES/MA/surfac…l_a_1_b_0_g_0_d_02.png:  0% /255.639k, 0/s, -\u001b[2K\u001b[A\u001b[2K\u001b[A\u001b[2K\u001b[A\u001b[2K\u001b[A\u001b[2K\u001b[A\u001b[2K\u001b[A\u001b[2K\u001b[A\u001b[2K\u001b[A\u001b[2K\u001b[A\u001b[2K\u001b[0GTransferred:   \t   21.707M / 141.162 MBytes, 15%, 920.236 kBytes/s, ETA 2m12s\n",
      "Errors:                 0\n",
      "Checks:               515 / 515, 100%\n",
      "Transferred:          134 / 626, 21%\n",
      "Elapsed time:       24.1s\n",
      "Transferring:\n",
      " *              MOTHER FILES/MA/VRI_delta_08.jpg: transferring\n",
      " * MOTHER FILES/MA/surfac…0_d_02_plane_curve.png:  1% /221.461k, 0/s, -\n",
      " * MOTHER FILES/MA/surfac…b_0_g_0_d_02_plane.png: transferring\n",
      " * MOTHER FILES/MA/surfac…g_0_d_02_plane_big.png: 30% /220.244k, 0/s, -\u001b[2K\u001b[A\u001b[2K\u001b[A\u001b[2K\u001b[A\u001b[2K\u001b[A\u001b[2K\u001b[A\u001b[2K\u001b[A\u001b[2K\u001b[A\u001b[2K\u001b[A\u001b[2K\u001b[A\u001b[2K\u001b[0GTransferred:   \t   22.630M / 141.477 MBytes, 16%, 939.770 kBytes/s, ETA 2m9s\n",
      "Errors:                 0\n",
      "Checks:               515 / 515, 100%\n",
      "Transferred:          139 / 626, 22%\n",
      "Elapsed time:       24.6s\n",
      "Transferring:\n",
      " * MOTHER FILES/SN/findin…2and3dof_nonlinear.bib: transferring\n",
      " * MOTHER FILES/SN/findin…_2and3dof_nonlinear.md: transferring\n",
      " * MOTHER FILES/SN/findin…and3dof_nonlinear.html: transferring\n",
      " * MOTHER FILES/SN/findin…ier-without-titles.csl: transferring\u001b[2K\u001b[A\u001b[2K\u001b[A\u001b[2K\u001b[A\u001b[2K\u001b[A\u001b[2K\u001b[A\u001b[2K\u001b[A\u001b[2K\u001b[A\u001b[2K\u001b[A\u001b[2K\u001b[A\u001b[2K\u001b[0GTransferred:   \t   22.754M / 135.584 MBytes, 17%, 926.253 kBytes/s, ETA 2m4s\n",
      "Errors:                 0\n",
      "Checks:               515 / 515, 100%\n",
      "Transferred:          143 / 626, 23%\n",
      "Elapsed time:       25.1s\n",
      "Transferring:\n",
      " * MOTHER FILES/SN/findin…2and3dof_nonlinear.pdf: transferring\n",
      " * MOTHER FILES/SW/1 DoF saddle/1_DOF_saddle.aux: transferring\n",
      " * MOTHER FILES/SW/1 DoF saddle/1_DOF_saddle.log: transferring\n"
     ]
    },
    {
     "name": "stdout",
     "output_type": "stream",
     "text": [
      " * MOTHER FILES/SW/1 DoF …dle/1_DOF_saddle.ipynb: transferring\u001b[2K\u001b[A\u001b[2K\u001b[A\u001b[2K\u001b[A\u001b[2K\u001b[A\u001b[2K\u001b[A\u001b[2K\u001b[A\u001b[2K\u001b[A\u001b[2K\u001b[A\u001b[2K\u001b[A\u001b[2K\u001b[0GTransferred:   \t   23.775M / 141.417 MBytes, 17%, 948.954 kBytes/s, ETA 2m6s\n",
      "Errors:                 0\n",
      "Checks:               515 / 515, 100%\n",
      "Transferred:          147 / 626, 23%\n",
      "Elapsed time:       25.6s\n",
      "Transferring:\n",
      " * MOTHER FILES/SN/findin…2and3dof_nonlinear.pdf: 16% /6.001M, 0/s, -\n",
      " * MOTHER FILES/SW/1 DoF saddle/1_DOF_saddle.pdf: transferring\n",
      " * MOTHER FILES/SW/1 DoF saddle/1_DOF_saddle.tex: transferring\n",
      " * MOTHER FILES/SW/1 DoF …e/fig_1_dof_saddle.png: transferring\u001b[2K\u001b[A\u001b[2K\u001b[A\u001b[2K\u001b[A\u001b[2K\u001b[A\u001b[2K\u001b[A\u001b[2K\u001b[A\u001b[2K\u001b[A\u001b[2K\u001b[A\u001b[2K\u001b[A\u001b[2K\u001b[0GTransferred:   \t   24.929M / 140.202 MBytes, 18%, 976.026 kBytes/s, ETA 2m0s\n",
      "Errors:                 0\n",
      "Checks:               515 / 515, 100%\n",
      "Transferred:          149 / 626, 24%\n",
      "Elapsed time:       26.1s\n",
      "Transferring:\n",
      " *               MOTHER FILES/VGG/HamSN/fig1.png: transferring\n",
      " *              MOTHER FILES/VGG/HamSN/fig10.png: transferring\n",
      " * MOTHER FILES/SN/findin…2and3dof_nonlinear.pdf: 33% /6.001M, 0/s, -\n",
      " * MOTHER FILES/SW/1 DoF …e/fig_1_dof_saddle.png: 44% /55.551k, 0/s, -\u001b[2K\u001b[A\u001b[2K\u001b[A\u001b[2K\u001b[A\u001b[2K\u001b[A\u001b[2K\u001b[A\u001b[2K\u001b[A\u001b[2K\u001b[A\u001b[2K\u001b[A\u001b[2K\u001b[A\u001b[2K\u001b[0GTransferred:   \t   27.022M / 138.838 MBytes, 19%, 1.014 MBytes/s, ETA 1m50s\n",
      "Errors:                 0\n",
      "Checks:               515 / 515, 100%\n",
      "Transferred:          151 / 626, 24%\n",
      "Elapsed time:       26.6s\n",
      "Transferring:\n",
      " *              MOTHER FILES/VGG/HamSN/fig10.png: transferring\n",
      " *              MOTHER FILES/VGG/HamSN/fig11.png: transferring\n",
      " *              MOTHER FILES/VGG/HamSN/fig12.png: transferring\n",
      " * MOTHER FILES/SN/findin…2and3dof_nonlinear.pdf: 66% /6.001M, 1.992M/s, 1s\u001b[2K\u001b[A\u001b[2K\u001b[A\u001b[2K\u001b[A\u001b[2K\u001b[A\u001b[2K\u001b[A\u001b[2K\u001b[A\u001b[2K\u001b[A\u001b[2K\u001b[A\u001b[2K\u001b[A\u001b[2K\u001b[0GTransferred:   \t   29.440M / 139.824 MBytes, 21%, 1.084 MBytes/s, ETA 1m41s\n",
      "Errors:                 0\n",
      "Checks:               515 / 515, 100%\n",
      "Transferred:          152 / 626, 24%\n",
      "Elapsed time:       27.1s\n",
      "Transferring:\n",
      " *              MOTHER FILES/VGG/HamSN/fig10.png:  9% /1.336M, 0/s, -\n",
      " *              MOTHER FILES/VGG/HamSN/fig11.png: 33% /560.105k, 0/s, -\n",
      " *              MOTHER FILES/VGG/HamSN/fig12.png: 12% /900.405k, 0/s, -\n",
      " *              MOTHER FILES/VGG/HamSN/fig13.png: transferring\u001b[2K\u001b[A\u001b[2K\u001b[A\u001b[2K\u001b[A\u001b[2K\u001b[A\u001b[2K\u001b[A\u001b[2K\u001b[A\u001b[2K\u001b[A\u001b[2K\u001b[A\u001b[2K\u001b[A\u001b[2K\u001b[0GTransferred:   \t   30.840M / 140.804 MBytes, 22%, 1.115 MBytes/s, ETA 1m38s\n",
      "Errors:                 0\n",
      "Checks:               515 / 515, 100%\n",
      "Transferred:          153 / 626, 24%\n",
      "Elapsed time:       27.6s\n",
      "Transferring:\n",
      " *               MOTHER FILES/VGG/HamSN/fig2.png: transferring\n",
      " *              MOTHER FILES/VGG/HamSN/fig10.png: 37% /1.336M, 0/s, -\n",
      " *              MOTHER FILES/VGG/HamSN/fig12.png: 73% /900.405k, 0/s, -\n",
      " *              MOTHER FILES/VGG/HamSN/fig13.png:  6% /1.776M, 0/s, -\u001b[2K\u001b[A\u001b[2K\u001b[A\u001b[2K\u001b[A\u001b[2K\u001b[A\u001b[2K\u001b[A\u001b[2K\u001b[A\u001b[2K\u001b[A\u001b[2K\u001b[A\u001b[2K\u001b[A\u001b[2K\u001b[0GTransferred:   \t   32.056M / 141.469 MBytes, 23%, 1.139 MBytes/s, ETA 1m36s\n",
      "Errors:                 0\n",
      "Checks:               515 / 515, 100%\n",
      "Transferred:          154 / 626, 25%\n",
      "Elapsed time:       28.1s\n",
      "Transferring:\n",
      " *               MOTHER FILES/VGG/HamSN/fig2.png: 13% /815.667k, 0/s, -\n",
      " *               MOTHER FILES/VGG/HamSN/fig3.png: transferring\n",
      " *              MOTHER FILES/VGG/HamSN/fig10.png: 37% /1.336M, 507.854k/s, 1s\n",
      " *              MOTHER FILES/VGG/HamSN/fig13.png: 56% /1.776M, 0/s, -\u001b[2K\u001b[A\u001b[2K\u001b[A\u001b[2K\u001b[A\u001b[2K\u001b[A\u001b[2K\u001b[A\u001b[2K\u001b[A\u001b[2K\u001b[A\u001b[2K\u001b[A\u001b[2K\u001b[A\u001b[2K\u001b[0GTransferred:   \t   33.653M / 140.461 MBytes, 24%, 1.174 MBytes/s, ETA 1m30s\n",
      "Errors:                 0\n",
      "Checks:               515 / 515, 100%\n",
      "Transferred:          157 / 626, 25%\n",
      "Elapsed time:       28.6s\n",
      "Transferring:\n",
      " *               MOTHER FILES/VGG/HamSN/fig4.png: transferring\n",
      " *               MOTHER FILES/VGG/HamSN/fig5.png: transferring\n",
      " *               MOTHER FILES/VGG/HamSN/fig6.png: transferring\n",
      " *              MOTHER FILES/VGG/HamSN/fig10.png: 37% /1.336M, 507.854k/s, 1s\u001b[2K\u001b[A\u001b[2K\u001b[A\u001b[2K\u001b[A\u001b[2K\u001b[A\u001b[2K\u001b[A\u001b[2K\u001b[A\u001b[2K\u001b[A\u001b[2K\u001b[A\u001b[2K\u001b[A\u001b[2K\u001b[0GTransferred:   \t   35.334M / 141.113 MBytes, 25%, 1.212 MBytes/s, ETA 1m27s\n",
      "Errors:                 0\n",
      "Checks:               515 / 515, 100%\n",
      "Transferred:          159 / 626, 25%\n",
      "Elapsed time:       29.1s\n",
      "Transferring:\n",
      " *               MOTHER FILES/VGG/HamSN/fig5.png: 65% /122.678k, 0/s, -\n",
      " *               MOTHER FILES/VGG/HamSN/fig6.png: 70% /883.443k, 0/s, -\n",
      " *               MOTHER FILES/VGG/HamSN/fig7.png: transferring\n",
      " *               MOTHER FILES/VGG/HamSN/fig8.png: transferring\u001b[2K\u001b[A\u001b[2K\u001b[A\u001b[2K\u001b[A\u001b[2K\u001b[A\u001b[2K\u001b[A\u001b[2K\u001b[A\u001b[2K\u001b[A\u001b[2K\u001b[A\u001b[2K\u001b[A\u001b[2K\u001b[0GTransferred:   \t   36.121M / 140.843 MBytes, 26%, 1.218 MBytes/s, ETA 1m25s\n",
      "Errors:                 0\n",
      "Checks:               515 / 515, 100%\n",
      "Transferred:          163 / 626, 26%\n",
      "Elapsed time:       29.6s\n",
      "Transferring:\n",
      " *               MOTHER FILES/VGG/HamSN/fig9.png: transferring\n",
      " *              MOTHER FILES/VGG/HamSN/HamSN.bib: transferring\n",
      " *       MOTHER FILES/VGG/HamSN/HSN_victor.ipynb: transferring\n",
      " * MOTHER FILES/SN/findin…_quad_normal_form.html: transferring\u001b[2K\u001b[A\u001b[2K\u001b[A\u001b[2K\u001b[A\u001b[2K\u001b[A\u001b[2K\u001b[A\u001b[2K\u001b[A\u001b[2K\u001b[A\u001b[2K\u001b[A\u001b[2K\u001b[A\u001b[2K\u001b[0GTransferred:   \t   37.070M / 137.867 MBytes, 27%, 1.229 MBytes/s, ETA 1m21s\n",
      "Errors:                 0\n",
      "Checks:               515 / 515, 100%\n",
      "Transferred:          167 / 626, 27%\n",
      "Elapsed time:       30.1s\n",
      "Transferring:\n",
      " *          MOTHER FILES/RGM/Figures/LDFirst.png: transferring\n",
      " * MOTHER FILES/RGM/Figur…LDSecondProjection.png: transferring\n",
      " * MOTHER FILES/SN/findin…im_quad_normal_form.md: 97% /84.758k, 0/s, -\n",
      " * MOTHER FILES/SN/findin…rm/Ham_LD_reaction.bib: 64% /176.285k, 0/s, -\u001b[2K\u001b[A\u001b[2K\u001b[A\u001b[2K\u001b[A\u001b[2K\u001b[A\u001b[2K\u001b[A\u001b[2K\u001b[A\u001b[2K\u001b[A\u001b[2K\u001b[A\u001b[2K\u001b[A\u001b[2K\u001b[0GTransferred:   \t   37.559M / 141.476 MBytes, 27%, 1.225 MBytes/s, ETA 1m24s\n",
      "Errors:                 0\n",
      "Checks:               515 / 515, 100%\n",
      "Transferred:          169 / 626, 27%\n",
      "Elapsed time:       30.6s\n",
      "Transferring:\n",
      " *          MOTHER FILES/RGM/Figures/LDFirst.png:  4% /2.433M, 0/s, -\n",
      " *    MOTHER FILES/RGM/Figures/LDSecondSlice.png: transferring\n",
      " *  MOTHER FILES/RGM/Figures/LDSecondSection.png:  5% /1.050M, 0/s, -\n",
      " * MOTHER FILES/RGM/Figur…LDSecondProjection.png: 18% /1.301M, 0/s, -\u001b[2K\u001b[A\u001b[2K\u001b[A\u001b[2K\u001b[A\u001b[2K\u001b[A\u001b[2K\u001b[A\u001b[2K\u001b[A\u001b[2K\u001b[A\u001b[2K\u001b[A\u001b[2K\u001b[A\u001b[2K\u001b[0GTransferred:   \t   38.445M / 141.600 MBytes, 27%, 1.234 MBytes/s, ETA 1m23s\n",
      "Errors:                 0\n",
      "Checks:               515 / 515, 100%\n",
      "Transferred:          169 / 626, 27%\n",
      "Elapsed time:       31.1s\n",
      "Transferring:\n",
      " *          MOTHER FILES/RGM/Figures/LDFirst.png: 10% /2.433M, 0/s, -\n",
      " *    MOTHER FILES/RGM/Figures/LDSecondSlice.png: 59% /126.968k, 0/s, -\n",
      " *  MOTHER FILES/RGM/Figures/LDSecondSection.png: 47% /1.050M, 0/s, -\n",
      " * MOTHER FILES/RGM/Figur…LDSecondProjection.png: 38% /1.301M, 0/s, -\u001b[2K\u001b[A\u001b[2K\u001b[A\u001b[2K\u001b[A\u001b[2K\u001b[A\u001b[2K\u001b[A\u001b[2K\u001b[A\u001b[2K\u001b[A\u001b[2K\u001b[A\u001b[2K\u001b[A\u001b[2K\u001b[0GTransferred:   \t   39.799M / 139.932 MBytes, 28%, 1.257 MBytes/s, ETA 1m19s\n",
      "Errors:                 0\n",
      "Checks:               515 / 515, 100%\n",
      "Transferred:          171 / 626, 27%\n",
      "Elapsed time:       31.6s\n",
      "Transferring:\n",
      " *              MOTHER FILES/RGM/Figures/PES.png: transferring\n",
      " *          MOTHER FILES/RGM/Figures/LDFirst.png: 40% /2.433M, 506.249k/s, 2s\n",
      " *     MOTHER FILES/RGM/Figures/PODS_DSshape.png: transferring\n",
      " * MOTHER FILES/RGM/Figur…LDSecondProjection.png: 38% /1.301M, 507.728k/s, 1s\u001b[2K\u001b[A\u001b[2K\u001b[A\u001b[2K\u001b[A\u001b[2K\u001b[A\u001b[2K\u001b[A\u001b[2K\u001b[A\u001b[2K\u001b[A\u001b[2K\u001b[A\u001b[2K\u001b[A\u001b[2K\u001b[0GTransferred:   \t   40.029M / 140.179 MBytes, 29%, 1.245 MBytes/s, ETA 1m20s\n",
      "Errors:                 0\n",
      "Checks:               515 / 515, 100%\n",
      "Transferred:          171 / 626, 27%\n",
      "Elapsed time:       32.1s\n",
      "Transferring:\n",
      " *              MOTHER FILES/RGM/Figures/PES.png: 92% /253.293k, 0/s, -\n",
      " *          MOTHER FILES/RGM/Figures/LDFirst.png: 40% /2.433M, 506.249k/s, 2s\n",
      " *     MOTHER FILES/RGM/Figures/PODS_DSshape.png: transferring\n",
      " * MOTHER FILES/RGM/Figur…LDSecondProjection.png: 38% /1.301M, 507.728k/s, 1s\u001b[2K\u001b[A\u001b[2K\u001b[A\u001b[2K\u001b[A\u001b[2K\u001b[A\u001b[2K\u001b[A\u001b[2K\u001b[A\u001b[2K\u001b[A\u001b[2K\u001b[A\u001b[2K\u001b[A\u001b[2K\u001b[0GTransferred:   \t   42.535M / 140.541 MBytes, 30%, 1.303 MBytes/s, ETA 1m15s\n",
      "Errors:                 0\n",
      "Checks:               515 / 515, 100%\n",
      "Transferred:          174 / 626, 28%\n",
      "Elapsed time:       32.6s\n",
      "Transferring:\n",
      " *         MOTHER FILES/RGM/Figures/SB_model.png: transferring\n",
      " *         MOTHER FILES/RGM/Figures/TransitT.png: transferring\n",
      " *     MOTHER FILES/RGM/Figures/PODS_DSshape.png: 17% /1.421M, 0/s, -\n"
     ]
    },
    {
     "name": "stdout",
     "output_type": "stream",
     "text": [
      " * MOTHER FILES/SW/2 DoF …DoF index 1 saddle.aux: transferring\u001b[2K\u001b[A\u001b[2K\u001b[A\u001b[2K\u001b[A\u001b[2K\u001b[A\u001b[2K\u001b[A\u001b[2K\u001b[A\u001b[2K\u001b[A\u001b[2K\u001b[A\u001b[2K\u001b[A\u001b[2K\u001b[0GTransferred:   \t   43.558M / 141.457 MBytes, 31%, 1.314 MBytes/s, ETA 1m14s\n",
      "Errors:                 0\n",
      "Checks:               515 / 515, 100%\n",
      "Transferred:          176 / 626, 28%\n",
      "Elapsed time:       33.1s\n",
      "Transferring:\n",
      " *         MOTHER FILES/RGM/Figures/TransitT.png: 10% /904.345k, 0/s, -\n",
      " *     MOTHER FILES/RGM/Figures/PODS_DSshape.png: 70% /1.421M, 0/s, -\n",
      " * MOTHER FILES/SW/2 DoF …DoF index 1 saddle.log: transferring\n",
      " * MOTHER FILES/SW/2 DoF …DoF index 1 saddle.pdf: transferring\u001b[2K\u001b[A\u001b[2K\u001b[A\u001b[2K\u001b[A\u001b[2K\u001b[A\u001b[2K\u001b[A\u001b[2K\u001b[A\u001b[2K\u001b[A\u001b[2K\u001b[A\u001b[2K\u001b[A\u001b[2K\u001b[0GTransferred:   \t   44.795M / 141.516 MBytes, 32%, 1.331 MBytes/s, ETA 1m12s\n",
      "Errors:                 0\n",
      "Checks:               515 / 515, 100%\n",
      "Transferred:          180 / 626, 29%\n",
      "Elapsed time:       33.6s\n",
      "Transferring:\n",
      " * MOTHER FILES/SW/2 DoF …DoF index 1 saddle.pdf:  0% /136.096k, 0/s, -\n",
      " * MOTHER FILES/SW/2 DoF …DoF index 1 saddle.tex: transferring\n",
      " * MOTHER FILES/SW/2 DoF …e/fig_2_dof_saddle.png: transferring\n",
      " * MOTHER FILES/SW/2 DoF …f_index_1_saddle.ipynb: transferring\u001b[2K\u001b[A\u001b[2K\u001b[A\u001b[2K\u001b[A\u001b[2K\u001b[A\u001b[2K\u001b[A\u001b[2K\u001b[A\u001b[2K\u001b[A\u001b[2K\u001b[A\u001b[2K\u001b[A\u001b[2K\u001b[0GTransferred:   \t   45.257M / 141.208 MBytes, 32%, 1.325 MBytes/s, ETA 1m12s\n",
      "Errors:                 0\n",
      "Checks:               515 / 515, 100%\n",
      "Transferred:          185 / 626, 30%\n",
      "Elapsed time:       34.1s\n",
      "Transferring:\n",
      " *                 MOTHER FILES/VGG/LDs/fig1.png: 79% /256.061k, 0/s, -\n",
      " *                 MOTHER FILES/VGG/LDs/fig2.png: 11% /374.795k, 0/s, -\n",
      " *                 MOTHER FILES/VGG/LDs/fig3.png: transferring\n",
      " *                 MOTHER FILES/VGG/LDs/fig4.png: transferring\u001b[2K\u001b[A\u001b[2K\u001b[A\u001b[2K\u001b[A\u001b[2K\u001b[A\u001b[2K\u001b[A\u001b[2K\u001b[A\u001b[2K\u001b[A\u001b[2K\u001b[A\u001b[2K\u001b[A\u001b[2K\u001b[0GTransferred:   \t   46.177M / 140.437 MBytes, 33%, 1.332 MBytes/s, ETA 1m10s\n",
      "Errors:                 0\n",
      "Checks:               515 / 515, 100%\n",
      "Transferred:          189 / 626, 30%\n",
      "Elapsed time:       34.6s\n",
      "Transferring:\n",
      " *                  MOTHER FILES/VGG/LDs/LDs.bib: transferring\n",
      " *                 MOTHER FILES/VGG/LDs/fig5.png: 72% /212.383k, 0/s, -\n",
      " *                 MOTHER FILES/VGG/LDs/fig6.png: transferring\n",
      " *         MOTHER FILES/VGG/LDs/LDs_victor.ipynb: transferring\u001b[2K\u001b[A\u001b[2K\u001b[A\u001b[2K\u001b[A\u001b[2K\u001b[A\u001b[2K\u001b[A\u001b[2K\u001b[A\u001b[2K\u001b[A\u001b[2K\u001b[A\u001b[2K\u001b[A\u001b[2K\u001b[0GTransferred:   \t   46.866M / 141.554 MBytes, 33%, 1.333 MBytes/s, ETA 1m11s\n",
      "Errors:                 0\n",
      "Checks:               515 / 515, 100%\n",
      "Transferred:          193 / 626, 31%\n",
      "Elapsed time:       35.1s\n",
      "Transferring:\n",
      " *                 MOTHER FILES/VGG/LDs/fig6.png: 45% /1.085M, 0/s, -\n",
      " *  MOTHER FILES/VK/1 - Roaming/ch4contoura1.jpg: transferring\n",
      " * MOTHER FILES/VK/1 - Ro…/BifEnergyRes_abio.png: 91% /21.580k, 0/s, -\n",
      " * MOTHER FILES/VK/1 - Ro…agramEnergyResidue.png: 28% /38.908k, 0/s, -\u001b[2K\u001b[A\u001b[2K\u001b[A\u001b[2K\u001b[A\u001b[2K\u001b[A\u001b[2K\u001b[A\u001b[2K\u001b[A\u001b[2K\u001b[A\u001b[2K\u001b[A\u001b[2K\u001b[A\u001b[2K\u001b[0GTransferred:   \t   47.599M / 141.490 MBytes, 34%, 1.335 MBytes/s, ETA 1m10s\n",
      "Errors:                 0\n",
      "Checks:               515 / 515, 100%\n",
      "Transferred:          199 / 626, 32%\n",
      "Elapsed time:       35.6s\n",
      "Transferring:\n",
      " * MOTHER FILES/VK/1 - Roaming/ConleyContour.jpg: transferring\n",
      " * MOTHER FILES/VK/1 - Roaming/disI_ps_res_2.jpg: transferring\n",
      " * MOTHER FILES/VK/1 - Roaming/disI_ps_res_5.jpg: transferring\n",
      " * MOTHER FILES/VK/1 - Ro…ng/disI_ps_res_2_5.jpg: transferring\u001b[2K\u001b[A\u001b[2K\u001b[A\u001b[2K\u001b[A\u001b[2K\u001b[A\u001b[2K\u001b[A\u001b[2K\u001b[A\u001b[2K\u001b[A\u001b[2K\u001b[A\u001b[2K\u001b[A\u001b[2K\u001b[0GTransferred:   \t   47.730M / 141.417 MBytes, 34%, 1.320 MBytes/s, ETA 1m10s\n",
      "Errors:                 0\n",
      "Checks:               515 / 515, 100%\n",
      "Transferred:          205 / 626, 33%\n",
      "Elapsed time:       36.1s\n",
      "Transferring:\n",
      " *           MOTHER FILES/VK/1 - Roaming/E25.jpg: transferring\n",
      " *           MOTHER FILES/VK/1 - Roaming/po2.png: transferring\n",
      " *        MOTHER FILES/VK/1 - Roaming/manif5.jpg: transferring\n",
      " *  MOTHER FILES/VK/1 - Roaming/longrangepot.png: transferring\u001b[2K\u001b[A\u001b[2K\u001b[A\u001b[2K\u001b[A\u001b[2K\u001b[A\u001b[2K\u001b[A\u001b[2K\u001b[A\u001b[2K\u001b[A\u001b[2K\u001b[A\u001b[2K\u001b[A\u001b[2K\u001b[0GTransferred:   \t   48.053M / 140.063 MBytes, 34%, 1.311 MBytes/s, ETA 1m10s\n",
      "Errors:                 0\n",
      "Checks:               515 / 515, 100%\n",
      "Transferred:          213 / 626, 34%\n",
      "Elapsed time:       36.6s\n",
      "Transferring:\n",
      " *           MOTHER FILES/VK/1 - Roaming/roam.md: transferring\n",
      " *          MOTHER FILES/VK/1 - Roaming/roam.pdf: transferring\n",
      " *          MOTHER FILES/VK/1 - Roaming/rot1.jpg: transferring\n",
      " * MOTHER FILES/VK/1 - Roaming/rlevelspolar0.jpg: transferring\u001b[2K\u001b[A\u001b[2K\u001b[A\u001b[2K\u001b[A\u001b[2K\u001b[A\u001b[2K\u001b[A\u001b[2K\u001b[A\u001b[2K\u001b[A\u001b[2K\u001b[A\u001b[2K\u001b[A\u001b[2K\u001b[0GTransferred:   \t   48.482M / 141.517 MBytes, 34%, 1.305 MBytes/s, ETA 1m11s\n",
      "Errors:                 0\n",
      "Checks:               515 / 515, 100%\n",
      "Transferred:          216 / 626, 35%\n",
      "Elapsed time:       37.1s\n",
      "Transferring:\n",
      " *          MOTHER FILES/VK/1 - Roaming/roam.pdf: 17% /1.373M, 0/s, -\n",
      " *          MOTHER FILES/VK/1 - Roaming/rot2.jpg: 43% /44.096k, 0/s, -\n",
      " *          MOTHER FILES/VK/1 - Roaming/rot5.jpg: transferring\n",
      " *        MOTHER FILES/VK/1 - Roaming/rot2_5.jpg: transferring\u001b[2K\u001b[A\u001b[2K\u001b[A\u001b[2K\u001b[A\u001b[2K\u001b[A\u001b[2K\u001b[A\u001b[2K\u001b[A\u001b[2K\u001b[A\u001b[2K\u001b[A\u001b[2K\u001b[A\u001b[2K\u001b[0GTransferred:   \t   49.718M / 141.470 MBytes, 35%, 1.320 MBytes/s, ETA 1m9s\n",
      "Errors:                 0\n",
      "Checks:               515 / 515, 100%\n",
      "Transferred:          220 / 626, 35%\n",
      "Elapsed time:       37.6s\n",
      "Transferring:\n",
      " *   MOTHER FILES/VK/1 - Roaming/rot_number1.jpg: transferring\n",
      " *   MOTHER FILES/VK/1 - Roaming/rot_number2.jpg: transferring\n",
      " *   MOTHER FILES/VK/1 - Roaming/rot_number5.jpg: transferring\n",
      " * MOTHER FILES/VK/1 - Roaming/rot_number2_5.jpg:  0% /44.800k, 0/s, -\u001b[2K\u001b[A\u001b[2K\u001b[A\u001b[2K\u001b[A\u001b[2K\u001b[A\u001b[2K\u001b[A\u001b[2K\u001b[A\u001b[2K\u001b[A\u001b[2K\u001b[A\u001b[2K\u001b[A\u001b[2K\u001b[0GTransferred:   \t   49.937M / 141.480 MBytes, 35%, 1.309 MBytes/s, ETA 1m9s\n",
      "Errors:                 0\n",
      "Checks:               515 / 515, 100%\n",
      "Transferred:          225 / 626, 36%\n",
      "Elapsed time:       38.1s\n",
      "Transferring:\n",
      " *    MOTHER FILES/VK/1 - Roaming/sos_disA_1.png: transferring\n",
      " *    MOTHER FILES/VK/1 - Roaming/sos_disA_2.png: transferring\n",
      " *   MOTHER FILES/VK/1 - Roaming/rot_number1.jpg: transferring\n",
      " *  MOTHER FILES/VK/1 - Roaming/sos_disA_2_5.png: transferring\u001b[2K\u001b[A\u001b[2K\u001b[A\u001b[2K\u001b[A\u001b[2K\u001b[A\u001b[2K\u001b[A\u001b[2K\u001b[A\u001b[2K\u001b[A\u001b[2K\u001b[A\u001b[2K\u001b[A\u001b[2K\u001b[0GTransferred:   \t   50.057M / 141.461 MBytes, 35%, 1.295 MBytes/s, ETA 1m10s\n",
      "Errors:                 0\n",
      "Checks:               515 / 515, 100%\n",
      "Transferred:          229 / 626, 37%\n",
      "Elapsed time:       38.6s\n",
      "Transferring:\n",
      " *     MOTHER FILES/SN/ham_sn1and2dof/fig10a.pdf:  0% /132.753k, 0/s, -\n",
      " *     MOTHER FILES/SN/ham_sn1and2dof/fig10b.pdf:  0% /33.516k, 0/s, -\n",
      " *     MOTHER FILES/SN/ham_sn1and2dof/fig10c.pdf: transferring\n",
      " *   MOTHER FILES/SN/ham_sn1and2dof/epsfsafe.tex:  0% /8.688k, 0/s, -\u001b[2K\u001b[A\u001b[2K\u001b[A\u001b[2K\u001b[A\u001b[2K\u001b[A\u001b[2K\u001b[A\u001b[2K\u001b[A\u001b[2K\u001b[A\u001b[2K\u001b[A\u001b[2K\u001b[A\u001b[2K\u001b[0GTransferred:   \t   50.371M / 141.518 MBytes, 36%, 1.286 MBytes/s, ETA 1m10s\n",
      "Errors:                 0\n",
      "Checks:               515 / 515, 100%\n",
      "Transferred:          232 / 626, 37%\n",
      "Elapsed time:       39.1s\n",
      "Transferring:\n",
      " *      MOTHER FILES/SN/ham_sn1and2dof/fig11.pdf: transferring\n",
      " *     MOTHER FILES/SN/ham_sn1and2dof/fig10c.pdf: 96% /142.723k, 0/s, -\n",
      " *     MOTHER FILES/SN/ham_sn1and2dof/fig10d.pdf: 27% /34.817k, 0/s, -\n",
      " *     MOTHER FILES/SN/ham_sn1and2dof/fig12a.pdf: transferring\u001b[2K\u001b[A\u001b[2K\u001b[A\u001b[2K\u001b[A\u001b[2K\u001b[A\u001b[2K\u001b[A\u001b[2K\u001b[A\u001b[2K\u001b[A\u001b[2K\u001b[A\u001b[2K\u001b[A\u001b[2K\u001b[0GTransferred:   \t   50.544M / 141.407 MBytes, 36%, 1.275 MBytes/s, ETA 1m11s\n",
      "Errors:                 0\n",
      "Checks:               515 / 515, 100%\n",
      "Transferred:          237 / 626, 38%\n",
      "Elapsed time:       39.6s\n",
      "Transferring:\n",
      " *     MOTHER FILES/SN/ham_sn1and2dof/fig12c.pdf: 63% /42.254k, 0/s, -\n",
      " *     MOTHER FILES/SN/ham_sn1and2dof/fig12d.pdf:  1% /34.811k, 0/s, -\n",
      " *     MOTHER FILES/SN/ham_sn1and2dof/fig13a.pdf: transferring\n",
      " *     MOTHER FILES/SN/ham_sn1and2dof/fig13b.pdf: transferring\u001b[2K\u001b[A\u001b[2K\u001b[A\u001b[2K\u001b[A\u001b[2K\u001b[A\u001b[2K\u001b[A\u001b[2K\u001b[A\u001b[2K\u001b[A\u001b[2K\u001b[A\u001b[2K\u001b[A\u001b[2K\u001b[0GTransferred:   \t   50.993M / 141.423 MBytes, 36%, 1.270 MBytes/s, ETA 1m11s\n",
      "Errors:                 0\n",
      "Checks:               515 / 515, 100%\n",
      "Transferred:          241 / 626, 38%\n",
      "Elapsed time:       40.1s\n",
      "Transferring:\n",
      " *      MOTHER FILES/SN/ham_sn1and2dof/fig1b.pdf: 75% /354.103k, 0/s, -\n",
      " *      MOTHER FILES/SN/ham_sn1and2dof/fig1c.pdf: transferring\n",
      " *      MOTHER FILES/SN/ham_sn1and2dof/fig1d.pdf: transferring\n"
     ]
    },
    {
     "name": "stdout",
     "output_type": "stream",
     "text": [
      " *     MOTHER FILES/SN/ham_sn1and2dof/fig13a.pdf: transferring\u001b[2K\u001b[A\u001b[2K\u001b[A\u001b[2K\u001b[A\u001b[2K\u001b[A\u001b[2K\u001b[A\u001b[2K\u001b[A\u001b[2K\u001b[A\u001b[2K\u001b[A\u001b[2K\u001b[A\u001b[2K\u001b[0GTransferred:   \t   51.381M / 141.438 MBytes, 36%, 1.264 MBytes/s, ETA 1m11s\n",
      "Errors:                 0\n",
      "Checks:               515 / 515, 100%\n",
      "Transferred:          246 / 626, 39%\n",
      "Elapsed time:       40.6s\n",
      "Transferring:\n",
      " *      MOTHER FILES/SN/ham_sn1and2dof/fig1f.pdf: 67% /205.414k, 0/s, -\n",
      " *      MOTHER FILES/SN/ham_sn1and2dof/fig2b.pdf: transferring\n",
      " *      MOTHER FILES/SN/ham_sn1and2dof/fig2c.pdf: transferring\n",
      " *     MOTHER FILES/SN/ham_sn1and2dof/fig13a.pdf: transferring\u001b[2K\u001b[A\u001b[2K\u001b[A\u001b[2K\u001b[A\u001b[2K\u001b[A\u001b[2K\u001b[A\u001b[2K\u001b[A\u001b[2K\u001b[A\u001b[2K\u001b[A\u001b[2K\u001b[A\u001b[2K\u001b[0GTransferred:   \t   51.549M / 141.366 MBytes, 36%, 1.253 MBytes/s, ETA 1m11s\n",
      "Errors:                 0\n",
      "Checks:               515 / 515, 100%\n",
      "Transferred:          250 / 626, 40%\n",
      "Elapsed time:       41.1s\n",
      "Transferring:\n",
      " *      MOTHER FILES/SN/ham_sn1and2dof/fig3a.pdf: transferring\n",
      " *      MOTHER FILES/SN/ham_sn1and2dof/fig3b.pdf: transferring\n",
      " *      MOTHER FILES/SN/ham_sn1and2dof/fig4a.pdf: transferring\n",
      " *     MOTHER FILES/SN/ham_sn1and2dof/fig13a.pdf: transferring\u001b[2K\u001b[A\u001b[2K\u001b[A\u001b[2K\u001b[A\u001b[2K\u001b[A\u001b[2K\u001b[A\u001b[2K\u001b[A\u001b[2K\u001b[A\u001b[2K\u001b[A\u001b[2K\u001b[A\u001b[2K\u001b[0GTransferred:   \t   51.684M / 141.139 MBytes, 37%, 1.241 MBytes/s, ETA 1m12s\n",
      "Errors:                 0\n",
      "Checks:               515 / 515, 100%\n",
      "Transferred:          253 / 626, 40%\n",
      "Elapsed time:       41.6s\n",
      "Transferring:\n",
      " *      MOTHER FILES/SN/ham_sn1and2dof/fig4b.pdf: transferring\n",
      " *      MOTHER FILES/SN/ham_sn1and2dof/fig4c.pdf: transferring\n",
      " *      MOTHER FILES/SN/ham_sn1and2dof/fig4d.pdf: transferring\n",
      " *     MOTHER FILES/SN/ham_sn1and2dof/fig13a.pdf: transferring\u001b[2K\u001b[A\u001b[2K\u001b[A\u001b[2K\u001b[A\u001b[2K\u001b[A\u001b[2K\u001b[A\u001b[2K\u001b[A\u001b[2K\u001b[A\u001b[2K\u001b[A\u001b[2K\u001b[A\u001b[2K\u001b[0GTransferred:   \t   52.046M / 141.230 MBytes, 37%, 1.235 MBytes/s, ETA 1m12s\n",
      "Errors:                 0\n",
      "Checks:               515 / 515, 100%\n",
      "Transferred:          256 / 626, 41%\n",
      "Elapsed time:       42.1s\n",
      "Transferring:\n",
      " *      MOTHER FILES/SN/ham_sn1and2dof/fig5a.pdf: transferring\n",
      " *      MOTHER FILES/SN/ham_sn1and2dof/fig5b.pdf: transferring\n",
      " *      MOTHER FILES/SN/ham_sn1and2dof/fig5c.pdf: transferring\n",
      " *     MOTHER FILES/SN/ham_sn1and2dof/fig13a.pdf: transferring\u001b[2K\u001b[A\u001b[2K\u001b[A\u001b[2K\u001b[A\u001b[2K\u001b[A\u001b[2K\u001b[A\u001b[2K\u001b[A\u001b[2K\u001b[A\u001b[2K\u001b[A\u001b[2K\u001b[A\u001b[2K\u001b[0GTransferred:   \t   52.419M / 141.182 MBytes, 37%, 1.229 MBytes/s, ETA 1m12s\n",
      "Errors:                 0\n",
      "Checks:               515 / 515, 100%\n",
      "Transferred:          260 / 626, 42%\n",
      "Elapsed time:       42.6s\n",
      "Transferring:\n",
      " *      MOTHER FILES/SN/ham_sn1and2dof/fig5e.pdf: transferring\n",
      " *      MOTHER FILES/SN/ham_sn1and2dof/fig5f.pdf: transferring\n",
      " *      MOTHER FILES/SN/ham_sn1and2dof/fig6a.pdf: transferring\n",
      " *     MOTHER FILES/SN/ham_sn1and2dof/fig13a.pdf: transferring\u001b[2K\u001b[A\u001b[2K\u001b[A\u001b[2K\u001b[A\u001b[2K\u001b[A\u001b[2K\u001b[A\u001b[2K\u001b[A\u001b[2K\u001b[A\u001b[2K\u001b[A\u001b[2K\u001b[A\u001b[2K\u001b[0GTransferred:   \t   52.816M / 141.377 MBytes, 37%, 1.224 MBytes/s, ETA 1m12s\n",
      "Errors:                 0\n",
      "Checks:               515 / 515, 100%\n",
      "Transferred:          264 / 626, 42%\n",
      "Elapsed time:       43.1s\n",
      "Transferring:\n",
      " *      MOTHER FILES/SN/ham_sn1and2dof/fig7a.pdf: transferring\n",
      " *      MOTHER FILES/SN/ham_sn1and2dof/fig7b.pdf: transferring\n",
      " *      MOTHER FILES/SN/ham_sn1and2dof/fig7c.pdf: transferring\n",
      " *     MOTHER FILES/SN/ham_sn1and2dof/fig13a.pdf: transferring\u001b[2K\u001b[A\u001b[2K\u001b[A\u001b[2K\u001b[A\u001b[2K\u001b[A\u001b[2K\u001b[A\u001b[2K\u001b[A\u001b[2K\u001b[A\u001b[2K\u001b[A\u001b[2K\u001b[A\u001b[2K\u001b[0GTransferred:   \t   53.010M / 141.306 MBytes, 38%, 1.214 MBytes/s, ETA 1m12s\n",
      "Errors:                 0\n",
      "Checks:               515 / 515, 100%\n",
      "Transferred:          267 / 626, 43%\n",
      "Elapsed time:       43.6s\n",
      "Transferring:\n",
      " *      MOTHER FILES/SN/ham_sn1and2dof/fig7d.pdf: 98% /73.450k, 0/s, -\n",
      " *      MOTHER FILES/SN/ham_sn1and2dof/fig8a.pdf: transferring\n",
      " *      MOTHER FILES/SN/ham_sn1and2dof/fig8b.pdf: transferring\n",
      " *     MOTHER FILES/SN/ham_sn1and2dof/fig13a.pdf: transferring\u001b[2K\u001b[A\u001b[2K\u001b[A\u001b[2K\u001b[A\u001b[2K\u001b[A\u001b[2K\u001b[A\u001b[2K\u001b[A\u001b[2K\u001b[A\u001b[2K\u001b[A\u001b[2K\u001b[A\u001b[2K\u001b[0GTransferred:   \t   53.346M / 140.191 MBytes, 38%, 1.208 MBytes/s, ETA 1m11s\n",
      "Errors:                 0\n",
      "Checks:               515 / 515, 100%\n",
      "Transferred:          271 / 626, 43%\n",
      "Elapsed time:       44.1s\n",
      "Transferring:\n",
      " *      MOTHER FILES/SN/ham_sn1and2dof/fig9b.pdf: transferring\n",
      " *      MOTHER FILES/SN/ham_sn1and2dof/fig9c.png: transferring\n",
      " *      MOTHER FILES/SN/ham_sn1and2dof/fig9d.png: transferring\n",
      " *     MOTHER FILES/SN/ham_sn1and2dof/fig13a.pdf: transferring\u001b[2K\u001b[A\u001b[2K\u001b[A\u001b[2K\u001b[A\u001b[2K\u001b[A\u001b[2K\u001b[A\u001b[2K\u001b[A\u001b[2K\u001b[A\u001b[2K\u001b[A\u001b[2K\u001b[A\u001b[2K\u001b[0GTransferred:   \t   53.976M / 141.424 MBytes, 38%, 1.209 MBytes/s, ETA 1m12s\n",
      "Errors:                 0\n",
      "Checks:               515 / 515, 100%\n",
      "Transferred:          272 / 626, 43%\n",
      "Elapsed time:       44.6s\n",
      "Transferring:\n",
      " *      MOTHER FILES/SN/ham_sn1and2dof/fig9c.png: 67% /541.326k, 0/s, -\n",
      " *      MOTHER FILES/SN/ham_sn1and2dof/fig9d.png: 21% /655.726k, 0/s, -\n",
      " *     MOTHER FILES/SN/ham_sn1and2dof/fig13a.pdf: transferring\n",
      " * MOTHER FILES/SN/ham_sn1and2dof/figAppA_1a.pdf: transferring\u001b[2K\u001b[A\u001b[2K\u001b[A\u001b[2K\u001b[A\u001b[2K\u001b[A\u001b[2K\u001b[A\u001b[2K\u001b[A\u001b[2K\u001b[A\u001b[2K\u001b[A\u001b[2K\u001b[A\u001b[2K\u001b[0GTransferred:   \t   54.732M / 141.381 MBytes, 39%, 1.212 MBytes/s, ETA 1m11s\n",
      "Errors:                 0\n",
      "Checks:               515 / 515, 100%\n",
      "Transferred:          275 / 626, 44%\n",
      "Elapsed time:       45.1s\n",
      "Transferring:\n",
      " *     MOTHER FILES/SN/ham_sn1and2dof/fig13a.pdf: transferring\n",
      " * MOTHER FILES/SN/ham_sn1and2dof/figAppA_1b.pdf: transferring\n",
      " * MOTHER FILES/SN/ham_sn1and2dof/figAppB_1a.pdf: transferring\n",
      " * MOTHER FILES/SN/ham_sn1and2dof/figAppB_1b.pdf: transferring\u001b[2K\u001b[A\u001b[2K\u001b[A\u001b[2K\u001b[A\u001b[2K\u001b[A\u001b[2K\u001b[A\u001b[2K\u001b[A\u001b[2K\u001b[A\u001b[2K\u001b[A\u001b[2K\u001b[A\u001b[2K\u001b[0GTransferred:   \t   54.883M / 141.358 MBytes, 39%, 1.202 MBytes/s, ETA 1m11s\n",
      "Errors:                 0\n",
      "Checks:               515 / 515, 100%\n",
      "Transferred:          279 / 626, 45%\n",
      "Elapsed time:       45.6s\n",
      "Transferring:\n",
      " *     MOTHER FILES/SN/ham_sn1and2dof/fig13a.pdf: transferring\n",
      " * MOTHER FILES/SN/ham_sn1and2dof/figAppB_1c.pdf: transferring\n",
      " * MOTHER FILES/SN/ham_sn…of/submission_ijbc.log: transferring\n",
      " * MOTHER FILES/SN/ham_sn…of/submission_ijbc.out: transferring\u001b[2K\u001b[A\u001b[2K\u001b[A\u001b[2K\u001b[A\u001b[2K\u001b[A\u001b[2K\u001b[A\u001b[2K\u001b[A\u001b[2K\u001b[A\u001b[2K\u001b[A\u001b[2K\u001b[A\u001b[2K\u001b[0GTransferred:   \t   55.153M / 136.067 MBytes, 41%, 1.195 MBytes/s, ETA 1m7s\n",
      "Errors:                 0\n",
      "Checks:               515 / 515, 100%\n",
      "Transferred:          282 / 626, 45%\n",
      "Elapsed time:       46.1s\n",
      "Transferring:\n",
      " *     MOTHER FILES/SN/ham_sn1and2dof/fig13a.pdf: transferring\n",
      " * MOTHER FILES/SN/ham_sn…ission_ijbc.synctex.gz: 32% /401.348k, 0/s, -\n",
      " * MOTHER FILES/SN/ham_sn…of/submission_ijbc.pdf: transferring\n",
      " * MOTHER FILES/SN/ham_sn…of/submission_ijbc.tex: transferring\u001b[2K\u001b[A\u001b[2K\u001b[A\u001b[2K\u001b[A\u001b[2K\u001b[A\u001b[2K\u001b[A\u001b[2K\u001b[A\u001b[2K\u001b[A\u001b[2K\u001b[A\u001b[2K\u001b[A\u001b[2K\u001b[0GTransferred:   \t   56.085M / 141.449 MBytes, 40%, 1.202 MBytes/s, ETA 1m11s\n",
      "Errors:                 0\n",
      "Checks:               515 / 515, 100%\n",
      "Transferred:          285 / 626, 46%\n",
      "Elapsed time:       46.6s\n",
      "Transferring:\n",
      " *     MOTHER FILES/SN/ham_sn1and2dof/fig13a.pdf: transferring\n",
      " *    MOTHER FILES/SN/ham_sn1and2dof/ws-ijbc.cls: transferring\n",
      " * MOTHER FILES/SN/ham_sn…nd2dof/ws-rotating.sty: transferring\n",
      " * MOTHER FILES/SN/ham_sn…of/submission_ijbc.pdf:  9% /5.295M, 0/s, -\u001b[2K\u001b[A\u001b[2K\u001b[A\u001b[2K\u001b[A\u001b[2K\u001b[A\u001b[2K\u001b[A\u001b[2K\u001b[A\u001b[2K\u001b[A\u001b[2K\u001b[A\u001b[2K\u001b[A\u001b[2K\u001b[0GTransferred:   \t   56.857M / 141.272 MBytes, 40%, 1.206 MBytes/s, ETA 1m10s\n",
      "Errors:                 0\n",
      "Checks:               515 / 515, 100%\n",
      "Transferred:          288 / 626, 46%\n",
      "Elapsed time:       47.1s\n",
      "Transferring:\n",
      " *     MOTHER FILES/VK/2 - Roammass/figure1a.jpg: 59% /204.958k, 0/s, -\n",
      " *     MOTHER FILES/VK/2 - Roammass/figure1b.jpg: transferring\n",
      " *     MOTHER FILES/VK/2 - Roammass/figure1c.jpg: transferring\n",
      " * MOTHER FILES/SN/ham_sn…of/submission_ijbc.pdf: 18% /5.295M, 0/s, -\u001b[2K\u001b[A\u001b[2K\u001b[A\u001b[2K\u001b[A\u001b[2K\u001b[A\u001b[2K\u001b[A\u001b[2K\u001b[A\u001b[2K\u001b[A\u001b[2K\u001b[A\u001b[2K\u001b[A\u001b[2K\u001b[0GTransferred:   \t   58.234M / 141.348 MBytes, 41%, 1.222 MBytes/s, ETA 1m8s\n",
      "Errors:                 0\n",
      "Checks:               515 / 515, 100%\n",
      "Transferred:          290 / 626, 46%\n",
      "Elapsed time:       47.6s\n",
      "Transferring:\n",
      " *      MOTHER FILES/VK/2 - Roammass/figure2.jpg: transferring\n",
      " *     MOTHER FILES/VK/2 - Roammass/figure1c.jpg: transferring\n",
      " *     MOTHER FILES/VK/2 - Roammass/figure1d.jpg: 80% /170.027k, 0/s, -\n"
     ]
    },
    {
     "name": "stdout",
     "output_type": "stream",
     "text": [
      " * MOTHER FILES/SN/ham_sn…of/submission_ijbc.pdf: 37% /5.295M, 1019.448k/s, 3s\u001b[2K\u001b[A\u001b[2K\u001b[A\u001b[2K\u001b[A\u001b[2K\u001b[A\u001b[2K\u001b[A\u001b[2K\u001b[A\u001b[2K\u001b[A\u001b[2K\u001b[A\u001b[2K\u001b[A\u001b[2K\u001b[0GTransferred:   \t   59.592M / 141.487 MBytes, 42%, 1.238 MBytes/s, ETA 1m6s\n",
      "Errors:                 0\n",
      "Checks:               515 / 515, 100%\n",
      "Transferred:          293 / 626, 47%\n",
      "Elapsed time:       48.1s\n",
      "Transferring:\n",
      " *     MOTHER FILES/VK/2 - Roammass/figure3a.jpg: 54% /137.238k, 0/s, -\n",
      " *     MOTHER FILES/VK/2 - Roammass/figure3b.jpg:  0% /143.388k, 0/s, -\n",
      " *     MOTHER FILES/VK/2 - Roammass/figure3c.jpg: transferring\n",
      " * MOTHER FILES/SN/ham_sn…of/submission_ijbc.pdf: 56% /5.295M, 1019.448k/s, 2s\u001b[2K\u001b[A\u001b[2K\u001b[A\u001b[2K\u001b[A\u001b[2K\u001b[A\u001b[2K\u001b[A\u001b[2K\u001b[A\u001b[2K\u001b[A\u001b[2K\u001b[A\u001b[2K\u001b[A\u001b[2K\u001b[0GTransferred:   \t   61.008M / 141.361 MBytes, 43%, 1.254 MBytes/s, ETA 1m4s\n",
      "Errors:                 0\n",
      "Checks:               515 / 515, 100%\n",
      "Transferred:          297 / 626, 47%\n",
      "Elapsed time:       48.6s\n",
      "Transferring:\n",
      " *     MOTHER FILES/VK/2 - Roammass/figure3d.jpg: transferring\n",
      " *     MOTHER FILES/VK/2 - Roammass/figure4a.jpg: transferring\n",
      " *     MOTHER FILES/VK/2 - Roammass/figure4b.jpg: transferring\n",
      " * MOTHER FILES/SN/ham_sn…of/submission_ijbc.pdf: 75% /5.295M, 1.498M/s, 0s\u001b[2K\u001b[A\u001b[2K\u001b[A\u001b[2K\u001b[A\u001b[2K\u001b[A\u001b[2K\u001b[A\u001b[2K\u001b[A\u001b[2K\u001b[A\u001b[2K\u001b[A\u001b[2K\u001b[A\u001b[2K\u001b[0GTransferred:   \t   62.600M / 141.365 MBytes, 44%, 1.273 MBytes/s, ETA 1m1s\n",
      "Errors:                 0\n",
      "Checks:               515 / 515, 100%\n",
      "Transferred:          302 / 626, 48%\n",
      "Elapsed time:       49.1s\n",
      "Transferring:\n",
      " *     MOTHER FILES/VK/2 - Roammass/figure4b.jpg: transferring\n",
      " *     MOTHER FILES/VK/2 - Roammass/figure5a.jpg: transferring\n",
      " *     MOTHER FILES/VK/2 - Roammass/figure5b.jpg: transferring\n",
      " *     MOTHER FILES/VK/2 - Roammass/figure5c.jpg: transferring\u001b[2K\u001b[A\u001b[2K\u001b[A\u001b[2K\u001b[A\u001b[2K\u001b[A\u001b[2K\u001b[A\u001b[2K\u001b[A\u001b[2K\u001b[A\u001b[2K\u001b[A\u001b[2K\u001b[A\u001b[2K\u001b[0GTransferred:   \t   62.951M / 141.428 MBytes, 45%, 1.268 MBytes/s, ETA 1m1s\n",
      "Errors:                 0\n",
      "Checks:               515 / 515, 100%\n",
      "Transferred:          308 / 626, 49%\n",
      "Elapsed time:       49.6s\n",
      "Transferring:\n",
      " *     MOTHER FILES/VK/2 - Roammass/figure6a.jpg: transferring\n",
      " *     MOTHER FILES/VK/2 - Roammass/figure6c.jpg:  0% /62.422k, 0/s, -\n",
      " *     MOTHER FILES/VK/2 - Roammass/figure6d.jpg: transferring\n",
      " *     MOTHER FILES/VK/2 - Roammass/figure7a.jpg: transferring\u001b[2K\u001b[A\u001b[2K\u001b[A\u001b[2K\u001b[A\u001b[2K\u001b[A\u001b[2K\u001b[A\u001b[2K\u001b[A\u001b[2K\u001b[A\u001b[2K\u001b[A\u001b[2K\u001b[A\u001b[2K\u001b[0GTransferred:   \t   63.284M / 141.376 MBytes, 45%, 1.262 MBytes/s, ETA 1m1s\n",
      "Errors:                 0\n",
      "Checks:               515 / 515, 100%\n",
      "Transferred:          314 / 626, 50%\n",
      "Elapsed time:       50.1s\n",
      "Transferring:\n",
      " *     MOTHER FILES/VK/2 - Roammass/figure7d.jpg: transferring\n",
      " *     MOTHER FILES/VK/2 - Roammass/figure8a.jpg: transferring\n",
      " *     MOTHER FILES/VK/2 - Roammass/figure8b.jpg: transferring\n",
      " *     MOTHER FILES/VK/2 - Roammass/figure8c.jpg: transferring\u001b[2K\u001b[A\u001b[2K\u001b[A\u001b[2K\u001b[A\u001b[2K\u001b[A\u001b[2K\u001b[A\u001b[2K\u001b[A\u001b[2K\u001b[A\u001b[2K\u001b[A\u001b[2K\u001b[A\u001b[2K\u001b[0GTransferred:   \t   63.637M / 141.360 MBytes, 45%, 1.256 MBytes/s, ETA 1m1s\n",
      "Errors:                 0\n",
      "Checks:               515 / 515, 100%\n",
      "Transferred:          321 / 626, 51%\n",
      "Elapsed time:       50.6s\n",
      "Transferring:\n",
      " *         MOTHER FILES/VK/2 - Roammass/roamm.md: transferring\n",
      " *        MOTHER FILES/VK/2 - Roammass/roamm.bib: transferring\n",
      " *       MOTHER FILES/VK/2 - Roammass/roamm.html: transferring\n",
      " *     MOTHER FILES/VK/2 - Roammass/figure9c.jpg: transferring\u001b[2K\u001b[A\u001b[2K\u001b[A\u001b[2K\u001b[A\u001b[2K\u001b[A\u001b[2K\u001b[A\u001b[2K\u001b[A\u001b[2K\u001b[A\u001b[2K\u001b[A\u001b[2K\u001b[A\u001b[2K\u001b[0GTransferred:   \t   63.937M / 141.488 MBytes, 45%, 1.250 MBytes/s, ETA 1m2s\n",
      "Errors:                 0\n",
      "Checks:               515 / 515, 100%\n",
      "Transferred:          325 / 626, 52%\n",
      "Elapsed time:       51.1s\n",
      "Transferring:\n",
      " *        MOTHER FILES/VK/2 - Roammass/roamm.pdf:  2% /2.647M, 0/s, -\n",
      " * MOTHER FILES/SN/findin…onlinear-checkpoint.md: transferring\n",
      " * MOTHER FILES/SW/2 DoF …saddle/global_DS_1.png: transferring\n",
      " * MOTHER FILES/SW/2 DoF …saddle/global_DS_2.png: transferring\u001b[2K\u001b[A\u001b[2K\u001b[A\u001b[2K\u001b[A\u001b[2K\u001b[A\u001b[2K\u001b[A\u001b[2K\u001b[A\u001b[2K\u001b[A\u001b[2K\u001b[A\u001b[2K\u001b[A\u001b[2K\u001b[0GTransferred:   \t   64.987M / 141.531 MBytes, 46%, 1.258 MBytes/s, ETA 1m0s\n",
      "Errors:                 0\n",
      "Checks:               515 / 515, 100%\n",
      "Transferred:          328 / 626, 52%\n",
      "Elapsed time:       51.6s\n",
      "Transferring:\n",
      " *        MOTHER FILES/VK/2 - Roammass/roamm.pdf: 37% /2.647M, 0/s, -\n",
      " * MOTHER FILES/SW/2 DoF …dle/index 2 saddle.aux: transferring\n",
      " * MOTHER FILES/SW/2 DoF …dle/index 2 saddle.bbl: transferring\n",
      " * MOTHER FILES/SW/2 DoF …x 2 saddle/Ham_dyn.bib: transferring\u001b[2K\u001b[A\u001b[2K\u001b[A\u001b[2K\u001b[A\u001b[2K\u001b[A\u001b[2K\u001b[A\u001b[2K\u001b[A\u001b[2K\u001b[A\u001b[2K\u001b[A\u001b[2K\u001b[A\u001b[2K\u001b[0GTransferred:   \t   66.707M / 141.396 MBytes, 47%, 1.279 MBytes/s, ETA 58s\n",
      "Errors:                 0\n",
      "Checks:               515 / 515, 100%\n",
      "Transferred:          332 / 626, 53%\n",
      "Elapsed time:       52.1s\n",
      "Transferring:\n",
      " * MOTHER FILES/SW/2 DoF …dle/index 2 saddle.blg: transferring\n",
      " * MOTHER FILES/SW/2 DoF …dle/index 2 saddle.log: transferring\n",
      " * MOTHER FILES/SW/2 DoF …dle/index 2 saddle.pdf: transferring\n",
      " * MOTHER FILES/SW/2 DoF …ex 2 saddle.synctex.gz: transferring\u001b[2K\u001b[A\u001b[2K\u001b[A\u001b[2K\u001b[A\u001b[2K\u001b[A\u001b[2K\u001b[A\u001b[2K\u001b[A\u001b[2K\u001b[A\u001b[2K\u001b[A\u001b[2K\u001b[A\u001b[2K\u001b[0GTransferred:   \t   66.919M / 141.509 MBytes, 47%, 1.271 MBytes/s, ETA 58s\n",
      "Errors:                 0\n",
      "Checks:               515 / 515, 100%\n",
      "Transferred:          337 / 626, 54%\n",
      "Elapsed time:       52.6s\n",
      "Transferring:\n",
      " * MOTHER FILES/SW/2 DoF …/reaction_dynamics.bib: transferring\n",
      " * MOTHER FILES/SW/2 DoF …e/index_2_saddle.ipynb: transferring\n",
      " * MOTHER FILES/SW/2 DoF …ex 2 saddle/natbib.bst: transferring\n",
      " * MOTHER FILES/SW/2 DoF …ex 2 saddle/natbib.sty: transferring\u001b[2K\u001b[A\u001b[2K\u001b[A\u001b[2K\u001b[A\u001b[2K\u001b[A\u001b[2K\u001b[A\u001b[2K\u001b[A\u001b[2K\u001b[A\u001b[2K\u001b[A\u001b[2K\u001b[A\u001b[2K\u001b[0GTransferred:   \t   67.006M / 140.770 MBytes, 48%, 1.261 MBytes/s, ETA 58s\n",
      "Errors:                 0\n",
      "Checks:               515 / 515, 100%\n",
      "Transferred:          341 / 626, 54%\n",
      "Elapsed time:       53.1s\n",
      "Transferring:\n",
      " * MOTHER FILES/SN/system_bath/deleon_berne.html: transferring\n",
      " * MOTHER FILES/SW/2 DoF …dex 2 saddle/vri_1.bib: transferring\n",
      " * MOTHER FILES/SW/2 DoF …ex 2 saddle/natbib.bst: transferring\n",
      " * MOTHER FILES/SW/2 DoF …ex 2 saddle/rrkm_1.bib: transferring\u001b[2K\u001b[A\u001b[2K\u001b[A\u001b[2K\u001b[A\u001b[2K\u001b[A\u001b[2K\u001b[A\u001b[2K\u001b[A\u001b[2K\u001b[A\u001b[2K\u001b[A\u001b[2K\u001b[A\u001b[2K\u001b[0GTransferred:   \t   67.006M / 140.770 MBytes, 48%, 1.249 MBytes/s, ETA 59s\n",
      "Errors:                 0\n",
      "Checks:               515 / 515, 100%\n",
      "Transferred:          341 / 626, 54%\n",
      "Elapsed time:       53.6s\n",
      "Transferring:\n",
      " * MOTHER FILES/SN/system_bath/deleon_berne.html: transferring\n",
      " * MOTHER FILES/SW/2 DoF …dex 2 saddle/vri_1.bib: transferring\n",
      " * MOTHER FILES/SW/2 DoF …ex 2 saddle/natbib.bst: transferring\n",
      " * MOTHER FILES/SW/2 DoF …ex 2 saddle/rrkm_1.bib: transferring\u001b[2K\u001b[A\u001b[2K\u001b[A\u001b[2K\u001b[A\u001b[2K\u001b[A\u001b[2K\u001b[A\u001b[2K\u001b[A\u001b[2K\u001b[A\u001b[2K\u001b[A\u001b[2K\u001b[A\u001b[2K\u001b[0GTransferred:   \t   67.006M / 140.770 MBytes, 48%, 1.237 MBytes/s, ETA 59s\n",
      "Errors:                 0\n",
      "Checks:               515 / 515, 100%\n",
      "Transferred:          341 / 626, 54%\n",
      "Elapsed time:       54.1s\n",
      "Transferring:\n",
      " * MOTHER FILES/SN/system_bath/deleon_berne.html: transferring\n",
      " * MOTHER FILES/SW/2 DoF …dex 2 saddle/vri_1.bib: transferring\n",
      " * MOTHER FILES/SW/2 DoF …ex 2 saddle/natbib.bst: transferring\n",
      " * MOTHER FILES/SW/2 DoF …ex 2 saddle/rrkm_1.bib: transferring\u001b[2K\u001b[A\u001b[2K\u001b[A\u001b[2K\u001b[A\u001b[2K\u001b[A\u001b[2K\u001b[A\u001b[2K\u001b[A\u001b[2K\u001b[A\u001b[2K\u001b[A\u001b[2K\u001b[A\u001b[2K\u001b[0GTransferred:   \t   67.887M / 141.389 MBytes, 48%, 1.242 MBytes/s, ETA 59s\n",
      "Errors:                 0\n",
      "Checks:               515 / 515, 100%\n",
      "Transferred:          346 / 626, 55%\n",
      "Elapsed time:       54.6s\n",
      "Transferring:\n",
      " *       MOTHER FILES/VK/3 - Roamiso/allrefs.bib: transferring\n",
      " *   MOTHER FILES/SN/system_bath/deleon_berne.md: transferring\n",
      " *  MOTHER FILES/SN/system_bath/system_bath.html:  0% /83.019k, 0/s, -\n",
      " * MOTHER FILES/SN/system…m_bath_ld_reactdyn.bib: transferring\u001b[2K\u001b[A\u001b[2K\u001b[A\u001b[2K\u001b[A\u001b[2K\u001b[A\u001b[2K\u001b[A\u001b[2K\u001b[A\u001b[2K\u001b[A\u001b[2K\u001b[A\u001b[2K\u001b[A\u001b[2K\u001b[0GTransferred:   \t   68.096M / 141.211 MBytes, 48%, 1.235 MBytes/s, ETA 59s\n",
      "Errors:                 0\n",
      "Checks:               515 / 515, 100%\n",
      "Transferred:          348 / 626, 56%\n",
      "Elapsed time:       55.1s\n",
      "Transferring:\n",
      " *       MOTHER FILES/VK/3 - Roamiso/allrefs.bib: transferring\n",
      " *       MOTHER FILES/VK/3 - Roamiso/figure1.jpg: transferring\n",
      " *       MOTHER FILES/VK/3 - Roamiso/figure2.jpg: 78% /135.533k, 0/s, -\n"
     ]
    },
    {
     "name": "stdout",
     "output_type": "stream",
     "text": [
      " * MOTHER FILES/SN/system…m_bath_ld_reactdyn.bib: transferring\u001b[2K\u001b[A\u001b[2K\u001b[A\u001b[2K\u001b[A\u001b[2K\u001b[A\u001b[2K\u001b[A\u001b[2K\u001b[A\u001b[2K\u001b[A\u001b[2K\u001b[A\u001b[2K\u001b[A\u001b[2K\u001b[0GTransferred:   \t   68.655M / 141.356 MBytes, 49%, 1.234 MBytes/s, ETA 58s\n",
      "Errors:                 0\n",
      "Checks:               515 / 515, 100%\n",
      "Transferred:          351 / 626, 56%\n",
      "Elapsed time:       55.6s\n",
      "Transferring:\n",
      " *       MOTHER FILES/VK/3 - Roamiso/figure3.jpg: 38% /362.390k, 0/s, -\n",
      " *       MOTHER FILES/VK/3 - Roamiso/figure4.jpg: 45% /217.062k, 0/s, -\n",
      " *      MOTHER FILES/VK/3 - Roamiso/figure5a.jpg: transferring\n",
      " * MOTHER FILES/SN/system…m_bath_ld_reactdyn.bib: transferring\u001b[2K\u001b[A\u001b[2K\u001b[A\u001b[2K\u001b[A\u001b[2K\u001b[A\u001b[2K\u001b[A\u001b[2K\u001b[A\u001b[2K\u001b[A\u001b[2K\u001b[A\u001b[2K\u001b[A\u001b[2K\u001b[0GTransferred:   \t   69.233M / 140.995 MBytes, 49%, 1.233 MBytes/s, ETA 58s\n",
      "Errors:                 0\n",
      "Checks:               515 / 515, 100%\n",
      "Transferred:          355 / 626, 57%\n",
      "Elapsed time:       56.1s\n",
      "Transferring:\n",
      " *       MOTHER FILES/VK/3 - Roamiso/figure7.jpg: transferring\n",
      " *      MOTHER FILES/VK/3 - Roamiso/figure5b.jpg: transferring\n",
      " *      MOTHER FILES/VK/3 - Roamiso/figure6a.jpg: transferring\n",
      " *      MOTHER FILES/VK/3 - Roamiso/figure6b.jpg: transferring\u001b[2K\u001b[A\u001b[2K\u001b[A\u001b[2K\u001b[A\u001b[2K\u001b[A\u001b[2K\u001b[A\u001b[2K\u001b[A\u001b[2K\u001b[A\u001b[2K\u001b[A\u001b[2K\u001b[A\u001b[2K\u001b[0GTransferred:   \t   69.839M / 138.783 MBytes, 50%, 1.233 MBytes/s, ETA 55s\n",
      "Errors:                 0\n",
      "Checks:               515 / 515, 100%\n",
      "Transferred:          359 / 626, 57%\n",
      "Elapsed time:       56.6s\n",
      "Transferring:\n",
      " *        MOTHER FILES/VK/3 - Roamiso/roamiso.md: transferring\n",
      " *       MOTHER FILES/VK/3 - Roamiso/roamiso.pdf: transferring\n",
      " *      MOTHER FILES/VK/3 - Roamiso/figure8a.jpg: transferring\n",
      " *      MOTHER FILES/VK/3 - Roamiso/figure8b.jpg: transferring\u001b[2K\u001b[A\u001b[2K\u001b[A\u001b[2K\u001b[A\u001b[2K\u001b[A\u001b[2K\u001b[A\u001b[2K\u001b[A\u001b[2K\u001b[A\u001b[2K\u001b[A\u001b[2K\u001b[A\u001b[2K\u001b[0GTransferred:   \t   70.577M / 141.501 MBytes, 50%, 1.235 MBytes/s, ETA 57s\n",
      "Errors:                 0\n",
      "Checks:               515 / 515, 100%\n",
      "Transferred:          362 / 626, 58%\n",
      "Elapsed time:       57.1s\n",
      "Transferring:\n",
      " *       MOTHER FILES/VK/3 - Roamiso/roamiso.pdf: 10% /2.325M, 0/s, -\n",
      " * MOTHER FILES/SW/3 DoF …DoF index 1 saddle.aux: transferring\n",
      " * MOTHER FILES/SW/3 DoF …DoF index 1 saddle.log: transferring\n",
      " * MOTHER FILES/SW/3 DoF …DoF index 1 saddle.pdf: transferring\u001b[2K\u001b[A\u001b[2K\u001b[A\u001b[2K\u001b[A\u001b[2K\u001b[A\u001b[2K\u001b[A\u001b[2K\u001b[A\u001b[2K\u001b[A\u001b[2K\u001b[A\u001b[2K\u001b[A\u001b[2K\u001b[0GTransferred:   \t   71.427M / 141.575 MBytes, 50%, 1.239 MBytes/s, ETA 56s\n",
      "Errors:                 0\n",
      "Checks:               515 / 515, 100%\n",
      "Transferred:          365 / 626, 58%\n",
      "Elapsed time:       57.6s\n",
      "Transferring:\n",
      " *       MOTHER FILES/VK/3 - Roamiso/roamiso.pdf: 42% /2.325M, 0/s, -\n",
      " * MOTHER FILES/SW/3 DoF …DoF index 1 saddle.tex: transferring\n",
      " * MOTHER FILES/SW/3 DoF …ex 1 saddle.synctex.gz: transferring\n",
      " * MOTHER FILES/SW/3 DoF …f_index_1_saddle.ipynb: transferring\u001b[2K\u001b[A\u001b[2K\u001b[A\u001b[2K\u001b[A\u001b[2K\u001b[A\u001b[2K\u001b[A\u001b[2K\u001b[A\u001b[2K\u001b[A\u001b[2K\u001b[A\u001b[2K\u001b[A\u001b[2K\u001b[0GTransferred:   \t   72.892M / 141.287 MBytes, 52%, 1.253 MBytes/s, ETA 54s\n",
      "Errors:                 0\n",
      "Checks:               515 / 515, 100%\n",
      "Transferred:          369 / 626, 59%\n",
      "Elapsed time:       58.1s\n",
      "Transferring:\n",
      " * MOTHER FILES/SN/findin…00x500_E2e-01_q2p2.png: transferring\n",
      " * MOTHER FILES/SN/findin…00x500_E2e-01_q2q3.png: transferring\n",
      " * MOTHER FILES/SN/findin…00x500_E2e-01_q3p2.png: transferring\n",
      " * MOTHER FILES/SN/findin…00x500_E2e-01_q3p3.png: 80% /140.482k, 0/s, -\u001b[2K\u001b[A\u001b[2K\u001b[A\u001b[2K\u001b[A\u001b[2K\u001b[A\u001b[2K\u001b[A\u001b[2K\u001b[A\u001b[2K\u001b[A\u001b[2K\u001b[A\u001b[2K\u001b[A\u001b[2K\u001b[0GTransferred:   \t   73.126M / 141.463 MBytes, 52%, 1.247 MBytes/s, ETA 54s\n",
      "Errors:                 0\n",
      "Checks:               515 / 515, 100%\n",
      "Transferred:          372 / 626, 59%\n",
      "Elapsed time:       58.6s\n",
      "Transferring:\n",
      " * MOTHER FILES/SN/findin…00x500_E2e-01_p2p3.png: transferring\n",
      " * MOTHER FILES/SN/findin…00x500_E2e-01_p3q1.png:  0% /97.892k, 0/s, -\n",
      " * MOTHER FILES/SN/findin…00x500_E2e-01_q3p2.png:  0% /108.074k, 0/s, -\n",
      " * MOTHER FILES/SN/findin…00x500_E2e-01_q3q1.png:  0% /133.533k, 0/s, -\u001b[2K\u001b[A\u001b[2K\u001b[A\u001b[2K\u001b[A\u001b[2K\u001b[A\u001b[2K\u001b[A\u001b[2K\u001b[A\u001b[2K\u001b[A\u001b[2K\u001b[A\u001b[2K\u001b[A\u001b[2K\u001b[0GTransferred:   \t   73.959M / 141.118 MBytes, 52%, 1.250 MBytes/s, ETA 53s\n",
      "Errors:                 0\n",
      "Checks:               515 / 515, 100%\n",
      "Transferred:          379 / 626, 61%\n",
      "Elapsed time:       59.1s\n",
      "Transferring:\n",
      " * MOTHER FILES/SN/findin…000x1000_E2e-01_xy.png: transferring\n",
      " * MOTHER FILES/SN/findin…00x1000_E2e-01_xpx.png: transferring\n",
      " * MOTHER FILES/SN/findin…00x1000_E2e-01_xpy.png: transferring\n",
      " * MOTHER FILES/SN/findin…00x1000_E2e-01_ypx.png: transferring\u001b[2K\u001b[A\u001b[2K\u001b[A\u001b[2K\u001b[A\u001b[2K\u001b[A\u001b[2K\u001b[A\u001b[2K\u001b[A\u001b[2K\u001b[A\u001b[2K\u001b[A\u001b[2K\u001b[A\u001b[2K\u001b[0GTransferred:   \t   74.554M / 141.095 MBytes, 53%, 1.250 MBytes/s, ETA 53s\n",
      "Errors:                 0\n",
      "Checks:               515 / 515, 100%\n",
      "Transferred:          384 / 626, 61%\n",
      "Elapsed time:       59.6s\n",
      "Transferring:\n",
      " * MOTHER FILES/SN/findin…00x400_E2e-01_p1p2.png: transferring\n",
      " * MOTHER FILES/SN/findin…00x400_E2e-01_q1p1.png: transferring\n",
      " * MOTHER FILES/SN/findin…00x400_E2e-01_q1p2.png: transferring\n",
      " * MOTHER FILES/SN/findin…00x400_E2e-01_q1q2.png: transferring\u001b[2K\u001b[A\u001b[2K\u001b[A\u001b[2K\u001b[A\u001b[2K\u001b[A\u001b[2K\u001b[A\u001b[2K\u001b[A\u001b[2K\u001b[A\u001b[2K\u001b[A\u001b[2K\u001b[A\u001b[2K\u001b[0GTransferred:   \t   74.960M / 141.312 MBytes, 53%, 1.246 MBytes/s, ETA 53s\n",
      "Errors:                 0\n",
      "Checks:               515 / 515, 100%\n",
      "Transferred:          387 / 626, 62%\n",
      "Elapsed time:      1m0.1s\n",
      "Transferring:\n",
      " * MOTHER FILES/SN/findin…00x400_E2e-01_q1p2.png: 29% /144.354k, 0/s, -\n",
      " * MOTHER FILES/SN/findin…00x400_E2e-01_q2p1.png: transferring\n",
      " * MOTHER FILES/SN/findin…00x400_E2e-01_q2p2.png: transferring\n",
      " * MOTHER FILES/SN/findin…0x1000_E2e-01_pypz.png: transferring\u001b[2K\u001b[A\u001b[2K\u001b[A\u001b[2K\u001b[A\u001b[2K\u001b[A\u001b[2K\u001b[A\u001b[2K\u001b[A\u001b[2K\u001b[A\u001b[2K\u001b[A\u001b[2K\u001b[A\u001b[2K\u001b[0GTransferred:   \t   75.583M / 141.195 MBytes, 54%, 1.246 MBytes/s, ETA 52s\n",
      "Errors:                 0\n",
      "Checks:               515 / 515, 100%\n",
      "Transferred:          393 / 626, 63%\n",
      "Elapsed time:      1m0.6s\n",
      "Transferring:\n",
      " * MOTHER FILES/SN/findin…500x500_E2e-01_xpz.png: transferring\n",
      " * MOTHER FILES/SN/findin…500x500_E2e-01_ypy.png: transferring\n",
      " * MOTHER FILES/SN/findin…M500x500_E2e-01_xz.png: transferring\n",
      " * MOTHER FILES/SN/findin…M500x500_E2e-01_yz.png: transferring\u001b[2K\u001b[A\u001b[2K\u001b[A\u001b[2K\u001b[A\u001b[2K\u001b[A\u001b[2K\u001b[A\u001b[2K\u001b[A\u001b[2K\u001b[A\u001b[2K\u001b[A\u001b[2K\u001b[A\u001b[2K\u001b[0GTransferred:   \t   76.053M / 141.459 MBytes, 54%, 1.244 MBytes/s, ETA 52s\n",
      "Errors:                 0\n",
      "Checks:               515 / 515, 100%\n",
      "Transferred:          397 / 626, 63%\n",
      "Elapsed time:      1m1.1s\n",
      "Transferring:\n",
      " * MOTHER FILES/SN/findin…500x500_E2e-01_zpy.png: 39% /103.304k, 0/s, -\n",
      " * MOTHER FILES/SN/findin…500x500_E2e-01_zpz.png: 24% /106.015k, 0/s, -\n",
      " * MOTHER FILES/SN/findin…truct_quad_ham2dof.png: transferring\n",
      " * MOTHER FILES/SN/workfl…o/allinone_coupled.pdf: transferring\u001b[2K\u001b[A\u001b[2K\u001b[A\u001b[2K\u001b[A\u001b[2K\u001b[A\u001b[2K\u001b[A\u001b[2K\u001b[A\u001b[2K\u001b[A\u001b[2K\u001b[A\u001b[2K\u001b[A\u001b[2K\u001b[0GTransferred:   \t   76.354M / 141.283 MBytes, 54%, 1.238 MBytes/s, ETA 52s\n",
      "Errors:                 0\n",
      "Checks:               515 / 515, 100%\n",
      "Transferred:          403 / 626, 64%\n",
      "Elapsed time:      1m1.6s\n",
      "Transferring:\n",
      " *        MOTHER FILES/SN/workflow-demo/paper.md: transferring\n",
      " *       MOTHER FILES/SN/workflow-demo/paper.pdf: transferring\n",
      " * MOTHER FILES/SN/findin…near/figures/.DS_Store: transferring\n",
      " * MOTHER FILES/SN/workfl…demo/allinone_tpcd.pdf: transferring\u001b[2K\u001b[A\u001b[2K\u001b[A\u001b[2K\u001b[A\u001b[2K\u001b[A\u001b[2K\u001b[A\u001b[2K\u001b[A\u001b[2K\u001b[A\u001b[2K\u001b[A\u001b[2K\u001b[A\u001b[2K\u001b[0GTransferred:   \t   76.583M / 140.986 MBytes, 54%, 1.232 MBytes/s, ETA 52s\n",
      "Errors:                 0\n",
      "Checks:               515 / 515, 100%\n",
      "Transferred:          405 / 626, 65%\n",
      "Elapsed time:      1m2.1s\n",
      "Transferring:\n",
      " *       MOTHER FILES/SN/workflow-demo/paper.pdf: 81% /269.556k, 0/s, -\n",
      " * MOTHER FILES/SN/findin…-250_xpx_yneg70e-1.png: transferring\n",
      " * MOTHER FILES/SN/findin…-250_xpx_yneg71e-1.png: transferring\n",
      " * MOTHER FILES/SN/workfl…demo/allinone_tpcd.pdf: transferring\u001b[2K\u001b[A\u001b[2K\u001b[A\u001b[2K\u001b[A\u001b[2K\u001b[A\u001b[2K\u001b[A\u001b[2K\u001b[A\u001b[2K\u001b[A\u001b[2K\u001b[A\u001b[2K\u001b[A\u001b[2K\u001b[0GTransferred:   \t   77.098M / 139.652 MBytes, 55%, 1.230 MBytes/s, ETA 50s\n",
      "Errors:                 0\n",
      "Checks:               515 / 515, 100%\n",
      "Transferred:          407 / 626, 65%\n",
      "Elapsed time:      1m2.6s\n",
      "Transferring:\n",
      " * MOTHER FILES/SN/findin…-250_xpx_yneg71e-1.png: 62% /299.045k, 0/s, -\n",
      " * MOTHER FILES/SN/findin…-250_xpx_yneg72e-1.png: transferring\n",
      " * MOTHER FILES/SN/findin…00_E15-125_E15-250.png: transferring\n"
     ]
    },
    {
     "name": "stdout",
     "output_type": "stream",
     "text": [
      " * MOTHER FILES/SN/workfl…demo/allinone_tpcd.pdf: transferring\u001b[2K\u001b[A\u001b[2K\u001b[A\u001b[2K\u001b[A\u001b[2K\u001b[A\u001b[2K\u001b[A\u001b[2K\u001b[A\u001b[2K\u001b[A\u001b[2K\u001b[A\u001b[2K\u001b[A\u001b[2K\u001b[0GTransferred:   \t   77.980M / 141.002 MBytes, 55%, 1.235 MBytes/s, ETA 51s\n",
      "Errors:                 0\n",
      "Checks:               515 / 515, 100%\n",
      "Transferred:          409 / 626, 65%\n",
      "Elapsed time:      1m3.1s\n",
      "Transferring:\n",
      " * MOTHER FILES/SN/findin…00_E15-125_E15-250.png: 30% /1.633M, 0/s, -\n",
      " * MOTHER FILES/SN/findin…exit-saddle-region.png: transferring\n",
      " * MOTHER FILES/SN/findin…s_region_E30_eqpts.pdf: transferring\n",
      " * MOTHER FILES/SN/workfl…demo/allinone_tpcd.pdf: transferring\u001b[2K\u001b[A\u001b[2K\u001b[A\u001b[2K\u001b[A\u001b[2K\u001b[A\u001b[2K\u001b[A\u001b[2K\u001b[A\u001b[2K\u001b[A\u001b[2K\u001b[A\u001b[2K\u001b[A\u001b[2K\u001b[0GTransferred:   \t   79.498M / 140.608 MBytes, 57%, 1.249 MBytes/s, ETA 48s\n",
      "Errors:                 0\n",
      "Checks:               515 / 515, 100%\n",
      "Transferred:          412 / 626, 66%\n",
      "Elapsed time:      1m3.6s\n",
      "Transferring:\n",
      " * MOTHER FILES/SN/findin…000_E24_xpx_pz-pos.png: transferring\n",
      " * MOTHER FILES/SN/findin…000_E24_ypy_pz-pos.png: transferring\n",
      " * MOTHER FILES/SN/findin…exit-saddle-region.png: 58% /536.695k, 0/s, -\n",
      " * MOTHER FILES/SN/findin…s_region_E30_eqpts.png: transferring\u001b[2K\u001b[A\u001b[2K\u001b[A\u001b[2K\u001b[A\u001b[2K\u001b[A\u001b[2K\u001b[A\u001b[2K\u001b[A\u001b[2K\u001b[A\u001b[2K\u001b[A\u001b[2K\u001b[A\u001b[2K\u001b[0GTransferred:   \t   80.228M / 140.687 MBytes, 57%, 1.251 MBytes/s, ETA 48s\n",
      "Errors:                 0\n",
      "Checks:               515 / 515, 100%\n",
      "Transferred:          414 / 626, 66%\n",
      "Elapsed time:      1m4.1s\n",
      "Transferring:\n",
      " * MOTHER FILES/SN/findin…000_E24_xpx_pz-pos.png: 75% /546.933k, 0/s, -\n",
      " * MOTHER FILES/SN/findin…000_E24_ypy_pz-pos.png: 23% /461.734k, 0/s, -\n",
      " * MOTHER FILES/SN/findin…banis3dof_pes_proj.pdf: transferring\n",
      " * MOTHER FILES/SN/findin…zpz_py-pos_pzConst.png: transferring\u001b[2K\u001b[A\u001b[2K\u001b[A\u001b[2K\u001b[A\u001b[2K\u001b[A\u001b[2K\u001b[A\u001b[2K\u001b[A\u001b[2K\u001b[A\u001b[2K\u001b[A\u001b[2K\u001b[A\u001b[2K\u001b[0GTransferred:   \t   81.313M / 141.183 MBytes, 58%, 1.258 MBytes/s, ETA 47s\n",
      "Errors:                 0\n",
      "Checks:               515 / 515, 100%\n",
      "Transferred:          417 / 626, 67%\n",
      "Elapsed time:      1m4.6s\n",
      "Transferring:\n",
      " * MOTHER FILES/SN/findin…banis3dof_pes_proj.pdf: 52% /660.830k, 0/s, -\n",
      " * MOTHER FILES/SN/findin…banis3dof_pes_proj.png: transferring\n",
      " * MOTHER FILES/SN/findin…eqpt2_DeltaE225e-2.pdf: transferring\n",
      " * MOTHER FILES/SN/findin…eqpt2_DeltaE225e-2.png: transferring\u001b[2K\u001b[A\u001b[2K\u001b[A\u001b[2K\u001b[A\u001b[2K\u001b[A\u001b[2K\u001b[A\u001b[2K\u001b[A\u001b[2K\u001b[A\u001b[2K\u001b[A\u001b[2K\u001b[A\u001b[2K\u001b[0GTransferred:   \t   82.210M / 139.390 MBytes, 59%, 1.262 MBytes/s, ETA 45s\n",
      "Errors:                 0\n",
      "Checks:               515 / 515, 100%\n",
      "Transferred:          423 / 626, 68%\n",
      "Elapsed time:      1m5.1s\n",
      "Transferring:\n",
      " * MOTHER FILES/SN/findin…/pes_cont_Barbanis.pdf: transferring\n",
      " * MOTHER FILES/SN/findin…E15-250_x-px_tau50.png: transferring\n",
      " * MOTHER FILES/SN/findin…arbanis_upos_eqpt2.pdf: 20% /53.753k, 0/s, -\n",
      " * MOTHER FILES/SN/findin…ls_region_Barbanis.png: transferring\u001b[2K\u001b[A\u001b[2K\u001b[A\u001b[2K\u001b[A\u001b[2K\u001b[A\u001b[2K\u001b[A\u001b[2K\u001b[A\u001b[2K\u001b[A\u001b[2K\u001b[A\u001b[2K\u001b[A\u001b[2K\u001b[0GTransferred:   \t   82.600M / 139.313 MBytes, 59%, 1.258 MBytes/s, ETA 45s\n",
      "Errors:                 0\n",
      "Checks:               515 / 515, 100%\n",
      "Transferred:          426 / 626, 68%\n",
      "Elapsed time:      1m5.6s\n",
      "Transferring:\n",
      " * MOTHER FILES/SN/findin…/pes_cont_Barbanis.png: 86% /235.563k, 0/s, -\n",
      " * MOTHER FILES/SN/findin…E15-250_x-px_tau50.png: transferring\n",
      " * MOTHER FILES/SN/findin…s_cont_Barbanis_3D.pdf:  9% /671.665k, 0/s, -\n",
      " * MOTHER FILES/SN/findin…s_cont_Barbanis_3D.png: transferring\u001b[2K\u001b[A\u001b[2K\u001b[A\u001b[2K\u001b[A\u001b[2K\u001b[A\u001b[2K\u001b[A\u001b[2K\u001b[A\u001b[2K\u001b[A\u001b[2K\u001b[A\u001b[2K\u001b[A\u001b[2K\u001b[0GTransferred:   \t   83.857M / 141.302 MBytes, 59%, 1.268 MBytes/s, ETA 45s\n",
      "Errors:                 0\n",
      "Checks:               515 / 515, 100%\n",
      "Transferred:          428 / 626, 68%\n",
      "Elapsed time:      1m6.1s\n",
      "Transferring:\n",
      " *      MOTHER FILES/VK/4 - LD manif/allrefs.bib: transferring\n",
      " *      MOTHER FILES/VK/4 - LD manif/figure1.jpg: transferring\n",
      " * MOTHER FILES/SN/findin…E15-250_x-px_tau50.png: 23% /2.124M, 0/s, -\n",
      " * MOTHER FILES/SN/findin…s_cont_Barbanis_3D.png: 82% /167.746k, 0/s, -\u001b[2K\u001b[A\u001b[2K\u001b[A\u001b[2K\u001b[A\u001b[2K\u001b[A\u001b[2K\u001b[A\u001b[2K\u001b[A\u001b[2K\u001b[A\u001b[2K\u001b[A\u001b[2K\u001b[A\u001b[2K\u001b[0GTransferred:   \t   84.765M / 141.046 MBytes, 60%, 1.272 MBytes/s, ETA 44s\n",
      "Errors:                 0\n",
      "Checks:               515 / 515, 100%\n",
      "Transferred:          431 / 626, 69%\n",
      "Elapsed time:      1m6.6s\n",
      "Transferring:\n",
      " *      MOTHER FILES/VK/4 - LD manif/figure2.jpg: 61% /135.533k, 0/s, -\n",
      " *      MOTHER FILES/VK/4 - LD manif/figure3.jpg: transferring\n",
      " *      MOTHER FILES/VK/4 - LD manif/figure4.png: transferring\n",
      " * MOTHER FILES/SN/findin…E15-250_x-px_tau50.png: 46% /2.124M, 0/s, -\u001b[2K\u001b[A\u001b[2K\u001b[A\u001b[2K\u001b[A\u001b[2K\u001b[A\u001b[2K\u001b[A\u001b[2K\u001b[A\u001b[2K\u001b[A\u001b[2K\u001b[A\u001b[2K\u001b[A\u001b[2K\u001b[0GTransferred:   \t   86.072M / 141.600 MBytes, 61%, 1.282 MBytes/s, ETA 43s\n",
      "Errors:                 0\n",
      "Checks:               515 / 515, 100%\n",
      "Transferred:          433 / 626, 69%\n",
      "Elapsed time:      1m7.1s\n",
      "Transferring:\n",
      " *      MOTHER FILES/VK/4 - LD manif/figure3.jpg: 36% /362.390k, 0/s, -\n",
      " *      MOTHER FILES/VK/4 - LD manif/figure4.png:  0% /205.166k, 0/s, -\n",
      " *     MOTHER FILES/VK/4 - LD manif/ldIr36t6.png:  0% /186.789k, 0/s, -\n",
      " *     MOTHER FILES/VK/4 - LD manif/ldIr36t8.png:  0% /249.128k, 0/s, -\u001b[2K\u001b[A\u001b[2K\u001b[A\u001b[2K\u001b[A\u001b[2K\u001b[A\u001b[2K\u001b[A\u001b[2K\u001b[A\u001b[2K\u001b[A\u001b[2K\u001b[A\u001b[2K\u001b[A\u001b[2K\u001b[0GTransferred:   \t   87.287M / 141.372 MBytes, 62%, 1.290 MBytes/s, ETA 41s\n",
      "Errors:                 0\n",
      "Checks:               515 / 515, 100%\n",
      "Transferred:          439 / 626, 70%\n",
      "Elapsed time:      1m7.6s\n",
      "Transferring:\n",
      " *        MOTHER FILES/VK/4 - LD manif/roamld.md: transferring\n",
      " *     MOTHER FILES/VK/4 - LD manif/ldIth0t8.png:  0% /156.769k, 0/s, -\n",
      " *    MOTHER FILES/VK/4 - LD manif/ldOr36t10.png: transferring\n",
      " * MOTHER FILES/VK/4 - LD…rsection400_labels.png: transferring\u001b[2K\u001b[A\u001b[2K\u001b[A\u001b[2K\u001b[A\u001b[2K\u001b[A\u001b[2K\u001b[A\u001b[2K\u001b[A\u001b[2K\u001b[A\u001b[2K\u001b[A\u001b[2K\u001b[A\u001b[2K\u001b[0GTransferred:   \t   87.555M / 141.600 MBytes, 62%, 1.285 MBytes/s, ETA 42s\n",
      "Errors:                 0\n",
      "Checks:               515 / 515, 100%\n",
      "Transferred:          442 / 626, 71%\n",
      "Elapsed time:      1m8.1s\n",
      "Transferring:\n",
      " *       MOTHER FILES/VK/4 - LD manif/roamld.pdf:  0% /1.774M, 0/s, -\n",
      " *    MOTHER FILES/VK/4 - LD manif/ldOr36t10.png:  0% /116.935k, 0/s, -\n",
      " * MOTHER FILES/SW/Defini…e index definition.aux: transferring\n",
      " * MOTHER FILES/SW/Defini…e index definition.log:  0% /11.180k, 0/s, -\u001b[2K\u001b[A\u001b[2K\u001b[A\u001b[2K\u001b[A\u001b[2K\u001b[A\u001b[2K\u001b[A\u001b[2K\u001b[A\u001b[2K\u001b[A\u001b[2K\u001b[A\u001b[2K\u001b[A\u001b[2K\u001b[0GTransferred:   \t   89.454M / 141.437 MBytes, 63%, 1.303 MBytes/s, ETA 39s\n",
      "Errors:                 0\n",
      "Checks:               515 / 515, 100%\n",
      "Transferred:          445 / 626, 71%\n",
      "Elapsed time:      1m8.6s\n",
      "Transferring:\n",
      " * MOTHER FILES/SW/Defini… definition.synctex.gz: transferring\n",
      " * MOTHER FILES/SW/Defini…e index definition.aux: transferring\n",
      " * MOTHER FILES/SW/Defini…e index definition.pdf: transferring\n",
      " * MOTHER FILES/SW/Defini…e index definition.tex: transferring\u001b[2K\u001b[A\u001b[2K\u001b[A\u001b[2K\u001b[A\u001b[2K\u001b[A\u001b[2K\u001b[A\u001b[2K\u001b[A\u001b[2K\u001b[A\u001b[2K\u001b[A\u001b[2K\u001b[A\u001b[2K\u001b[0GTransferred:   \t   89.617M / 141.562 MBytes, 63%, 1.296 MBytes/s, ETA 40s\n",
      "Errors:                 0\n",
      "Checks:               515 / 515, 100%\n",
      "Transferred:          448 / 626, 72%\n",
      "Elapsed time:      1m9.1s\n",
      "Transferring:\n",
      " * MOTHER FILES/SW/Defini…e index definition.aux: transferring\n",
      " * MOTHER FILES/SW/Defini…index_definition.ipynb: transferring\n",
      " * MOTHER FILES/VK/md equ… of SW Morse/Morse.bib: transferring\n",
      " * MOTHER FILES/VK/md equ…f SW Morse/Morse.ipynb: transferring\u001b[2K\u001b[A\u001b[2K\u001b[A\u001b[2K\u001b[A\u001b[2K\u001b[A\u001b[2K\u001b[A\u001b[2K\u001b[A\u001b[2K\u001b[A\u001b[2K\u001b[A\u001b[2K\u001b[A\u001b[2K\u001b[0GTransferred:   \t   89.629M / 141.277 MBytes, 63%, 1.287 MBytes/s, ETA 40s\n",
      "Errors:                 0\n",
      "Checks:               515 / 515, 100%\n",
      "Transferred:          451 / 626, 72%\n",
      "Elapsed time:      1m9.6s\n",
      "Transferring:\n",
      " * MOTHER FILES/VK/md equ… of SW Morse/Morse.pdf: transferring\n",
      " * MOTHER FILES/VK/md equ…Morse/om1_120_trim.png: transferring\n",
      " * MOTHER FILES/VK/md equ…f SW Morse/Morse.ipynb: transferring\n",
      " * MOTHER FILES/VK/md equ…t of SW Morse/Morse.md: transferring\u001b[2K\u001b[A\u001b[2K\u001b[A\u001b[2K\u001b[A\u001b[2K\u001b[A\u001b[2K\u001b[A\u001b[2K\u001b[A\u001b[2K\u001b[A\u001b[2K\u001b[A\u001b[2K\u001b[A\u001b[2K\u001b[0GTransferred:   \t   90.072M / 141.395 MBytes, 64%, 1.284 MBytes/s, ETA 39s\n",
      "Errors:                 0\n",
      "Checks:               515 / 515, 100%\n",
      "Transferred:          458 / 626, 73%\n",
      "Elapsed time:     1m10.1s\n",
      "Transferring:\n",
      " * MOTHER FILES/SN/system…100finalt_backward.pdf: transferring\n",
      " * MOTHER FILES/SN/system…g3B2_500_100finalt.pdf: transferring\n",
      " * MOTHER FILES/SN/system…ig3B2_500_30finalt.pdf: transferring\n"
     ]
    },
    {
     "name": "stdout",
     "output_type": "stream",
     "text": [
      " * MOTHER FILES/VK/md equ… of SW Morse/phase.png: transferring\u001b[2K\u001b[A\u001b[2K\u001b[A\u001b[2K\u001b[A\u001b[2K\u001b[A\u001b[2K\u001b[A\u001b[2K\u001b[A\u001b[2K\u001b[A\u001b[2K\u001b[A\u001b[2K\u001b[A\u001b[2K\u001b[0GTransferred:   \t   90.312M / 141.317 MBytes, 64%, 1.278 MBytes/s, ETA 39s\n",
      "Errors:                 0\n",
      "Checks:               515 / 515, 100%\n",
      "Transferred:          463 / 626, 74%\n",
      "Elapsed time:     1m10.6s\n",
      "Transferring:\n",
      " * MOTHER FILES/SN/system…100finalt_backward.pdf: transferring\n",
      " * MOTHER FILES/SN/system…g3C2_500_100finalt.pdf: transferring\n",
      " * MOTHER FILES/SN/system…g3C2_500_100finalt.png: transferring\n",
      " * MOTHER FILES/SN/system…it_prob_fig3C2_500.pdf: transferring\u001b[2K\u001b[A\u001b[2K\u001b[A\u001b[2K\u001b[A\u001b[2K\u001b[A\u001b[2K\u001b[A\u001b[2K\u001b[A\u001b[2K\u001b[A\u001b[2K\u001b[A\u001b[2K\u001b[A\u001b[2K\u001b[0GTransferred:   \t   90.702M / 141.508 MBytes, 64%, 1.275 MBytes/s, ETA 39s\n",
      "Errors:                 0\n",
      "Checks:               515 / 515, 100%\n",
      "Transferred:          467 / 626, 75%\n",
      "Elapsed time:     1m11.1s\n",
      "Transferring:\n",
      " * MOTHER FILES/SN/system…100finalt_backward.png: 59% /140.957k, 0/s, -\n",
      " * MOTHER FILES/SN/system…_30finalt_backward.pdf: transferring\n",
      " * MOTHER FILES/SN/system…ig3C2_500_30finalt.pdf: transferring\n",
      " * MOTHER FILES/SN/system…ig3C2_500_30finalt.png: 15% /162.066k, 0/s, -\u001b[2K\u001b[A\u001b[2K\u001b[A\u001b[2K\u001b[A\u001b[2K\u001b[A\u001b[2K\u001b[A\u001b[2K\u001b[A\u001b[2K\u001b[A\u001b[2K\u001b[A\u001b[2K\u001b[A\u001b[2K\u001b[0GTransferred:   \t   91.444M / 141.053 MBytes, 65%, 1.276 MBytes/s, ETA 38s\n",
      "Errors:                 0\n",
      "Checks:               515 / 515, 100%\n",
      "Transferred:          474 / 626, 76%\n",
      "Elapsed time:     1m11.6s\n",
      "Transferring:\n",
      " * MOTHER FILES/SN/system…anifolds-fig3B2-3D.png: transferring\n",
      " * MOTHER FILES/SN/system…ant_fig3B2_DelE0-5.pdf: transferring\n",
      " * MOTHER FILES/SN/system…ant_fig3B2_DelE0-5.png: transferring\n",
      " * MOTHER FILES/SN/system…ant_fig3C2_DelE0-5.pdf: transferring\u001b[2K\u001b[A\u001b[2K\u001b[A\u001b[2K\u001b[A\u001b[2K\u001b[A\u001b[2K\u001b[A\u001b[2K\u001b[A\u001b[2K\u001b[A\u001b[2K\u001b[A\u001b[2K\u001b[A\u001b[2K\u001b[0GTransferred:   \t   92.010M / 141.476 MBytes, 65%, 1.275 MBytes/s, ETA 38s\n",
      "Errors:                 0\n",
      "Checks:               515 / 515, 100%\n",
      "Transferred:          478 / 626, 76%\n",
      "Elapsed time:     1m12.1s\n",
      "Transferring:\n",
      " * MOTHER FILES/SN/system…ant_fig3C2_DelE0-5.png: transferring\n",
      " * MOTHER FILES/SN/system…tour_param_fig3-A1.pdf: 58% /31.705k, 0/s, -\n",
      " * MOTHER FILES/SN/system…tour_param_fig3-A2.pdf: transferring\n",
      " * MOTHER FILES/SN/system…ur_param_fig3-A1xy.pdf: transferring\u001b[2K\u001b[A\u001b[2K\u001b[A\u001b[2K\u001b[A\u001b[2K\u001b[A\u001b[2K\u001b[A\u001b[2K\u001b[A\u001b[2K\u001b[A\u001b[2K\u001b[A\u001b[2K\u001b[A\u001b[2K\u001b[0GTransferred:   \t   92.216M / 141.497 MBytes, 65%, 1.269 MBytes/s, ETA 38s\n",
      "Errors:                 0\n",
      "Checks:               515 / 515, 100%\n",
      "Transferred:          484 / 626, 77%\n",
      "Elapsed time:     1m12.6s\n",
      "Transferring:\n",
      " * MOTHER FILES/SN/system…our_param_fig3-B2x.pdf:  0% /24.632k, 0/s, -\n",
      " * MOTHER FILES/SN/system…our_param_fig3-C2x.pdf: transferring\n",
      " * MOTHER FILES/SN/system…tour_param_fig3-C1.pdf: transferring\n",
      " * MOTHER FILES/SN/system…tour_param_fig3-C2.pdf: transferring\u001b[2K\u001b[A\u001b[2K\u001b[A\u001b[2K\u001b[A\u001b[2K\u001b[A\u001b[2K\u001b[A\u001b[2K\u001b[A\u001b[2K\u001b[A\u001b[2K\u001b[A\u001b[2K\u001b[A\u001b[2K\u001b[0GTransferred:   \t   92.404M / 141.412 MBytes, 65%, 1.263 MBytes/s, ETA 38s\n",
      "Errors:                 0\n",
      "Checks:               515 / 515, 100%\n",
      "Transferred:          490 / 626, 78%\n",
      "Elapsed time:     1m13.1s\n",
      "Transferring:\n",
      " * MOTHER FILES/SW/Hamilt…ifurcation/ham_bif.aux: transferring\n",
      " * MOTHER FILES/SW/Hamilt…ifurcation/ham_bif.log: transferring\n",
      " * MOTHER FILES/SW/Hamilt…ifurcation/ham_bif.pdf: transferring\n",
      " * MOTHER FILES/SW/Hamilt…urcation/ham_bif.ipynb: transferring\u001b[2K\u001b[A\u001b[2K\u001b[A\u001b[2K\u001b[A\u001b[2K\u001b[A\u001b[2K\u001b[A\u001b[2K\u001b[A\u001b[2K\u001b[A\u001b[2K\u001b[A\u001b[2K\u001b[A\u001b[2K\u001b[0GTransferred:   \t   92.598M / 141.454 MBytes, 65%, 1.257 MBytes/s, ETA 38s\n",
      "Errors:                 0\n",
      "Checks:               515 / 515, 100%\n",
      "Transferred:          495 / 626, 79%\n",
      "Elapsed time:     1m13.6s\n",
      "Transferring:\n",
      " * MOTHER FILES/SW/Hamilt…bifurcation/ham_sn.png: transferring\n",
      " * MOTHER FILES/SW/Hamilt…ion/ham_bif.synctex.gz: transferring\n",
      " * MOTHER FILES/SW/Hamilt…urcation/ham_pitch.pdf:  2% /88.204k, 0/s, -\n",
      " * MOTHER FILES/SW/Hamilt…urcation/ham_pitch.png: transferring\u001b[2K\u001b[A\u001b[2K\u001b[A\u001b[2K\u001b[A\u001b[2K\u001b[A\u001b[2K\u001b[A\u001b[2K\u001b[A\u001b[2K\u001b[A\u001b[2K\u001b[A\u001b[2K\u001b[A\u001b[2K\u001b[0GTransferred:   \t   92.928M / 141.071 MBytes, 66%, 1.253 MBytes/s, ETA 38s\n",
      "Errors:                 0\n",
      "Checks:               515 / 515, 100%\n",
      "Transferred:          500 / 626, 80%\n",
      "Elapsed time:     1m14.1s\n",
      "Transferring:\n",
      " *               MOTHER FILES/VK/test/test.ipynb: transferring\n",
      " *              MOTHER FILES/VK/test/figure1.jpg: transferring\n",
      " *      MOTHER FILES/VK/test/booksprint_test.pdf: transferring\n",
      " *      MOTHER FILES/VK/test/booksprint_test.tex: transferring\u001b[2K\u001b[A\u001b[2K\u001b[A\u001b[2K\u001b[A\u001b[2K\u001b[A\u001b[2K\u001b[A\u001b[2K\u001b[A\u001b[2K\u001b[A\u001b[2K\u001b[A\u001b[2K\u001b[A\u001b[2K\u001b[0GTransferred:   \t   93.458M / 141.483 MBytes, 66%, 1.252 MBytes/s, ETA 38s\n",
      "Errors:                 0\n",
      "Checks:               515 / 515, 100%\n",
      "Transferred:          506 / 626, 81%\n",
      "Elapsed time:     1m14.6s\n",
      "Transferring:\n",
      " * MOTHER FILES/SW/Intro …/book sprint intro.bbl: transferring\n",
      " * MOTHER FILES/SW/Intro …/book sprint intro.log: transferring\n",
      " * MOTHER FILES/SW/Intro …/book sprint intro.pdf: transferring\n",
      " * MOTHER FILES/SW/Intro …print intro.synctex.gz: transferring\u001b[2K\u001b[A\u001b[2K\u001b[A\u001b[2K\u001b[A\u001b[2K\u001b[A\u001b[2K\u001b[A\u001b[2K\u001b[A\u001b[2K\u001b[A\u001b[2K\u001b[A\u001b[2K\u001b[A\u001b[2K\u001b[0GTransferred:   \t   93.583M / 141.537 MBytes, 66%, 1.245 MBytes/s, ETA 38s\n",
      "Errors:                 0\n",
      "Checks:               515 / 515, 100%\n",
      "Transferred:          511 / 626, 82%\n",
      "Elapsed time:     1m15.1s\n",
      "Transferring:\n",
      " *     MOTHER FILES/SW/Intro material/natbib.bst: transferring\n",
      " *     MOTHER FILES/SW/Intro material/natbib.sty: transferring\n",
      " * MOTHER FILES/SW/Intro …booksprint_intro.ipynb: transferring\n",
      " * MOTHER FILES/SW/Intro …l/book_sprint_bib1.bib: transferring\u001b[2K\u001b[A\u001b[2K\u001b[A\u001b[2K\u001b[A\u001b[2K\u001b[A\u001b[2K\u001b[A\u001b[2K\u001b[A\u001b[2K\u001b[A\u001b[2K\u001b[A\u001b[2K\u001b[A\u001b[2K\u001b[0GTransferred:   \t   93.646M / 141.566 MBytes, 66%, 1.238 MBytes/s, ETA 38s\n",
      "Errors:                 0\n",
      "Checks:               515 / 515, 100%\n",
      "Transferred:          515 / 626, 82%\n",
      "Elapsed time:     1m15.6s\n",
      "Transferring:\n",
      " *        MOTHER FILES/SW/Morse/action_angle.bib: transferring\n",
      " * MOTHER FILES/SW/Intro …-my.sharepoint.com.url: transferring\n",
      " * MOTHER FILES/SW/Morse/…Morse action angle.aux: transferring\n",
      " * MOTHER FILES/SW/Morse/…Morse action angle.log: transferring\u001b[2K\u001b[A\u001b[2K\u001b[A\u001b[2K\u001b[A\u001b[2K\u001b[A\u001b[2K\u001b[A\u001b[2K\u001b[A\u001b[2K\u001b[A\u001b[2K\u001b[A\u001b[2K\u001b[A\u001b[2K\u001b[0GTransferred:   \t   94.049M / 141.454 MBytes, 66%, 1.235 MBytes/s, ETA 38s\n",
      "Errors:                 0\n",
      "Checks:               515 / 515, 100%\n",
      "Transferred:          521 / 626, 83%\n",
      "Elapsed time:     1m16.1s\n",
      "Transferring:\n",
      " *             MOTHER FILES/SW/Morse/Morse.ipynb: transferring\n",
      " *        MOTHER FILES/SW/Morse/om1_120_trim.png: transferring\n",
      " * MOTHER FILES/SW/Morse/…Morse action angle.pdf: 66% /423.514k, 0/s, -\n",
      " * MOTHER FILES/SW/Morse/…Morse action angle.tex: transferring\u001b[2K\u001b[A\u001b[2K\u001b[A\u001b[2K\u001b[A\u001b[2K\u001b[A\u001b[2K\u001b[A\u001b[2K\u001b[A\u001b[2K\u001b[A\u001b[2K\u001b[A\u001b[2K\u001b[A\u001b[2K\u001b[0GTransferred:   \t   94.494M / 140.301 MBytes, 67%, 1.233 MBytes/s, ETA 37s\n",
      "Errors:                 0\n",
      "Checks:               515 / 515, 100%\n",
      "Transferred:          528 / 626, 84%\n",
      "Elapsed time:     1m16.6s\n",
      "Transferring:\n",
      " *             MOTHER FILES/SW/Morse/ws-ijbc.cls: transferring\n",
      " * MOTHER FILES/SN/system…_E1-500_x-px_tau30.png: transferring\n",
      " * MOTHER FILES/SN/system…_E1-510_x-px_tau30.png: transferring\n",
      " * MOTHER FILES/SN/system…_x-px_tau10_fig3A1.png: transferring\u001b[2K\u001b[A\u001b[2K\u001b[A\u001b[2K\u001b[A\u001b[2K\u001b[A\u001b[2K\u001b[A\u001b[2K\u001b[A\u001b[2K\u001b[A\u001b[2K\u001b[A\u001b[2K\u001b[A\u001b[2K\u001b[0GTransferred:   \t   95.479M / 141.005 MBytes, 68%, 1.238 MBytes/s, ETA 36s\n",
      "Errors:                 0\n",
      "Checks:               515 / 515, 100%\n",
      "Transferred:          530 / 626, 85%\n",
      "Elapsed time:     1m17.1s\n",
      "Transferring:\n",
      " * MOTHER FILES/SN/system…_E1-510_x-px_tau30.png:  4% /596.729k, 0/s, -\n",
      " * MOTHER FILES/SN/system…_E1-510_x-px_tau30.png: transferring\n",
      " * MOTHER FILES/SN/system…_x-px_tau10_fig3A1.png: 55% /568.229k, 0/s, -\n",
      " * MOTHER FILES/SN/system…_x-px_tau10_fig3A1.png: 88% /574.905k, 0/s, -\u001b[2K\u001b[A\u001b[2K\u001b[A\u001b[2K\u001b[A\u001b[2K\u001b[A\u001b[2K\u001b[A\u001b[2K\u001b[A\u001b[2K\u001b[A\u001b[2K\u001b[A\u001b[2K\u001b[A\u001b[2K\u001b[0GTransferred:   \t   96.878M / 140.371 MBytes, 69%, 1.248 MBytes/s, ETA 34s\n",
      "Errors:                 0\n",
      "Checks:               515 / 515, 100%\n",
      "Transferred:          533 / 626, 85%\n",
      "Elapsed time:     1m17.6s\n",
      "Transferring:\n",
      " * MOTHER FILES/SN/system…_E1-500_x-px_tau30.png: 67% /122.467k, 0/s, -\n",
      " * MOTHER FILES/SN/system…_E1-510_x-px_tau30.png: 75% /609.686k, 0/s, -\n",
      " * MOTHER FILES/SN/system…_E1-510_x-px_tau30.png: transferring\n"
     ]
    },
    {
     "name": "stdout",
     "output_type": "stream",
     "text": [
      " * MOTHER FILES/SN/system…_x-px_tau20_fig3A1.png: transferring\u001b[2K\u001b[A\u001b[2K\u001b[A\u001b[2K\u001b[A\u001b[2K\u001b[A\u001b[2K\u001b[A\u001b[2K\u001b[A\u001b[2K\u001b[A\u001b[2K\u001b[A\u001b[2K\u001b[A\u001b[2K\u001b[0GTransferred:   \t   98.095M / 141.408 MBytes, 69%, 1.255 MBytes/s, ETA 34s\n",
      "Errors:                 0\n",
      "Checks:               515 / 515, 100%\n",
      "Transferred:          536 / 626, 86%\n",
      "Elapsed time:     1m18.1s\n",
      "Transferring:\n",
      " * MOTHER FILES/SN/system…_E3-000_x-px_tau30.png: 58% /197.976k, 0/s, -\n",
      " * MOTHER FILES/SN/system…_E4-500_x-px_tau30.png: 37% /199.477k, 0/s, -\n",
      " * MOTHER FILES/SN/system…_E6-000_x-px_tau30.png: transferring\n",
      " * MOTHER FILES/SN/system…_x-px_tau20_fig3A1.png: 23% /513.644k, 0/s, -\u001b[2K\u001b[A\u001b[2K\u001b[A\u001b[2K\u001b[A\u001b[2K\u001b[A\u001b[2K\u001b[A\u001b[2K\u001b[A\u001b[2K\u001b[A\u001b[2K\u001b[A\u001b[2K\u001b[A\u001b[2K\u001b[0GTransferred:   \t   98.930M / 141.009 MBytes, 70%, 1.258 MBytes/s, ETA 33s\n",
      "Errors:                 0\n",
      "Checks:               515 / 515, 100%\n",
      "Transferred:          540 / 626, 86%\n",
      "Elapsed time:     1m18.6s\n",
      "Transferring:\n",
      " * MOTHER FILES/SN/system…_E1-510_x-px_tau30.png: 14% /760.650k, 0/s, -\n",
      " * MOTHER FILES/SN/system…_E3-000_x-px_tau30.png: transferring\n",
      " * MOTHER FILES/SN/system…_E4-500_x-px_tau30.png: transferring\n",
      " * MOTHER FILES/SN/system…_E6-000_x-px_tau30.png: transferring\u001b[2K\u001b[A\u001b[2K\u001b[A\u001b[2K\u001b[A\u001b[2K\u001b[A\u001b[2K\u001b[A\u001b[2K\u001b[A\u001b[2K\u001b[A\u001b[2K\u001b[A\u001b[2K\u001b[A\u001b[2K\u001b[0GTransferred:   \t  100.153M / 140.293 MBytes, 71%, 1.265 MBytes/s, ETA 31s\n",
      "Errors:                 0\n",
      "Checks:               515 / 515, 100%\n",
      "Transferred:          544 / 626, 87%\n",
      "Elapsed time:     1m19.1s\n",
      "Transferring:\n",
      " * MOTHER FILES/SN/system…00_x-px_tau30_NB64.png: transferring\n",
      " * MOTHER FILES/SN/system…500_x-px_tau30_NB1.png: transferring\n",
      " * MOTHER FILES/SN/system…_E1-500_x-px_tau30.png: transferring\n",
      " * MOTHER FILES/SN/system…_E6-000_x-px_tau30.png: transferring\u001b[2K\u001b[A\u001b[2K\u001b[A\u001b[2K\u001b[A\u001b[2K\u001b[A\u001b[2K\u001b[A\u001b[2K\u001b[A\u001b[2K\u001b[A\u001b[2K\u001b[A\u001b[2K\u001b[A\u001b[2K\u001b[0GTransferred:   \t  101.275M / 141.595 MBytes, 72%, 1.271 MBytes/s, ETA 31s\n",
      "Errors:                 0\n",
      "Checks:               515 / 515, 100%\n",
      "Transferred:          547 / 626, 87%\n",
      "Elapsed time:     1m19.6s\n",
      "Transferring:\n",
      " * MOTHER FILES/SN/system…00_x-px_tau30_NB64.png:  0% /403.521k, 0/s, -\n",
      " * MOTHER FILES/SN/system…0_x-px_tau100_NB64.png: 21% /314.171k, 0/s, -\n",
      " * MOTHER FILES/SN/system…36e-3_tau100/.DS_Store: transferring\n",
      " * MOTHER FILES/SN/system…500_x-px_tau30_NB1.png: 57% /604.723k, 0/s, -\u001b[2K\u001b[A\u001b[2K\u001b[A\u001b[2K\u001b[A\u001b[2K\u001b[A\u001b[2K\u001b[A\u001b[2K\u001b[A\u001b[2K\u001b[A\u001b[2K\u001b[A\u001b[2K\u001b[A\u001b[2K\u001b[0GTransferred:   \t  102.168M / 140.229 MBytes, 73%, 1.275 MBytes/s, ETA 29s\n",
      "Errors:                 0\n",
      "Checks:               515 / 515, 100%\n",
      "Transferred:          551 / 626, 88%\n",
      "Elapsed time:     1m20.1s\n",
      "Transferring:\n",
      " * MOTHER FILES/SN/system…00_x-px_tau100_NB1.png: transferring\n",
      " * MOTHER FILES/SN/system…00_x-px_tau100_NB1.png: transferring\n",
      " * MOTHER FILES/SN/system…0_x-px_tau100_NB64.png: transferring\n",
      " * MOTHER FILES/SN/system…0_x-px_tau100_NB64.png: transferring\u001b[2K\u001b[A\u001b[2K\u001b[A\u001b[2K\u001b[A\u001b[2K\u001b[A\u001b[2K\u001b[A\u001b[2K\u001b[A\u001b[2K\u001b[A\u001b[2K\u001b[A\u001b[2K\u001b[A\u001b[2K\u001b[0GTransferred:   \t  103.539M / 140.487 MBytes, 74%, 1.284 MBytes/s, ETA 28s\n",
      "Errors:                 0\n",
      "Checks:               515 / 515, 100%\n",
      "Transferred:          555 / 626, 89%\n",
      "Elapsed time:     1m20.6s\n",
      "Transferring:\n",
      " * MOTHER FILES/SN/system…0_x-px_tau100_NB64.png: transferring\n",
      " * MOTHER FILES/SN/system…0_x-px_tau30_varLD.png: transferring\n",
      " * MOTHER FILES/SN/system…_x-px_tau100_varLD.png: transferring\n",
      " * MOTHER FILES/SN/system…gures/fig3B2/.DS_Store: transferring\u001b[2K\u001b[A\u001b[2K\u001b[A\u001b[2K\u001b[A\u001b[2K\u001b[A\u001b[2K\u001b[A\u001b[2K\u001b[A\u001b[2K\u001b[A\u001b[2K\u001b[A\u001b[2K\u001b[A\u001b[2K\u001b[0GTransferred:   \t  103.856M / 140.162 MBytes, 74%, 1.280 MBytes/s, ETA 28s\n",
      "Errors:                 0\n",
      "Checks:               515 / 515, 100%\n",
      "Transferred:          557 / 626, 89%\n",
      "Elapsed time:     1m21.1s\n",
      "Transferring:\n",
      " * MOTHER FILES/SN/system…0_x-px_tau30_varLD.png: transferring\n",
      " * MOTHER FILES/SN/system…_E1-510_x-px_tau30.png: transferring\n",
      " * MOTHER FILES/SN/system…_E3-000_x-px_tau30.png: transferring\n",
      " * MOTHER FILES/SN/system…_x-px_tau100_varLD.png: transferring\u001b[2K\u001b[A\u001b[2K\u001b[A\u001b[2K\u001b[A\u001b[2K\u001b[A\u001b[2K\u001b[A\u001b[2K\u001b[A\u001b[2K\u001b[A\u001b[2K\u001b[A\u001b[2K\u001b[A\u001b[2K\u001b[0GTransferred:   \t  103.856M / 140.162 MBytes, 74%, 1.272 MBytes/s, ETA 28s\n",
      "Errors:                 0\n",
      "Checks:               515 / 515, 100%\n",
      "Transferred:          557 / 626, 89%\n",
      "Elapsed time:     1m21.6s\n",
      "Transferring:\n",
      " * MOTHER FILES/SN/system…0_x-px_tau30_varLD.png: transferring\n",
      " * MOTHER FILES/SN/system…_E1-510_x-px_tau30.png: transferring\n",
      " * MOTHER FILES/SN/system…_E3-000_x-px_tau30.png: transferring\n",
      " * MOTHER FILES/SN/system…_x-px_tau100_varLD.png: transferring\u001b[2K\u001b[A\u001b[2K\u001b[A\u001b[2K\u001b[A\u001b[2K\u001b[A\u001b[2K\u001b[A\u001b[2K\u001b[A\u001b[2K\u001b[A\u001b[2K\u001b[A\u001b[2K\u001b[A\u001b[2K\u001b[0GTransferred:   \t  104.564M / 140.959 MBytes, 74%, 1.273 MBytes/s, ETA 28s\n",
      "Errors:                 0\n",
      "Checks:               515 / 515, 100%\n",
      "Transferred:          557 / 626, 89%\n",
      "Elapsed time:     1m22.1s\n",
      "Transferring:\n",
      " * MOTHER FILES/SN/system…0_x-px_tau30_varLD.png: 80% /251.439k, 0/s, -\n",
      " * MOTHER FILES/SN/system…_E1-510_x-px_tau30.png: transferring\n",
      " * MOTHER FILES/SN/system…_E3-000_x-px_tau30.png: transferring\n",
      " * MOTHER FILES/SN/system…_x-px_tau100_varLD.png: 92% /564.536k, 0/s, -\u001b[2K\u001b[A\u001b[2K\u001b[A\u001b[2K\u001b[A\u001b[2K\u001b[A\u001b[2K\u001b[A\u001b[2K\u001b[A\u001b[2K\u001b[A\u001b[2K\u001b[A\u001b[2K\u001b[A\u001b[2K\u001b[0GTransferred:   \t  104.679M / 140.708 MBytes, 74%, 1.266 MBytes/s, ETA 28s\n",
      "Errors:                 0\n",
      "Checks:               515 / 515, 100%\n",
      "Transferred:          559 / 626, 89%\n",
      "Elapsed time:     1m22.6s\n",
      "Transferring:\n",
      " * MOTHER FILES/SN/system…_E1-510_x-px_tau30.png:  7% /358.092k, 0/s, -\n",
      " * MOTHER FILES/SN/system…_E3-000_x-px_tau30.png: transferring\n",
      " * MOTHER FILES/SN/system…_E4-500_x-px_tau30.png: transferring\n",
      " * MOTHER FILES/SN/system…_E6-000_x-px_tau30.png: transferring\u001b[2K\u001b[A\u001b[2K\u001b[A\u001b[2K\u001b[A\u001b[2K\u001b[A\u001b[2K\u001b[A\u001b[2K\u001b[A\u001b[2K\u001b[A\u001b[2K\u001b[A\u001b[2K\u001b[A\u001b[2K\u001b[0GTransferred:   \t  105.003M / 140.438 MBytes, 75%, 1.263 MBytes/s, ETA 28s\n",
      "Errors:                 0\n",
      "Checks:               515 / 515, 100%\n",
      "Transferred:          560 / 626, 89%\n",
      "Elapsed time:     1m23.1s\n",
      "Transferring:\n",
      " * MOTHER FILES/SN/system…_E3-000_x-px_tau30.png: transferring\n",
      " * MOTHER FILES/SN/system…_E4-500_x-px_tau30.png: transferring\n",
      " * MOTHER FILES/SN/system…_E6-000_x-px_tau30.png: transferring\n",
      " * MOTHER FILES/SN/system…_E7-500_x-px_tau30.png: transferring\u001b[2K\u001b[A\u001b[2K\u001b[A\u001b[2K\u001b[A\u001b[2K\u001b[A\u001b[2K\u001b[A\u001b[2K\u001b[A\u001b[2K\u001b[A\u001b[2K\u001b[A\u001b[2K\u001b[A\u001b[2K\u001b[0GTransferred:   \t  105.564M / 140.168 MBytes, 75%, 1.262 MBytes/s, ETA 27s\n",
      "Errors:                 0\n",
      "Checks:               515 / 515, 100%\n",
      "Transferred:          562 / 626, 90%\n",
      "Elapsed time:     1m23.6s\n",
      "Transferring:\n",
      " * MOTHER FILES/SN/system…_E1-500_x-px_tau30.png: transferring\n",
      " * MOTHER FILES/SN/system…_E4-500_x-px_tau30.png: transferring\n",
      " * MOTHER FILES/SN/system…_E6-000_x-px_tau30.png: transferring\n",
      " * MOTHER FILES/SN/system…_x-px_tau100_varLD.png: transferring\u001b[2K\u001b[A\u001b[2K\u001b[A\u001b[2K\u001b[A\u001b[2K\u001b[A\u001b[2K\u001b[A\u001b[2K\u001b[A\u001b[2K\u001b[A\u001b[2K\u001b[A\u001b[2K\u001b[A\u001b[2K\u001b[0GTransferred:   \t  105.564M / 140.168 MBytes, 75%, 1.254 MBytes/s, ETA 27s\n",
      "Errors:                 0\n",
      "Checks:               515 / 515, 100%\n",
      "Transferred:          562 / 626, 90%\n",
      "Elapsed time:     1m24.1s\n",
      "Transferring:\n",
      " * MOTHER FILES/SN/system…_E1-500_x-px_tau30.png: transferring\n",
      " * MOTHER FILES/SN/system…_E4-500_x-px_tau30.png: transferring\n",
      " * MOTHER FILES/SN/system…_E6-000_x-px_tau30.png: transferring\n",
      " * MOTHER FILES/SN/system…_x-px_tau100_varLD.png: transferring\u001b[2K\u001b[A\u001b[2K\u001b[A\u001b[2K\u001b[A\u001b[2K\u001b[A\u001b[2K\u001b[A\u001b[2K\u001b[A\u001b[2K\u001b[A\u001b[2K\u001b[A\u001b[2K\u001b[A\u001b[2K\u001b[0GTransferred:   \t  105.564M / 140.168 MBytes, 75%, 1.247 MBytes/s, ETA 27s\n",
      "Errors:                 0\n",
      "Checks:               515 / 515, 100%\n",
      "Transferred:          562 / 626, 90%\n",
      "Elapsed time:     1m24.6s\n",
      "Transferring:\n",
      " * MOTHER FILES/SN/system…_E1-500_x-px_tau30.png: transferring\n",
      " * MOTHER FILES/SN/system…_E4-500_x-px_tau30.png: transferring\n",
      " * MOTHER FILES/SN/system…_E6-000_x-px_tau30.png: transferring\n",
      " * MOTHER FILES/SN/system…_x-px_tau100_varLD.png: transferring\u001b[2K\u001b[A\u001b[2K\u001b[A\u001b[2K\u001b[A\u001b[2K\u001b[A\u001b[2K\u001b[A\u001b[2K\u001b[A\u001b[2K\u001b[A\u001b[2K\u001b[A\u001b[2K\u001b[A\u001b[2K\u001b[0GTransferred:   \t  106.761M / 140.880 MBytes, 76%, 1.254 MBytes/s, ETA 27s\n",
      "Errors:                 0\n",
      "Checks:               515 / 515, 100%\n",
      "Transferred:          564 / 626, 90%\n",
      "Elapsed time:     1m25.1s\n",
      "Transferring:\n",
      " * MOTHER FILES/SN/system…0_x-px_tau30_varLD.png: transferring\n",
      " * MOTHER FILES/SN/system…_E1-510_x-px_tau30.png: transferring\n",
      " * MOTHER FILES/SN/system…_E6-000_x-px_tau30.png: 87% /321.005k, 0/s, -\n"
     ]
    },
    {
     "name": "stdout",
     "output_type": "stream",
     "text": [
      " * MOTHER FILES/SN/system…_x-px_tau100_varLD.png: 65% /581.021k, 0/s, -\u001b[2K\u001b[A\u001b[2K\u001b[A\u001b[2K\u001b[A\u001b[2K\u001b[A\u001b[2K\u001b[A\u001b[2K\u001b[A\u001b[2K\u001b[A\u001b[2K\u001b[A\u001b[2K\u001b[A\u001b[2K\u001b[0GTransferred:   \t  107.716M / 140.336 MBytes, 77%, 1.258 MBytes/s, ETA 25s\n",
      "Errors:                 0\n",
      "Checks:               515 / 515, 100%\n",
      "Transferred:          568 / 626, 91%\n",
      "Elapsed time:     1m25.6s\n",
      "Transferring:\n",
      " * MOTHER FILES/SN/system…_E3-000_x-px_tau30.png: transferring\n",
      " * MOTHER FILES/SN/system…_E4-500_x-px_tau30.png: transferring\n",
      " * MOTHER FILES/SN/system…_E6-000_x-px_tau30.png: transferring\n",
      " * MOTHER FILES/SN/system…_E7-500_x-px_tau30.png: transferring\u001b[2K\u001b[A\u001b[2K\u001b[A\u001b[2K\u001b[A\u001b[2K\u001b[A\u001b[2K\u001b[A\u001b[2K\u001b[A\u001b[2K\u001b[A\u001b[2K\u001b[A\u001b[2K\u001b[A\u001b[2K\u001b[0GTransferred:   \t  108.981M / 140.179 MBytes, 78%, 1.265 MBytes/s, ETA 24s\n",
      "Errors:                 0\n",
      "Checks:               515 / 515, 100%\n",
      "Transferred:          572 / 626, 91%\n",
      "Elapsed time:     1m26.1s\n",
      "Transferring:\n",
      " * MOTHER FILES/SN/system…00_x-px_tau30_NB64.png: transferring\n",
      " * MOTHER FILES/SN/system…500_x-px_tau30_NB1.png: transferring\n",
      " * MOTHER FILES/SN/system…_E1-500_x-px_tau30.png: transferring\n",
      " * MOTHER FILES/SN/system…e-2_omega1e0/.DS_Store: transferring\u001b[2K\u001b[A\u001b[2K\u001b[A\u001b[2K\u001b[A\u001b[2K\u001b[A\u001b[2K\u001b[A\u001b[2K\u001b[A\u001b[2K\u001b[A\u001b[2K\u001b[A\u001b[2K\u001b[A\u001b[2K\u001b[0GTransferred:   \t  109.634M / 140.520 MBytes, 78%, 1.265 MBytes/s, ETA 24s\n",
      "Errors:                 0\n",
      "Checks:               515 / 515, 100%\n",
      "Transferred:          573 / 626, 92%\n",
      "Elapsed time:     1m26.6s\n",
      "Transferring:\n",
      " * MOTHER FILES/SN/system…00_x-px_tau30_NB64.png: transferring\n",
      " * MOTHER FILES/SN/system…0_x-px_tau100_NB64.png: transferring\n",
      " * MOTHER FILES/SN/system…_E1-500_x-px_tau30.png: transferring\n",
      " * MOTHER FILES/SN/system…e-2_omega1e0/.DS_Store: transferring\u001b[2K\u001b[A\u001b[2K\u001b[A\u001b[2K\u001b[A\u001b[2K\u001b[A\u001b[2K\u001b[A\u001b[2K\u001b[A\u001b[2K\u001b[A\u001b[2K\u001b[A\u001b[2K\u001b[A\u001b[2K\u001b[0GTransferred:   \t  109.634M / 140.520 MBytes, 78%, 1.258 MBytes/s, ETA 24s\n",
      "Errors:                 0\n",
      "Checks:               515 / 515, 100%\n",
      "Transferred:          573 / 626, 92%\n",
      "Elapsed time:     1m27.1s\n",
      "Transferring:\n",
      " * MOTHER FILES/SN/system…00_x-px_tau30_NB64.png: transferring\n",
      " * MOTHER FILES/SN/system…0_x-px_tau100_NB64.png: transferring\n",
      " * MOTHER FILES/SN/system…_E1-500_x-px_tau30.png: transferring\n",
      " * MOTHER FILES/SN/system…e-2_omega1e0/.DS_Store: transferring\u001b[2K\u001b[A\u001b[2K\u001b[A\u001b[2K\u001b[A\u001b[2K\u001b[A\u001b[2K\u001b[A\u001b[2K\u001b[A\u001b[2K\u001b[A\u001b[2K\u001b[A\u001b[2K\u001b[A\u001b[2K\u001b[0GTransferred:   \t  110.420M / 139.824 MBytes, 79%, 1.260 MBytes/s, ETA 23s\n",
      "Errors:                 0\n",
      "Checks:               515 / 515, 100%\n",
      "Transferred:          576 / 626, 92%\n",
      "Elapsed time:     1m27.6s\n",
      "Transferring:\n",
      " * MOTHER FILES/SN/system…00_x-px_tau30_NB64.png: transferring\n",
      " * MOTHER FILES/SN/system…0_x-px_tau100_NB64.png: transferring\n",
      " * MOTHER FILES/SN/system…500_x-px_tau30_NB1.png: transferring\n",
      " * MOTHER FILES/SN/system…_E1-500_x-px_tau30.png: transferring\u001b[2K\u001b[A\u001b[2K\u001b[A\u001b[2K\u001b[A\u001b[2K\u001b[A\u001b[2K\u001b[A\u001b[2K\u001b[A\u001b[2K\u001b[A\u001b[2K\u001b[A\u001b[2K\u001b[A\u001b[2K\u001b[0GTransferred:   \t  111.663M / 140.775 MBytes, 79%, 1.267 MBytes/s, ETA 22s\n",
      "Errors:                 0\n",
      "Checks:               515 / 515, 100%\n",
      "Transferred:          578 / 626, 92%\n",
      "Elapsed time:     1m28.1s\n",
      "Transferring:\n",
      " * MOTHER FILES/SN/system…00_x-px_tau30_NB64.png: transferring\n",
      " * MOTHER FILES/SN/system…0_x-px_tau100_NB64.png: 95% /294.662k, 0/s, -\n",
      " * MOTHER FILES/SN/system…500_x-px_tau30_NB1.png: 33% /799.400k, 0/s, -\n",
      " * MOTHER FILES/SN/system…500_x-px_tau30_NB1.png: transferring\u001b[2K\u001b[A\u001b[2K\u001b[A\u001b[2K\u001b[A\u001b[2K\u001b[A\u001b[2K\u001b[A\u001b[2K\u001b[A\u001b[2K\u001b[A\u001b[2K\u001b[A\u001b[2K\u001b[A\u001b[2K\u001b[0GTransferred:   \t  112.670M / 140.602 MBytes, 80%, 1.271 MBytes/s, ETA 21s\n",
      "Errors:                 0\n",
      "Checks:               515 / 515, 100%\n",
      "Transferred:          580 / 626, 93%\n",
      "Elapsed time:     1m28.6s\n",
      "Transferring:\n",
      " * MOTHER FILES/SN/system…00_x-px_tau30_NB64.png: 94% /417.429k, 0/s, -\n",
      " * MOTHER FILES/SN/system…00_x-px_tau30_NB64.png: transferring\n",
      " * MOTHER FILES/SN/system…0_x-px_tau100_NB64.png: transferring\n",
      " * MOTHER FILES/SN/system…500_x-px_tau30_NB1.png: 21% /427.484k, 0/s, -\u001b[2K\u001b[A\u001b[2K\u001b[A\u001b[2K\u001b[A\u001b[2K\u001b[A\u001b[2K\u001b[A\u001b[2K\u001b[A\u001b[2K\u001b[A\u001b[2K\u001b[A\u001b[2K\u001b[A\u001b[2K\u001b[0GTransferred:   \t  113.737M / 140.634 MBytes, 81%, 1.276 MBytes/s, ETA 21s\n",
      "Errors:                 0\n",
      "Checks:               515 / 515, 100%\n",
      "Transferred:          583 / 626, 93%\n",
      "Elapsed time:     1m29.1s\n",
      "Transferring:\n",
      " * MOTHER FILES/SN/system…0_x-px_tau100_NB64.png: 28% /405.374k, 0/s, -\n",
      " * MOTHER FILES/SN/system…0_x-px_tau30_varLD.png: transferring\n",
      " * MOTHER FILES/SN/system…_x-px_tau100_varLD.png: transferring\n",
      " * MOTHER FILES/SN/system…gures/fig3C2/.DS_Store: transferring\u001b[2K\u001b[A\u001b[2K\u001b[A\u001b[2K\u001b[A\u001b[2K\u001b[A\u001b[2K\u001b[A\u001b[2K\u001b[A\u001b[2K\u001b[A\u001b[2K\u001b[A\u001b[2K\u001b[A\u001b[2K\u001b[0GTransferred:   \t  114.982M / 141.600 MBytes, 81%, 1.282 MBytes/s, ETA 20s\n",
      "Errors:                 0\n",
      "Checks:               515 / 515, 100%\n",
      "Transferred:          585 / 626, 93%\n",
      "Elapsed time:     1m29.6s\n",
      "Transferring:\n",
      " * MOTHER FILES/SN/system…0_x-px_tau30_varLD.png: 34% /498.110k, 0/s, -\n",
      " * MOTHER FILES/SN/system…_E1-500_y-py_tau30.png: 76% /497.497k, 0/s, -\n",
      " * MOTHER FILES/SN/system…_E1-510_x-px_tau10.png:  0% /898.642k, 0/s, -\n",
      " * MOTHER FILES/SN/system…_x-px_tau100_varLD.png: 87% /485.811k, 0/s, -\u001b[2K\u001b[A\u001b[2K\u001b[A\u001b[2K\u001b[A\u001b[2K\u001b[A\u001b[2K\u001b[A\u001b[2K\u001b[A\u001b[2K\u001b[A\u001b[2K\u001b[A\u001b[2K\u001b[A\u001b[2K\u001b[0GTransferred:   \t  116.351M / 137.205 MBytes, 85%, 1.291 MBytes/s, ETA 16s\n",
      "Errors:                 0\n",
      "Checks:               515 / 515, 100%\n",
      "Transferred:          589 / 626, 94%\n",
      "Elapsed time:     1m30.1s\n",
      "Transferring:\n",
      " * MOTHER FILES/SN/system…_E1-510_x-px_tau20.png: transferring\n",
      " * MOTHER FILES/SN/system…_E1-510_x-px_tau30.png: transferring\n",
      " * MOTHER FILES/SN/system…_E3-000_x-px_tau30.png: transferring\n",
      " * MOTHER FILES/SN/system…_x-px_tau10_fig3C2.png: transferring\u001b[2K\u001b[A\u001b[2K\u001b[A\u001b[2K\u001b[A\u001b[2K\u001b[A\u001b[2K\u001b[A\u001b[2K\u001b[A\u001b[2K\u001b[A\u001b[2K\u001b[A\u001b[2K\u001b[A\u001b[2K\u001b[0GTransferred:   \t  117.538M / 139.806 MBytes, 84%, 1.297 MBytes/s, ETA 17s\n",
      "Errors:                 0\n",
      "Checks:               515 / 515, 100%\n",
      "Transferred:          590 / 626, 94%\n",
      "Elapsed time:     1m30.6s\n",
      "Transferring:\n",
      " * MOTHER FILES/SN/system…_E1-510_x-px_tau20.png: 21% /2.302M, 0/s, -\n",
      " * MOTHER FILES/SN/system…_E3-000_x-px_tau30.png: transferring\n",
      " * MOTHER FILES/SN/system…_E3-000_y-py_tau30.png: transferring\n",
      " * MOTHER FILES/SN/system…_x-px_tau10_fig3C2.png: transferring\u001b[2K\u001b[A\u001b[2K\u001b[A\u001b[2K\u001b[A\u001b[2K\u001b[A\u001b[2K\u001b[A\u001b[2K\u001b[A\u001b[2K\u001b[A\u001b[2K\u001b[A\u001b[2K\u001b[A\u001b[2K\u001b[0GTransferred:   \t  119.676M / 141.600 MBytes, 85%, 1.313 MBytes/s, ETA 16s\n",
      "Errors:                 0\n",
      "Checks:               515 / 515, 100%\n",
      "Transferred:          590 / 626, 94%\n",
      "Elapsed time:     1m31.1s\n",
      "Transferring:\n",
      " * MOTHER FILES/SN/system…_E1-510_x-px_tau20.png: 86% /2.302M, 0/s, -\n",
      " * MOTHER FILES/SN/system…_E3-000_x-px_tau30.png: 34% /537.060k, 0/s, -\n",
      " * MOTHER FILES/SN/system…_E3-000_y-py_tau30.png:  2% /401.534k, 0/s, -\n",
      " * MOTHER FILES/SN/system…_x-px_tau10_fig3C2.png: 51% /898.642k, 0/s, -\u001b[2K\u001b[A\u001b[2K\u001b[A\u001b[2K\u001b[A\u001b[2K\u001b[A\u001b[2K\u001b[A\u001b[2K\u001b[A\u001b[2K\u001b[A\u001b[2K\u001b[A\u001b[2K\u001b[A\u001b[2K\u001b[0GTransferred:   \t  121.139M / 139.414 MBytes, 87%, 1.322 MBytes/s, ETA 13s\n",
      "Errors:                 0\n",
      "Checks:               515 / 515, 100%\n",
      "Transferred:          594 / 626, 95%\n",
      "Elapsed time:     1m31.6s\n",
      "Transferring:\n",
      " * MOTHER FILES/SN/system…_E4-500_x-px_tau30.png: transferring\n",
      " * MOTHER FILES/SN/system…_E4-500_y-py_tau30.png: transferring\n",
      " * MOTHER FILES/SN/system…_E6-000_y-py_tau30.png: transferring\n",
      " * MOTHER FILES/SN/system…_E7-000_x-px_tau30.png: transferring\u001b[2K\u001b[A\u001b[2K\u001b[A\u001b[2K\u001b[A\u001b[2K\u001b[A\u001b[2K\u001b[A\u001b[2K\u001b[A\u001b[2K\u001b[A\u001b[2K\u001b[A\u001b[2K\u001b[A\u001b[2K\u001b[0GTransferred:   \t  122.791M / 141.203 MBytes, 87%, 1.332 MBytes/s, ETA 13s\n",
      "Errors:                 0\n",
      "Checks:               515 / 515, 100%\n",
      "Transferred:          595 / 626, 95%\n",
      "Elapsed time:     1m32.1s\n",
      "Transferring:\n",
      " * MOTHER FILES/SN/system…_E1-500_x-px_tau30.png: transferring\n",
      " * MOTHER FILES/SN/system…_E4-500_x-px_tau30.png: 87% /632.982k, 0/s, -\n",
      " * MOTHER FILES/SN/system…_E6-000_y-py_tau30.png: 61% /509.124k, 0/s, -\n",
      " * MOTHER FILES/SN/system…_E7-000_x-px_tau30.png: 54% /604.182k, 0/s, -\u001b[2K\u001b[A\u001b[2K\u001b[A\u001b[2K\u001b[A\u001b[2K\u001b[A\u001b[2K\u001b[A\u001b[2K\u001b[A\u001b[2K\u001b[A\u001b[2K\u001b[A\u001b[2K\u001b[A\u001b[2K\u001b[0GTransferred:   \t  123.811M / 140.011 MBytes, 88%, 1.336 MBytes/s, ETA 12s\n",
      "Errors:                 0\n",
      "Checks:               515 / 515, 100%\n",
      "Transferred:          599 / 626, 96%\n",
      "Elapsed time:     1m32.6s\n",
      "Transferring:\n",
      " * MOTHER FILES/SN/system…0_x-px_tau30_varLD.png: transferring\n",
      " * MOTHER FILES/SN/system…_E1-500_y-py_tau30.png: 17% /516.529k, 0/s, -\n",
      " * MOTHER FILES/SN/system…_E1-510_x-px_tau10.png: transferring\n"
     ]
    },
    {
     "name": "stdout",
     "output_type": "stream",
     "text": [
      " * MOTHER FILES/SN/system…_x-px_tau100_varLD.png:  0% /500.429k, 0/s, -\u001b[2K\u001b[A\u001b[2K\u001b[A\u001b[2K\u001b[A\u001b[2K\u001b[A\u001b[2K\u001b[A\u001b[2K\u001b[A\u001b[2K\u001b[A\u001b[2K\u001b[A\u001b[2K\u001b[A\u001b[2K\u001b[0GTransferred:   \t  125.753M / 137.165 MBytes, 92%, 1.350 MBytes/s, ETA 8s\n",
      "Errors:                 0\n",
      "Checks:               515 / 515, 100%\n",
      "Transferred:          602 / 626, 96%\n",
      "Elapsed time:     1m33.1s\n",
      "Transferring:\n",
      " * MOTHER FILES/SN/system…_E1-510_x-px_tau10.png: 47% /1.048M, 0/s, -\n",
      " * MOTHER FILES/SN/system…_E1-510_x-px_tau20.png: transferring\n",
      " * MOTHER FILES/SN/system…_E1-510_x-px_tau30.png: transferring\n",
      " * MOTHER FILES/SN/system…_x-px_tau10_fig3C2.png: transferring\u001b[2K\u001b[A\u001b[2K\u001b[A\u001b[2K\u001b[A\u001b[2K\u001b[A\u001b[2K\u001b[A\u001b[2K\u001b[A\u001b[2K\u001b[A\u001b[2K\u001b[A\u001b[2K\u001b[A\u001b[2K\u001b[0GTransferred:   \t  127.780M / 140.702 MBytes, 91%, 1.364 MBytes/s, ETA 9s\n",
      "Errors:                 0\n",
      "Checks:               515 / 515, 100%\n",
      "Transferred:          604 / 626, 96%\n",
      "Elapsed time:     1m33.6s\n",
      "Transferring:\n",
      " * MOTHER FILES/SN/system…_E1-510_x-px_tau20.png:  4% /2.651M, 0/s, -\n",
      " * MOTHER FILES/SN/system…_E1-510_x-px_tau30.png: 41% /754.646k, 0/s, -\n",
      " * MOTHER FILES/SN/system…_E3-000_x-px_tau30.png: transferring\n",
      " * MOTHER FILES/SN/system…_E3-000_y-py_tau30.png: transferring\u001b[2K\u001b[A\u001b[2K\u001b[A\u001b[2K\u001b[A\u001b[2K\u001b[A\u001b[2K\u001b[A\u001b[2K\u001b[A\u001b[2K\u001b[A\u001b[2K\u001b[A\u001b[2K\u001b[A\u001b[2K\u001b[0GTransferred:   \t  129.248M / 141.106 MBytes, 92%, 1.373 MBytes/s, ETA 8s\n",
      "Errors:                 0\n",
      "Checks:               515 / 515, 100%\n",
      "Transferred:          605 / 626, 97%\n",
      "Elapsed time:     1m34.1s\n",
      "Transferring:\n",
      " * MOTHER FILES/SN/system…_E1-510_x-px_tau20.png: 18% /2.651M, 0/s, -\n",
      " * MOTHER FILES/SN/system…_E1-510_x-px_tau30.png: 98% /754.646k, 0/s, -\n",
      " * MOTHER FILES/SN/system…_E3-000_y-py_tau30.png: 39% /386.052k, 0/s, -\n",
      " * MOTHER FILES/SN/system…_E4-500_x-px_tau30.png: transferring\u001b[2K\u001b[A\u001b[2K\u001b[A\u001b[2K\u001b[A\u001b[2K\u001b[A\u001b[2K\u001b[A\u001b[2K\u001b[A\u001b[2K\u001b[A\u001b[2K\u001b[A\u001b[2K\u001b[A\u001b[2K\u001b[0GTransferred:   \t  130.985M / 140.071 MBytes, 94%, 1.384 MBytes/s, ETA 6s\n",
      "Errors:                 0\n",
      "Checks:               515 / 515, 100%\n",
      "Transferred:          607 / 626, 97%\n",
      "Elapsed time:     1m34.6s\n",
      "Transferring:\n",
      " * MOTHER FILES/SN/system…_E1-510_x-px_tau20.png: 75% /2.651M, 1016.054k/s, 0s\n",
      " * MOTHER FILES/SN/system…_E4-500_x-px_tau30.png: transferring\n",
      " * MOTHER FILES/SN/system…_E4-500_y-py_tau30.png: transferring\n",
      " * MOTHER FILES/SN/system…_E6-000_y-py_tau30.png: transferring\u001b[2K\u001b[A\u001b[2K\u001b[A\u001b[2K\u001b[A\u001b[2K\u001b[A\u001b[2K\u001b[A\u001b[2K\u001b[A\u001b[2K\u001b[A\u001b[2K\u001b[A\u001b[2K\u001b[A\u001b[2K\u001b[0GTransferred:   \t  132.178M / 139.529 MBytes, 95%, 1.389 MBytes/s, ETA 5s\n",
      "Errors:                 0\n",
      "Checks:               515 / 515, 100%\n",
      "Transferred:          609 / 626, 97%\n",
      "Elapsed time:     1m35.1s\n",
      "Transferring:\n",
      " * MOTHER FILES/SN/system…_E1-500_x-px_tau30.png: transferring\n",
      " * MOTHER FILES/SN/system…_E4-500_x-px_tau30.png: transferring\n",
      " * MOTHER FILES/SN/system…_E4-500_y-py_tau30.png: transferring\n",
      " * MOTHER FILES/SN/system…_E7-000_x-px_tau30.png: transferring\u001b[2K\u001b[A\u001b[2K\u001b[A\u001b[2K\u001b[A\u001b[2K\u001b[A\u001b[2K\u001b[A\u001b[2K\u001b[A\u001b[2K\u001b[A\u001b[2K\u001b[A\u001b[2K\u001b[A\u001b[2K\u001b[0GTransferred:   \t  133.259M / 138.779 MBytes, 96%, 1.393 MBytes/s, ETA 3s\n",
      "Errors:                 0\n",
      "Checks:               515 / 515, 100%\n",
      "Transferred:          611 / 626, 98%\n",
      "Elapsed time:     1m35.6s\n",
      "Transferring:\n",
      " * MOTHER FILES/SN/system…_E1-510_x-px_tau20.png: transferring\n",
      " * MOTHER FILES/SN/system…_E4-500_x-px_tau30.png: transferring\n",
      " * MOTHER FILES/SN/system…_E4-500_y-py_tau30.png: transferring\n",
      " * MOTHER FILES/SN/system…e-2_omega1e0/.DS_Store: transferring\u001b[2K\u001b[A\u001b[2K\u001b[A\u001b[2K\u001b[A\u001b[2K\u001b[A\u001b[2K\u001b[A\u001b[2K\u001b[A\u001b[2K\u001b[A\u001b[2K\u001b[A\u001b[2K\u001b[A\u001b[2K\u001b[0GTransferred:   \t  133.265M / 138.030 MBytes, 97%, 1.386 MBytes/s, ETA 3s\n",
      "Errors:                 0\n",
      "Checks:               515 / 515, 100%\n",
      "Transferred:          612 / 626, 98%\n",
      "Elapsed time:     1m36.1s\n",
      "Transferring:\n",
      " * MOTHER FILES/SN/system…500_x-px_tau30_NB1.png: transferring\n",
      " * MOTHER FILES/SN/system…_E1-510_x-px_tau20.png: transferring\n",
      " * MOTHER FILES/SN/system…_E4-500_x-px_tau30.png: transferring\n",
      " * MOTHER FILES/SN/system…_E4-500_y-py_tau30.png: transferring\u001b[2K\u001b[A\u001b[2K\u001b[A\u001b[2K\u001b[A\u001b[2K\u001b[A\u001b[2K\u001b[A\u001b[2K\u001b[A\u001b[2K\u001b[A\u001b[2K\u001b[A\u001b[2K\u001b[A\u001b[2K\u001b[0GTransferred:   \t  133.795M / 140.610 MBytes, 95%, 1.384 MBytes/s, ETA 4s\n",
      "Errors:                 0\n",
      "Checks:               515 / 515, 100%\n",
      "Transferred:          612 / 626, 98%\n",
      "Elapsed time:     1m36.6s\n",
      "Transferring:\n",
      " * MOTHER FILES/SN/system…500_x-px_tau30_NB1.png:  4% /772.656k, 0/s, -\n",
      " * MOTHER FILES/SN/system…_E1-510_x-px_tau20.png: 27% /1.825M, 0/s, -\n",
      " * MOTHER FILES/SN/system…_E4-500_x-px_tau30.png: transferring\n",
      " * MOTHER FILES/SN/system…_E4-500_y-py_tau30.png: transferring\u001b[2K\u001b[A\u001b[2K\u001b[A\u001b[2K\u001b[A\u001b[2K\u001b[A\u001b[2K\u001b[A\u001b[2K\u001b[A\u001b[2K\u001b[A\u001b[2K\u001b[A\u001b[2K\u001b[A\u001b[2K\u001b[0GTransferred:   \t  135.663M / 140.145 MBytes, 97%, 1.396 MBytes/s, ETA 3s\n",
      "Errors:                 0\n",
      "Checks:               515 / 515, 100%\n",
      "Transferred:          613 / 626, 98%\n",
      "Elapsed time:     1m37.1s\n",
      "Transferring:\n",
      " * MOTHER FILES/SN/system…00_x-px_tau30_NB64.png: transferring\n",
      " * MOTHER FILES/SN/system…500_x-px_tau30_NB1.png: 75% /772.656k, 0/s, -\n",
      " * MOTHER FILES/SN/system…_E4-500_x-px_tau30.png: transferring\n",
      " * MOTHER FILES/SN/system…_E4-500_y-py_tau30.png: transferring\u001b[2K\u001b[A\u001b[2K\u001b[A\u001b[2K\u001b[A\u001b[2K\u001b[A\u001b[2K\u001b[A\u001b[2K\u001b[A\u001b[2K\u001b[A\u001b[2K\u001b[A\u001b[2K\u001b[A\u001b[2K\u001b[0GTransferred:   \t  136.351M / 140.014 MBytes, 97%, 1.396 MBytes/s, ETA 2s\n",
      "Errors:                 0\n",
      "Checks:               515 / 515, 100%\n",
      "Transferred:          615 / 626, 98%\n",
      "Elapsed time:     1m37.6s\n",
      "Transferring:\n",
      " * MOTHER FILES/SN/system…00_x-px_tau30_NB64.png: transferring\n",
      " * MOTHER FILES/SN/system…500_x-px_tau30_NB1.png: 10% /411.209k, 0/s, -\n",
      " * MOTHER FILES/SN/system…_E4-500_x-px_tau30.png: transferring\n",
      " * MOTHER FILES/SN/system…_E4-500_y-py_tau30.png: transferring\u001b[2K\u001b[A\u001b[2K\u001b[A\u001b[2K\u001b[A\u001b[2K\u001b[A\u001b[2K\u001b[A\u001b[2K\u001b[A\u001b[2K\u001b[A\u001b[2K\u001b[A\u001b[2K\u001b[A\u001b[2K\u001b[0GTransferred:   \t  137.306M / 139.753 MBytes, 98%, 1.399 MBytes/s, ETA 1s\n",
      "Errors:                 0\n",
      "Checks:               515 / 515, 100%\n",
      "Transferred:          617 / 626, 99%\n",
      "Elapsed time:     1m38.1s\n",
      "Transferring:\n",
      " * MOTHER FILES/SN/system…0_x-px_tau100_NB64.png: transferring\n",
      " * MOTHER FILES/SN/system…0_x-px_tau100_NB64.png: transferring\n",
      " * MOTHER FILES/SN/system…_E4-500_x-px_tau30.png: transferring\n",
      " * MOTHER FILES/SN/system…_E4-500_y-py_tau30.png: transferring\u001b[2K\u001b[A\u001b[2K\u001b[A\u001b[2K\u001b[A\u001b[2K\u001b[A\u001b[2K\u001b[A\u001b[2K\u001b[A\u001b[2K\u001b[A\u001b[2K\u001b[A\u001b[2K\u001b[A\u001b[2K\u001b[0GTransferred:   \t  138.163M / 139.369 MBytes, 99%, 1.400 MBytes/s, ETA 0s\n",
      "Errors:                 0\n",
      "Checks:               515 / 515, 100%\n",
      "Transferred:          619 / 626, 99%\n",
      "Elapsed time:     1m38.6s\n",
      "Transferring:\n",
      " * MOTHER FILES/SN/system…00_x-px_tau100_NB1.png: transferring\n",
      " * MOTHER FILES/SN/system…0_x-px_tau100_NB64.png: transferring\n",
      " * MOTHER FILES/SN/system…_E4-500_x-px_tau30.png: transferring\n",
      " * MOTHER FILES/SN/system…_E4-500_y-py_tau30.png: transferring\u001b[2K\u001b[A\u001b[2K\u001b[A\u001b[2K\u001b[A\u001b[2K\u001b[A\u001b[2K\u001b[A\u001b[2K\u001b[A\u001b[2K\u001b[A\u001b[2K\u001b[A\u001b[2K\u001b[A\u001b[2K\u001b[0GTransferred:   \t  139.404M / 139.713 MBytes, 100%, 1.406 MBytes/s, ETA 0s\n",
      "Errors:                 0\n",
      "Checks:               515 / 515, 100%\n",
      "Transferred:          621 / 626, 99%\n",
      "Elapsed time:     1m39.1s\n",
      "Transferring:\n",
      " * MOTHER FILES/SN/system…00_x-px_tau100_NB1.png: transferring\n",
      " * MOTHER FILES/SN/system…0_x-px_tau100_NB64.png: transferring\n",
      " * MOTHER FILES/SN/system…_E4-500_x-px_tau30.png: transferring\n",
      " * MOTHER FILES/SN/system…_E4-500_y-py_tau30.png: transferring\u001b[2K\u001b[A\u001b[2K\u001b[A\u001b[2K\u001b[A\u001b[2K\u001b[A\u001b[2K\u001b[A\u001b[2K\u001b[A\u001b[2K\u001b[A\u001b[2K\u001b[A\u001b[2K\u001b[A\u001b[2K\u001b[0GTransferred:   \t  140.300M / 140.300 MBytes, 100%, 1.408 MBytes/s, ETA 0s\n",
      "Errors:                 0\n",
      "Checks:               515 / 515, 100%\n",
      "Transferred:          623 / 626, 100%\n",
      "Elapsed time:     1m39.6s\n",
      "Transferring:\n",
      " * MOTHER FILES/SN/system…0_x-px_tau100_NB64.png: transferring\n",
      " * MOTHER FILES/SN/system…_E4-500_x-px_tau30.png: transferring\n",
      " * MOTHER FILES/SN/system…_E4-500_y-py_tau30.png: transferring\u001b[2K\u001b[A\u001b[2K\u001b[A\u001b[2K\u001b[A\u001b[2K\u001b[A\u001b[2K\u001b[A\u001b[2K\u001b[A\u001b[2K\u001b[A\u001b[2K\u001b[A\u001b[2K\u001b[0GTransferred:   \t  140.610M / 140.610 MBytes, 100%, 1.404 MBytes/s, ETA 0s\n",
      "Errors:                 0\n",
      "Checks:               515 / 515, 100%\n",
      "Transferred:          624 / 626, 100%\n",
      "Elapsed time:     1m40.1s\n",
      "Transferring:\n",
      " * MOTHER FILES/SN/system…_E4-500_x-px_tau30.png: transferring\n",
      " * MOTHER FILES/SN/system…_E4-500_y-py_tau30.png: transferring\u001b[2K\u001b[A\u001b[2K\u001b[A\u001b[2K\u001b[A\u001b[2K\u001b[A\u001b[2K\u001b[A\u001b[2K\u001b[A\u001b[2K\u001b[A\u001b[2K\u001b[0GTransferred:   \t  140.610M / 140.610 MBytes, 100%, 1.397 MBytes/s, ETA 0s\n",
      "Errors:                 0\n",
      "Checks:               515 / 515, 100%\n",
      "Transferred:          624 / 626, 100%\n",
      "Elapsed time:     1m40.6s\n",
      "Transferring:\n",
      " * MOTHER FILES/SN/system…_E4-500_x-px_tau30.png: transferring\n"
     ]
    },
    {
     "name": "stdout",
     "output_type": "stream",
     "text": [
      " * MOTHER FILES/SN/system…_E4-500_y-py_tau30.png: transferring\u001b[2K\u001b[A\u001b[2K\u001b[A\u001b[2K\u001b[A\u001b[2K\u001b[A\u001b[2K\u001b[A\u001b[2K\u001b[A\u001b[2K\u001b[A\u001b[2K\u001b[0GTransferred:   \t  140.610M / 140.610 MBytes, 100%, 1.390 MBytes/s, ETA 0s\n",
      "Errors:                 0\n",
      "Checks:               515 / 515, 100%\n",
      "Transferred:          624 / 626, 100%\n",
      "Elapsed time:     1m41.1s\n",
      "Transferring:\n",
      " * MOTHER FILES/SN/system…_E4-500_x-px_tau30.png: transferring\n",
      " * MOTHER FILES/SN/system…_E4-500_y-py_tau30.png: transferring\u001b[2K\u001b[A\u001b[2K\u001b[A\u001b[2K\u001b[A\u001b[2K\u001b[A\u001b[2K\u001b[A\u001b[2K\u001b[A\u001b[2K\u001b[A\u001b[2K\u001b[0GTransferred:   \t  140.610M / 140.610 MBytes, 100%, 1.383 MBytes/s, ETA 0s\n",
      "Errors:                 0\n",
      "Checks:               515 / 515, 100%\n",
      "Transferred:          624 / 626, 100%\n",
      "Elapsed time:     1m41.6s\n",
      "Transferring:\n",
      " * MOTHER FILES/SN/system…_E4-500_x-px_tau30.png: transferring\n",
      " * MOTHER FILES/SN/system…_E4-500_y-py_tau30.png: transferring\u001b[2K\u001b[A\u001b[2K\u001b[A\u001b[2K\u001b[A\u001b[2K\u001b[A\u001b[2K\u001b[A\u001b[2K\u001b[A\u001b[2K\u001b[A\u001b[2K\u001b[0GTransferred:   \t  140.610M / 140.610 MBytes, 100%, 1.376 MBytes/s, ETA 0s\n",
      "Errors:                 0\n",
      "Checks:               515 / 515, 100%\n",
      "Transferred:          624 / 626, 100%\n",
      "Elapsed time:     1m42.1s\n",
      "Transferring:\n",
      " * MOTHER FILES/SN/system…_E4-500_x-px_tau30.png: transferring\n",
      " * MOTHER FILES/SN/system…_E4-500_y-py_tau30.png: transferring\u001b[2K\u001b[A\u001b[2K\u001b[A\u001b[2K\u001b[A\u001b[2K\u001b[A\u001b[2K\u001b[A\u001b[2K\u001b[A\u001b[2K\u001b[A\u001b[2K\u001b[0GTransferred:   \t  140.610M / 140.610 MBytes, 100%, 1.370 MBytes/s, ETA 0s\n",
      "Errors:                 0\n",
      "Checks:               515 / 515, 100%\n",
      "Transferred:          624 / 626, 100%\n",
      "Elapsed time:     1m42.6s\n",
      "Transferring:\n",
      " * MOTHER FILES/SN/system…_E4-500_x-px_tau30.png: transferring\n",
      " * MOTHER FILES/SN/system…_E4-500_y-py_tau30.png: transferring\u001b[2K\u001b[A\u001b[2K\u001b[A\u001b[2K\u001b[A\u001b[2K\u001b[A\u001b[2K\u001b[A\u001b[2K\u001b[A\u001b[2K\u001b[A\u001b[2K\u001b[0GTransferred:   \t  141.104M / 141.104 MBytes, 100%, 1.368 MBytes/s, ETA 0s\n",
      "Errors:                 0\n",
      "Checks:               515 / 515, 100%\n",
      "Transferred:          625 / 626, 100%\n",
      "Elapsed time:     1m43.1s\n",
      "Transferring:\n",
      " * MOTHER FILES/SN/system…_E4-500_y-py_tau30.png: transferring\u001b[2K\u001b[A\u001b[2K\u001b[A\u001b[2K\u001b[A\u001b[2K\u001b[A\u001b[2K\u001b[A\u001b[2K\u001b[A\u001b[2K\u001b[0GTransferred:   \t  141.104M / 141.104 MBytes, 100%, 1.361 MBytes/s, ETA 0s\n",
      "Errors:                 0\n",
      "Checks:               515 / 515, 100%\n",
      "Transferred:          625 / 626, 100%\n",
      "Elapsed time:     1m43.6s\n",
      "Transferring:\n",
      " * MOTHER FILES/SN/system…_E4-500_y-py_tau30.png: transferring\u001b[2K\u001b[A\u001b[2K\u001b[A\u001b[2K\u001b[A\u001b[2K\u001b[A\u001b[2K\u001b[A\u001b[2K\u001b[A\u001b[2K\u001b[0GTransferred:   \t  141.104M / 141.104 MBytes, 100%, 1.355 MBytes/s, ETA 0s\n",
      "Errors:                 0\n",
      "Checks:               515 / 515, 100%\n",
      "Transferred:          625 / 626, 100%\n",
      "Elapsed time:     1m44.1s\n",
      "Transferring:\n",
      " * MOTHER FILES/SN/system…_E4-500_y-py_tau30.png: transferring\u001b[2K\u001b[A\u001b[2K\u001b[A\u001b[2K\u001b[A\u001b[2K\u001b[A\u001b[2K\u001b[A\u001b[2K\u001b[A\u001b[2K\u001b[0GTransferred:   \t  141.104M / 141.104 MBytes, 100%, 1.348 MBytes/s, ETA 0s\n",
      "Errors:                 0\n",
      "Checks:               515 / 515, 100%\n",
      "Transferred:          625 / 626, 100%\n",
      "Elapsed time:     1m44.6s\n",
      "Transferring:\n",
      " * MOTHER FILES/SN/system…_E4-500_y-py_tau30.png: transferring\u001b[2K\u001b[A\u001b[2K\u001b[A\u001b[2K\u001b[A\u001b[2K\u001b[A\u001b[2K\u001b[A\u001b[2K\u001b[A\u001b[2K\u001b[0GTransferred:   \t  141.104M / 141.104 MBytes, 100%, 1.342 MBytes/s, ETA 0s\n",
      "Errors:                 0\n",
      "Checks:               515 / 515, 100%\n",
      "Transferred:          625 / 626, 100%\n",
      "Elapsed time:     1m45.1s\n",
      "Transferring:\n",
      " * MOTHER FILES/SN/system…_E4-500_y-py_tau30.png: transferring\u001b[2K\u001b[A\u001b[2K\u001b[A\u001b[2K\u001b[A\u001b[2K\u001b[A\u001b[2K\u001b[A\u001b[2K\u001b[A\u001b[2K\u001b[0GTransferred:   \t  141.104M / 141.104 MBytes, 100%, 1.335 MBytes/s, ETA 0s\n",
      "Errors:                 0\n",
      "Checks:               515 / 515, 100%\n",
      "Transferred:          625 / 626, 100%\n",
      "Elapsed time:     1m45.6s\n",
      "Transferring:\n",
      " * MOTHER FILES/SN/system…_E4-500_y-py_tau30.png: transferring\u001b[2K\u001b[A\u001b[2K\u001b[A\u001b[2K\u001b[A\u001b[2K\u001b[A\u001b[2K\u001b[A\u001b[2K\u001b[A\u001b[2K\u001b[0GTransferred:   \t  141.568M / 141.600 MBytes, 100%, 1.334 MBytes/s, ETA 0s\n",
      "Errors:                 0\n",
      "Checks:               515 / 515, 100%\n",
      "Transferred:          625 / 626, 100%\n",
      "Elapsed time:     1m46.1s\n",
      "Transferring:\n",
      " * MOTHER FILES/SN/system…_E4-500_y-py_tau30.png: 93% /508.469k, 0/s, -\u001b[2K\u001b[A\u001b[2K\u001b[A\u001b[2K\u001b[A\u001b[2K\u001b[A\u001b[2K\u001b[A\u001b[2K\u001b[A\u001b[2K\u001b[0GTransferred:   \t  141.600M / 141.600 MBytes, 100%, 1.328 MBytes/s, ETA 0s\n",
      "Errors:                 0\n",
      "Checks:               554 / 558, 99%\n",
      "Transferred:          626 / 626, 100%\n",
      "Elapsed time:     1m46.6s\n",
      "Checking:\n",
      " *                   SN/ham_sn1and2dof/fig8b.pdf: checking\n",
      " *                   VK/3 - Roamiso/figure6b.jpg: checking\n",
      " *                 MA/phasePort_symm_1D_xDoF.pdf: checking\n",
      " *        MA/LD_tau_5_y_-1sqrt2_delta_0_H_02.pdf: checking\u001b[2K\u001b[A\u001b[2K\u001b[A\u001b[2K\u001b[A\u001b[2K\u001b[A\u001b[2K\u001b[A\u001b[2K\u001b[A\u001b[2K\u001b[A\u001b[2K\u001b[A\u001b[2K\u001b[A\u001b[2K\u001b[0GTransferred:   \t  141.600M / 141.600 MBytes, 100%, 1.322 MBytes/s, ETA 0s\n",
      "Errors:                 0\n",
      "Checks:              1143 / 1143, 100%\n",
      "Transferred:          626 / 626, 100%\n",
      "Elapsed time:     1m47.1s\n"
     ]
    }
   ],
   "source": [
    "!rclone sync -P --exclude='*checkpoint.ipynb' $remote_name:$remote_source_dir $local_source_dir"
   ]
  },
  {
   "cell_type": "markdown",
   "metadata": {},
   "source": [
    "<span style='color:red'><b>NOTE</b></span> Daily limits or quotas on file transfer.\n",
    "\n"
   ]
  },
  {
   "cell_type": "markdown",
   "metadata": {},
   "source": [
    "Check [this](https://help.github.com/en/github/managing-large-files/what-is-my-disk-quota)"
   ]
  },
  {
   "cell_type": "markdown",
   "metadata": {},
   "source": [
    "## Relocate and Edit Files for Book Build"
   ]
  },
  {
   "cell_type": "markdown",
   "metadata": {},
   "source": [
    "### Get folders"
   ]
  },
  {
   "cell_type": "markdown",
   "metadata": {},
   "source": [
    "<b>STEP 1</b> Copy _whole folder structure_ of `local_source_dir` into `content` folder for building the jupter-book `champsbook`.\n",
    "\n",
    "In this way the original copy of the folders directly taken from the remote source are preserved separately.\n",
    "And in the book folder, files can be edited for the book build without affecting the files in `local_source_dir`."
   ]
  },
  {
   "cell_type": "code",
   "execution_count": 137,
   "metadata": {
    "ExecuteTime": {
     "end_time": "2019-12-07T14:38:20.992044Z",
     "start_time": "2019-12-07T14:38:20.983150Z"
    }
   },
   "outputs": [],
   "source": [
    "import os\n",
    "import shutil\n",
    "\n",
    "def copytree(src, dst, symlinks=False, ignore=None):\n",
    "    for item in os.listdir(src):\n",
    "        s = os.path.join(src, item)\n",
    "        d = os.path.join(dst, item)\n",
    "        if os.path.isdir(s):\n",
    "            shutil.copytree(s, d, symlinks, ignore)\n",
    "        else:\n",
    "            shutil.copy2(s, d)"
   ]
  },
  {
   "cell_type": "code",
   "execution_count": 40,
   "metadata": {
    "ExecuteTime": {
     "end_time": "2019-12-08T11:48:35.997321Z",
     "start_time": "2019-12-08T11:48:35.991253Z"
    }
   },
   "outputs": [],
   "source": [
    "source_dir = 'BookSprint-Demo'\n",
    "target_dir = os.path.join('champsbook', \"content\")"
   ]
  },
  {
   "cell_type": "raw",
   "metadata": {
    "ExecuteTime": {
     "end_time": "2019-12-07T14:44:56.860168Z",
     "start_time": "2019-12-07T14:43:49.264671Z"
    }
   },
   "source": [
    "!cp -r $source_dir/* $target_dir/"
   ]
  },
  {
   "cell_type": "markdown",
   "metadata": {},
   "source": [
    "**Copy Act 1**"
   ]
  },
  {
   "cell_type": "code",
   "execution_count": 48,
   "metadata": {
    "ExecuteTime": {
     "end_time": "2019-12-08T11:59:28.492223Z",
     "start_time": "2019-12-08T11:59:28.456668Z"
    }
   },
   "outputs": [],
   "source": [
    "source_dir = 'BookSprint-Demo/act1'\n",
    "target_dir = os.path.join('champsbook', \"content\")"
   ]
  },
  {
   "cell_type": "code",
   "execution_count": 49,
   "metadata": {
    "ExecuteTime": {
     "end_time": "2019-12-08T11:59:29.137576Z",
     "start_time": "2019-12-08T11:59:28.943868Z"
    }
   },
   "outputs": [],
   "source": [
    "!cp -r $source_dir $target_dir/"
   ]
  },
  {
   "cell_type": "markdown",
   "metadata": {},
   "source": [
    "**Copy Act 2**"
   ]
  },
  {
   "cell_type": "code",
   "execution_count": 63,
   "metadata": {
    "ExecuteTime": {
     "end_time": "2019-12-08T12:36:22.092620Z",
     "start_time": "2019-12-08T12:36:22.087566Z"
    }
   },
   "outputs": [],
   "source": [
    "source_dir = 'BookSprint-Demo/act2'\n",
    "target_dir = os.path.join('champsbook', \"content\")"
   ]
  },
  {
   "cell_type": "code",
   "execution_count": 65,
   "metadata": {
    "ExecuteTime": {
     "end_time": "2019-12-08T12:36:31.901807Z",
     "start_time": "2019-12-08T12:36:30.550442Z"
    }
   },
   "outputs": [],
   "source": [
    "!cp -r $source_dir $target_dir/"
   ]
  },
  {
   "cell_type": "markdown",
   "metadata": {},
   "source": [
    "### Get bibliography files"
   ]
  },
  {
   "cell_type": "markdown",
   "metadata": {},
   "source": [
    "<b>STEP 2</b> Find all bibliography files"
   ]
  },
  {
   "cell_type": "code",
   "execution_count": 72,
   "metadata": {
    "ExecuteTime": {
     "end_time": "2019-12-07T12:07:24.533565Z",
     "start_time": "2019-12-07T12:07:24.516079Z"
    }
   },
   "outputs": [],
   "source": [
    "import os\n",
    "\n",
    "FILE_EXTENSIONS = ['.bib']\n",
    "\n",
    "input_files = []\n",
    "for x in list(os.walk(source_dir)):\n",
    "    subdir = x[0]\n",
    "    for f in x[-1]:\n",
    "        filename, file_extension = os.path.splitext(f)\n",
    "        if file_extension in FILE_EXTENSIONS:\n",
    "            input_files.append(os.path.join(subdir, f))"
   ]
  },
  {
   "cell_type": "code",
   "execution_count": 74,
   "metadata": {
    "ExecuteTime": {
     "end_time": "2019-12-07T12:07:28.594598Z",
     "start_time": "2019-12-07T12:07:28.572306Z"
    }
   },
   "outputs": [
    {
     "data": {
      "text/plain": [
       "['BookSprint-Demo/SW/Intro material/book_sprint_bib1.bib',\n",
       " 'BookSprint-Demo/SW/Morse/action_angle.bib',\n",
       " 'BookSprint-Demo/SW/2 DoF index 2 saddle/reaction_dynamics.bib',\n",
       " 'BookSprint-Demo/SW/2 DoF index 2 saddle/rrkm_1.bib',\n",
       " 'BookSprint-Demo/SW/2 DoF index 2 saddle/roaming_v8.bib',\n",
       " 'BookSprint-Demo/SW/2 DoF index 2 saddle/vri_1.bib',\n",
       " 'BookSprint-Demo/SW/2 DoF index 2 saddle/Ham_dyn.bib',\n",
       " 'BookSprint-Demo/MA/SNreac.bib',\n",
       " 'BookSprint-Demo/RGM/myBib.bib',\n",
       " 'BookSprint-Demo/fundamental_models/2 DoF index 2 saddle/reaction_dynamics.bib',\n",
       " 'BookSprint-Demo/fundamental_models/2 DoF index 2 saddle/rrkm_1.bib',\n",
       " 'BookSprint-Demo/fundamental_models/2 DoF index 2 saddle/roaming_v8.bib',\n",
       " 'BookSprint-Demo/fundamental_models/2 DoF index 2 saddle/vri_1.bib',\n",
       " 'BookSprint-Demo/fundamental_models/2 DoF index 2 saddle/Ham_dyn.bib',\n",
       " 'BookSprint-Demo/F/article.bib',\n",
       " 'BookSprint-Demo/VK/1 - Roaming/refs.bib',\n",
       " 'BookSprint-Demo/VK/3 - Roamiso/allrefs.bib',\n",
       " 'BookSprint-Demo/VK/4 - LD manif/allrefs.bib',\n",
       " 'BookSprint-Demo/VK/test/allrefs.bib',\n",
       " 'BookSprint-Demo/VK/2 - Roammass/roamm.bib',\n",
       " 'BookSprint-Demo/VK/md equivalent of SW Morse/Morse.bib',\n",
       " 'BookSprint-Demo/SN/workflow-demo/paper.bib',\n",
       " 'BookSprint-Demo/SN/finding_nhim_quad_normal_form/Ham_LD_reaction.bib',\n",
       " 'BookSprint-Demo/SN/finding_nhim_2and3dof_nonlinear/finding_nhim_2and3dof_nonlinear.bib',\n",
       " 'BookSprint-Demo/MK/caldera2c.bib',\n",
       " 'BookSprint-Demo/prologe/book_sprint_bib1.bib',\n",
       " 'BookSprint-Demo/VGG/HamSN/HamSN.bib',\n",
       " 'BookSprint-Demo/VGG/LDs/LDs.bib']"
      ]
     },
     "execution_count": 74,
     "metadata": {},
     "output_type": "execute_result"
    }
   ],
   "source": [
    "input_files"
   ]
  },
  {
   "cell_type": "markdown",
   "metadata": {},
   "source": [
    "And copy `.bib` files to common `_bibliography` folder for the book build."
   ]
  },
  {
   "cell_type": "code",
   "execution_count": 79,
   "metadata": {
    "ExecuteTime": {
     "end_time": "2019-12-07T12:13:19.768497Z",
     "start_time": "2019-12-07T12:13:19.763096Z"
    }
   },
   "outputs": [],
   "source": [
    "target_dir = os.path.join('champsbook', \"_bibliography\")"
   ]
  },
  {
   "cell_type": "code",
   "execution_count": 84,
   "metadata": {
    "ExecuteTime": {
     "end_time": "2019-12-07T12:14:33.415259Z",
     "start_time": "2019-12-07T12:14:32.269343Z"
    }
   },
   "outputs": [],
   "source": [
    "from shutil import copyfile\n",
    "\n",
    "for f in input_files:\n",
    "    source = f\n",
    "    target = os.path.join(target_dir, os.path.basename(f))\n",
    "    copyfile(source, target)"
   ]
  },
  {
   "cell_type": "markdown",
   "metadata": {},
   "source": [
    "### Edit Syntax in Jupyter/Markdown files"
   ]
  },
  {
   "cell_type": "markdown",
   "metadata": {},
   "source": [
    "<a id='edit_phase'></a>\n",
    "<b>STEP 3</b> Edit all Notebooks and Markdown files for book compilation."
   ]
  },
  {
   "cell_type": "markdown",
   "metadata": {},
   "source": [
    "<span style=\"color:blue\">Main tasks</span>\n",
    "\n",
    "For figures, tables, sections and subsections.\n",
    "\n",
    "* Swap Markdown/LaTeX Citation syntax in `.md`/`.ipynb` files with `jekyll-scholar` syntax,\n",
    "* Swap Markdown/LaTeX Label/Reference syntax in `.md`/`.ipynb` files with `Markdown` syntax,\n",
    "* Swap Markdown/LaTeX Caption syntax in `.md`/`.ipynb` files with `HTML` syntax to allow centered captions with italic formatting, \n",
    "* Add numbered cross references and labels in captions"
   ]
  },
  {
   "cell_type": "markdown",
   "metadata": {},
   "source": [
    "TEST"
   ]
  },
  {
   "cell_type": "code",
   "execution_count": 147,
   "metadata": {
    "ExecuteTime": {
     "end_time": "2019-12-07T14:48:02.154474Z",
     "start_time": "2019-12-07T14:48:02.106414Z"
    }
   },
   "outputs": [
    {
     "name": "stdout",
     "output_type": "stream",
     "text": [
      "New Notebook successfully generated\n"
     ]
    }
   ],
   "source": [
    "nb_infile = 'champsbook/content/MK/caldera-1.ipynb'\n",
    "nb_outfile = 'champsbook/content/MK/caldera-1_new.ipynb'\n",
    "bib_filename = 'caldera2c'\n",
    "\n",
    "%run scripts/jupyter_latex2html.py $nb_infile $nb_outfile $bib_filename"
   ]
  },
  {
   "cell_type": "code",
   "execution_count": 193,
   "metadata": {
    "ExecuteTime": {
     "end_time": "2019-12-07T16:03:11.886071Z",
     "start_time": "2019-12-07T16:03:11.372841Z"
    }
   },
   "outputs": [
    {
     "name": "stdout",
     "output_type": "stream",
     "text": [
      "1_DOF_saddle.aux        1_DOF_saddle.pdf        fig_1_dof_saddle.png\r\n",
      "1_DOF_saddle.ipynb      1_DOF_saddle.synctex.gz\r\n",
      "1_DOF_saddle.log        1_DOF_saddle.tex\r\n"
     ]
    }
   ],
   "source": [
    "d = \"champsbook/content/fundamental_models/1\\ DoF\\ saddle/\"\n",
    "!ls $d"
   ]
  },
  {
   "cell_type": "markdown",
   "metadata": {},
   "source": [
    "<span style='color:red'><b>ISSUES</b></span>\n",
    "* For `fundamental_models.ipynb` citations come from different `.bib` files"
   ]
  },
  {
   "cell_type": "code",
   "execution_count": 73,
   "metadata": {
    "ExecuteTime": {
     "end_time": "2019-12-08T14:34:56.563560Z",
     "start_time": "2019-12-08T14:34:56.550162Z"
    }
   },
   "outputs": [],
   "source": [
    "BOOK_CONTENT = [\n",
    "    {\n",
    "        'file': 'champsbook/content/prologe/Prologue.ipynb',\n",
    "        'bib': 'book_sprint_bib1'\n",
    "    },\n",
    "    {\n",
    "        'file': 'champsbook/content/prologe/LDs/LDs_victor.ipynb',\n",
    "        'bib': 'LDs'\n",
    "    },\n",
    "    {\n",
    "        'file': 'champsbook/content/prologe/Definition_of_the_index_of_a_saddle/saddle_index_definition.ipynb',\n",
    "        'bib': 'Ham_LD_reaction'\n",
    "    },\n",
    "    {\n",
    "        'file': 'champsbook/content/prologe/TST.md', \n",
    "        'bib': 'myBib'\n",
    "    },\n",
    "    {\n",
    "        'file': 'champsbook/content/fundamental_models/fundamental_models.ipynb',\n",
    "        'bib': 'reaction_dynamics.bib'\n",
    "    },\n",
    "        {\n",
    "        'file': 'champsbook/content/fundamental_models/1_DoF_saddle/1_DOF_saddle.ipynb',\n",
    "        'bib': 'reaction_dynamics.bib'\n",
    "    },\n",
    "            {\n",
    "        'file': 'champsbook/content/fundamental_models/2_DoF_index_1_saddle/2_dof_index_1_saddle.ipynb',\n",
    "        'bib': 'reaction_dynamics.bib'\n",
    "    },\n",
    "            {\n",
    "        'file': 'champsbook/content/fundamental_models/2_DoF_index_2_saddle/index_2_saddle.ipynb',\n",
    "        'bib': 'reaction_dynamics.bib'\n",
    "    },\n",
    "            {\n",
    "        'file': 'champsbook/content/fundamental_models/3_DoF_index_1_saddle/3_dof_index_1_saddle.ipynb',\n",
    "        'bib': 'reaction_dynamics.bib'\n",
    "    },\n",
    "    {\n",
    "        'file': 'champsbook/content/act1/Morse/Morse.ipynb',\n",
    "        'bib': 'action_angle.bib'\n",
    "    },\n",
    "    {\n",
    "        'file': 'champsbook/content/act1/Hamiltonian_bifurcation/ham_bif.ipynb',\n",
    "        'bib': 'action_angle.bib'\n",
    "    },\n",
    "    {\n",
    "        'file': 'champsbook/content/act2/hamiltonian_sn/HSN_victor.ipynb',\n",
    "        'bib': 'HamSN.bib'\n",
    "    },\n",
    "    {\n",
    "        'file': 'champsbook/content/act2/barbanis2D/barbanis2d.md',\n",
    "        'bib': 'finding_nhim_2-3dof_nonlinear.bib'\n",
    "    },\n",
    "    {\n",
    "        'file': 'champsbook/content/act2/caldera/caldera-1.ipynb',\n",
    "        'bib': 'caldera2c.bib'\n",
    "    },\n",
    "    {\n",
    "        'file': 'champsbook/content/act2/deLeon_Berne/deleon_berne.md',\n",
    "        'bib': 'system_bath_ld_reactdyn.bib'\n",
    "    },\n",
    "    {\n",
    "        'file': 'champsbook/content/act2/system_bath1/system_bath1.md',\n",
    "        'bib': 'myBib.bib'\n",
    "    },\n",
    "    {\n",
    "        'file': 'champsbook/content/act2/four_well_morse/booksprinttest_makrina.ipynb',\n",
    "        'bib': 'SNreac'\n",
    "    },\n",
    "    {\n",
    "        'file': 'champsbook/content/act2/double_morse/prueba.ipynb',\n",
    "        'bib': 'article.bib'\n",
    "    },\n",
    "    {\n",
    "        'file': 'champsbook/content/act2/1-Ches/roam.md',\n",
    "        'bib': 'refs.bib'\n",
    "    }\n",
    "]"
   ]
  },
  {
   "cell_type": "code",
   "execution_count": 74,
   "metadata": {
    "ExecuteTime": {
     "end_time": "2019-12-08T14:34:58.783833Z",
     "start_time": "2019-12-08T14:34:57.512369Z"
    }
   },
   "outputs": [
    {
     "name": "stdout",
     "output_type": "stream",
     "text": [
      "champsbook/content/prologe/Prologue.ipynb\n",
      "New Notebook successfully generated\n",
      "champsbook/content/prologe/LDs/LDs_victor.ipynb\n",
      "New Notebook successfully generated\n",
      "champsbook/content/prologe/Definition_of_the_index_of_a_saddle/saddle_index_definition.ipynb\n",
      "New Notebook successfully generated\n",
      "champsbook/content/fundamental_models/fundamental_models.ipynb\n",
      "New Notebook successfully generated\n",
      "champsbook/content/fundamental_models/1_DoF_saddle/1_DOF_saddle.ipynb\n",
      "New Notebook successfully generated\n",
      "champsbook/content/fundamental_models/2_DoF_index_1_saddle/2_dof_index_1_saddle.ipynb\n",
      "New Notebook successfully generated\n",
      "champsbook/content/fundamental_models/2_DoF_index_2_saddle/index_2_saddle.ipynb\n",
      "New Notebook successfully generated\n",
      "champsbook/content/fundamental_models/3_DoF_index_1_saddle/3_dof_index_1_saddle.ipynb\n",
      "New Notebook successfully generated\n",
      "champsbook/content/act1/Morse/Morse.ipynb\n",
      "New Notebook successfully generated\n",
      "champsbook/content/act1/Hamiltonian_bifurcation/ham_bif.ipynb\n",
      "New Notebook successfully generated\n",
      "champsbook/content/act2/hamiltonian_sn/HSN_victor.ipynb\n",
      "Couldn't find Jupyter Notebook. Check your input path\n",
      "champsbook/content/act2/caldera/caldera-1.ipynb\n",
      "New Notebook successfully generated\n",
      "champsbook/content/act2/four_well_morse/booksprinttest_makrina.ipynb\n",
      "New Notebook successfully generated\n",
      "champsbook/content/act2/double_morse/prueba.ipynb\n",
      "Couldn't find Jupyter Notebook. Check your input path\n"
     ]
    }
   ],
   "source": [
    "import os\n",
    "\n",
    "suffix = '_new'\n",
    "\n",
    "for items in BOOK_CONTENT:\n",
    "    infile = items['file']\n",
    "    bib_filename = items['bib']\n",
    "    if os.path.isfile(infile):\n",
    "        basename, extension = os.path.splitext(infile)\n",
    "        outfile = basename+suffix+extension\n",
    "        if extension == '.ipynb':\n",
    "            print(infile)\n",
    "            %run scripts/jupyter_latex2html.py $infile $outfile $bib_filename\n",
    "        elif extension == '.md':\n",
    "            pass\n",
    "#             %run scripts/bib_md2jekyll.py $infile $outfile $bib_filename\n",
    "    else:\n",
    "        print('ouch', infile)"
   ]
  },
  {
   "cell_type": "code",
   "execution_count": 75,
   "metadata": {
    "ExecuteTime": {
     "end_time": "2019-12-08T14:35:37.931924Z",
     "start_time": "2019-12-08T14:35:37.066403Z"
    }
   },
   "outputs": [
    {
     "name": "stdout",
     "output_type": "stream",
     "text": [
      "champsbook/content/act2/double_morse/prueba.ipynb\r\n"
     ]
    }
   ],
   "source": [
    "!ls champsbook/content/act2/double_morse/prueba.ipynb"
   ]
  },
  {
   "cell_type": "markdown",
   "metadata": {},
   "source": [
    "<span style='color:red'><b>NOTE</b></span> For further details regarding the syntax and the tasks performed alongside with their scripts look [this](#syntax_matching) Section. "
   ]
  },
  {
   "cell_type": "markdown",
   "metadata": {},
   "source": [
    "<b>STEP 4</b> Convert all `.pdf` images to `.png`, if present. Then relocate all image files for compilation.\n",
    "\n",
    "By default, HTML doesn't allow embedding of `.pdf` image files. Neither does Jupyter.\n",
    "Here, we use automate the conversion of image files using ... <span style='color:red'>write me</span>"
   ]
  },
  {
   "cell_type": "markdown",
   "metadata": {},
   "source": [
    "<img width=\"200\" height=\"200\" src=\"https://images2.minutemediacdn.com/image/upload/c_fill,g_auto,h_1248,w_2220/f_auto,q_auto,w_1100/v1555383806/shape/mentalfloss/construction-banner.png\">"
   ]
  },
  {
   "cell_type": "markdown",
   "metadata": {},
   "source": [
    "<span style='color:red'><b>NOTE</b></span> If you convert `.pdf` images to a new format, you will have to change the path name to the figure with the new format in your Markdown file or Jupyter notebook. Also, avoid adding other `pdf` files that are not images, otherwise, this will be converted too and will generate unecsessary files. "
   ]
  },
  {
   "cell_type": "markdown",
   "metadata": {},
   "source": [
    "## Edit Table of Contents"
   ]
  },
  {
   "cell_type": "markdown",
   "metadata": {},
   "source": [
    "Edit  `_data/toc.yml` specifying the relative paths in for files (`.ipynb`,`.md`) to appear as (sub)sections in book. \n",
    "\n",
    "See below."
   ]
  },
  {
   "cell_type": "code",
   "execution_count": 247,
   "metadata": {
    "ExecuteTime": {
     "end_time": "2019-12-07T17:35:03.225621Z",
     "start_time": "2019-12-07T17:35:03.208361Z"
    }
   },
   "outputs": [
    {
     "name": "stdout",
     "output_type": "stream",
     "text": [
      "Overwriting champsbook/_data/toc.yml\n"
     ]
    }
   ],
   "source": [
    "%%writefile champsbook/_data/toc.yml\n",
    "# This file contains the order and numbering for all sections in the book.\n",
    "#\n",
    "# Each entry has the following schema:\n",
    "#\n",
    "# - title: mytitle   # Title of chapter or section\n",
    "#   url: /myurl  # URL of section relative to the /content/ folder.\n",
    "#   sections:  # Contains a list of more entries that make up the chapter's sections\n",
    "#   not_numbered: true  # if the section shouldn't have a number in the sidebar\n",
    "#     (e.g. Introduction or appendices)\n",
    "#   expand_sections: true  # if you'd like the sections of this chapter to always\n",
    "#     be expanded in the sidebar.\n",
    "#   external: true  # Whether the URL is an external link or points to content in the book\n",
    "#\n",
    "# Below are some special values that trigger specific behavior:\n",
    "# - search: true  # Will provide a link to a search page\n",
    "# - divider: true  # Will insert a divider in the sidebar\n",
    "# - header: My Header  # Will insert a header with no link in the sidebar\n",
    "\n",
    "\n",
    "- url: /prologe/Prologue_new\n",
    "  title: Prologue\n",
    "  author: Stephen Wiggins  \n",
    "    \n",
    "- url: /prologe/LDs/LDs_victor_new\n",
    "  title: Lagrangian Descriptors (LDs)\n",
    "  author: Victor\n",
    "\n",
    "- url: https://github.com/broncio123/champs-booksprint-planning\n",
    "  title: GitHub repository\n",
    "  external: true\n",
    "  not_numbered: true"
   ]
  },
  {
   "cell_type": "raw",
   "metadata": {
    "ExecuteTime": {
     "end_time": "2019-12-06T11:24:12.587333Z",
     "start_time": "2019-12-06T11:24:12.546750Z"
    }
   },
   "source": [
    "%%writefile champsbook/_data/toc.yml\n",
    "# This file contains the order and numbering for all sections in the book.\n",
    "#\n",
    "# Each entry has the following schema:\n",
    "#\n",
    "# - title: mytitle   # Title of chapter or section\n",
    "#   url: /myurl  # URL of section relative to the /content/ folder.\n",
    "#   sections:  # Contains a list of more entries that make up the chapter's sections\n",
    "#   not_numbered: true  # if the section shouldn't have a number in the sidebar\n",
    "#     (e.g. Introduction or appendices)\n",
    "#   expand_sections: true  # if you'd like the sections of this chapter to always\n",
    "#     be expanded in the sidebar.\n",
    "#   external: true  # Whether the URL is an external link or points to content in the book\n",
    "#\n",
    "# Below are some special values that trigger specific behavior:\n",
    "# - search: true  # Will provide a link to a search page\n",
    "# - divider: true  # Will insert a divider in the sidebar\n",
    "# - header: My Header  # Will insert a header with no link in the sidebar\n",
    "\n",
    "\n",
    "- url: /01/ham_bif_html-captions\n",
    "  title: Dynamical Systems Concepts\n",
    "  author: Stephen Wiggins  \n",
    "    \n",
    "- url: /02/booksprinttest_makrina_new3\n",
    "  title: Exploring Isomerization Dynamics on a four well Potential\n",
    "  author: Makrina Agaoglou\n",
    "    \n",
    "- url: /03/Draft_new3\n",
    "  title: Rafa chapter\n",
    "  author: Rafael Garcia-Meseguer\n",
    "\n",
    "- url: /04/test\n",
    "  title: Vladi chapter\n",
    "  author: Vladimir Krajnak\n",
    "\n",
    "- url: /05/quad-normal-form/quad-normal-form_new3\n",
    "  title: Finding NHIM using LD N DoF quadratic normal form Hamiltonian\n",
    "  author: S. Naik \n",
    "\n",
    "- url: /06/caldera-1_new\n",
    "  title: Dynamical Matching in a Caldera Potential energy surface\n",
    "  author: Matthaios Katsanikas\n",
    "\n",
    "- url: /test_page\n",
    "  title: Writing LaTeX-like in Jupyter\n",
    "  author: Broncio Aguilar-Sanjuan\n",
    "        \n",
    "- url: /contributing\n",
    "  not_numbered: true\n",
    "    \n",
    "- url: https://github.com/broncio123/champs-booksprint-planning\n",
    "  title: GitHub repository\n",
    "  external: true\n",
    "  not_numbered: true"
   ]
  },
  {
   "cell_type": "markdown",
   "metadata": {},
   "source": [
    "### TEST"
   ]
  },
  {
   "cell_type": "markdown",
   "metadata": {},
   "source": [
    "Create Table of Contents in a scriptable way, given a list of inpit files.\n",
    "See script [here](#toc_script)."
   ]
  },
  {
   "cell_type": "code",
   "execution_count": 79,
   "metadata": {
    "ExecuteTime": {
     "end_time": "2019-12-08T14:49:34.853146Z",
     "start_time": "2019-12-08T14:49:34.444833Z"
    }
   },
   "outputs": [
    {
     "name": "stdout",
     "output_type": "stream",
     "text": [
      "Overwriting champsbook/_data/toc.yml\n"
     ]
    }
   ],
   "source": [
    "%%writefile champsbook/_data/toc.yml\n",
    "# This file contains the order and numbering for all sections in the book.\n",
    "#\n",
    "# Each entry has the following schema:\n",
    "#\n",
    "# - title: mytitle   # Title of chapter or section\n",
    "#   url: /myurl  # URL of section relative to the /content/ folder.\n",
    "#   sections:  # Contains a list of more entries that make up the chapter's sections\n",
    "#   not_numbered: true  # if the section shouldn't have a number in the sidebar\n",
    "#     (e.g. Introduction or appendices)\n",
    "#   expand_sections: true  # if you'd like the sections of this chapter to always\n",
    "#     be expanded in the sidebar.\n",
    "#   external: true  # Whether the URL is an external link or points to content in the book\n",
    "#\n",
    "# Below are some special values that trigger specific behavior:\n",
    "# - search: true  # Will provide a link to a search page\n",
    "# - divider: true  # Will insert a divider in the sidebar\n",
    "# - header: My Header  # Will insert a header with no link in the sidebar\n",
    "\n",
    "\n",
    "- url: /prologe/Prologue_new\n",
    "  title: Introduction and Background\n",
    "  expand_sections: true\n",
    "  sections:\n",
    "    - url: /prologe/LDs/LDs_victor_new\n",
    "      title: Lagrangian Descriptors (LDs)\n",
    "      not_numbered: true\n",
    "    - url: /prologe/Definition_of_the_index_of_a_saddle/saddle_index_definition_new\n",
    "      title: Definition of Index of a Saddle\n",
    "      not_numbered: true\n",
    "    - url: /prologe/TST\n",
    "      title: Transition State Theory\n",
    "      not_numbered: true\n",
    "\n",
    "- url: /fundamental_models/fundamental_models\n",
    "  title: Fundamental Models\n",
    "  expand_sections: true\n",
    "  sections:\n",
    "    - url: /fundamental_models/1_DoF_saddle/1_DOF_saddle_new\n",
    "      title: One DoF Quadratic Normal Form\n",
    "      not_numbered: true\n",
    "    - url: /fundamental_models/2_DoF_index_1_saddle/2_dof_index_1_saddle_new\n",
    "      title: Two DoF Quadratic Normal Form\n",
    "      not_numbered: true\n",
    "    - url: /fundamental_models/2_DoF_index_2_saddle/index_2_saddle_new\n",
    "      title: Three DoF Index 2\n",
    "      not_numbered: true\n",
    "    - url: /fundamental_models/3_DoF_index_1_saddle/3_dof_index_1_saddle_new\n",
    "      title: Three DoF Index 1 Quadratic Normal Form\n",
    "      not_numbered: true\n",
    "\n",
    "- url: /act1/intro_act1\n",
    "  title: Act1 Title\n",
    "  expand_sections: true\n",
    "  sections:\n",
    "    - url: /act1/Morse/Morse_new\n",
    "      title: Morse Oscillator\n",
    "    - url: /act1/Hamiltonian_bifurcation/ham_bif_new\n",
    "      title: Hamiltonian Bifurcations\n",
    "\n",
    "- url: /act2/intro_act2\n",
    "  title: Act2 Title\n",
    "  expand_sections: true\n",
    "  sections:\n",
    "    - url: /act2/hamiltonian_sn/HSN_victor\n",
    "      title: Saddle-Node Hamiltonian\n",
    "    - url: /act2/barbanis2D/barbanis2d\n",
    "      title: Barbanis model\n",
    "    - url: /act2/caldera/caldera-1_new\n",
    "      title: Caldera model\n",
    "    - url: /act2/deLeon_Berne/deleon_berne\n",
    "      title: De Leon model\n",
    "    - url: /act2/system_bath1/system_bath1\n",
    "      title: System Bath 1\n",
    "    - url: /act2/four_well_morse/booksprinttest_makrina_new\n",
    "      title: Four-well potential\n",
    "    - url: /act2/double_morse/prueba\n",
    "      title: Double-Morse oscillator\n",
    "        \n",
    "- url: https://github.com/broncio123/champs-booksprint-planning\n",
    "  title: GitHub repository\n",
    "  external: true\n",
    "  not_numbered: true"
   ]
  },
  {
   "cell_type": "code",
   "execution_count": 77,
   "metadata": {
    "ExecuteTime": {
     "end_time": "2019-12-08T14:37:50.127518Z",
     "start_time": "2019-12-08T14:37:50.120157Z"
    }
   },
   "outputs": [
    {
     "data": {
      "text/plain": [
       "[{'file': 'champsbook/content/prologe/Prologue.ipynb',\n",
       "  'bib': 'book_sprint_bib1'},\n",
       " {'file': 'champsbook/content/prologe/LDs/LDs_victor.ipynb', 'bib': 'LDs'},\n",
       " {'file': 'champsbook/content/prologe/Definition_of_the_index_of_a_saddle/saddle_index_definition.ipynb',\n",
       "  'bib': 'Ham_LD_reaction'},\n",
       " {'file': 'champsbook/content/prologe/TST.md', 'bib': 'myBib'},\n",
       " {'file': 'champsbook/content/fundamental_models/fundamental_models.ipynb',\n",
       "  'bib': 'reaction_dynamics.bib'},\n",
       " {'file': 'champsbook/content/fundamental_models/1_DoF_saddle/1_DOF_saddle.ipynb',\n",
       "  'bib': 'reaction_dynamics.bib'},\n",
       " {'file': 'champsbook/content/fundamental_models/2_DoF_index_1_saddle/2_dof_index_1_saddle.ipynb',\n",
       "  'bib': 'reaction_dynamics.bib'},\n",
       " {'file': 'champsbook/content/fundamental_models/2_DoF_index_2_saddle/index_2_saddle.ipynb',\n",
       "  'bib': 'reaction_dynamics.bib'},\n",
       " {'file': 'champsbook/content/fundamental_models/3_DoF_index_1_saddle/3_dof_index_1_saddle.ipynb',\n",
       "  'bib': 'reaction_dynamics.bib'},\n",
       " {'file': 'champsbook/content/act1/Morse/Morse.ipynb',\n",
       "  'bib': 'action_angle.bib'},\n",
       " {'file': 'champsbook/content/act1/Hamiltonian_bifurcation/ham_bif.ipynb',\n",
       "  'bib': 'action_angle.bib'},\n",
       " {'file': 'champsbook/content/act2/hamiltonian_sn/HSN_victor.ipynb',\n",
       "  'bib': 'HamSN.bib'},\n",
       " {'file': 'champsbook/content/act2/barbanis2D/barbanis2d.md',\n",
       "  'bib': 'finding_nhim_2-3dof_nonlinear.bib'},\n",
       " {'file': 'champsbook/content/act2/caldera/caldera-1.ipynb',\n",
       "  'bib': 'caldera2c.bib'},\n",
       " {'file': 'champsbook/content/act2/deLeon_Berne/deleon_berne.md',\n",
       "  'bib': 'system_bath_ld_reactdyn.bib'},\n",
       " {'file': 'champsbook/content/act2/system_bath1/system_bath1.md',\n",
       "  'bib': 'myBib.bib'},\n",
       " {'file': 'champsbook/content/act2/four_well_morse/booksprinttest_makrina.ipynb',\n",
       "  'bib': 'SNreac'},\n",
       " {'file': 'champsbook/content/act2/double_morse/prueba.ipynb',\n",
       "  'bib': 'article.bib'},\n",
       " {'file': 'champsbook/content/act2/1-Ches/roam.md', 'bib': 'refs.bib'}]"
      ]
     },
     "execution_count": 77,
     "metadata": {},
     "output_type": "execute_result"
    }
   ],
   "source": [
    "BOOK_CONTENT"
   ]
  },
  {
   "cell_type": "markdown",
   "metadata": {},
   "source": [
    "<a id='config'></a>\n",
    "## Edit Configuration "
   ]
  },
  {
   "cell_type": "markdown",
   "metadata": {},
   "source": [
    "* Turned on equation numbering. See under `#Maths settings`"
   ]
  },
  {
   "cell_type": "code",
   "execution_count": 39,
   "metadata": {},
   "outputs": [
    {
     "name": "stdout",
     "output_type": "stream",
     "text": [
      "Overwriting champsbook/_config.yml\n"
     ]
    }
   ],
   "source": [
    "%%writefile $target_dir0/_config.yml\n",
    "# Welcome to Jekyll!\n",
    "#\n",
    "# This config file is meant for settings that affect your whole blog, values\n",
    "# which you are expected to set up once and rarely edit after that. If you find\n",
    "# yourself editing this file very often, consider using Jekyll's data files\n",
    "# feature for the data you need to update frequently.\n",
    "#\n",
    "# For technical reasons, this file is *NOT* reloaded automatically when you use\n",
    "# 'bundle exec jekyll serve'. If you change this file, please restart the server process.\n",
    "\n",
    "# Site settings\n",
    "# These are used to personalize your new site. If you look in the HTML files,\n",
    "# you will see them accessed via {{ site.title }}, {{ site.email }}, and so on.\n",
    "# You can create any custom variable you would like, and they will be accessible\n",
    "# in the templates via {{ site.myvariable }}.\n",
    "\n",
    "#######################################################################################\n",
    "# Jekyll site settings\n",
    "title: CHAMPS Dynamical Systems Book\n",
    "author: The CHAMPS group\n",
    "email: s.wiggins@bristol.ac.uk\n",
    "description: >- # this means to ignore newlines until \"baseurl:\"\n",
    "  This book was built with Jupyter Books.\n",
    "\n",
    "baseurl: \"\" # the subpath of your site, e.g. /blog. If there is no subpath for your site, use an empty string \"\"\n",
    "url: \"https://jupyterbook.org\" # the base hostname & protocol for your site, e.g. http://example.com\n",
    "\n",
    "\n",
    "#######################################################################################\n",
    "# Jupyter Book settings\n",
    "\n",
    "# Main page settings\n",
    "footer_text               : This page was created by <a href=\"https://github.com/jupyter/jupyter-book/graphs/contributors\">The Jupyter Book Community</a>\n",
    "\n",
    "# Sidebar settings\n",
    "show_sidebar              : true  # Show the sidebar. Only set to false if your only wish to host a single page.\n",
    "collapse_inactive_chapters: true  # Whether to collapse the inactive chapters in the sidebar\n",
    "collapse_inactive_sections: true  # Whether to collapse the sub-sections within a non-active section in the sidebar\n",
    "textbook_logo             : images/logo/champs_logo.jpg  # A logo to be displayed at the top of your textbook sidebar. Should be square\n",
    "textbook_logo_link        : https://champsproject.com  # A link for the logo.\n",
    "sidebar_footer_text       : 'Powered by <a href=\"https://jupyterbook.org\">Jupyter Book</a>'\n",
    "number_toc_chapters       : true  # Whether to add numbers to chapterse in your Table of Contents. If true, you can control this at the Chapter level in _data/toc.yml\n",
    "\n",
    "# Search settings\n",
    "search_max_words_in_content : 100  # In the search function, use at most this many words (too many words will make search slow)\n",
    "\n",
    "# Controlling page information\n",
    "page_titles                    : infer  # Either `None`, `infer`, or `toc`\n",
    "page_authors                   : None  # Either `None` or `infer`\n",
    "filename_title_split_character : '_'  # If inferring titles based on filename, splt on this character.\n",
    "\n",
    "# Math settings\n",
    "number_equations               : true  # Whether to automatically number all block equations with MathJax\n",
    "\n",
    "#######################################################################################\n",
    "# Interact link settings\n",
    "\n",
    "# General interact settings\n",
    "use_jupyterlab                   : false  # If 'true', interact links will use JupyterLab as the interface\n",
    "\n",
    "# Jupyterhub link settings\n",
    "use_jupyterhub_button            : false  # If 'true', display a button that will direct users to a JupyterHub (that you provide)\n",
    "jupyterhub_url                   : \"\"  # The URL for your JupyterHub. If no URL, use \"\"\n",
    "jupyterhub_interact_text         : \"Interact\"  # The text that interact buttons will contain.\n",
    "\n",
    "# Binder link settings\n",
    "use_binder_button                : true  # If 'true', add a binder button for interactive links\n",
    "binderhub_url                    : \"https://mybinder.org\"  # The URL for your BinderHub. If no URL, use \"\"\n",
    "binder_repo_base                 : \"https://github.com/\"  # The site on which the textbook repository is hosted\n",
    "binder_repo_org                  : \"jupyter\"  # The username or organization that owns this repository\n",
    "binder_repo_name                 : \"jupyter-book\"  # The name of the repository on the web\n",
    "binder_repo_branch               : \"gh-pages\"  # The branch on which your textbook is hosted.\n",
    "binderhub_interact_text          : \"Interact\"  # The text that interact buttons will contain.\n",
    "\n",
    "# Thebelab settings\n",
    "use_thebelab_button              : true  # If 'true', display a button to allow in-page running code cells with Thebelab\n",
    "thebelab_button_text             : \"Thebelab\"  # The text to display inside the Thebelab initialization button\n",
    "codemirror_theme                 : \"abcdef\"  # Theme for codemirror cells, for options see https://codemirror.net/doc/manual.html#config\n",
    "\n",
    "# nbinteract settings\n",
    "use_show_widgets_button              : true  # If 'true', display a button to allow in-page running code cells with nbinteract\n",
    "\n",
    "# Download settings\n",
    "use_download_button              : true  # If 'true', display a button to download a zip file for the notebook\n",
    "download_button_text             : \"Download\" # The text that download buttons will contain\n",
    "download_page_header             : \"Made with Jupyter Book\" # A header that will be displayed at the top of and PDF-printed page\n",
    "\n",
    "#######################################################################################\n",
    "# Jupyter book extensions and additional features\n",
    "\n",
    "# Bibliography and citation settings. See https://github.com/inukshuk/jekyll-scholar#configuration for options\n",
    "scholar:\n",
    "  style: apa\n",
    "\n",
    "#######################################################################################\n",
    "# Option to add a Goggle analytics tracking code\n",
    "\n",
    "# Navigate to https://analytics.google.com, add a new property for your jupyter book and copy the tracking id here.\n",
    "google_analytics:\n",
    "  mytrackingcode: UA-52617120-7\n",
    "\n",
    "#######################################################################################\n",
    "# Jupyter book settings you probably don't need to change\n",
    "\n",
    "content_folder_name       : \"content\"  # The folder where your raw content (notebooks/markdown files) are located\n",
    "images_url                : \"/assets/images\" # Path to static image files\n",
    "css_url                   : \"/assets/css\" # Path to static CSS files\n",
    "js_url                    : \"/assets/js\" # Path to JS files\n",
    "custom_static_url         : \"/assets/custom\" # Path to user's custom CSS/JS files\n",
    "\n",
    "\n",
    "#######################################################################################\n",
    "# Jekyll build settings (only modify if you know what you're doing)\n",
    "\n",
    "# Site settings\n",
    "defaults:\n",
    "  - scope:\n",
    "      path: \"\"\n",
    "    values:\n",
    "      layout: \"default\"\n",
    "      toc: true\n",
    "      toc_label: \"  On this page\"\n",
    "      toc_icon: \"list-ul\"\n",
    "      excerpt: ''\n",
    "\n",
    "favicon_path: \"images/logo/favicon.ico\"\n",
    "\n",
    "# Markdown Processing\n",
    "markdown: kramdown\n",
    "kramdown:\n",
    "  input: GFM\n",
    "  syntax_highlighter: rouge\n",
    "\n",
    "sass:\n",
    "  style: compressed\n",
    "\n",
    "collections:\n",
    "  build:\n",
    "    output: true\n",
    "    permalink: /:path.html\n",
    "\n",
    "# Exclude from processing.\n",
    "# The following items will not be processed, by default. Create a custom list\n",
    "# to override the default setting.\n",
    "exclude:\n",
    "  - scripts/\n",
    "  - Gemfile\n",
    "  - Gemfile.lock\n",
    "  - node_modules\n",
    "  - vendor/bundle/\n",
    "  - vendor/cache/\n",
    "  - vendor/gems/\n",
    "  - vendor/ruby/\n",
    "\n",
    "plugins:\n",
    "  - jekyll-redirect-from\n",
    "  - jekyll-scholar\n",
    "\n",
    "# NOTE: Line below not native to Jupyter-book demo files\n",
    "# The line below controls the style of the citation printer inline\n",
    "# This will enable numbers in square brackets to be printed\n",
    "scholar:\n",
    "  source: ./_bibliography\n",
    "  style: _styles/modified-ieee.csl\n",
    "  order: ascending\n",
    "\n",
    "# Jupyter Book version - DO NOT CHANGE THIS. It is generated when a new book is created\n",
    "jupyter_book_version: \"0.6.4dev0\""
   ]
  },
  {
   "cell_type": "markdown",
   "metadata": {},
   "source": [
    "## Build the site"
   ]
  },
  {
   "cell_type": "markdown",
   "metadata": {},
   "source": [
    "Then, build book `jupyter-book build champsbook`"
   ]
  },
  {
   "cell_type": "markdown",
   "metadata": {},
   "source": [
    "<span style=\"color:red\">**TO-DO's**</span>\n",
    "* add material/links for preparation\n",
    "* stuff for revision\n"
   ]
  },
  {
   "cell_type": "markdown",
   "metadata": {},
   "source": [
    "After building the site ..."
   ]
  },
  {
   "cell_type": "markdown",
   "metadata": {},
   "source": [
    "```bash\n",
    "bundle exec jekyll serve --watch --port 4444\n",
    "```"
   ]
  },
  {
   "cell_type": "markdown",
   "metadata": {},
   "source": [
    "## Publish the site"
   ]
  },
  {
   "cell_type": "markdown",
   "metadata": {},
   "source": [
    "### GitHub pages"
   ]
  },
  {
   "cell_type": "markdown",
   "metadata": {},
   "source": [
    "GitHub Pages static site hosting service that takes files to build a webpage directly from a repository on GitHub."
   ]
  },
  {
   "cell_type": "markdown",
   "metadata": {},
   "source": [
    "https://www.youtube.com/watch?v=nN6QuNqmAwk&list=PLqR1Mci_1R_eeoYDZt6mp-3hNUEbnRwSp&index=13&t=485s"
   ]
  },
  {
   "cell_type": "markdown",
   "metadata": {},
   "source": [
    "Cannot use `jekyll-scholar` plugins to include citations.\n",
    "\n",
    "It comes with its own `jekyll` build."
   ]
  },
  {
   "cell_type": "markdown",
   "metadata": {},
   "source": [
    "[SOURCE](https://help.github.com/en/github/working-with-github-pages/about-github-pages)"
   ]
  },
  {
   "cell_type": "markdown",
   "metadata": {},
   "source": [
    "### <span style='color:red'>Netlify</span>"
   ]
  },
  {
   "cell_type": "markdown",
   "metadata": {},
   "source": [
    "<img width=\"200\" height=\"200\" src=\"https://images2.minutemediacdn.com/image/upload/c_fill,g_auto,h_1248,w_2220/f_auto,q_auto,w_1100/v1555383806/shape/mentalfloss/construction-banner.png\">"
   ]
  },
  {
   "cell_type": "code",
   "execution_count": null,
   "metadata": {},
   "outputs": [],
   "source": []
  },
  {
   "cell_type": "markdown",
   "metadata": {},
   "source": [
    "https://jupyterbook.org/guide/publish/netlify.html"
   ]
  },
  {
   "cell_type": "markdown",
   "metadata": {},
   "source": [
    "# Publishing a site with `jekyll`"
   ]
  },
  {
   "cell_type": "markdown",
   "metadata": {},
   "source": [
    "`GitHub Pages` only allows you to show static websites. Moreover, the custom appearance is pretty basic. We could do some `CSS` or `javascript` to edit our site look pretty and able to do something more than just showing pictures and text.\n",
    "\n",
    "`jekyll` allows us to build dynamic websites.\n",
    "Can run Ruby or Python code on the website."
   ]
  },
  {
   "cell_type": "markdown",
   "metadata": {},
   "source": [
    "## Installing `jekyll`"
   ]
  },
  {
   "cell_type": "markdown",
   "metadata": {},
   "source": [
    "This is needed to publish HTML files via GitHub pages"
   ]
  },
  {
   "cell_type": "markdown",
   "metadata": {},
   "source": [
    "Install `jekyll` accrding to specific instructions for your OS and Version\n",
    "\n",
    "For **macOs**, Mojave (10.14) \n",
    "\n",
    "1. Install `brew` (macOS software installer)\n",
    "\n",
    "2. install `ruby`\n",
    "> `brew install ruby`\n",
    "\n",
    "3. Add the brew ruby path to your shell configuration, i.e, Copy the lines below and paste them at the end of your `~./bash_profile` (macOS). \n",
    ">`export PATH=/usr/local/opt/ruby/bin:$PATH`\n",
    "\n",
    "4. Then, relaunch the terminal or do `source ~./bash_profile`\n",
    "\n",
    "5. Check the version or `ruby` installed and whether satisfies `jekyll` installation requirements. Read note below.\n",
    "> `which ruby`\n",
    "\n",
    "**NOTE** `jekyll` requires a `ruby` version `>= 2.4.0` according to the output of Step X\n",
    "\n",
    "6. If your need to change your `ruby` version, install `rbenv`\n",
    ">`brew install rbenv`\n",
    "\n",
    "7. And do\n",
    ">```bash\n",
    "rbenv install 2.6.3\n",
    "rbenv global 2.6.3\n",
    "ruby -v\n",
    "```\n",
    "\n",
    "8. Install `bundler` via `gem` (The Ruby package manager)\n",
    "```bash\n",
    "sudo gem install bundler\n",
    "```\n",
    "\n",
    "9. Finally install `jekyll`\n",
    ">```bash\n",
    "sudo gem install -n /usr/local/bin/ jekyll\n",
    "```\n",
    "\n",
    "**NOTE** In the official documentation it is strongly advised not to do a global installation of ruby in your system https://jekyllrb.com/docs/installation/macos/ Although, in the homepage, there is no information whatsoever about this warning https://jekyllrb.com/\n",
    "\n",
    "For macOS Versions earlier than Mojave (`< 10.14`), do only this instead\n",
    "\n",
    ">```bash\n",
    "sudo gem install bundler jekyll\n",
    "```\n",
    "\n",
    "10. And, check that is thas been correctly installed\n",
    "\n",
    ">`jekyll -v`"
   ]
  },
  {
   "cell_type": "markdown",
   "metadata": {},
   "source": [
    "## Creating a site with `jekyll`"
   ]
  },
  {
   "cell_type": "markdown",
   "metadata": {},
   "source": [
    "Once `jekyll` is installed, just do\n",
    "\n",
    ">```bash\n",
    "jekyll new my-awesome-site\n",
    "cd my-awesome-site\n",
    "bundle exec jekyll serve\n",
    "```"
   ]
  },
  {
   "cell_type": "markdown",
   "metadata": {},
   "source": [
    "<span style=\"color:blue\"><b>NOTE</b></span>\n",
    "\n",
    "If there is any special Ruby library dependecies (i.e., RubyGems or gems)\n",
    "\n",
    "```bash\n",
    "bundle install\n",
    "```\n",
    "\n",
    "will automatically install these as long as they are declared in `Gemfile`, fetching these from the [Ruby server](https://rubygems.org)\n",
    "\n",
    "After installing any needed gems, bundler writes a record file (`Gemfile.lock`) of all installed gems and their versions"
   ]
  },
  {
   "cell_type": "markdown",
   "metadata": {},
   "source": [
    "Then, just browse to [http://localhost:4000](http://localhost:4000/)"
   ]
  },
  {
   "cell_type": "markdown",
   "metadata": {},
   "source": [
    "<span style=\"color:blue\"><b>BREAKDOWN</b></span>"
   ]
  },
  {
   "cell_type": "markdown",
   "metadata": {},
   "source": [
    "1. The first line will create the folder `my-awesome-site` with the following content\n",
    "```bash\n",
    "404.html        Gemfile.lock    _posts/         index.markdown\n",
    "Gemfile         _config.yml     about.markdown\n",
    "```\n",
    "\n",
    "\n",
    "* `Gemfile` is a file were the Ruby dependencies of your application are declared.\n",
    "\n",
    "* `Gemfile.lock` is record of the specific (sub)dependecies installed. This _extremely useful_ to share your environment with people.\n",
    "\n",
    "* `jekyll` command is an executable that you can run in terminal for the `jekyll` RubyGem. Here's a cheatsheet [here](https://jekyllrb.com/docs/usage/) for how to use it."
   ]
  },
  {
   "cell_type": "markdown",
   "metadata": {},
   "source": [
    "2. After moving to the new folder, the last line will (__A__) create the folder `_site`, with the following content\n",
    "\n",
    "```bash\n",
    "404.html    about/      assets/     feed.xml    index.html  jekyll/\n",
    "```\n",
    "where\n",
    "\n",
    "* `jekyll serve` is a command to build our website with a fancy theme\n",
    "* `bundle exec` pipes the list of Ruby library (gems) requirements in `Gemfile` for execution of `jekyll serve`"
   ]
  },
  {
   "cell_type": "markdown",
   "metadata": {},
   "source": [
    "and (__B__) will produce the following output after execution\n",
    "\n",
    "```bash\n",
    "####################################################\n",
    "Configuration file: /Users/bas/research/book_sprint/my-awesome-site/_config.yml\n",
    "            Source: /Users/bas/research/book_sprint/my-awesome-site\n",
    "       Destination: /Users/bas/research/book_sprint/my-awesome-site/_site\n",
    " Incremental build: disabled. Enable with --incremental\n",
    "      Generating... \n",
    "       Jekyll Feed: Generating feed for posts\n",
    "                    done in 1.369 seconds.\n",
    " Auto-regeneration: enabled for '/Users/bas/research/book_sprint/my-awesome-site'\n",
    "    Server address: http://127.0.0.1:4000/\n",
    "  Server running... press ctrl-c to stop.\n",
    "####################################################\n",
    "```\n",
    "\n",
    "After what you can open a browser tab and use the URL `http://127.0.0.1:4000/` or `http://localhost:4000` to see the rendered HTML page with `jekyll`."
   ]
  },
  {
   "cell_type": "markdown",
   "metadata": {},
   "source": [
    "<span style=\"color:blue\"><b>SOURCES</b></span>\n",
    "\n",
    "* What's the difference between `Gemfile` and `Gemfile.lock`?\n",
    "\n",
    "https://medium.com/@davalpargal/gemfile-and-gemfile-lock-in-ruby-65adc918b856\n",
    "\n",
    "https://stackoverflow.com/questions/6927442/what-is-the-difference-between-gemfile-and-gemfile-lock-in-ruby-on-rails\n",
    "\n",
    "* What's Bundler?\n",
    "\n",
    "https://bundler.io/v1.12/rationale.html\n",
    "\n",
    "* Basics of Ruby\n",
    " * `gem` Ruby package (RubyGems) manager\n",
    " * `irb` Interactive Ruby prompt and basic commands\n",
    "\n",
    "https://guides.rubygems.org/rubygems-basics/\n",
    "\n",
    "https://www.digitalocean.com/community/tutorials/how-to-use-irb-to-explore-ruby"
   ]
  },
  {
   "cell_type": "markdown",
   "metadata": {},
   "source": [
    "```\n",
    "FIRST build\n",
    "jupyter-book build champsbook\n",
    "\n",
    "SECOND serve with jekyll\n",
    "\n",
    "bundle exec jekyll serve --watch --port 4444\n",
    "```"
   ]
  },
  {
   "cell_type": "markdown",
   "metadata": {},
   "source": [
    "# Appendices"
   ]
  },
  {
   "cell_type": "markdown",
   "metadata": {},
   "source": [
    "## Configuring the bibliography"
   ]
  },
  {
   "cell_type": "markdown",
   "metadata": {},
   "source": [
    "By defult, `jupyter-book` will consider by default the file `_bibliography/references.bib` to construct the bibliography.\n",
    "\n",
    "However, the directory and the default bibliography file can be changes in [`config.yml`](#config) by adding the following commands within `scholar`, the section that controls the functions of `jekyll-scholar`\n",
    "\n",
    "```yml\n",
    "scholar:\n",
    "  source: ./_bibliography\n",
    "  bibliography: my_references.bib\n",
    "```\n",
    "\n",
    "\n"
   ]
  },
  {
   "cell_type": "markdown",
   "metadata": {},
   "source": [
    "In this example, we change the default bibliography to `my_references.bib`. \n",
    "\n",
    "Note that bibliographies in `.bibtex` format (an unpgraded version of conventional `.bib` files. Read [this](https://tex.stackexchange.com/questions/25701/bibtex-vs-biber-and-biblatex-vs-natbib)) are also in principle accepted. "
   ]
  },
  {
   "cell_type": "markdown",
   "metadata": {},
   "source": [
    "<span style=\"color:red\"><b>NOTE</b></span> Although the `jekyll-scholar` documentation states that the `bibliography` option can point out to multiple files using regular expressions \n",
    "\n",
    "```yml\n",
    "bibliography: **/*.bib{,tex}\n",
    "```\n",
    "\n",
    "this doesn't seem to work when doing `jupyter-book build`, either when trying other variants: `**/*.bib`, `*.bib`, `\"*.bib\"`, etc. All of these variants lead to error."
   ]
  },
  {
   "cell_type": "markdown",
   "metadata": {},
   "source": [
    "See next wection for a provisional solution."
   ]
  },
  {
   "cell_type": "markdown",
   "metadata": {},
   "source": [
    "## Citation style"
   ]
  },
  {
   "cell_type": "markdown",
   "metadata": {},
   "source": [
    "This controls how the citation is printen in the rendered HTML, either using the first author's surename (e.g., `R. Jimenez et al.`) or simply by adding numbers in square brackets (e.g., `[1]`), as done below.\n",
    "\n",
    "For this you need a style file `.csl`. You can download one from [here](https://github.com/krafczyk/citetest-page)\n",
    "\n",
    "Once downloaded, add this to a new folder called `_styles`. Then, just enable the `style` option of `jekyll-scholar`, as below"
   ]
  },
  {
   "cell_type": "markdown",
   "metadata": {},
   "source": [
    "```yml\n",
    "scholar:\n",
    "  style: _styles/modified-ieee.csl\n",
    "  \n",
    "```"
   ]
  },
  {
   "cell_type": "markdown",
   "metadata": {},
   "source": [
    "## Citation odering"
   ]
  },
  {
   "cell_type": "markdown",
   "metadata": {},
   "source": [
    "This controls the order of the printed numbers for added citations."
   ]
  },
  {
   "cell_type": "markdown",
   "metadata": {},
   "source": [
    "```yml\n",
    "scholar:\n",
    "  order: ascending\n",
    "```"
   ]
  },
  {
   "cell_type": "markdown",
   "metadata": {},
   "source": [
    "## Managing multiple bibliographies"
   ]
  },
  {
   "cell_type": "markdown",
   "metadata": {},
   "source": [
    "In this section we continue the study of {% cite pechukas1981 naik2019b --file snreac %} {% cite DeLeon_Marston_1989 --file paper %} by considering the phase space structures that govern different reaction pathways and we  then consider the influence of symmetry breaking, bifurcation, and energy on these phase space reaction pathways.\n",
    "\n",
    "Another citation `{% raw %}{% cite suits14 --file roaming_v8 %}{% endraw %}`"
   ]
  },
  {
   "cell_type": "markdown",
   "metadata": {},
   "source": [
    "`{% raw %}{% bibliography --file snreac --file roaming_v8 --cited %}{% endraw %}`"
   ]
  },
  {
   "cell_type": "markdown",
   "metadata": {},
   "source": [
    "NOTe: Remains open issue"
   ]
  },
  {
   "cell_type": "markdown",
   "metadata": {},
   "source": [
    "<span style=\"color:red\"><b>NOTE</b></span> Bibliographies must be saved with string unicode (UTF8)"
   ]
  },
  {
   "cell_type": "markdown",
   "metadata": {},
   "source": [
    "Problem with `allrefs.bib`"
   ]
  },
  {
   "cell_type": "markdown",
   "metadata": {},
   "source": [
    "## Solution bib file merging"
   ]
  },
  {
   "cell_type": "markdown",
   "metadata": {},
   "source": [
    "Merging `.bib` files seems an easy way to to avoid using the chunky `jekyll-scholar` syntax to add citations when manually editing a Jupyter Notebook (`.ipynb`) or Markdown file.\n",
    "\n",
    "Thus, instead of doing \n",
    "\n",
    "```\n",
    "{% cite bib_tag11 bib_tag12 --file1 %} {% cite bib_tag21 bib_tag22 --file2 %}\n",
    "``` \n",
    "\n",
    "we could just do \n",
    "\n",
    "```\n",
    "{% cite bib_tag11 bib_tag12 bib_tag21 bib_tag22 %}\n",
    "```\n",
    "\n",
    "were the merged file will be the default file `_bibliography/references.bib`"
   ]
  },
  {
   "cell_type": "markdown",
   "metadata": {},
   "source": [
    "However, this comes with a few caveats. Below, we summaries the pros and cons of this approach.\n",
    "\n",
    "\n",
    "|Pros|Cons|\n",
    "---- |----|\n",
    "| - | - |"
   ]
  },
  {
   "cell_type": "markdown",
   "metadata": {},
   "source": [
    "<a id='syntax_matching'></a>\n",
    "## Syntax Matching"
   ]
  },
  {
   "cell_type": "markdown",
   "metadata": {},
   "source": [
    "As introduced [previously](#edit_phase) section, here we deal with the details of syntax matching for the book compilation."
   ]
  },
  {
   "cell_type": "markdown",
   "metadata": {},
   "source": [
    "<span style=\"color:blue\">Main tasks</span>\n",
    "\n",
    "For figures, tables, sections and subsections.\n",
    "\n",
    "* Swap Markdown/LaTeX Citation syntax in `.md`/`.ipynb` files with `jekyll-scholar` syntax,\n",
    "* Swap Markdown/LaTeX Label/Reference syntax in `.md`/`.ipynb` files with `Markdown` syntax,\n",
    "* Swap Markdown/LaTeX Caption syntax in `.md`/`.ipynb` files with `HTML` syntax to allow centered captions with italic formatting, \n",
    "* Add numbered cross references and labels in captions"
   ]
  },
  {
   "cell_type": "markdown",
   "metadata": {},
   "source": [
    "This a different for Markdown files and Jupyter notebooks. \n",
    "\n",
    "In the following subsections we introduce the details of these tasks."
   ]
  },
  {
   "cell_type": "markdown",
   "metadata": {},
   "source": [
    "### Markdown files"
   ]
  },
  {
   "cell_type": "markdown",
   "metadata": {},
   "source": [
    "#### Overview"
   ]
  },
  {
   "cell_type": "markdown",
   "metadata": {},
   "source": [
    "<span style='color:blue'><b>TASKS</b></span>"
   ]
  },
  {
   "cell_type": "markdown",
   "metadata": {},
   "source": [
    "1. <b>Markdown citations</b>\n",
    "\n",
    "Replace `Markdown` syntax in `.md` files\n",
    ">```\n",
    "[@bit_tag1; @bib_tag2]  # Inline citations\n",
    "```\n",
    "\n",
    "with `jekyll-scholar` syntax\n",
    "\n",
    ">```jekyll\n",
    "{% cite bib_tag1 bib_tag2 --file bib_filename %}  # Inline citations\n",
    ".\n",
    ".\n",
    ".\n",
    "{% bibliography --file bib_filename --cited %} # Generate refence list\n",
    "```"
   ]
  },
  {
   "cell_type": "markdown",
   "metadata": {},
   "source": [
    "2. <b>Markdown labels/references</b>\n",
    "\n",
    "Replace `Markdown` syntax in `.md` files\n",
    ">```\n",
    "@fig:my_label  # Inline citations\n",
    "```\n",
    "\n",
    "with `jekyll` syntax\n",
    "\n",
    ">```markdown\n",
    "![Some caption goes here.](my_figure_path){#fig:my_label some more stuff here}\n",
    "```\n"
   ]
  },
  {
   "cell_type": "markdown",
   "metadata": {},
   "source": [
    "3. <b>Markdown captions</b>\n",
    "\n",
    "Replace `Markdown` syntax in `.md` files\n",
    ">```\n",
    "![This is a caption](mypic.png)\n",
    "```\n",
    "\n",
    "with styled HTML syntax \n",
    "\n",
    "```html\n",
    "<figcaption style=\"text-align:center;font-size:14px\"><b>fig:1 </b><em> This is a caption</em></figcaption>\n",
    "```"
   ]
  },
  {
   "cell_type": "markdown",
   "metadata": {},
   "source": [
    "4. <b>Numbering of Captions and Hyperlink names</b>\n",
    "\n",
    "Plain caption with label\n",
    "\n",
    "```html\n",
    "<figcaption style=\"text-align:center;font-size:14px\"><b>marker:mylabel </b><em>This is a caption</em></figcaption>\n",
    "```\n",
    "\n",
    "Numebered\n",
    "\n",
    "```html\n",
    "<figcaption style=\"text-align:center;font-size:14px\"><b>marker:N </b><em>This is a caption</em></figcaption>\n",
    "```\n",
    "\n",
    "<hr>\n",
    "\n",
    "Plain inline reference with label. \n",
    "\n",
    ">```markdown\n",
    "... some text [mylabel](marker:mylabel) ...more text \n",
    "```\n",
    ">The hyperlink will appear as [mylabel](#), pointing to the object with the label `marker:mylabel`\n",
    "\n",
    "Numbered. \n",
    "\n",
    ">```markdown\n",
    "... some text [marker:N](marker:mylabel) ...more text \n",
    "```\n",
    ">The hyperlink will appear as [marker:N](#), pointing to the object with the same label"
   ]
  },
  {
   "cell_type": "markdown",
   "metadata": {},
   "source": [
    "<span style='color:red'>FIX THIS LAST PART</span>\n",
    "\n",
    "<img width=\"200\" height=\"200\" src=\"https://images2.minutemediacdn.com/image/upload/c_fill,g_auto,h_1248,w_2220/f_auto,q_auto,w_1100/v1555383806/shape/mentalfloss/construction-banner.png\">"
   ]
  },
  {
   "cell_type": "markdown",
   "metadata": {},
   "source": [
    "<span style='color:blue'>**TASK**</span>\n",
    "\n",
    "Replace `Markdown` syntax in `.md` files\n",
    ">```\n",
    "![This is a caption](mypic.png)\n",
    "```\n",
    "\n",
    "with styled HTML syntax \n",
    "\n",
    "```html\n",
    "<figcaption style=\"text-align:center;font-size:14px\"><b>fig:1 </b><em> This is a caption</em></figcaption>\n",
    "```"
   ]
  },
  {
   "cell_type": "markdown",
   "metadata": {},
   "source": [
    "#### IMPLEMENTATION"
   ]
  },
  {
   "cell_type": "markdown",
   "metadata": {},
   "source": [
    "Fix citations"
   ]
  },
  {
   "cell_type": "code",
   "execution_count": 79,
   "metadata": {},
   "outputs": [],
   "source": [
    "md_infile = 'champsbook/content/05/paper.md'\n",
    "md_outfile = 'champsbook/content/05/paper_new.md'\n",
    "bib_filename = 'paper'\n",
    "\n",
    "%run scripts/bib_md2jekyll.py $md_infile $md_outfile $bib_filename"
   ]
  },
  {
   "cell_type": "code",
   "execution_count": 54,
   "metadata": {},
   "outputs": [],
   "source": [
    "md_infile = 'champsbook/content/03/Draft.md'\n",
    "md_outfile = 'champsbook/content/03/Draft_new.md'\n",
    "bib_filename = 'myBib'\n",
    "\n",
    "%run scripts/bib_md2jekyll.py $md_infile $md_outfile $bib_filename"
   ]
  },
  {
   "cell_type": "markdown",
   "metadata": {},
   "source": [
    "Fix Labels and References"
   ]
  },
  {
   "cell_type": "code",
   "execution_count": null,
   "metadata": {},
   "outputs": [],
   "source": [
    "md_infile = 'champsbook/content/05/paper_new.md'\n",
    "md_outfile = 'champsbook/content/05/paper_new2.md'\n",
    "\n",
    "%run scripts/labels_refs_md2jekyll.py $md_infile $md_outfile"
   ]
  },
  {
   "cell_type": "code",
   "execution_count": 55,
   "metadata": {},
   "outputs": [
    {
     "name": "stdout",
     "output_type": "stream",
     "text": [
      "Good! There aren't repeated labels in your file\n",
      "New Markdown file successfully generated!\n"
     ]
    }
   ],
   "source": [
    "md_infile = 'champsbook/content/03/Draft_new.md'\n",
    "md_outfile = 'champsbook/content/03/Draft_new2.md'\n",
    "\n",
    "%run scripts/labels_refs_md2jekyll.py $md_infile $md_outfile"
   ]
  },
  {
   "cell_type": "markdown",
   "metadata": {},
   "source": [
    "Add simple captions"
   ]
  },
  {
   "cell_type": "code",
   "execution_count": 138,
   "metadata": {},
   "outputs": [
    {
     "name": "stdout",
     "output_type": "stream",
     "text": [
      "New Markdown file successfully generated!\n"
     ]
    }
   ],
   "source": [
    "md_infile = 'champsbook/content/05/paper_new2.md'\n",
    "md_outfile = 'champsbook/content/05/paper_new3.md'\n",
    "\n",
    "%run scripts/captions-simple_md2html.py $md_infile $md_outfile"
   ]
  },
  {
   "cell_type": "code",
   "execution_count": 56,
   "metadata": {},
   "outputs": [
    {
     "name": "stdout",
     "output_type": "stream",
     "text": [
      "New Markdown file successfully generated!\n"
     ]
    }
   ],
   "source": [
    "md_infile = 'champsbook/content/03/Draft_new2.md'\n",
    "md_outfile = 'champsbook/content/03/Draft_new3.md'\n",
    "\n",
    "%run scripts/captions-simple_md2html.py $md_infile $md_outfile"
   ]
  },
  {
   "cell_type": "markdown",
   "metadata": {},
   "source": [
    "Add labelled captions with numbered figures"
   ]
  },
  {
   "cell_type": "markdown",
   "metadata": {},
   "source": [
    "<img width=\"200\" height=\"200\" src=\"https://images2.minutemediacdn.com/image/upload/c_fill,g_auto,h_1248,w_2220/f_auto,q_auto,w_1100/v1555383806/shape/mentalfloss/construction-banner.png\">"
   ]
  },
  {
   "cell_type": "markdown",
   "metadata": {},
   "source": [
    "Fix other labels/refences and captions elements: tables(`tab`) and sections(`sec`)"
   ]
  },
  {
   "cell_type": "markdown",
   "metadata": {},
   "source": [
    "<img width=\"200\" height=\"200\" src=\"https://images2.minutemediacdn.com/image/upload/c_fill,g_auto,h_1248,w_2220/f_auto,q_auto,w_1100/v1555383806/shape/mentalfloss/construction-banner.png\">"
   ]
  },
  {
   "cell_type": "markdown",
   "metadata": {},
   "source": [
    "TEST Naik's paper"
   ]
  },
  {
   "cell_type": "code",
   "execution_count": 10,
   "metadata": {
    "ExecuteTime": {
     "end_time": "2019-12-07T09:42:27.641437Z",
     "start_time": "2019-12-07T09:42:27.370187Z"
    }
   },
   "outputs": [
    {
     "name": "stdout",
     "output_type": "stream",
     "text": [
      "champsbook/content/05/quad-normal-form/quad-normal-form.md\r\n"
     ]
    }
   ],
   "source": [
    "ls champsbook/content/05/quad-normal-form/quad-normal-form.md"
   ]
  },
  {
   "cell_type": "code",
   "execution_count": 23,
   "metadata": {},
   "outputs": [],
   "source": [
    "md_infile = 'champsbook/content/05/quad-normal-form/quad-normal-form.md'\n",
    "md_outfile = 'champsbook/content/05/quad-normal-form/quad-normal-form_new.md'\n",
    "bib_filename = 'Ham_LD_reaction'\n",
    "\n",
    "%run scripts/bib_md2jekyll.py $md_infile $md_outfile $bib_filename"
   ]
  },
  {
   "cell_type": "code",
   "execution_count": 24,
   "metadata": {},
   "outputs": [
    {
     "name": "stdout",
     "output_type": "stream",
     "text": [
      "Good! There aren't repeated labels in your file\n",
      "New Markdown file successfully generated!\n"
     ]
    }
   ],
   "source": [
    "md_infile = 'champsbook/content/05/quad-normal-form/quad-normal-form_new.md'\n",
    "md_outfile = 'champsbook/content/05/quad-normal-form/quad-normal-form_new2.md'\n",
    "\n",
    "%run scripts/labels_refs_md2jekyll.py $md_infile $md_outfile"
   ]
  },
  {
   "cell_type": "code",
   "execution_count": 25,
   "metadata": {},
   "outputs": [
    {
     "name": "stdout",
     "output_type": "stream",
     "text": [
      "New Markdown file successfully generated!\n"
     ]
    }
   ],
   "source": [
    "md_infile = 'champsbook/content/05/quad-normal-form/quad-normal-form_new2.md'\n",
    "md_outfile = 'champsbook/content/05/quad-normal-form/quad-normal-form_new3.md'\n",
    "\n",
    "%run scripts/captions-simple_md2html.py $md_infile $md_outfile"
   ]
  },
  {
   "cell_type": "markdown",
   "metadata": {},
   "source": [
    "TEST Rafa's paper"
   ]
  },
  {
   "cell_type": "markdown",
   "metadata": {},
   "source": [
    "#### SCRIPT: Citations"
   ]
  },
  {
   "cell_type": "code",
   "execution_count": 78,
   "metadata": {},
   "outputs": [
    {
     "name": "stdout",
     "output_type": "stream",
     "text": [
      "Overwriting scripts/bib_md2jekyll.py\n"
     ]
    }
   ],
   "source": [
    "%%writefile scripts/bib_md2jekyll.py\n",
    "\n",
    "def markdown_to_jekyll_bib(md_infile, md_outfile, bib_filename):\n",
    "    #############################################\n",
    "    # Extract all lines from input MD file\n",
    "    #############################################\n",
    "    try:\n",
    "        doc_infile = open(md_infile, 'r')\n",
    "        doc_lines = doc_infile.readlines()\n",
    "\n",
    "        with open(md_outfile, 'w') as doc_outfile:\n",
    "            for line in doc_lines:\n",
    "                #############################################\n",
    "                # Filter all lines containing bibliography syntax\n",
    "                #############################################\n",
    "                line_matched = re.search(r'\\[@(.+?)\\]',line)\n",
    "                if line_matched:\n",
    "                    #############################################\n",
    "                    # Extract Bib tags from substrings in filtered lines\n",
    "                    #############################################\n",
    "                    chunk_matched = line_matched.group(1)\n",
    "                    bib_tags_raw = re.split(\";|,\", chunk_matched)\n",
    "                    bib_tags_clean = [x.replace(\"@\",'').strip() for x in bib_tags_raw]\n",
    "                    #############################################\n",
    "                    # Replace Markdown syntax with jekyll's in filtered lines\n",
    "                    #############################################\n",
    "                    jekyll_syntax_items = [\"{% cite\"]+bib_tags_clean+['--file '+bib_filename]+[\"%}\"]\n",
    "                    separator = ' '\n",
    "                    chunk_new = separator.join(jekyll_syntax_items)\n",
    "                    chunk_original = '[@'+chunk_matched+']'\n",
    "                    line_modified = line.replace(chunk_original, chunk_new)\n",
    "                    #############################################\n",
    "                    # Write syntax modified line in output file\n",
    "                    #############################################\n",
    "                    doc_outfile.write(line_modified)\n",
    "                else:\n",
    "                    doc_outfile.write(line)\n",
    "                    \n",
    "            #############################################\n",
    "            # Add jekyll line to generate list of references at document end\n",
    "            #############################################        \n",
    "            bib_endline = \"\\n{% bibliography --file \"+bib_filename+\" --cited %}\"\n",
    "            doc_outfile.write(bib_endline)\n",
    "            # Close all files\n",
    "            doc_infile.close()\n",
    "            doc_outfile.close()\n",
    "    except:\n",
    "        print(\"Couldn't find Markdown file. Check your input path\")\n",
    "\n",
    "\n",
    "if __name__ == \"__main__\":\n",
    "    import sys\n",
    "    import re\n",
    "    #############################################\n",
    "    # Script input arguments (self-explanatory)\n",
    "    #############################################\n",
    "    md_infile = sys.argv[1]\n",
    "    md_outfile = sys.argv[2]\n",
    "    bib_filename = sys.argv[3]\n",
    "    #############################################\n",
    "    # Turn MD file into jekyll-syntax modified file\n",
    "    #############################################\n",
    "    markdown_to_jekyll_bib(md_infile, md_outfile, bib_filename)"
   ]
  },
  {
   "cell_type": "markdown",
   "metadata": {},
   "source": [
    "#### SCRIPT: Labels and References"
   ]
  },
  {
   "cell_type": "code",
   "execution_count": 60,
   "metadata": {},
   "outputs": [
    {
     "name": "stdout",
     "output_type": "stream",
     "text": [
      "Overwriting scripts/labels_refs_md2jekyll.py\n"
     ]
    }
   ],
   "source": [
    "%%writefile scripts/labels_refs_md2jekyll.py\n",
    "\n",
    "def minimal_ordered_set(seq):\n",
    "    seen = set()\n",
    "    seen_add = seen.add\n",
    "    return [x for x in seq if not (x in seen or seen_add(x))]\n",
    "\n",
    "def get_labels_tags_dic(labels_pattern, doc_lines):\n",
    "    COUNTER = 0\n",
    "    labels_tags_all = []\n",
    "\n",
    "    for line in doc_lines:\n",
    "        labels_matched_raw = re.findall(labels_pattern, line)\n",
    "        if labels_matched_raw:\n",
    "            COUNTER +=1\n",
    "            labels_tags = [s.translate({ord(i): None for i in strings_for_removal}) for s in labels_matched_raw]\n",
    "            labels_tags = list(minimal_ordered_set(labels_tags))\n",
    "            labels_tags_all += labels_tags\n",
    "\n",
    "    #############################################\n",
    "    # Test for non-repeated labels\n",
    "    #############################################\n",
    "    if COUNTER == len(labels_tags_all):\n",
    "        print(\"Good! There aren't repeated labels in your file\")\n",
    "        labels_tags_dic = {labels_tags_all[n]:str(n+1) for n in range(COUNTER)}\n",
    "        return labels_tags_dic\n",
    "    else:\n",
    "        print(\"There are repeated labels in your file. This will lead to errors\")\n",
    "\n",
    "def replace_ref_syntax(refs_matched_raw, line):\n",
    "    refs_tags = [s.translate({ord(i): None for i in strings_for_removal}) for s in refs_matched_raw]\n",
    "    refs_tags = list(set(refs_tags))\n",
    "    #############################################\n",
    "    # Replace Markdown reference syntax\n",
    "    #############################################\n",
    "    line_modified = line\n",
    "    for x in refs_tags:\n",
    "        chunk_original = '@'+marker+':'+x\n",
    "        x_number = labels_tags_dic[x]\n",
    "        chunk_new = '['+marker+':'+x_number+'](#'+x+')'\n",
    "        line_modified = line_modified.replace(chunk_original, chunk_new)\n",
    "    \n",
    "    return line_modified\n",
    "    \n",
    "def replace_label_syntax(labels_matched_raw, line):\n",
    "    labels_tags = [s.translate({ord(i): None for i in strings_for_removal}) for s in labels_matched_raw]\n",
    "    labels_tags = list(set(labels_tags))\n",
    "    #############################################\n",
    "    # Replace Markdown reference syntax\n",
    "    #############################################    \n",
    "    for x in labels_tags:\n",
    "        chunk_original = '{#'+marker+':'+x+'}'\n",
    "        chunk_new = '\\n<a id=\"'+x+'\"></a>'\n",
    "        line_modified = re.sub(r'\\{#'+marker+':'+x+'(.+?)\\}', chunk_new, line)\n",
    "    \n",
    "    return line_modified\n",
    "\n",
    "def markdown_to_jekyll_labels_refs_V1(doc_lines, md_outfile):\n",
    "    with open(md_outfile,'w') as doc_outfile:\n",
    "        for line in doc_lines:\n",
    "            refs_matched_raw = re.findall(refs_pattern,line)\n",
    "            labels_matched_raw = re.findall(labels_pattern, line)\n",
    "\n",
    "            if refs_matched_raw and not labels_matched_raw:\n",
    "                line_modified = replace_ref_syntax(refs_matched_raw, line)\n",
    "                doc_outfile.write(line_modified)\n",
    "\n",
    "            elif labels_matched_raw and not refs_matched_raw:\n",
    "                line_modified = replace_label_syntax(labels_matched_raw, line)\n",
    "                doc_outfile.write(line_modified)\n",
    "\n",
    "            elif labels_matched_raw and refs_matched_raw:\n",
    "                line_modified = replace_label_syntax(labels_matched_raw, line)\n",
    "                line_modified = replace_ref_syntax(refs_matched_raw, line_modified)\n",
    "                doc_outfile.write(line_modified)\n",
    "\n",
    "            else:\n",
    "                line_modified = line\n",
    "                doc_outfile.write(line_modified)\n",
    "        \n",
    "    doc_outfile.close()\n",
    "    print(\"New Markdown file successfully generated!\")\n",
    "        \n",
    "        \n",
    "if __name__ == \"__main__\":\n",
    "    import re\n",
    "    import sys\n",
    "    #############################################\n",
    "    # Settings\n",
    "    #############################################\n",
    "    marker = 'fig'\n",
    "    strings_for_removal = ').,;:'\n",
    "\n",
    "    labels_pattern = re.compile('#'+marker+'(.+?)\\s')\n",
    "    refs_pattern = re.compile('@'+marker+'(.+?)\\s')\n",
    "    #############################################\n",
    "    # Script input arguments (self-explanatory)\n",
    "    #############################################\n",
    "    md_infile = sys.argv[1]\n",
    "    md_outfile = sys.argv[2]\n",
    "    #############################################\n",
    "    # Extract all lines from input MD file\n",
    "    #############################################\n",
    "    try:\n",
    "        doc_infile = open(md_infile, 'r')\n",
    "        doc_lines = doc_infile.readlines()\n",
    "        doc_infile.close()\n",
    "        #############################################\n",
    "        # Turn MD file into jekyll-syntax modified file\n",
    "        #############################################\n",
    "        labels_tags_dic = get_labels_tags_dic(labels_pattern, doc_lines)\n",
    "        markdown_to_jekyll_labels_refs_V1(doc_lines, md_outfile)\n",
    "    except:\n",
    "        print(\"Couldn't find Markdown file. Check your input path\")\n"
   ]
  },
  {
   "cell_type": "markdown",
   "metadata": {},
   "source": [
    "#### SCRIPT:  Simple Captions"
   ]
  },
  {
   "cell_type": "code",
   "execution_count": 137,
   "metadata": {},
   "outputs": [
    {
     "name": "stdout",
     "output_type": "stream",
     "text": [
      "Overwriting scripts/captions-simple_md2html.py\n"
     ]
    }
   ],
   "source": [
    "%%writefile scripts/captions-simple_md2html.py\n",
    "def replace_caption_syntax(captions_matched_raw, line):\n",
    "    caption = captions_matched_raw[0]\n",
    "    html_syntax_items = (\n",
    "        '<figcaption style=\"text-align:center;font-size:14px\">',\n",
    "        '<em>',\n",
    "        caption,\n",
    "        '</em>',\n",
    "        '</figcaption>'\n",
    "    )\n",
    "    chunk_new = ''.join(html_syntax_items)\n",
    "    return line+chunk_new\n",
    "\n",
    "def markdown_to_html_captions(doc_lines, md_outfile):\n",
    "    with open(md_outfile,'w') as doc_outfile:\n",
    "        for line in doc_lines:\n",
    "            captions_matched_raw = re.findall(captions_pattern,line)\n",
    "            labels_matched_raw = re.findall(captions_pattern,line)\n",
    "            if captions_matched_raw:\n",
    "                line_modified = replace_caption_syntax(captions_matched_raw, line)\n",
    "                doc_outfile.write(line_modified)\n",
    "            else:\n",
    "                line_modified = line\n",
    "                doc_outfile.write(line_modified)\n",
    "        doc_outfile.close()\n",
    "        print(\"New Markdown file successfully generated!\")\n",
    "    \n",
    "if __name__ == \"__main__\":\n",
    "    import re\n",
    "    import sys\n",
    "    #############################################\n",
    "    # Settings\n",
    "    #############################################\n",
    "    marker = 'fig'\n",
    "    strings_for_removal = ').,;:'\n",
    "    \n",
    "    captions_pattern = re.compile(r'!\\[(.+?)\\]')\n",
    "    labels_pattern = re.compile('#'+marker+'(.+?)\\s')\n",
    "    #############################################\n",
    "    # Script input arguments (self-explanatory)\n",
    "    #############################################\n",
    "    md_infile = sys.argv[1]\n",
    "    md_outfile = sys.argv[2]\n",
    "    #############################################\n",
    "    # Extract all lines from input MD file\n",
    "    #############################################\n",
    "    try:\n",
    "        doc_infile = open(md_infile, 'r')\n",
    "        doc_lines = doc_infile.readlines()\n",
    "        doc_infile.close()\n",
    "        #############################################\n",
    "        # Turn MD file into jekyll-syntax modified file\n",
    "        #############################################\n",
    "        markdown_to_html_captions(doc_lines, md_outfile)\n",
    "    except:\n",
    "        print(\"Couldn't find Markdown file. Check your input path\")"
   ]
  },
  {
   "cell_type": "markdown",
   "metadata": {},
   "source": [
    "### Jupyter Notebooks"
   ]
  },
  {
   "cell_type": "markdown",
   "metadata": {},
   "source": [
    "#### Overview"
   ]
  },
  {
   "cell_type": "markdown",
   "metadata": {},
   "source": [
    "Jupyter Notebooks are simply big `JSON` files econding Python dictionaries. Thus, editing notebooks programmatically becomes an easy task. "
   ]
  },
  {
   "cell_type": "markdown",
   "metadata": {},
   "source": [
    "<span style='color:blue'><b>TASKS</b></span>"
   ]
  },
  {
   "cell_type": "markdown",
   "metadata": {},
   "source": [
    "Typical $\\LaTeX$ Markers:\n",
    "\n",
    "* `fig`\n",
    "* `tab`\n",
    "* `ch`\n",
    "* `sec`\n",
    "* `subsec`"
   ]
  },
  {
   "cell_type": "markdown",
   "metadata": {},
   "source": [
    "Jump to scripts here."
   ]
  },
  {
   "cell_type": "markdown",
   "metadata": {},
   "source": [
    "1. <b>LaTeX citations</b>\n",
    "\n",
    "Replace $\\LaTeX$ syntax in Jupyter Notebook (or even Markdown file)\n",
    ">```latex\n",
    "\\cite{bib_tag1, bib_tag2}  # Inline citations\n",
    ".\n",
    ".\n",
    ".\n",
    "\\bibliography{bib_filename} # Generate refence list\n",
    "```\n",
    "\n",
    "with `jekyll` syntax\n",
    "\n",
    ">```jekyll\n",
    "{% cite bib_tag1 bib_tag2 --file bib_filename %}  # Inline citations\n",
    ".\n",
    ".\n",
    ".\n",
    "{% bibliography --file bib_filename --cited %} # Generate refence list\n",
    "```\n"
   ]
  },
  {
   "cell_type": "markdown",
   "metadata": {},
   "source": [
    "2. <b>LaTeX labels/references</b>\n",
    "\n",
    "\n",
    "\n",
    "Replace `LaTeX` syntax in Jupyter Notebooks (`ipynb`)\n",
    "\n",
    "```latex\n",
    "# In some cell: inline reference\n",
    "Some text ... \\ref{maker:mylabel} ... and more text ...\n",
    ".\n",
    ".\n",
    ".\n",
    "# In another cell: a figure/table/section/subsection  with a label\n",
    "\\label{marker:mylabel}\n",
    "```\n",
    "\n",
    "with `Markdown` syntax\n",
    "\n",
    "```html\n",
    "# In some cell: inline reference\n",
    "Some text ... [maker:mylabel](#maker:mylabel) ... and more text ...\n",
    ".\n",
    ".\n",
    ".\n",
    "# In another cell: a figure/table/section/subsection  with a label\n",
    "<a id=\"maker:mylabel\"></a>\n",
    "```\n"
   ]
  },
  {
   "cell_type": "markdown",
   "metadata": {},
   "source": [
    "3. <b> LaTeX captions </b> \n",
    "\n",
    "Replace $\\LaTeX$ syntax in Jupyter Notebook (or even Markdown file)\n",
    ">```latex\n",
    "\\# Some figure/table with a label \n",
    "\\caption{This is a caption}\n",
    "```\n",
    "\n",
    "with styled HTML syntax\n",
    "\n",
    "```html\n",
    "<figcaption style=\"text-align:center;font-size:14px\"><b>marker:mylabel </b><em>This is a caption</em></figcaption>\n",
    "```\n",
    "\n",
    "<hr>\n",
    "\n",
    "Also, if more than one figure is added in a cell, add subcaptions automatically\n",
    "\n",
    "```html\n",
    "<img src='myimage1.png'>\n",
    "<figcaption style=\"text-align:center;font-size:14px\">(a)</figcaption>\n",
    "<img src='myimage2.png'>\n",
    "<figcaption style=\"text-align:center;font-size:14px\">(b)</figcaption>\n",
    "<img src='myimage3.png'>\n",
    "<figcaption style=\"text-align:center;font-size:14px\">(c)</figcaption>\n",
    "\n",
    "<figcaption style=\"text-align:center;font-size:14px\"><b>marker:mylabel </b><em>This is a caption for the whole set of figures</em></figcaption>\n",
    "```"
   ]
  },
  {
   "cell_type": "markdown",
   "metadata": {},
   "source": [
    "4. <b>Numbering of Captions and Hyperlink names</b>\n",
    "\n",
    "Plain caption with label\n",
    "\n",
    "```html\n",
    "<figcaption style=\"text-align:center;font-size:14px\"><b>marker:mylabel </b><em>This is a caption</em></figcaption>\n",
    "```\n",
    "\n",
    "Numebered\n",
    "\n",
    "```html\n",
    "<figcaption style=\"text-align:center;font-size:14px\"><b>marker:N </b><em>This is a caption</em></figcaption>\n",
    "```\n",
    "\n",
    "<hr>\n",
    "\n",
    "Plain inline reference with label. \n",
    "\n",
    ">```markdown\n",
    "... some text [mylabel](marker:mylabel) ...more text \n",
    "```\n",
    ">The hyperlink will appear as [mylabel](#), pointing to the object with the label `marker:mylabel`\n",
    "\n",
    "Numbered. \n",
    "\n",
    ">```markdown\n",
    "... some text [marker:N](marker:mylabel) ...more text \n",
    "```\n",
    ">The hyperlink will appear as [marker:N](#), pointing to the object with the same label"
   ]
  },
  {
   "cell_type": "markdown",
   "metadata": {},
   "source": [
    "#### IMPLEMENTATION\n",
    "\n",
    "_EXAMPLE_"
   ]
  },
  {
   "cell_type": "markdown",
   "metadata": {},
   "source": [
    "Fix citations"
   ]
  },
  {
   "cell_type": "code",
   "execution_count": 25,
   "metadata": {
    "ExecuteTime": {
     "end_time": "2019-12-04T19:45:02.886868Z",
     "start_time": "2019-12-04T19:45:02.806950Z"
    }
   },
   "outputs": [
    {
     "name": "stdout",
     "output_type": "stream",
     "text": [
      "New Notebook successfully generated\n"
     ]
    }
   ],
   "source": [
    "nb_infile = 'champsbook/content/06/caldera-1.ipynb'\n",
    "nb_outfile = 'champsbook/content/06/caldera-1_new.ipynb'\n",
    "bib_filename = 'caldera2c'\n",
    "\n",
    "%run scripts/bib_latex2jekyll.py $nb_infile $nb_outfile $bib_filename"
   ]
  },
  {
   "cell_type": "markdown",
   "metadata": {},
   "source": [
    "Fix Labels and References"
   ]
  },
  {
   "cell_type": "code",
   "execution_count": 15,
   "metadata": {},
   "outputs": [
    {
     "name": "stdout",
     "output_type": "stream",
     "text": [
      "Good! There aren't repeated labels in your file\n",
      "New Notebook successfully generated\n"
     ]
    }
   ],
   "source": [
    "nb_infile = 'champsbook/content/06/caldera-1_new.ipynb'\n",
    "nb_outfile = 'champsbook/content/06/caldera-1_new2.ipynb'\n",
    "\n",
    "%run scripts/labels_refs_latex2jekyll.py $nb_infile $nb_outfile"
   ]
  },
  {
   "cell_type": "markdown",
   "metadata": {},
   "source": [
    "Add simple captions"
   ]
  },
  {
   "cell_type": "code",
   "execution_count": 16,
   "metadata": {},
   "outputs": [
    {
     "name": "stdout",
     "output_type": "stream",
     "text": [
      "New Notebook successfully generated\n"
     ]
    }
   ],
   "source": [
    "nb_infile = 'champsbook/content/06/caldera-1_new2.ipynb'\n",
    "nb_outfile = 'champsbook/content/06/caldera-1_new3.ipynb'\n",
    "\n",
    "%run scripts/captions-simple_latex2html.py $nb_infile $nb_outfile"
   ]
  },
  {
   "cell_type": "markdown",
   "metadata": {},
   "source": [
    "Add labelled captions with numbered figures"
   ]
  },
  {
   "cell_type": "code",
   "execution_count": 17,
   "metadata": {},
   "outputs": [
    {
     "name": "stdout",
     "output_type": "stream",
     "text": [
      "Good! There aren't repeated labels in your file\n",
      "Good! There aren't repeated labels in your file\n",
      "New Notebook successfully generated\n"
     ]
    }
   ],
   "source": [
    "nb_infile = 'champsbook/content/06/caldera-1_new2.ipynb'\n",
    "nb_outfile = 'champsbook/content/06/caldera-1_new3.ipynb'\n",
    "\n",
    "%run scripts/captions-labelled_latex2html.py $nb_infile $nb_outfile"
   ]
  },
  {
   "cell_type": "markdown",
   "metadata": {},
   "source": [
    "**OVERALL IMPLEMENTATION**"
   ]
  },
  {
   "cell_type": "markdown",
   "metadata": {},
   "source": [
    "This fixes all the above elements dealt with by previous scripts.\n",
    "We use [Version 2](#script_fix_all) of the script `jupyter_latex2html.py`"
   ]
  },
  {
   "cell_type": "code",
   "execution_count": 2,
   "metadata": {
    "ExecuteTime": {
     "end_time": "2019-12-06T19:23:24.507451Z",
     "start_time": "2019-12-06T19:23:24.484414Z"
    }
   },
   "outputs": [
    {
     "name": "stdout",
     "output_type": "stream",
     "text": [
      "New Notebook successfully generated\n"
     ]
    }
   ],
   "source": [
    "nb_infile = 'champsbook/content/06/caldera-1.ipynb'\n",
    "nb_outfile = 'champsbook/content/06/caldera-1_new.ipynb'\n",
    "bib_filename = 'caldera2c'\n",
    "\n",
    "%run scripts/jupyter_latex2html.py $nb_infile $nb_outfile $bib_filename"
   ]
  },
  {
   "cell_type": "markdown",
   "metadata": {},
   "source": [
    "#### SCRIPT: Citations"
   ]
  },
  {
   "cell_type": "code",
   "execution_count": 33,
   "metadata": {
    "ExecuteTime": {
     "end_time": "2019-12-04T19:58:11.446056Z",
     "start_time": "2019-12-04T19:58:11.436352Z"
    }
   },
   "outputs": [
    {
     "name": "stdout",
     "output_type": "stream",
     "text": [
      "Overwriting scripts/bib_latex2jekyll.py\n"
     ]
    }
   ],
   "source": [
    "%%writefile scripts/bib_latex2jekyll.py\n",
    "\n",
    "def replace_citation_syntax(citations_matched_raw, item):\n",
    "    item_modified = item\n",
    "    for match in citations_matched_raw:\n",
    "        bib_tags_raw = re.split(\",\", match)\n",
    "        bib_tags_clean = [x.strip() for x in bib_tags_raw]\n",
    "        #############################################\n",
    "        # Replace LaTeX syntax with jekyll's in cell items\n",
    "        #############################################\n",
    "        jekyll_syntax_items = [\"{% cite\"]+bib_tags_clean+['--file '+bib_filename]+[\"%}\"]\n",
    "        separator = ' '\n",
    "        chunk_new = separator.join(jekyll_syntax_items)\n",
    "        chunk_original = '\\cite{'+match+'}'\n",
    "        item_modified = item_modified.replace(chunk_original, chunk_new)\n",
    "    return item_modified\n",
    "\n",
    "def replace_bibliography_syntax(bibliography_matched_raw, item):\n",
    "    # Only one single bibliography line exists\n",
    "    bib_tags_raw = re.split(\",\", bibliography_matched_raw[0])\n",
    "    bib_tags_clean = [x.strip() for x in bib_tags_raw]\n",
    "    separator = ' '\n",
    "    jekyll_syntax_items = [\"{% bibliography\"]+[separator.join(['--file', x]) for x in bib_tags_clean]+[\"--cited %}\"]\n",
    "    chunk_new = separator.join(jekyll_syntax_items)\n",
    "    chunk_original = r'\\bibliography{'+bibliography_matched_raw[0]+'}'\n",
    "    item_modified = item.replace(chunk_original, chunk_new)\n",
    "    return item_modified\n",
    "\n",
    "def latex_to_jekyll_bib(nb):\n",
    "    for i in range(len(nb['cells'])):\n",
    "        cell = nb['cells'][i]\n",
    "        for j in range(len(cell['source'])):\n",
    "            item = cell['source'][j]\n",
    "\n",
    "            citations_matched_raw = re.findall(citations_pattern,item)\n",
    "            bibliography_matched_raw = re.findall(bibliography_pattern,item)\n",
    "\n",
    "            if citations_matched_raw:\n",
    "                item_modified = replace_citation_syntax(citations_matched_raw, item)\n",
    "                nb['cells'][i]['source'][j] = item_modified\n",
    "\n",
    "            elif bibliography_matched_raw:\n",
    "                item_modified = replace_bibliography_syntax(bibliography_matched_raw, item)\n",
    "                nb['cells'][i]['source'][j] = item_modified\n",
    "                \n",
    "            else:\n",
    "                pass\n",
    "    #############################################\n",
    "    # Modify cell content with new syntax accordingly\n",
    "    #############################################\n",
    "    return nb\n",
    "    \n",
    "\n",
    "if __name__ == \"__main__\":\n",
    "    import re\n",
    "    import sys\n",
    "    import json\n",
    "    #############################################\n",
    "    # Settings\n",
    "    #############################################\n",
    "    citations_pattern = re.compile(r'\\\\cite\\{(.+?)\\}')\n",
    "    bibliography_pattern = re.compile(r'\\\\bibliography\\{(.+?)\\}')\n",
    "    #############################################\n",
    "    # Script input arguments (self-explanatory)\n",
    "    #############################################\n",
    "    nb_infile = sys.argv[1] \n",
    "    nb_outfile = sys.argv[2]\n",
    "    bib_filename = sys.argv[3]\n",
    "    #############################################\n",
    "    # Load Jupyter Notebook as Dictionary\n",
    "    #############################################\n",
    "    try:\n",
    "        with open(nb_infile,'r') as fp:\n",
    "            nb = json.load(fp)\n",
    "        fp.close()\n",
    "        #############################################\n",
    "        # Turn LaTeX label/ref syntax in Jupyter Noteboks into MD syntax\n",
    "        #############################################\n",
    "        nb_modified = latex_to_jekyll_bib(nb)\n",
    "        \n",
    "        with open(nb_outfile,'w') as fp:\n",
    "            json.dump(nb_modified, fp)\n",
    "            fp.close()\n",
    "            print(\"New Notebook successfully generated\")\n",
    "    except:\n",
    "        print(\"Couldn't find Jupyter Notebook. Check your input path\")"
   ]
  },
  {
   "cell_type": "markdown",
   "metadata": {},
   "source": [
    "#### SCRIPT: Labels and References"
   ]
  },
  {
   "cell_type": "code",
   "execution_count": 144,
   "metadata": {
    "ExecuteTime": {
     "end_time": "2019-12-06T17:19:04.043537Z",
     "start_time": "2019-12-06T17:19:04.035518Z"
    }
   },
   "outputs": [
    {
     "name": "stdout",
     "output_type": "stream",
     "text": [
      "Overwriting scripts/labels_refs_latex2jekyll.py\n"
     ]
    }
   ],
   "source": [
    "%%writefile scripts/labels_refs_latex2jekyll.py\n",
    "\n",
    "def minimal_ordered_set(seq):\n",
    "    seen = set()\n",
    "    seen_add = seen.add\n",
    "    return [x for x in seq if not (x in seen or seen_add(x))]\n",
    "\n",
    "def get_labels_tags_dic(labels_pattern, nb):\n",
    "    COUNTER = 0\n",
    "    labels_tags_all = []\n",
    "    \n",
    "    for i in range(len(nb['cells'])):\n",
    "        cell = nb['cells'][i]\n",
    "        for j in range(len(cell['source'])):\n",
    "            item = cell['source'][j]\n",
    "            labels_matched_raw = re.findall(labels_pattern, item)\n",
    "\n",
    "            if labels_matched_raw:\n",
    "                COUNTER +=1\n",
    "                labels_tags = [s.translate({ord(i): None for i in strings_for_removal}) for s in labels_matched_raw]\n",
    "                labels_tags = list(set(labels_tags))\n",
    "                labels_tags_all += labels_tags\n",
    "    #############################################\n",
    "    # Test for non-repeated labels\n",
    "    #############################################\n",
    "    if COUNTER == len(labels_tags_all):\n",
    "        print(\"Good! There aren't repeated labels in your file\")\n",
    "        labels_tags_dic = {labels_tags_all[n]:str(n+1) for n in range(COUNTER)}\n",
    "        return labels_tags_dic\n",
    "    else:\n",
    "        print(\"There are repeated labels in your file. This will lead to errors\")\n",
    "\n",
    "def replace_ref_syntax(refs_matched_raw, item):\n",
    "    refs_tags = [s.translate({ord(i): None for i in strings_for_removal}) for s in refs_matched_raw]\n",
    "    refs_tags = list(set(refs_tags))\n",
    "    #############################################\n",
    "    # Replace Markdown reference syntax\n",
    "    #############################################\n",
    "    x = refs_tags[0]\n",
    "    chunk_original = r'\\ref{'+marker+':'+x+'}'\n",
    "    x_number = labels_tags_dic[x]\n",
    "    chunk_new = '['+marker+':'+x_number+'](#'+x+')'\n",
    "    item_modified = item.replace(chunk_original, chunk_new)\n",
    "    return item_modified\n",
    "    \n",
    "def replace_label_syntax(labels_matched_raw, item):\n",
    "    labels_tags = [s.translate({ord(i): None for i in strings_for_removal}) for s in labels_matched_raw]\n",
    "    labels_tags = list(set(labels_tags))\n",
    "    #############################################\n",
    "    # Replace Markdown reference syntax\n",
    "    #############################################\n",
    "    x = labels_tags[0]\n",
    "    chunk_original = r'\\label{'+marker+':'+x+'}'\n",
    "    chunk_new = '\\n<a id=\"'+x+'\"></a>'\n",
    "    item_modified = item.replace(chunk_original, chunk_new)\n",
    "    return item_modified\n",
    "\n",
    "def latex_to_jekyll_labels_refs(nb):\n",
    "    #############################################\n",
    "    # Search for LaTeX label/ref commands within cells' content (source)\n",
    "    #############################################\n",
    "    for i in range(len(nb['cells'])):\n",
    "        cell = nb['cells'][i]\n",
    "        for j in range(len(cell['source'])):\n",
    "            item = cell['source'][j]\n",
    "            refs_matched_raw = re.findall(refs_pattern,item)\n",
    "            labels_matched_raw = re.findall(labels_pattern, item)\n",
    "            #############################################\n",
    "            # Modify cell content with new syntax accordingly\n",
    "            #############################################\n",
    "            if refs_matched_raw and not labels_matched_raw:\n",
    "                item_modified = replace_ref_syntax(refs_matched_raw, item)\n",
    "                nb['cells'][i]['source'][j] = item_modified\n",
    "\n",
    "            elif labels_matched_raw and not refs_matched_raw:\n",
    "                item_modified = replace_label_syntax(labels_matched_raw, item)\n",
    "                nb['cells'][i]['source'][j] = item_modified\n",
    "\n",
    "            else:\n",
    "                pass\n",
    "    #############################################\n",
    "    # Modify cell content with new syntax accordingly\n",
    "    #############################################\n",
    "    return nb \n",
    "\n",
    "if __name__ == \"__main__\":\n",
    "    import re\n",
    "    import sys\n",
    "    import json\n",
    "    #############################################\n",
    "    # Settings\n",
    "    #############################################\n",
    "    marker = 'fig'\n",
    "    strings_for_removal = ').,;:'\n",
    "\n",
    "    labels_pattern = re.compile(r'\\\\label\\{'+marker+'(.+?)\\}')\n",
    "    refs_pattern = re.compile(r'\\\\ref\\{'+marker+'(.+?)\\}')\n",
    "    #############################################\n",
    "    # Script input arguments \n",
    "    #############################################\n",
    "    nb_infile = sys.argv[1] \n",
    "    nb_outfile = sys.argv[2]\n",
    "    #############################################\n",
    "    # Load Jupyter Notebook as Dictionary\n",
    "    #############################################\n",
    "    try:\n",
    "        with open(nb_infile,'r') as fp:\n",
    "            nb = json.load(fp)\n",
    "        fp.close()\n",
    "        #############################################\n",
    "        # Turn LaTeX label/ref syntax in Jupyter Noteboks into MD syntax\n",
    "        #############################################\n",
    "        labels_tags_dic = get_labels_tags_dic(labels_pattern, nb)\n",
    "        nb_modified = latex_to_jekyll_labels_refs(nb)\n",
    "        \n",
    "        with open(nb_outfile,'w') as fp:\n",
    "            json.dump(nb_modified, fp)\n",
    "        fp.close()\n",
    "        print(\"New Notebook successfully generated\")\n",
    "    except:\n",
    "        print(\"Couldn't find Jupyter Notebook. Check your input path\")"
   ]
  },
  {
   "cell_type": "markdown",
   "metadata": {},
   "source": [
    "#### SCRIPT: Simple Captions "
   ]
  },
  {
   "cell_type": "code",
   "execution_count": 31,
   "metadata": {
    "ExecuteTime": {
     "end_time": "2019-12-04T19:57:55.742823Z",
     "start_time": "2019-12-04T19:57:55.733296Z"
    }
   },
   "outputs": [
    {
     "name": "stdout",
     "output_type": "stream",
     "text": [
      "Overwriting scripts/captions-simple_latex2html.py\n"
     ]
    }
   ],
   "source": [
    "%%writefile scripts/captions-simple_latex2html.py\n",
    "\n",
    "def replace_caption_syntax(captions_matched_raw, item):\n",
    "    caption = captions_matched_raw[0]\n",
    "    html_syntax_items = (\n",
    "        '<figcaption style=\"text-align:center;font-size:14px\">',\n",
    "        '<em>',\n",
    "        caption,\n",
    "        '</em>',\n",
    "        '</figcaption>'\n",
    "    )\n",
    "    chunk_new = ''.join(html_syntax_items)\n",
    "    chunk_original = r'\\caption{'+caption+'}'\n",
    "    item_modified = item.replace(chunk_original, chunk_new)\n",
    "    return item_modified\n",
    "\n",
    "def latex_to_html_captions(nb):\n",
    "    for i in range(len(nb['cells'])):\n",
    "        cell = nb['cells'][i]\n",
    "        for j in range(len(cell['source'])):\n",
    "            item = cell['source'][j]\n",
    "\n",
    "            captions_matched_raw = re.findall(captions_pattern,item)\n",
    "            if captions_matched_raw:\n",
    "                item_modified = replace_caption_syntax(captions_matched_raw, item)\n",
    "                nb['cells'][i]['source'][j] = item_modified\n",
    "\n",
    "    #############################################\n",
    "    # Modify cell content with new syntax accordingly\n",
    "    #############################################\n",
    "    return nb\n",
    "    \n",
    "\n",
    "if __name__ == \"__main__\":\n",
    "    import re\n",
    "    import sys\n",
    "    import json\n",
    "    #############################################\n",
    "    # Settings\n",
    "    #############################################\n",
    "    captions_pattern = re.compile(r'\\\\caption\\{(.+?)\\}$')\n",
    "    #############################################\n",
    "    # Script input arguments (self-explanatory)\n",
    "    #############################################\n",
    "    nb_infile = sys.argv[1]\n",
    "    nb_outfile = sys.argv[2]\n",
    "    #############################################\n",
    "    # Load Jupyter Notebook as Dictionary\n",
    "    #############################################\n",
    "    try:\n",
    "        with open(nb_infile,'r') as fp:\n",
    "            nb = json.load(fp)\n",
    "        fp.close()\n",
    "        #############################################\n",
    "        # Turn LaTeX label/ref syntax in Jupyter Noteboks into MD syntax\n",
    "        #############################################\n",
    "        nb_modified = latex_to_html_captions(nb)\n",
    "        \n",
    "        with open(nb_outfile,'w') as fp:\n",
    "            json.dump(nb_modified, fp)\n",
    "        fp.close()\n",
    "        print(\"New Notebook successfully generated\")\n",
    "    except:\n",
    "        print(\"Couldn't find Jupyter Notebook. Check your input path\")"
   ]
  },
  {
   "cell_type": "markdown",
   "metadata": {},
   "source": [
    "#### SCRIPT: Numebered Captions"
   ]
  },
  {
   "cell_type": "code",
   "execution_count": 22,
   "metadata": {
    "ExecuteTime": {
     "end_time": "2019-12-05T09:56:04.440284Z",
     "start_time": "2019-12-05T09:56:04.428601Z"
    }
   },
   "outputs": [
    {
     "name": "stdout",
     "output_type": "stream",
     "text": [
      "Overwriting scripts/captions-labelled_latex2html.py\n"
     ]
    }
   ],
   "source": [
    "%%writefile scripts/captions-labelled_latex2html.py\n",
    "def minimal_ordered_set(seq):\n",
    "    seen = set()\n",
    "    seen_add = seen.add\n",
    "    return [x for x in seq if not (x in seen or seen_add(x))]\n",
    "\n",
    "def get_labels_tags_dic(labels_pattern, nb):\n",
    "    COUNTER = 0\n",
    "    labels_tags_all = []\n",
    "    \n",
    "    for i in range(len(nb['cells'])):\n",
    "        cell = nb['cells'][i]\n",
    "        for j in range(len(cell['source'])):\n",
    "            item = cell['source'][j]\n",
    "            labels_matched_raw = re.findall(labels_pattern, item)\n",
    "\n",
    "            if labels_matched_raw:\n",
    "                COUNTER +=1\n",
    "                labels_tags = [s.translate({ord(i): None for i in strings_for_removal}) for s in labels_matched_raw]\n",
    "                labels_tags = list(set(labels_tags))\n",
    "                labels_tags_all += labels_tags\n",
    "    #############################################\n",
    "    # Test for non-repeated labels\n",
    "    #############################################\n",
    "    if COUNTER == len(labels_tags_all):\n",
    "        print(\"Good! There aren't repeated labels in your file\")\n",
    "        labels_tags_dic = {labels_tags_all[n]:str(n+1) for n in range(COUNTER)}\n",
    "        return labels_tags_dic\n",
    "    else:\n",
    "        print(\"There are repeated labels in your file. This will lead to errors\")\n",
    "\n",
    "def replace_caption_syntax(captions_matched_raw, cell_number, item):\n",
    "    caption = captions_matched_raw[0]\n",
    "    cell_content = nb['cells'][cell_number]['source']\n",
    "    labels_matched_raw = [x for x in cell_content if re.search(labels_pattern_html, x)]\n",
    "    #############################################\n",
    "    # Here the label pattern can be modified either as LaTeX or HTML\n",
    "    #############################################\n",
    "    labels_tags_dic = get_labels_tags_dic(labels_pattern_html, nb)\n",
    "    label = re.findall(labels_pattern_html, labels_matched_raw[0])\n",
    "    #############################################\n",
    "    html_syntax_items = (\n",
    "        '<figcaption style=\"text-align:center;font-size:14px\">',\n",
    "        '<b>',\n",
    "        marker+':'+labels_tags_dic[label[0]]+' ',\n",
    "        '</b>',\n",
    "        '<em>'+' ',\n",
    "        caption,\n",
    "        '</em>',\n",
    "        '</figcaption>'\n",
    "    )\n",
    "    chunk_new = ''.join(html_syntax_items)\n",
    "    chunk_original = r'\\caption{'+caption+'}'\n",
    "    item_modified = item.replace(chunk_original, chunk_new)\n",
    "    return item_modified\n",
    "\n",
    "def latex_to_html_captions(nb):\n",
    "    for i in range(len(nb['cells'])):\n",
    "        cell = nb['cells'][i]\n",
    "        for j in range(len(cell['source'])):\n",
    "            item = cell['source'][j]\n",
    "\n",
    "            captions_matched_raw = re.findall(captions_pattern,item)\n",
    "            if captions_matched_raw:\n",
    "                cell_number = i\n",
    "                item_modified = replace_caption_syntax(captions_matched_raw, cell_number, item)\n",
    "                nb['cells'][i]['source'][j] = item_modified\n",
    "\n",
    "    #############################################\n",
    "    # Modify cell content with new syntax accordingly\n",
    "    #############################################\n",
    "    return nb\n",
    "\n",
    "if __name__ == \"__main__\":\n",
    "    import re\n",
    "    import sys\n",
    "    import json\n",
    "    #############################################\n",
    "    # Settings\n",
    "    #############################################\n",
    "    marker = 'fig'\n",
    "    strings_for_removal = ').,;:'\n",
    "#     labels_pattern_latex = re.compile(r'\\\\label\\{'+marker+'(.+?)\\}')\n",
    "    labels_pattern_html = re.compile(r'<a id=(.+?)></a>')\n",
    "    captions_pattern = re.compile(r'\\\\caption\\{(.+?)\\}$')\n",
    "    #############################################\n",
    "    # Script input arguments (self-explanatory)\n",
    "    #############################################\n",
    "    nb_infile = sys.argv[1]\n",
    "    nb_outfile = sys.argv[2]\n",
    "    #############################################\n",
    "    # Load Jupyter Notebook as Dictionary\n",
    "    #############################################\n",
    "    try:\n",
    "        with open(nb_infile,'r') as fp:\n",
    "            nb = json.load(fp)\n",
    "        fp.close()\n",
    "        #############################################\n",
    "        # Turn LaTeX label/ref syntax in Jupyter Noteboks into MD syntax\n",
    "        #############################################\n",
    "        nb_modified = latex_to_html_captions(nb)\n",
    "        \n",
    "        with open(nb_outfile,'w') as fp:\n",
    "            json.dump(nb_modified, fp)\n",
    "        fp.close()\n",
    "        print(\"New Notebook successfully generated\")\n",
    "    except:\n",
    "        print(\"Couldn't find Jupyter Notebook. Check your input path\")"
   ]
  },
  {
   "cell_type": "markdown",
   "metadata": {},
   "source": [
    "#### SCRIPT: All fixes (Version 1)"
   ]
  },
  {
   "cell_type": "markdown",
   "metadata": {},
   "source": [
    "<b>VERSION 1</b>"
   ]
  },
  {
   "cell_type": "markdown",
   "metadata": {},
   "source": [
    "Limitations:\n",
    "\n",
    "Cannot handle labels for other elements than figures"
   ]
  },
  {
   "cell_type": "code",
   "execution_count": 104,
   "metadata": {
    "ExecuteTime": {
     "end_time": "2019-12-07T12:46:07.762092Z",
     "start_time": "2019-12-07T12:46:07.747792Z"
    }
   },
   "outputs": [
    {
     "name": "stdout",
     "output_type": "stream",
     "text": [
      "Overwriting scripts/jupyter_latex2html.py\n"
     ]
    }
   ],
   "source": [
    "%%writefile scripts/jupyter_latex2html.py\n",
    "MARKERS_latex = ['ch','sec','subsec','fig','tab']\n",
    "out = []\n",
    "\n",
    "def get_label_elements(label):\n",
    "    try:\n",
    "        marker, label_name = [x.strip() for x in label.split(':')]\n",
    "        return marker, label_name\n",
    "    except:\n",
    "        return 'None'\n",
    "\n",
    "def get_labels_tags_dic(nb, labels_pattern_latex, MARKERS_latex = MARKERS_latex):\n",
    "    \"\"\"Generate a dictionary of all LaTeX defined labels in Jupyter Notebook\"\"\"\n",
    "    dic = {}\n",
    "    for marker in MARKERS_latex:\n",
    "        dic[marker] = {}\n",
    "        COUNTER = 0\n",
    "        #############################################\n",
    "        # Search for LaTeX label/captions/reference commands within cells' content (source)\n",
    "        #############################################\n",
    "        for i in range(len(nb['cells'])):\n",
    "            cell = nb['cells'][i]\n",
    "            for j in range(len(cell['source'])):\n",
    "                item = cell['source'][j]\n",
    "                #############################################\n",
    "                # Look for defined label in cell content\n",
    "                #############################################\n",
    "                labels_matched_raw = re.findall(labels_pattern_latex, item)\n",
    "                if labels_matched_raw:\n",
    "                    #############################################\n",
    "                    # Add label names/numbers to dictionary according to marker\n",
    "                    #############################################\n",
    "                    label = labels_matched_raw[0]\n",
    "                    if get_label_elements(label) != 'None':\n",
    "                        if  get_label_elements(label)[0] == marker:\n",
    "                            COUNTER += 1\n",
    "                            label_name = get_label_elements(label)[1]\n",
    "                            dic[marker][label_name] = str(COUNTER)\n",
    "    return dic\n",
    "\n",
    "##########################################################################################\n",
    "def find_replace_citations_in_cell(cell, citations_pattern_latex):\n",
    "    for j in range(len(cell['source'])):\n",
    "        item = cell['source'][j]\n",
    "        citations_matched_raw = re.findall(citations_pattern_latex, item)\n",
    "        bibliography_matched_raw = re.findall(bibliography_pattern_latex,item)\n",
    "        \n",
    "        if citations_matched_raw:\n",
    "            item_modified = replace_citation_syntax(citations_matched_raw, item)\n",
    "            cell['source'][j] = item_modified\n",
    "            \n",
    "        elif bibliography_matched_raw:\n",
    "            item_modified = replace_bibliography_syntax(bibliography_matched_raw, item)\n",
    "            cell['source'][j] = item_modified\n",
    "    return cell\n",
    "\n",
    "def replace_citation_syntax(citations_matched_raw, item):\n",
    "    item_modified = item\n",
    "    for match in citations_matched_raw:\n",
    "        bib_tags_raw = re.split(\",\", match)\n",
    "        bib_tags_clean = [x.strip() for x in bib_tags_raw]\n",
    "        #############################################\n",
    "        # Replace LaTeX syntax with jekyll's in cell items\n",
    "        #############################################\n",
    "        jekyll_syntax_items = [\"{% cite\"]+bib_tags_clean+['--file '+bib_filename]+[\"%}\"]\n",
    "        separator = ' '\n",
    "        chunk_new = separator.join(jekyll_syntax_items)\n",
    "        chunk_original = '\\cite{'+match+'}'\n",
    "        item_modified = item_modified.replace(chunk_original, chunk_new)\n",
    "    return item_modified\n",
    "\n",
    "def replace_bibliography_syntax(bibliography_matched_raw, item):\n",
    "    # Only one single bibliography line exists\n",
    "    bib_tags_raw = re.split(\",\", bibliography_matched_raw[0])\n",
    "    bib_tags_clean = [x.strip() for x in bib_tags_raw]\n",
    "    separator = ' '\n",
    "    jekyll_syntax_items = [\"{% bibliography\"]+[separator.join(['--file', x]) for x in bib_tags_clean]+[\"--cited %}\"]\n",
    "    chunk_new = separator.join(jekyll_syntax_items)\n",
    "    chunk_original = r'\\bibliography{'+bibliography_matched_raw[0]+'}'\n",
    "    item_modified = item.replace(chunk_original, chunk_new)\n",
    "    return item_modified\n",
    "\n",
    "##########################################################################################\n",
    "def find_replace_refs_in_cell(cell, refs_pattern_latex):\n",
    "    for j in range(len(cell['source'])):\n",
    "        item = cell['source'][j]\n",
    "        refs_matched_raw = re.findall(refs_pattern_latex, item)\n",
    "        if refs_matched_raw:\n",
    "            item_modified = replace_ref_syntax(refs_matched_raw, item)\n",
    "            cell['source'][j]  = item_modified\n",
    "    return cell\n",
    "\n",
    "def replace_ref_syntax(refs_matched_raw, item):\n",
    "    item_modified = item\n",
    "    for label in refs_matched_raw:\n",
    "        if get_label_elements(label) != 'None':\n",
    "            chunk_original = r'\\ref{'+label+'}'\n",
    "            marker, label_name = get_label_elements(label)\n",
    "            label_number = labels_tags_dic[marker][label_name]\n",
    "            chunk_new = '['+marker+':'+label_number+'](#'+label+')'\n",
    "            item_modified = item.replace(chunk_original, chunk_new)\n",
    "            item = item_modified\n",
    "        else:\n",
    "            pass\n",
    "    return item\n",
    "\n",
    "##########################################################################################\n",
    "\n",
    "def find_labels_captions_in_cell(cell, labels_pattern_latex, captions_pattern_latex):\n",
    "    \"\"\"Find raw LaTeX labels/captions defined in cell. This assumes a single pair is only present.\"\"\"\n",
    "    dic = {}\n",
    "    for j in range(len(cell['source'])):\n",
    "        item = cell['source'][j]\n",
    "        labels_matched_raw = re.findall(labels_pattern_latex, item)\n",
    "        captions_matched_raw = re.findall(captions_pattern_latex, item)\n",
    "        if labels_matched_raw:\n",
    "            dic['label'] = labels_matched_raw[0]\n",
    "        elif captions_matched_raw:\n",
    "            dic['caption'] = captions_matched_raw[0]\n",
    "    return dic\n",
    " \n",
    "##########################################################################################   \n",
    "    \n",
    "def replace_labels_captions_in_cell(cell, labels_pattern_latex, captions_pattern_latex):\n",
    "    dic = find_labels_captions_in_cell(cell, labels_pattern_latex, captions_pattern_latex)\n",
    "    for j in range(len(cell['source'])):\n",
    "        item = cell['source'][j]\n",
    "        labels_matched_raw = re.findall(labels_pattern_latex, item)\n",
    "        captions_matched_raw = re.findall(captions_pattern_latex, item)\n",
    "        \n",
    "        if labels_matched_raw:\n",
    "            item_modified = replace_label_syntax(item, dic)\n",
    "            cell['source'][j] = item_modified\n",
    "            \n",
    "        elif captions_matched_raw:\n",
    "            item_modified = replace_caption_syntax(item, dic)\n",
    "            cell['source'][j] = item_modified\n",
    "        else:\n",
    "            item_modified = item\n",
    "    return cell\n",
    "\n",
    "def replace_label_syntax(item, dic):\n",
    "    label_original = dic['label']\n",
    "    try: \n",
    "        marker, label_name = get_label_elements(label_original)\n",
    "        chunk_new = '\\n<a id=\"'+label_original+'\"></a>'\n",
    "        item_modified = re.sub(labels_pattern_latex, chunk_new, item)\n",
    "        return item_modified\n",
    "    except:\n",
    "        return item\n",
    "\n",
    "def replace_caption_syntax(item, dic):\n",
    "    caption = dic['caption']\n",
    "    label_original = dic['label']\n",
    "    marker, label_name = get_label_elements(label_original)\n",
    "    label_number = labels_tags_dic[marker][label_name]\n",
    "    #############################################\n",
    "    html_syntax_items = (\n",
    "        '<figcaption style=\"text-align:center;font-size:14px\">',\n",
    "        '<b>',\n",
    "        marker+':'+label_number+' ',\n",
    "        '</b>',\n",
    "        '<em>'+' ',\n",
    "        caption,\n",
    "        '</em>',\n",
    "        '</figcaption>'\n",
    "    )\n",
    "    chunk_new = ''.join(html_syntax_items)\n",
    "    chunk_original = r'\\caption{'+caption+'}'\n",
    "    item_modified = item.replace(chunk_original, chunk_new)\n",
    "    return item_modified\n",
    "##########################################################################################\n",
    "\n",
    "def latex_to_html_in_jupyter(nb):\n",
    "    for i in range(len(nb['cells'])):\n",
    "        cell = nb['cells'][i]\n",
    "        cell_modified = find_replace_citations_in_cell(cell, citations_pattern_latex)\n",
    "        cell_modified = find_replace_refs_in_cell(cell_modified, refs_pattern_latex)\n",
    "        cell_modified = replace_labels_captions_in_cell(cell, labels_pattern_latex, captions_pattern_latex)\n",
    "        nb['cells'][i] = cell_modified\n",
    "    return nb\n",
    "\n",
    "##########################################################################################\n",
    "if __name__ == \"__main__\":\n",
    "    import re\n",
    "    import sys\n",
    "    import json\n",
    "    #############################################\n",
    "    # Settings\n",
    "    #############################################\n",
    "    citations_pattern_latex = re.compile(r'\\\\cite\\{(.+?)\\}')\n",
    "    bibliography_pattern_latex = re.compile(r'\\\\bibliography\\{(.+?)\\}')\n",
    "    refs_pattern_latex = re.compile(r'\\\\ref\\{(.+?)\\}')\n",
    "    labels_pattern_latex = re.compile(r'\\\\label\\{(.+?)\\}$')\n",
    "    captions_pattern_latex = re.compile(r'\\\\caption\\{(.+?)\\}$')\n",
    "    #############################################\n",
    "    # Script input arguments (self-explanatory)\n",
    "    #############################################\n",
    "    nb_infile = sys.argv[1]\n",
    "    nb_outfile = sys.argv[2]\n",
    "    bib_filename = sys.argv[3]\n",
    "    #############################################\n",
    "    # Load Jupyter Notebook as Dictionary\n",
    "    #############################################\n",
    "    try:\n",
    "        with open(nb_infile,'r') as fp:\n",
    "            nb = json.load(fp)\n",
    "        fp.close()\n",
    "        #############################################\n",
    "        # Turn LaTeX label/ref syntax in Jupyter Noteboks into MD syntax\n",
    "        #############################################\n",
    "        labels_tags_dic = get_labels_tags_dic(nb, labels_pattern_latex)\n",
    "        nb_modified =  latex_to_html_in_jupyter(nb)\n",
    "        \n",
    "        with open(nb_outfile,'w') as fp:\n",
    "            json.dump(nb_modified, fp)\n",
    "        fp.close()\n",
    "        print(\"New Notebook successfully generated\")\n",
    "    except:\n",
    "        print(\"Couldn't find Jupyter Notebook. Check your input path\")"
   ]
  },
  {
   "cell_type": "markdown",
   "metadata": {},
   "source": [
    "<a id=\"script_fix_all\"></a>\n",
    "#### SCRIPT: All fixed (Version 2)"
   ]
  },
  {
   "cell_type": "code",
   "execution_count": 22,
   "metadata": {
    "ExecuteTime": {
     "end_time": "2019-12-08T10:08:21.437356Z",
     "start_time": "2019-12-08T10:08:21.408519Z"
    }
   },
   "outputs": [
    {
     "name": "stdout",
     "output_type": "stream",
     "text": [
      "Overwriting scripts/jupyter_latex2html.py\n"
     ]
    }
   ],
   "source": [
    "%%writefile scripts/jupyter_latex2html.py\n",
    "#!/usr/bin/env python\n",
    "\n",
    "#############################################\n",
    "# List of valid label markers for HTML syntax conversion\n",
    "#############################################\n",
    "MARKERS_latex = ['ch','sec','subsec','fig','tab']\n",
    "out = []\n",
    "\n",
    "def get_label_elements(label):\n",
    "    try:\n",
    "        marker, label_name = [x.strip() for x in label.split(':')]\n",
    "        return marker, label_name\n",
    "    except:\n",
    "        return 'None'\n",
    "\n",
    "def get_labels_tags_dic(nb, labels_pattern_latex, MARKERS_latex = MARKERS_latex):\n",
    "    \"\"\"Generate a dictionary of all LaTeX defined labels in Jupyter Notebook\"\"\"\n",
    "    dic = {}\n",
    "    for marker in MARKERS_latex:\n",
    "        dic[marker] = {}\n",
    "        COUNTER = 0\n",
    "        #############################################\n",
    "        # Search for LaTeX label/captions/reference commands within cells' content (source)\n",
    "        #############################################\n",
    "        for i in range(len(nb['cells'])):\n",
    "            cell = nb['cells'][i]\n",
    "            for j in range(len(cell['source'])):\n",
    "                item = cell['source'][j]\n",
    "                #############################################\n",
    "                # Look for defined label in cell content\n",
    "                #############################################\n",
    "                labels_matched_raw = re.findall(labels_pattern_latex, item)\n",
    "                if labels_matched_raw:\n",
    "                    #############################################\n",
    "                    # Add label names/numbers to dictionary according to marker\n",
    "                    #############################################\n",
    "                    label = labels_matched_raw[0]\n",
    "                    if get_label_elements(label) != 'None':\n",
    "                        if  get_label_elements(label)[0] == marker:\n",
    "                            COUNTER += 1\n",
    "                            label_name = get_label_elements(label)[1]\n",
    "                            dic[marker][label_name] = str(COUNTER)\n",
    "    return dic\n",
    "\n",
    "##########################################################################################\n",
    "def find_replace_citations_in_cell(cell, citations_pattern_latex):\n",
    "    for j in range(len(cell['source'])):\n",
    "        item = cell['source'][j]\n",
    "        citations_matched_raw = re.findall(citations_pattern_latex, item)\n",
    "        bibliography_matched_raw = re.findall(bibliography_pattern_latex,item)\n",
    "        \n",
    "        if citations_matched_raw:\n",
    "            item_modified = replace_citation_syntax(citations_matched_raw, item)\n",
    "            cell['source'][j] = item_modified\n",
    "            \n",
    "        elif bibliography_matched_raw:\n",
    "            item_modified = replace_bibliography_syntax(bibliography_matched_raw, item)\n",
    "            cell['source'][j] = item_modified\n",
    "    return cell\n",
    "\n",
    "def replace_citation_syntax(citations_matched_raw, item):\n",
    "    item_modified = item\n",
    "    for match in citations_matched_raw:\n",
    "        bib_tags_raw = re.split(\",\", match)\n",
    "        bib_tags_clean = [x.strip() for x in bib_tags_raw]\n",
    "        #############################################\n",
    "        # Replace LaTeX syntax with jekyll's in cell items\n",
    "        #############################################\n",
    "        jekyll_syntax_items = [\"{% cite\"]+bib_tags_clean+['--file '+bib_filename]+[\"%}\"]\n",
    "        separator = ' '\n",
    "        chunk_new = separator.join(jekyll_syntax_items)\n",
    "        chunk_original = '\\cite{'+match+'}'\n",
    "        item_modified = item_modified.replace(chunk_original, chunk_new)\n",
    "    return item_modified\n",
    "\n",
    "def replace_bibliography_syntax(bibliography_matched_raw, item):\n",
    "    # Only one single bibliography line exists\n",
    "    bib_tags_raw = re.split(\",\", bibliography_matched_raw[0])\n",
    "    bib_tags_clean = [x.strip() for x in bib_tags_raw]\n",
    "    separator = ' '\n",
    "    jekyll_syntax_items = [\"{% bibliography\"]+[separator.join(['--file', x]) for x in bib_tags_clean]+[\"--cited %}\"]\n",
    "    chunk_new = separator.join(jekyll_syntax_items)\n",
    "    chunk_original = r'\\bibliography{'+bibliography_matched_raw[0]+'}'\n",
    "    item_modified = item.replace(chunk_original, chunk_new)\n",
    "    return item_modified\n",
    "\n",
    "##########################################################################################\n",
    "def find_replace_refs_in_cell(cell, refs_pattern_latex):\n",
    "    for j in range(len(cell['source'])):\n",
    "        item = cell['source'][j]\n",
    "        refs_matched_raw = re.findall(refs_pattern_latex, item)\n",
    "        if refs_matched_raw:\n",
    "            item_modified = replace_ref_syntax(refs_matched_raw, item)\n",
    "            cell['source'][j]  = item_modified\n",
    "    return cell\n",
    "\n",
    "def replace_ref_syntax(refs_matched_raw, item):\n",
    "    item_modified = item\n",
    "    for label in refs_matched_raw:\n",
    "        if get_label_elements(label) != 'None':\n",
    "            chunk_original = r'\\ref{'+label+'}'\n",
    "            marker, label_name = get_label_elements(label)\n",
    "            label_number = labels_tags_dic[marker][label_name]\n",
    "            chunk_new = '['+marker+':'+label_number+'](#'+label+')'\n",
    "            item_modified = item.replace(chunk_original, chunk_new)\n",
    "            item = item_modified\n",
    "        else:\n",
    "            pass\n",
    "    return item\n",
    "\n",
    "##########################################################################################\n",
    "# VERSION 2\n",
    "def find_labels_captions_in_cell(cell, labels_pattern_latex, captions_pattern_latex):\n",
    "    \"\"\"Find raw LaTeX labels/captions defined in cell. This assumes a single pair is only present.\"\"\"\n",
    "    dic = {}\n",
    "    dic['label'] = []\n",
    "    dic['caption'] = []\n",
    "    for j in range(len(cell['source'])):\n",
    "        item = cell['source'][j]\n",
    "        labels_matched_raw = re.findall(labels_pattern_latex, item)\n",
    "        captions_matched_raw = re.findall(captions_pattern_latex, item)\n",
    "        if labels_matched_raw:\n",
    "            dic['label'].append(labels_matched_raw[0])\n",
    "        elif captions_matched_raw:\n",
    "            dic['caption'].append(captions_matched_raw[0])\n",
    "    return dic\n",
    "\n",
    "##########################################################################################   \n",
    "\n",
    "def replace_labels_captions_in_cell(cell, labels_pattern_latex, captions_pattern_latex):\n",
    "    dic = find_labels_captions_in_cell(cell, labels_pattern_latex, captions_pattern_latex)\n",
    "    n_labels = len(dic['label']); n_captions = len(dic['caption'])\n",
    "    \n",
    "    if n_captions == 0:\n",
    "        for j in range(len(cell['source'])):\n",
    "            item = cell['source'][j]\n",
    "            labels_matched_raw = re.findall(labels_pattern_latex, item)\n",
    "            if labels_matched_raw:\n",
    "                item_modified = replace_label_syntax(labels_matched_raw, item)\n",
    "                cell['source'][j] = item_modified\n",
    "            else:\n",
    "                item_modified = item\n",
    "                cell['source'][j] = item_modified\n",
    "        return cell\n",
    "    \n",
    "    elif n_captions > 0:\n",
    "        for j in range(len(cell['source'])):\n",
    "            item = cell['source'][j]\n",
    "            labels_matched_raw = re.findall(labels_pattern_latex, item)\n",
    "            captions_matched_raw = re.findall(captions_pattern_latex, item)\n",
    "\n",
    "            if labels_matched_raw:\n",
    "                item_modified = replace_label_syntax(labels_matched_raw, item)\n",
    "                cell['source'][j] = item_modified\n",
    "\n",
    "            elif captions_matched_raw:\n",
    "                item_modified = replace_caption_syntax(item, dic)\n",
    "                cell['source'][j] = item_modified\n",
    "            else:\n",
    "                item_modified = item\n",
    "        return cell\n",
    "\n",
    "def replace_label_syntax(labels_matched_raw, item):\n",
    "    label_original = labels_matched_raw[0]\n",
    "    try:\n",
    "        marker, label_name = get_label_elements(label_original)\n",
    "        #############################################\n",
    "        # Replace syntax only for labels with specific markers\n",
    "        #\n",
    "        # This will skip any label without a marker\n",
    "        # And those not defined in the list MARKERS_latex (e.g., eq)\n",
    "        #############################################\n",
    "        if marker in MARKERS_latex:\n",
    "            chunk_new = '\\n<a id=\"'+label_original+'\"></a>'\n",
    "            item_modified = re.sub(labels_pattern_latex, chunk_new, item)\n",
    "            return item_modified\n",
    "        else:\n",
    "            return item\n",
    "    except:\n",
    "        return item\n",
    "    \n",
    "def replace_caption_syntax(item, dic):\n",
    "    if len(dic['caption']) == 1:\n",
    "        caption = dic['caption'][0]\n",
    "        label_original = dic['label'][0]\n",
    "        marker, label_name = get_label_elements(label_original)\n",
    "        label_number = labels_tags_dic[marker][label_name]\n",
    "        #############################################\n",
    "        html_syntax_items = (\n",
    "            '<figcaption style=\"text-align:center;font-size:14px\">',\n",
    "            '<b>',\n",
    "            marker+':'+label_number+' ',\n",
    "            '</b>',\n",
    "            '<em>'+' ',\n",
    "            caption,\n",
    "            '</em>',\n",
    "            '</figcaption>',\n",
    "            '<hr>'\n",
    "        )\n",
    "        chunk_new = ''.join(html_syntax_items)\n",
    "        chunk_original = r'\\caption{'+caption+'}'\n",
    "        item_modified = item.replace(chunk_original, chunk_new)\n",
    "        return item_modified\n",
    "    else:\n",
    "        print(\"More than one caption was found. Keep a single label/caption pair per cell.\")\n",
    "\n",
    "##########################################################################################\n",
    "\n",
    "def latex_to_html_in_jupyter(nb):\n",
    "    for i in range(len(nb['cells'])):\n",
    "        cell = nb['cells'][i]\n",
    "        cell_modified = find_replace_citations_in_cell(cell, citations_pattern_latex)\n",
    "        cell_modified = find_replace_refs_in_cell(cell_modified, refs_pattern_latex)\n",
    "        cell_modified = replace_labels_captions_in_cell(cell, labels_pattern_latex, captions_pattern_latex)\n",
    "        nb['cells'][i] = cell_modified\n",
    "    return nb\n",
    "\n",
    "##########################################################################################\n",
    "if __name__ == \"__main__\":\n",
    "    import re\n",
    "    import sys\n",
    "    import json\n",
    "    #############################################\n",
    "    # Settings\n",
    "    #############################################\n",
    "    citations_pattern_latex = re.compile(r'\\\\cite\\{(.+?)\\}')\n",
    "    bibliography_pattern_latex = re.compile(r'\\\\bibliography\\{(.+?)\\}')\n",
    "    refs_pattern_latex = re.compile(r'\\\\ref\\{(.+?)\\}')\n",
    "    labels_pattern_latex = re.compile(r'\\\\label\\{(.+?)\\}$')\n",
    "    captions_pattern_latex = re.compile(r'\\\\caption\\{(.+?)\\}$')\n",
    "    #############################################\n",
    "    # Script input arguments (self-explanatory)\n",
    "    #############################################\n",
    "    nb_infile = sys.argv[1]\n",
    "    nb_outfile = sys.argv[2]\n",
    "    bib_filename = sys.argv[3]\n",
    "    #############################################\n",
    "    # Load Jupyter Notebook as Dictionary\n",
    "    #############################################\n",
    "    try:\n",
    "        with open(nb_infile,'r') as fp:\n",
    "            nb = json.load(fp)\n",
    "        fp.close()\n",
    "        \n",
    "        #############################################\n",
    "        # Turn LaTeX label/ref syntax in Jupyter Noteboks into MD syntax\n",
    "        #############################################\n",
    "        labels_tags_dic = get_labels_tags_dic(nb, labels_pattern_latex)\n",
    "        nb_modified =  latex_to_html_in_jupyter(nb)\n",
    "        \n",
    "        with open(nb_outfile,'w') as fp:\n",
    "            json.dump(nb_modified, fp)\n",
    "        fp.close()\n",
    "        \n",
    "        print(\"New Notebook successfully generated\")\n",
    "    except:\n",
    "        print(\"Couldn't find Jupyter Notebook. Check your input path\")"
   ]
  },
  {
   "cell_type": "markdown",
   "metadata": {},
   "source": [
    "_POTENTIAL IMPROVEMENTS_\n",
    "\n",
    "* Convert \\section and \\subsection LaTeX elements into Markdown automatically\n",
    "* One label and caption per cell, alongisde the object to reference (for tables and figure)\n",
    "* Find a way to split content into individual cells so that unique identification of label/caption pairs in cells can be done\n",
    "* __Modify code to accept special characters in Latex__ "
   ]
  },
  {
   "cell_type": "markdown",
   "metadata": {},
   "source": [
    "## <span style='color:red'>Converting Image Formats</span> "
   ]
  },
  {
   "cell_type": "markdown",
   "metadata": {},
   "source": [
    "Embedding of PDF images in Jupyter and HTML is not supported.\n",
    "\n",
    "So, this require either to convert the image to a differnt format (`jpg`, `.png`) or to encode the PDF image as an econded string chain (`Base64`)"
   ]
  },
  {
   "cell_type": "markdown",
   "metadata": {},
   "source": [
    "There are multiple options available to acchieve the first this task. While for the other, "
   ]
  },
  {
   "cell_type": "markdown",
   "metadata": {},
   "source": [
    "<span style='color:red'><b>TO-DO</b></span>\n"
   ]
  },
  {
   "cell_type": "code",
   "execution_count": 25,
   "metadata": {},
   "outputs": [
    {
     "name": "stdout",
     "output_type": "stream",
     "text": [
      "Draft.md                Draft_new2.md           SB_model.png\r\n",
      "Draft.pdf               LDT1m1_R1P1.png         TransitT.png\r\n",
      "Draft_captions-html.md  PES.png                 \u001b[1m\u001b[34mimages\u001b[m\u001b[m/\r\n",
      "Draft_new.md            PODS_DSshape.png        untitled.md\r\n"
     ]
    }
   ],
   "source": [
    "ls champsbook/content/03/"
   ]
  },
  {
   "cell_type": "code",
   "execution_count": 16,
   "metadata": {},
   "outputs": [
    {
     "name": "stderr",
     "output_type": "stream",
     "text": [
      "convert: unable to open image 'champsbook/content/01/2': No such file or directory @ error/blob.c/OpenBlob/3485.\n",
      "convert: no decode delegate for this image format `' @ error/constitute.c/ReadImage/556.\n",
      "convert: no images defined `champsbook/content/01/2jpg' @ error/convert.c/ConvertImageCommand/3300.\n",
      "convert: unable to open image 'DoF': No such file or directory @ error/blob.c/OpenBlob/3485.\n",
      "convert: no decode delegate for this image format `' @ error/constitute.c/ReadImage/556.\n",
      "convert: no images defined `DoFjpg' @ error/convert.c/ConvertImageCommand/3300.\n",
      "convert: unable to open image 'index': No such file or directory @ error/blob.c/OpenBlob/3485.\n",
      "convert: no decode delegate for this image format `' @ error/constitute.c/ReadImage/556.\n",
      "convert: no images defined `indexjpg' @ error/convert.c/ConvertImageCommand/3300.\n",
      "convert: unable to open image '1': No such file or directory @ error/blob.c/OpenBlob/3485.\n",
      "convert: no decode delegate for this image format `' @ error/constitute.c/ReadImage/556.\n",
      "convert: no images defined `1jpg' @ error/convert.c/ConvertImageCommand/3300.\n",
      "convert: unable to open image 'saddle.pdf': No such file or directory @ error/blob.c/OpenBlob/3485.\n",
      "convert: no images defined `saddle.jpg' @ error/convert.c/ConvertImageCommand/3300.\n",
      "convert: unable to open image 'champsbook/content/01/3': No such file or directory @ error/blob.c/OpenBlob/3485.\n",
      "convert: no decode delegate for this image format `' @ error/constitute.c/ReadImage/556.\n",
      "convert: no images defined `champsbook/content/01/3jpg' @ error/convert.c/ConvertImageCommand/3300.\n",
      "convert: unable to open image 'DoF': No such file or directory @ error/blob.c/OpenBlob/3485.\n",
      "convert: no decode delegate for this image format `' @ error/constitute.c/ReadImage/556.\n",
      "convert: no images defined `DoFjpg' @ error/convert.c/ConvertImageCommand/3300.\n",
      "convert: unable to open image 'index': No such file or directory @ error/blob.c/OpenBlob/3485.\n",
      "convert: no decode delegate for this image format `' @ error/constitute.c/ReadImage/556.\n",
      "convert: no images defined `indexjpg' @ error/convert.c/ConvertImageCommand/3300.\n",
      "convert: unable to open image '1': No such file or directory @ error/blob.c/OpenBlob/3485.\n",
      "convert: no decode delegate for this image format `' @ error/constitute.c/ReadImage/556.\n",
      "convert: no images defined `1jpg' @ error/convert.c/ConvertImageCommand/3300.\n",
      "convert: unable to open image 'saddle.pdf': No such file or directory @ error/blob.c/OpenBlob/3485.\n",
      "convert: no images defined `saddle.jpg' @ error/convert.c/ConvertImageCommand/3300.\n",
      "convert: unable to open image 'champsbook/content/01/book': No such file or directory @ error/blob.c/OpenBlob/3485.\n",
      "convert: no decode delegate for this image format `' @ error/constitute.c/ReadImage/556.\n",
      "convert: no images defined `champsbook/content/01/bookjpg' @ error/convert.c/ConvertImageCommand/3300.\n",
      "convert: unable to open image 'sprint': No such file or directory @ error/blob.c/OpenBlob/3485.\n",
      "convert: no decode delegate for this image format `' @ error/constitute.c/ReadImage/556.\n",
      "convert: no images defined `sprintjpg' @ error/convert.c/ConvertImageCommand/3300.\n",
      "convert: unable to open image 'intro.pdf': No such file or directory @ error/blob.c/OpenBlob/3485.\n",
      "convert: no images defined `intro.jpg' @ error/convert.c/ConvertImageCommand/3300.\n",
      "convert: unable to open image 'champsbook/content/01/index': No such file or directory @ error/blob.c/OpenBlob/3485.\n",
      "convert: no decode delegate for this image format `' @ error/constitute.c/ReadImage/556.\n",
      "convert: no images defined `champsbook/content/01/indexjpg' @ error/convert.c/ConvertImageCommand/3300.\n",
      "convert: unable to open image '2': No such file or directory @ error/blob.c/OpenBlob/3485.\n",
      "convert: no decode delegate for this image format `' @ error/constitute.c/ReadImage/556.\n",
      "convert: no images defined `2jpg' @ error/convert.c/ConvertImageCommand/3300.\n",
      "convert: unable to open image 'saddle.pdf': No such file or directory @ error/blob.c/OpenBlob/3485.\n",
      "convert: no images defined `saddle.jpg' @ error/convert.c/ConvertImageCommand/3300.\n",
      "convert: unable to open image 'champsbook/content/01/saddle': No such file or directory @ error/blob.c/OpenBlob/3485.\n",
      "convert: no decode delegate for this image format `' @ error/constitute.c/ReadImage/556.\n",
      "convert: no images defined `champsbook/content/01/saddlejpg' @ error/convert.c/ConvertImageCommand/3300.\n",
      "convert: unable to open image 'index': No such file or directory @ error/blob.c/OpenBlob/3485.\n",
      "convert: no decode delegate for this image format `' @ error/constitute.c/ReadImage/556.\n",
      "convert: no images defined `indexjpg' @ error/convert.c/ConvertImageCommand/3300.\n",
      "convert: unable to open image 'definition.pdf': No such file or directory @ error/blob.c/OpenBlob/3485.\n",
      "convert: no images defined `definition.jpg' @ error/convert.c/ConvertImageCommand/3300.\n"
     ]
    }
   ],
   "source": [
    "%%bash\n",
    "for f in `ls champsbook/content/*/*.pdf`; do convert -density 144 \"$f\" \"${f%pdf}png\"; done"
   ]
  },
  {
   "cell_type": "code",
   "execution_count": 19,
   "metadata": {},
   "outputs": [
    {
     "name": "stdout",
     "output_type": "stream",
     "text": [
      "champsbook/content/01/1_DOF_saddle.pdf\r\n",
      "champsbook/content/01/2 DoF index 1 saddle.pdf\r\n",
      "champsbook/content/01/3 DoF index 1 saddle.pdf\r\n",
      "champsbook/content/01/book sprint intro.pdf\r\n",
      "champsbook/content/01/ham_bif.pdf\r\n",
      "champsbook/content/01/ham_pitch.pdf\r\n",
      "champsbook/content/01/index 2 saddle.pdf\r\n",
      "champsbook/content/01/saddle index definition.pdf\r\n",
      "champsbook/content/02/phasePort_symm_1D_xDoF.pdf\r\n",
      "champsbook/content/03/Draft.pdf\r\n",
      "champsbook/content/04/booksprint_test.pdf\r\n",
      "champsbook/content/05/allinone_coupled.pdf\r\n",
      "champsbook/content/05/allinone_tpcd.pdf\r\n",
      "champsbook/content/05/paper.pdf\r\n",
      "champsbook/content/05/quad-normal-form.pdf\r\n",
      "champsbook/content/06/caldera.pdf\r\n",
      "champsbook/content/07/LagDesc.pdf\r\n"
     ]
    }
   ],
   "source": [
    "ls champsbook/content/*/*.pdf"
   ]
  },
  {
   "cell_type": "markdown",
   "metadata": {},
   "source": [
    "## Customising the appearance"
   ]
  },
  {
   "cell_type": "markdown",
   "metadata": {},
   "source": [
    "Most of the changes to the apperance of the output `jekyll` pages should be dones through the file\n",
    "\n",
    "`_sass/page/components/_components.page.scss`\n"
   ]
  },
  {
   "cell_type": "markdown",
   "metadata": {},
   "source": [
    "Check this file\n",
    "\n",
    "http://localhost:8888/edit/champs-booksprint-planning/demo/champsbook/_sass/page/settings/settings.global.scss"
   ]
  },
  {
   "cell_type": "markdown",
   "metadata": {},
   "source": [
    "### Modify alignment of main text"
   ]
  },
  {
   "cell_type": "markdown",
   "metadata": {},
   "source": [
    "To modify the text-alignment do this under the CSS class `jb_cell`, as below\n",
    "\n",
    "```css\n",
    "div.jb_cell {\n",
    "  width: 100%;\n",
    "  position: relative;\n",
    "  text-align: justify; /* Add this line to justify text */\n",
    "  .\n",
    "  .\n",
    "  .\n",
    "}\n",
    "```"
   ]
  },
  {
   "cell_type": "markdown",
   "metadata": {},
   "source": [
    "### Modification of image elements"
   ]
  },
  {
   "cell_type": "markdown",
   "metadata": {},
   "source": [
    "As above, to modify image features just modify the attributes of `img { ... }` as below"
   ]
  },
  {
   "cell_type": "markdown",
   "metadata": {},
   "source": [
    "```css\n",
    ".output_png img,\n",
    "div.text_cell_render > p > img,\n",
    "div.text_cell_render > p > a > img {\n",
    "  max-width: 500px; /* Given by default. Important to keep image within textwidth */\n",
    "  width: auto; /* Adjuts all image widths to maximum */\n",
    "  height: auto; /* Adjusts height automatically to preserve aspect ratio */\n",
    "  display: block;\n",
    "  margin-left: auto;\n",
    "  margin-right: auto;\n",
    "}\n",
    "```"
   ]
  },
  {
   "cell_type": "markdown",
   "metadata": {},
   "source": [
    "## Things to avoid during editing"
   ]
  },
  {
   "cell_type": "markdown",
   "metadata": {},
   "source": [
    "### SUGGESSTIONS"
   ]
  },
  {
   "cell_type": "markdown",
   "metadata": {},
   "source": [
    "* Avoid using `\\today` in Markdown files.\n",
    "* Add common `media` folder to their working directory for ease\n",
    "* Turn `.pdf` images to `.png`\n",
    "* For unumbered equations, avoid using `\\[ ... \\]` syntax. This doesn't get renderred in site.\n",
    "* Logo must be square\n",
    "* It accepts `*` notation to disable numbered equations, that is\n",
    ">```\n",
    "\\begin{equation*}\n",
    ".\n",
    ".\n",
    ".\n",
    "\\end{equation*}\n",
    "```\n",
    "* Avoid identical labels for different equations\n",
    "* `title`s in Markdown `.md` files will be chosen over titles defined in the configuration (`config.yml`) file"
   ]
  },
  {
   "cell_type": "markdown",
   "metadata": {},
   "source": [
    "**R Markdown stuff to avoid**"
   ]
  },
  {
   "cell_type": "markdown",
   "metadata": {},
   "source": [
    "Original "
   ]
  },
  {
   "cell_type": "raw",
   "metadata": {},
   "source": [
    "$$ \\frac{p_x^2}{2\\mu_x}+\\frac{p_y^2}{2\\mu_y}=E-V(x_i,y_i) $${#eq:DSGeomEq}"
   ]
  },
  {
   "cell_type": "markdown",
   "metadata": {},
   "source": [
    "Do instead"
   ]
  },
  {
   "cell_type": "raw",
   "metadata": {},
   "source": [
    "$$ \\frac{p_x^2}{2\\mu_x}+\\frac{p_y^2}{2\\mu_y}=E-V(x_i,y_i) \\label{DSGeomEq}$$"
   ]
  },
  {
   "cell_type": "markdown",
   "metadata": {},
   "source": [
    "### Unicode symbols"
   ]
  },
  {
   "cell_type": "markdown",
   "metadata": {},
   "source": [
    "https://www.w3schools.com/charsets/ref_utf_letterlike.asp"
   ]
  },
  {
   "cell_type": "markdown",
   "metadata": {},
   "source": [
    "`$\\unicode{x212B}$` renders as $\\unicode{x212B}$"
   ]
  },
  {
   "cell_type": "markdown",
   "metadata": {},
   "source": [
    "### Errors in bibliography files"
   ]
  },
  {
   "cell_type": "markdown",
   "metadata": {},
   "source": [
    "```bibtex\n",
    "@Article{Ezra2019,\n",
    "  AUTHOR= { Ezra, G. S. and Wiggins, S. },\n",
    "  TITLE\t\t= {The Chesnavich Model for Ion-Molecule Reactions: A Rigid Body Coupled to a Particle },\n",
    "  JOURNAL\t= {Int. J. Bifurcation Chaos},\n",
    "  VOLUME\t= {29},\n",
    "  YEAR\t\t=  {2019},\n",
    "  NUMBER\t= {2},\n",
    "  PAGES\t\t= {1950025},\n",
    "  DOI\t\t= {10.1142/S0218127419500251}\n",
    "}\n",
    "```"
   ]
  },
  {
   "cell_type": "markdown",
   "metadata": {},
   "source": [
    "All tags should be in bib file, if there is one missing, this will lead to error"
   ]
  },
  {
   "cell_type": "markdown",
   "metadata": {},
   "source": [
    "Latex Syntax fails\n"
   ]
  },
  {
   "cell_type": "code",
   "execution_count": null,
   "metadata": {},
   "outputs": [],
   "source": []
  },
  {
   "cell_type": "markdown",
   "metadata": {},
   "source": [
    "# TEST (Prologue)"
   ]
  },
  {
   "cell_type": "code",
   "execution_count": 5,
   "metadata": {
    "ExecuteTime": {
     "end_time": "2019-12-07T09:37:27.248433Z",
     "start_time": "2019-12-07T09:37:27.210500Z"
    }
   },
   "outputs": [],
   "source": [
    "import json\n",
    "nb_infile = 'champsbook/content/06/caldera-1.ipynb'\n",
    "\n",
    "with open(nb_infile,'r') as fp:\n",
    "    nb = json.load(fp)\n",
    "fp.close()"
   ]
  },
  {
   "cell_type": "code",
   "execution_count": 7,
   "metadata": {
    "ExecuteTime": {
     "end_time": "2019-12-07T09:37:41.866344Z",
     "start_time": "2019-12-07T09:37:41.859717Z"
    }
   },
   "outputs": [
    {
     "data": {
      "text/plain": [
       "dict_keys(['cells', 'metadata', 'nbformat', 'nbformat_minor'])"
      ]
     },
     "execution_count": 7,
     "metadata": {},
     "output_type": "execute_result"
    }
   ],
   "source": [
    "nb.keys()"
   ]
  },
  {
   "cell_type": "code",
   "execution_count": 9,
   "metadata": {
    "ExecuteTime": {
     "end_time": "2019-12-07T09:38:14.961653Z",
     "start_time": "2019-12-07T09:38:14.607534Z"
    }
   },
   "outputs": [
    {
     "name": "stdout",
     "output_type": "stream",
     "text": [
      "\u001b[1m\u001b[34mBookSprint-Demo\u001b[m\u001b[m/               \u001b[1m\u001b[34mscripts\u001b[m\u001b[m/\r\n",
      "Building a Jupyter Book.ipynb  \u001b[1m\u001b[34mtestbook\u001b[m\u001b[m/\r\n",
      "\u001b[1m\u001b[34mchampsbook\u001b[m\u001b[m/\r\n"
     ]
    }
   ],
   "source": [
    "ls"
   ]
  },
  {
   "cell_type": "code",
   "execution_count": null,
   "metadata": {},
   "outputs": [],
   "source": [
    "import json\n",
    "nb_infile = 'BookSprint-Demo/'\n",
    "\n",
    "with open(nb_infile,'r') as fp:\n",
    "    nb = json.load(fp)\n",
    "fp.close()"
   ]
  }
 ],
 "metadata": {
  "kernelspec": {
   "display_name": "Python 3",
   "language": "python",
   "name": "python3"
  },
  "language_info": {
   "codemirror_mode": {
    "name": "ipython",
    "version": 3
   },
   "file_extension": ".py",
   "mimetype": "text/x-python",
   "name": "python",
   "nbconvert_exporter": "python",
   "pygments_lexer": "ipython3",
   "version": "3.7.1"
  },
  "latex_envs": {
   "LaTeX_envs_menu_present": true,
   "autoclose": false,
   "autocomplete": true,
   "bibliofile": "/Users/bas/research/book_sprint/champs-booksprint-planning/convert_tex2html/article_test/sample.bib",
   "cite_by": "apalike",
   "current_citInitial": 1,
   "eqLabelWithNumbers": true,
   "eqNumInitial": 1,
   "hotkeys": {
    "equation": "Ctrl-E",
    "itemize": "Ctrl-I"
   },
   "labels_anchors": false,
   "latex_user_defs": false,
   "report_style_numbering": false,
   "user_envs_cfg": false
  },
  "toc": {
   "base_numbering": 1,
   "nav_menu": {},
   "number_sections": false,
   "sideBar": true,
   "skip_h1_title": false,
   "title_cell": "Table of Contents",
   "title_sidebar": "Contents",
   "toc_cell": false,
   "toc_position": {
    "height": "calc(100% - 180px)",
    "left": "10px",
    "top": "150px",
    "width": "384px"
   },
   "toc_section_display": true,
   "toc_window_display": true
  }
 },
 "nbformat": 4,
 "nbformat_minor": 2
}
