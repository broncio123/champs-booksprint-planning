{
 "cells": [
  {
   "cell_type": "markdown",
   "metadata": {},
   "source": [
    "# One Degree-of-Freedom (DoF) Saddle"
   ]
  },
  {
   "cell_type": "markdown",
   "metadata": {},
   "source": [
    "## Problem Development"
   ]
  },
  {
   "cell_type": "markdown",
   "metadata": {},
   "source": [
    "It is always useful to start with the basics to make the ideas concrete. So, the following one DoF system is the simplest model of a chemical reaction over a potential energy barrier between reactants and products. This is the archetypical one DoF Hamiltonian system modelling reaction dynamics associated with a saddle point. The only configuration space coordinate, $q$, is the reaction coordinate. The configuration space is one dimensional and the phase space is two dimensional.\n",
    "\n",
    "The Hamiltonian for a (linear) one DoF saddle point is given by:\n",
    "\n",
    "\\begin{equation}\n",
    "H(q,p) = \\frac{\\lambda}{2} \\left(p^2 - q^2 \\right) =  \\underbrace{\\frac{\\lambda}{2}  p^2}_{\\stackrel{kinetic}{ energy}}-  \\underbrace{\\frac{\\lambda}{2}  q^2}_{\\stackrel{potential}{ energy}}, \\quad \\lambda >0.\n",
    "\\label{ham1}\n",
    "\\end{equation}\n",
    "\n",
    "In this simple system ''reaction'' corresponds to trajectories that change sign in $q$, which requires $H>0$ (as shown in Fig. \\ref{fig:1dofsaddle} b)) and non-reacting trajectories have $H <0$. \n",
    "\n",
    "The associated Hamilton's equations of motion are:\n",
    "\n",
    "\\begin{eqnarray}\n",
    "\\dot{q} & = & \\frac{\\partial H}{\\partial p}= \\lambda p, \\nonumber \\\\\n",
    "\\dot{p} & = & -\\frac{\\partial H}{\\partial q}= \\lambda q.\n",
    "\\label{hameq1}\n",
    "\\end{eqnarray}\n",
    "\n",
    "\n",
    "In Fig. \\ref{fig:1dofsaddle} a) we show the potential energy, $V(q) =-\\frac{\\lambda}{2} q^2$. In Fig. \\ref{fig:1dofsaddle} b) we show the contour lines of the Hamiltonian for some values of the total energy, typically referred to as the phase portrait corresponding to \\eqref{ham1}. \n"
   ]
  },
  {
   "cell_type": "markdown",
   "metadata": {},
   "source": [
    "<img width=\"560\" height=\"315\" src=\"figures/fig_1_dof_saddle.png\">\n",
    "\\label{fig:1dofsaddle}\n",
    "\\caption{a) The potential energy, $V(q) =-\\frac{\\lambda}{2} q^2$,  for a one DoF saddle. b)The phase space for the one DoF saddle.}"
   ]
  },
  {
   "cell_type": "markdown",
   "metadata": {},
   "source": [
    "## Revealing the phase space structures and their implications for reaction dynamics"
   ]
  },
  {
   "cell_type": "markdown",
   "metadata": {},
   "source": [
    "Now we discuss the phase space structures -- NHIM, its stable and unstable manifolds -- and their role in constructing the DS. All of these notions are trivial in this simple setting, but they will serve to focus the ideas when we consider more DoF. \n",
    "\n",
    "For this case the NHIM  is the saddle point at the origin (a single point is a trivial example of a manifold). It only exists  on the $H=0$ energy surface (this is  very different when we go to two, and more, DoF) and its stable and unstable manifolds are the diagonal lines (also on the $H=0$ energy surface--the stable and unstable manifolds of a NHIM have the same energy as the NHIM). "
   ]
  },
  {
   "cell_type": "markdown",
   "metadata": {},
   "source": [
    "The non-isoenergetic DS can be taken as the line $q=0$. Clearly, it has the ''no-recrossing'' properties and all reacting trajectories must cross this line. The DS at a fixed (positive) energy is  given by\n",
    "\n",
    "\\begin{equation}\n",
    "\\frac{\\lambda}{2} p^2 = H = \\mbox{constant},\n",
    "\\end{equation}\n",
    "\n",
    "or\n",
    "\n",
    "\\begin{equation}\n",
    "p =\\pm \\sqrt{\\frac{2}{\\lambda} H}.\n",
    "\\end{equation}\n",
    "\n",
    "So for a fixed energy *H > 0* the DS consists of two distinct  *points*:  $p =+ \\sqrt{\\frac{2}{\\lambda} H}$ (the dividing surface for forward reactions) and $p =- \\sqrt{\\frac{2}{\\lambda} H}$ (the dividing surface for backward reactions).  These points are just the intersections of the reacting trajectories with *q=0*."
   ]
  },
  {
   "cell_type": "markdown",
   "metadata": {},
   "source": [
    "# A Two Degree-of-Freedom Index One Saddle"
   ]
  },
  {
   "cell_type": "markdown",
   "metadata": {},
   "source": [
    "## Problem Development"
   ]
  },
  {
   "cell_type": "markdown",
   "metadata": {},
   "source": [
    "The following two DoF system is the one DoF system (reactant) coupled to a harmonic oscillator (bath). The configuration space coordinates are $q_1$ and $q_2$. The configuration space is two dimensional and the phase space is four dimensional.\n",
    "\n",
    "The system is described by a quadratic 2 DoF  Hamiltonian:\n",
    "\n",
    "\\begin{equation}\n",
    "H(q_{1},q_{2},p_{1},p_{2}) = \\underbrace{\\frac{\\lambda}{2} \\left(p_1^2 - q_1^2 \\right)}_{H_1} + \\underbrace{\\frac{\\omega}{2} \\left(p_2^2 + q_2^2 \\right)}_{H_2}, \\quad \\lambda, \\, \\omega >0,\n",
    "\\label{ham2}\n",
    "\\end{equation}\n",
    "\n",
    "where $H_{1}$ represents the energy in the reactive DoF and $H_{2}$ corresponds to the energy associated with the bath DoF. The corresponding Hamilton's equations are given by:\n",
    "\n",
    "\\begin{eqnarray}\n",
    "\\dot{q}_1 & = & \\frac{\\partial H}{\\partial p_1}= \\lambda p_1, \\nonumber \\\\\n",
    "\\dot{p}_1 & = & -\\frac{\\partial H}{\\partial q_1}= \\lambda q_1, \\nonumber \\\\\n",
    "\\dot{q}_2 & = & \\frac{\\partial H}{\\partial p_2}= \\omega p_2, \\nonumber \\\\\n",
    "\\dot{p}_2 & = & -\\frac{\\partial H}{\\partial q_2}= -\\omega q_2, \n",
    "\\label{hameq2}\n",
    "\\end{eqnarray}\n",
    "\n",
    "\n",
    "These equations have an equilibrium point of saddle-center equilibrium type (index one saddle) at the origin.\n",
    "In Fig. \\ref{fig:2dofsaddle} a) we show contours  of the potential energy and in Fig. \\ref{fig:2dofsaddle} b) we show the phase portrait corresponding to \\eqref{ham2}. \n",
    "Since the Hamiltonians $H_1$ and $H_2$ are uncoupled we can sketch the phase portraits for each separately, and discuss the distribution of total energy between each DoF in a simple manner."
   ]
  },
  {
   "cell_type": "markdown",
   "metadata": {},
   "source": [
    "<img width=\"560\" height=\"315\" src=\"figures/fig_2_dof_saddle.png\">\n",
    "\\label{fig:2dofsaddle}\n",
    "\\caption{a) Contours of the potential energy, $V(q_1, q_2) =-\\frac{\\lambda}{2} q_1^2 + \\frac{\\omega}{2} q_2^2$,  denoting the sign of $V(q_1, q_2) = \\mbox{constant}$. b) The phase space for the two DoF saddle defined by \\eqref{hameq2}.}"
   ]
  },
  {
   "cell_type": "markdown",
   "metadata": {},
   "source": [
    "## Revealing the phase space structures and their implications for reaction dynamics"
   ]
  },
  {
   "cell_type": "markdown",
   "metadata": {},
   "source": [
    "Note that trajectories corresponding to $H_1$ can become unbounded and trajectories corresponding to $H_2$ are bounded.  Hence in  this system reaction occurs when  the $q_1$ coordinate of a trajectory changes sign. Therefore, a ''natural'' dividing surface would be $q_1 =0$. This is a three dimensional surface in the four dimensional phase space. We want to examine it's structure more closely and, in particular, its' intersection with a fixed energy surface. We will also utilize terminology from chemistry by referring to  $H_1$ as the ''reactive mode'' and $H_2$ is the ''bath mode''.\n",
    "\n",
    "\n",
    "First, note that for reaction to occur we must have $H_1 >0$, since the $q_1$ component of reacting trajectories changes sign. Also, it is clear  from  the form of $H_2$ that $H_2 \\ge 0$. Therefore, for reaction we must have $H = H_1 + H_2 >0$. The energy surface is given by:\n",
    "\n",
    "\\begin{equation}\n",
    "\\frac{\\lambda}{2} \\left(p_1^2 - q_1^2 \\right) + \\frac{\\omega}{2} \\left(p_2^2 + q_2^2 \\right) = H_1 + H_2 = H > 0, \\quad H_1 > 0, \\, H_2 \\ge 0.\n",
    "\\label{2DoFES}\n",
    "\\end{equation}\n",
    "\n",
    "\n",
    "The intersection of $q_1=0$ with this energy surface is given by:\n",
    "\n",
    "\n",
    "\n",
    "\\begin{equation}\n",
    "\\frac{\\lambda}{2} \\, p_1^2  + \\frac{\\omega}{2} \\left(p_2^2 + q_2^2, \\right) = H_1 + H_2 = H > 0, \\quad H_1 > 0, \\, H_2 \\ge 0.\n",
    "\\label{2DoDS}\n",
    "\\end{equation}"
   ]
  },
  {
   "cell_type": "markdown",
   "metadata": {},
   "source": [
    "This is the isoenergetic DS. It has the form of a 2-sphere in the four dimensional $(q_1, p_1, q_2, p_2)$ space. It has two ''halves'' corresponding to the forward and backward reactions, respectively:\n",
    "\n",
    "\\begin{equation}\n",
    "p_1 = + \\sqrt{\\frac{2}{\\lambda}} \\sqrt{H_1 + H_2 - \\frac{\\omega}{2} \\left(p_2^2 + q_2^2 \\right) }, \\quad \\mbox{forward DS},\n",
    "\\end{equation}\n",
    "\n",
    "\\begin{equation}\n",
    "p_1 = - \\sqrt{\\frac{2}{\\lambda}} \\sqrt{H_1 + H_2 - \\frac{\\omega}{2} \\left(p_2^2 + q_2^2 \\right) }, \\quad \\mbox{backward DS}.\n",
    "\\end{equation}\n",
    "\n",
    "\n",
    "Since $\\dot{q}_1 = \\lambda p_1$ it is clear that the DS, being defined by $q_1=0$ is a surface  having the ''no-recrossing'' property.\n",
    "\n",
    "\n",
    "The forward and backward DS ''meet'' at  $p_1 =0$:\n",
    "\n",
    "\\begin{equation}\n",
    " \\frac{\\omega}{2} \\left(p_2^2 + q_2^2, \\right) = H_1 + H_2 \\ge  0,   \\mbox{NHIM},\n",
    "\\end{equation}\n",
    "\n",
    "\n",
    "which is an unstable periodic orbit in the $p_2-q_2$ plane. This is   the NHIM for this 2 DoF system. In this particular example, and in the case where the NHIM is one orbit, normal hyperbolicity is easy to understand. The orbit is normally hyperbolic if it is of saddle-type stability. From \\eqref{hameq2}, we see that the coordinates ''normal'' to the periodic orbit are $q_1=p_1$, and the dynamics in these coordinates is linear and of saddle type."
   ]
  },
  {
   "cell_type": "markdown",
   "metadata": {},
   "source": [
    "# A Three Degree-of-Freedom Index One Saddle"
   ]
  },
  {
   "cell_type": "markdown",
   "metadata": {},
   "source": [
    "## Problem Development"
   ]
  },
  {
   "cell_type": "markdown",
   "metadata": {},
   "source": [
    "The following three DoF system is the one DoF system (reactant) coupled to two harmonic oscillators (bath modes). The configuration space coordinates are $q_1$, $q_2$ and $q_3$. The configuration space is three dimensional and the phase space is six dimensional.\n",
    "\n",
    "We consider a quadratic 3 DoF  Hamiltonian:\n",
    "\n",
    "\\begin{equation}\n",
    "H = \\underbrace{\\frac{\\lambda}{2} \\left(p_1^2 - q_1^2 \\right)}_{H_1} + \\underbrace{\\frac{\\omega_2}{2} \\left(p_2^2 - q_2^2 \\right)}_{H_2} + \\underbrace{\\frac{\\omega_3}{2} \\left(p_3^2 - q_3^2 \\right)}_{H_3}, \\quad \\lambda, \\, \\omega_2, \\, \\omega_3 >0\n",
    "\\label{ham3}\n",
    "\\end{equation}\n",
    "\n",
    "with the corresponding Hamilton's equations given by:\n",
    "\n",
    "\\begin{eqnarray}\n",
    "\\dot{q}_1 & = & \\frac{\\partial H}{\\partial p_1}= \\lambda p_1, \\nonumber \\\\\n",
    "\\dot{p}_1 & = & -\\frac{\\partial H}{\\partial q_1}= \\lambda q_1, \\nonumber \\\\\n",
    "\\dot{q}_2 & = & \\frac{\\partial H}{\\partial p_2}= \\omega_2 p_2, \\nonumber \\\\\n",
    "\\dot{p}_2 & = & -\\frac{\\partial H}{\\partial q_2}= -\\omega_2 q_2, \\nonumber \\\\\n",
    "\\dot{q}_3 & = & \\frac{\\partial H}{\\partial p_3}= \\omega_3 p_3, \\nonumber \\\\\n",
    "\\dot{p}_3 & = & -\\frac{\\partial H}{\\partial q_3}= -\\omega_3 q_3, \n",
    "\\label{hameq3}\n",
    "\\end{eqnarray}\n",
    "\n",
    "These equations have an equilibrium point of saddle-center-center equilibrium type (index one saddle) at the origin.\n",
    "Since the Hamiltonians $H_1$, $H_2$ and $H_3$ are uncoupled we can analyze the phase portraits for each separately. \n",
    "As in the previous examples, $H_1$ corresponds to the ''reactive mode''  (trajectories can become unbounded) and $H_2$ and $H_3$   are ''bath modes'' (trajectories are bounded). "
   ]
  },
  {
   "cell_type": "markdown",
   "metadata": {},
   "source": [
    "## Revealing the phase space structures and their implications for reaction dynamics"
   ]
  },
  {
   "cell_type": "markdown",
   "metadata": {},
   "source": [
    "In this system reaction occurs when  the $q_1$ coordinate of a trajectory changes sign. Hence, as in the 2 DoF example, a ''natural'' dividing surface would be $q_1 =0$. This is a five dimensional surface in the six dimensional phase space. We want to examine its' structure more closely and, in particular, its intersection with a fixed 5 dimensional energy surface.\n",
    "\n",
    "First, note that for reaction to occur we must have $H_1 >0$. Also, it is clear  from  the form of $H_2$ that $H_2 \\ge 0$. Therefore, for reaction we must have $H = H_1 + H_2 >0$. The energy surface is given by:\n",
    "\n",
    "\\begin{equation}\n",
    "\\frac{\\lambda}{2} \\left(p_1^2 - q_1^2 \\right) + \\frac{\\omega_2}{2} \\left(p_2^2 + q_2^2, \\right)  + \\frac{\\omega_3}{2} \\left(p_3^2 + q_3^2, \\right)= H_1 + H_2+ H_3 = H > 0, \\quad H_1 > 0, \\, H_2 \\ge 0.\n",
    "\\label{2DoFES}\n",
    "\\end{equation}\n",
    "\n",
    "\n",
    "The intersection of $q_1=0$ with this energy surface is given by:\n",
    "\n",
    "\\begin{equation}\n",
    "\\frac{\\lambda}{2} \\, p_1^2  + \\frac{\\omega_2}{2} \\left(p_2^2 + q_2^2, \\right) + \\frac{\\omega_3}{2} \\left(p_3^2 + q_3^2, \\right)= H_1 + H_2 + H_3= H > 0, \\quad H_1 > 0, \\, H_2, \\, H_3 \\ge 0.\n",
    "\\label{2DoDS}\n",
    "\\end{equation}\n",
    "\n",
    "\n",
    "This is the isoenergetic DS. It has the form of a 3-sphere in the four dimensional $(q_1, p_1, q_2, p_2, q_3, p_3)$ space. It has two ''halves'' corresponding to the forward and backward reactions, respectively:\n",
    "\n",
    "\\begin{equation}\n",
    "\\frac{\\lambda}{2} \\, p_1^2  + \\frac{\\omega_2}{2} \\left(p_2^2 + q_2^2, \\right)  + \\frac{\\omega_3}{2} \\left(p_3^2 + q_3^2, \\right)= H_1 + H_2  + H_3= H > 0, \\quad p_1 >0, \\quad \\mbox{forward DS},\n",
    "\\end{equation}\n",
    "\n",
    "\\begin{equation}\n",
    "\\frac{\\lambda}{2} \\, p_1^2  + \\frac{\\omega_2}{2} \\left(p_2^2 + q_2^2, \\right)  + \\frac{\\omega_3}{2} \\left(p_3^2 + q_3^2, \\right)= H_1 + H_2  + H_3= H > 0, \\quad p_1 <0, \\quad \\mbox{backward DS}.\n",
    "\\end{equation}\n",
    "\n",
    "\n",
    "The forward and backward DS ''meet'' at  $p_1 =0$:\n",
    "\n",
    "\\begin{equation}\n",
    " \\frac{\\omega_2}{2} \\left(p_2^2 + q_2^2, \\right) + \\frac{\\omega_3}{2} \\left(p_3^2 + q_3^2, \\right)= H_2 + H_3 \\ge  0,   \\mbox{NHIM},\n",
    "\\label{NHIM3D}\n",
    "\\end{equation}\n",
    "\n",
    "\n",
    "which is a normally hyperbolic invariant 3 sphere. It is {\\em invariant} because on this set $q_1 = p_1 =0$ and, from \\eqref{hameq3}, if $q_1 = p_1 =0$ the $\\dot{q}_1 = \\dot{p}_1 =0$. Hence, $q_1$ and $p_1$ always remain zero, and therefore   trajectories with these initial conditions always remain on \\eqref{NHIM3D}. In other words, it is invariant. It is normally hyperbolic for the same reasons as for our 2 DoF example. The directions normal to \\eqref{NHIM3D}, i.e. $q_1-p_1$, are linearized saddle like dynamics."
   ]
  },
  {
   "cell_type": "markdown",
   "metadata": {},
   "source": [
    "# Two Degree-of-Freedom Index Two Saddle"
   ]
  },
  {
   "cell_type": "markdown",
   "metadata": {},
   "source": [
    "## Problem Development"
   ]
  },
  {
   "cell_type": "markdown",
   "metadata": {},
   "source": [
    "The influence of index two saddle points on reaction dynamics has been studied in \\cite{ezra2009phase, collins:244105, Haller10, Mauguiere13}. The construction of a dividing surface for general index *k* saddles was given in \\cite{collins:244105}.  However, in this section we describe a ''global dividing surface'' that is associated with an index two saddle point and two index one saddle points. Such a structure was constructed in analyzing the isomerization dynamics of a buckled nanobeam in \\cite{collins2012isomerization}. Intriguingly, a similar geometrical structure arises in the study of the ''roaming'' phenomenon in \\cite{Harding_et_al_2012; suits14}. Consequently, this type of geometrical structure could be more widespread in reaction dynamics so we believe it may be useful to give an analytically tractable example of such a situation.\n",
    "\n",
    "Unlike our linear examples above,  for the system to have multiple saddle points it must be  nonlinear.  We will consider two identical uncoupled two well potential systems, as shown in Fig. \\ref{fig:globalDS1}."
   ]
  },
  {
   "cell_type": "markdown",
   "metadata": {},
   "source": [
    "<img width=\"560\" height=\"315\" src=\"figures/global_DS_1.png\">\n",
    "\\label{fig:globalDS1}\n",
    "\\caption{a) Graphs of the potential energy for the two uncoupled two well systems. b) Phase portraits for the two uncoupled two well systems.}"
   ]
  },
  {
   "cell_type": "markdown",
   "metadata": {},
   "source": [
    "The Hamiltonian for this system is given by:\n",
    "\n",
    "\\begin{equation}\n",
    "H =\\underbrace{\\frac{p_1^2}{2} - \\frac{q_1^2}{2} + \\frac{q_1^4}{4}}_{H_1} +\n",
    "\\underbrace{\\frac{p_2^2}{2} - \\frac{q_2^2}{2} + \\frac{q_2^4}{4}}_{H_2},\n",
    "\\label{hamGDS}\n",
    "\\end{equation}\n",
    "\n",
    "\n",
    "\n",
    "with the associated Hamiltonian vector field:\n",
    "\n",
    "\n",
    "\\begin{eqnarray}\n",
    "\\dot{q}_1 & = & \\frac{\\partial H}{\\partial p_1}=  p_1, \\nonumber \\\\\n",
    "\\dot{p}_1 & = & -\\frac{\\partial H}{\\partial q_1}= q_1 - q_1^3, \\nonumber \\\\\n",
    "\\dot{q}_2 & = & \\frac{\\partial H}{\\partial p_2}=  p_2, \\nonumber \\\\\n",
    "\\dot{p}_2 & = & -\\frac{\\partial H}{\\partial q_2}=  q_2- q_2^3. \n",
    "\\label{hameqGDS}\n",
    "\\end{eqnarray}\n",
    "\n",
    "\n",
    "The potential energy is given by:\n",
    "\n",
    "\\begin{equation}\n",
    "V(q_1, q_2) =  - \\frac{q_1^2}{2} + \\frac{q_1^4}{4}- \\frac{q_2^2}{2} + \\frac{q_2^4}{4}.\n",
    "\\label{pot}\n",
    "\\end{equation}"
   ]
  },
  {
   "cell_type": "markdown",
   "metadata": {},
   "source": [
    "## Revealing the phase space structures and their implications for reaction dynamics"
   ]
  },
  {
   "cell_type": "markdown",
   "metadata": {},
   "source": [
    "The potential energy has nine critical points, which we list below, along with their stability type and total energy:\n",
    "\n",
    "\\begin{equation}\n",
    "\\begin{array}{cll}\n",
    "(0,0), & \\mbox{index two saddle}, & \\mbox{total energy} \\, \\, 0,\\\\\n",
    "(0,1), (0, -1), (1, 0), (-1, 0), & \\mbox{index one saddles}, & \\mbox{total energy} \\, \\,-{1}/{4} ,\\\\\n",
    "(1, 1), (1, -1), (-1, 1), (-1, -1), & \\mbox{minima}, & \\mbox{total energy} \\, \\, -{1}/{2},\n",
    "\\end{array}\n",
    "\\end{equation}\n",
    "\n",
    "\n",
    "We illustrate the critical points of \\eqref{pot} in Fig. \\ref{fig:globalDS2}."
   ]
  },
  {
   "cell_type": "markdown",
   "metadata": {},
   "source": [
    "<img width=\"560\" height=\"315\" src=\"figures/global_DS_2.png\">\n",
    "\\label{fig:globalDS2}\n",
    "\\caption{Critical points of \\eqref{pot}. ++ denotes the index two saddle, + denotes index one saddles, and the black circles denote the minima.}"
   ]
  },
  {
   "cell_type": "markdown",
   "metadata": {},
   "source": [
    "In order to consider a surface to be a dividing surface  we need to understand what the surface is dividing. In the language of chemical reactions,  index one saddles give rise to dividing surfaces that  divide reactants and products.  The examples above were designed  only to illustrate the geometry associated with the passage of trajectories through a dividing surface. In particular,  in the examples ''reactants'' corresponded to a region have a particular sign of the $q_1$  coordinate and ''products'' corresponded to a region corresponding to the opposite sign of the $q_1$ coordinate. and it was arbitrary which region was considered reactants and which products.  "
   ]
  },
  {
   "cell_type": "markdown",
   "metadata": {},
   "source": [
    "# References\n",
    "\n",
    "\\bibliography{reaction_dynamics}"
   ]
  }
 ],
 "metadata": {
  "kernelspec": {
   "display_name": "Python 3",
   "language": "python",
   "name": "python3"
  },
  "language_info": {
   "codemirror_mode": {
    "name": "ipython",
    "version": 3
   },
   "file_extension": ".py",
   "mimetype": "text/x-python",
   "name": "python",
   "nbconvert_exporter": "python",
   "pygments_lexer": "ipython3",
   "version": "3.7.1"
  },
  "toc": {
   "base_numbering": 1,
   "nav_menu": {},
   "number_sections": false,
   "sideBar": true,
   "skip_h1_title": false,
   "title_cell": "Table of Contents",
   "title_sidebar": "Contents",
   "toc_cell": false,
   "toc_position": {},
   "toc_section_display": true,
   "toc_window_display": false
  }
 },
 "nbformat": 4,
 "nbformat_minor": 4
}
