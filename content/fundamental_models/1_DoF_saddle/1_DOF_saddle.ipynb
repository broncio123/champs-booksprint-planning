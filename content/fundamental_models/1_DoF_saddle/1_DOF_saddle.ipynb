{
 "cells": [
  {
   "cell_type": "markdown",
   "metadata": {},
   "source": [
    "# One Degree-of-Freedom (DoF) Saddle"
   ]
  },
  {
   "cell_type": "markdown",
   "metadata": {},
   "source": [
    "This is a ''trivial'' case, but it is always useful to start with the basics to fix ideas.\n",
    "\n",
    "The Hamiltonian for a (linear) one DoF saddle point is given by:\n",
    "\n",
    "\\begin{equation}\n",
    "H(q,p) = \\frac{\\lambda}{2} \\left(p^2 - q^2 \\right) =  \\underbrace{\\frac{\\lambda}{2}  p^2}_{\\stackrel{kinetic}{ energy}}-  \\underbrace{\\frac{\\lambda}{2}  q^2}_{\\stackrel{potential}{ energy}} \\quad \\lambda >0,\n",
    "\\label{ham1}\n",
    "\\end{equation}\n",
    "\n",
    "\n",
    "\n",
    "\n",
    "and the associated Hamilton's equations are:\n",
    "\n",
    "\\begin{eqnarray}\n",
    "\\dot{q} & = & \\frac{\\partial H}{\\partial p}= \\lambda p, \\nonumber \\\\\n",
    "\\dot{p} & = & -\\frac{\\partial H}{\\partial q}= \\lambda q.\n",
    "\\label{hameq1}\n",
    "\\end{eqnarray}\n",
    "\n",
    "\n",
    "\n",
    "In Fig. \\ref{fig:1dofsaddle} a) we show a graph of the potential energy, $V(q) =-\\frac{\\lambda}{2} q^2$  and in Fig. \\ref{fig:1dofsaddle} b) we show the phase portrait corresponding to \\eqref{ham1}. "
   ]
  },
  {
   "cell_type": "markdown",
   "metadata": {},
   "source": [
    "<img width=\"560\" height=\"315\" src=\"fig_1_dof_saddle.png\">\n",
    "\\label{fig:1dofsaddle}\n",
    "\\caption{a) The potential energy, $V(q) =-\\frac{\\lambda}{2} q^2$,  for a one DoF saddle. b)The phase space for the one DoF saddle.}"
   ]
  },
  {
   "cell_type": "markdown",
   "metadata": {},
   "source": [
    "This is the archetypical one DoF Hamiltonian system modelling reaction dynamics associated with a saddle point. The only configuration space coordinate, $q$, is the reaction coordinate. \n",
    "In this simple system ''reaction'' corresponds to trajectories that change sign in $q$, which requires $H>0$ (as shown in Fig. \\ref{fig:1dofsaddle} b)). Non-reacting trajectories have $H <0$. \n",
    "\n",
    "Now we discuss the NHIM, its stable and unstable manifolds, and their role in constructing the DS. All of these notions are trivial in this simple setting, but they will serve  to focus the ideas when we consider more DoF. \n",
    "\n",
    "For this case the NHIM  is the saddle point at the origin (a single point is a trivial example of a manifold). It only exists  on the $H=0$ energy surface (this is  very different when we go to two, and more, DoF) and its stable and unstable manifolds are the diagonal lines (also on the $H=0$ energy surface--the stable and unstable manifolds of a NHIM have the same energy as the NHIM). \n",
    "\n",
    "The non-isoenergetic DS can be taken as the line $q=0$. Clearly, it has the ''no-recrossing'' properties and all  reacting trajectories must cross this line. The DS at a fixed (positive) energy is  given by\n",
    "\n",
    "\\begin{equation}\n",
    "\\frac{\\lambda}{2} p^2 = H = \\mbox{constant},\n",
    "\\end{equation}\n",
    "\n",
    "\n",
    "or\n",
    "\n",
    "\\begin{equation}\n",
    "p =\\pm \\sqrt{\\frac{2}{\\lambda} H}.\n",
    "\\end{equation}\n",
    "\n",
    "\n",
    "\n",
    "So for a fixed energy *H > 0* the DS consists of two distinct  *points*:  $p =+ \\sqrt{\\frac{2}{\\lambda} H}$ (the dividing surface for forward reactions) and $p =- \\sqrt{\\frac{2}{\\lambda} H}$ (the dividing surface for backward reactions).  These points are just the intersections of the reacting trajectories with *q=0*."
   ]
  }
 ],
 "metadata": {
  "kernelspec": {
   "display_name": "Python 3",
   "language": "python",
   "name": "python3"
  },
  "language_info": {
   "codemirror_mode": {
    "name": "ipython",
    "version": 3
   },
   "file_extension": ".py",
   "mimetype": "text/x-python",
   "name": "python",
   "nbconvert_exporter": "python",
   "pygments_lexer": "ipython3",
   "version": "3.7.1"
  },
  "latex_envs": {
   "LaTeX_envs_menu_present": true,
   "autoclose": false,
   "autocomplete": true,
   "bibliofile": "/Users/bas/research/book_sprint/champs-booksprint-planning/convert_tex2html/article_test/sample.bib",
   "cite_by": "apalike",
   "current_citInitial": 1,
   "eqLabelWithNumbers": true,
   "eqNumInitial": 1,
   "hotkeys": {
    "equation": "Ctrl-E",
    "itemize": "Ctrl-I"
   },
   "labels_anchors": false,
   "latex_user_defs": false,
   "report_style_numbering": false,
   "user_envs_cfg": false
  },
  "toc": {
   "base_numbering": 1,
   "nav_menu": {},
   "number_sections": true,
   "sideBar": true,
   "skip_h1_title": false,
   "title_cell": "Table of Contents",
   "title_sidebar": "Contents",
   "toc_cell": false,
   "toc_position": {
    "height": "calc(100% - 180px)",
    "left": "10px",
    "top": "150px",
    "width": "167px"
   },
   "toc_section_display": true,
   "toc_window_display": false
  }
 },
 "nbformat": 4,
 "nbformat_minor": 2
}
